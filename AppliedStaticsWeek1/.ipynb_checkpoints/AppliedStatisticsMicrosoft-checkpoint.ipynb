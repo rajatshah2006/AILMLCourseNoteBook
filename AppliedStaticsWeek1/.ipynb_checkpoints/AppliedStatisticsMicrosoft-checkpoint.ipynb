{
 "cells": [
  {
   "cell_type": "code",
   "execution_count": 1,
   "id": "47564eff",
   "metadata": {},
   "outputs": [],
   "source": [
    "import numpy as np\n",
    "import pandas as pd \n",
    "import matplotlib.pyplot as plt\n",
    "import seaborn as sns\n",
    "import scipy.stats as stats\n",
    "from scipy.stats import binom\n",
    "from scipy.stats import norm \n",
    "\n",
    "%matplotlib inline\n"
   ]
  },
  {
   "cell_type": "code",
   "execution_count": 2,
   "id": "469c6d58",
   "metadata": {},
   "outputs": [
    {
     "data": {
      "text/html": [
       "<div>\n",
       "<style scoped>\n",
       "    .dataframe tbody tr th:only-of-type {\n",
       "        vertical-align: middle;\n",
       "    }\n",
       "\n",
       "    .dataframe tbody tr th {\n",
       "        vertical-align: top;\n",
       "    }\n",
       "\n",
       "    .dataframe thead th {\n",
       "        text-align: right;\n",
       "    }\n",
       "</style>\n",
       "<table border=\"1\" class=\"dataframe\">\n",
       "  <thead>\n",
       "    <tr style=\"text-align: right;\">\n",
       "      <th></th>\n",
       "      <th>Date</th>\n",
       "      <th>Open</th>\n",
       "      <th>High</th>\n",
       "      <th>Low</th>\n",
       "      <th>Close</th>\n",
       "      <th>Adj Close</th>\n",
       "      <th>Volume</th>\n",
       "    </tr>\n",
       "  </thead>\n",
       "  <tbody>\n",
       "    <tr>\n",
       "      <th>0</th>\n",
       "      <td>2020-01-10</td>\n",
       "      <td>162.820007</td>\n",
       "      <td>163.220001</td>\n",
       "      <td>161.179993</td>\n",
       "      <td>161.339996</td>\n",
       "      <td>159.648727</td>\n",
       "      <td>20725900</td>\n",
       "    </tr>\n",
       "    <tr>\n",
       "      <th>1</th>\n",
       "      <td>2020-01-13</td>\n",
       "      <td>161.759995</td>\n",
       "      <td>163.309998</td>\n",
       "      <td>161.259995</td>\n",
       "      <td>163.279999</td>\n",
       "      <td>161.568405</td>\n",
       "      <td>21626500</td>\n",
       "    </tr>\n",
       "    <tr>\n",
       "      <th>2</th>\n",
       "      <td>2020-01-14</td>\n",
       "      <td>163.389999</td>\n",
       "      <td>163.600006</td>\n",
       "      <td>161.720001</td>\n",
       "      <td>162.130005</td>\n",
       "      <td>160.430450</td>\n",
       "      <td>23477400</td>\n",
       "    </tr>\n",
       "    <tr>\n",
       "      <th>3</th>\n",
       "      <td>2020-01-15</td>\n",
       "      <td>162.619995</td>\n",
       "      <td>163.940002</td>\n",
       "      <td>162.570007</td>\n",
       "      <td>163.179993</td>\n",
       "      <td>161.469452</td>\n",
       "      <td>21417900</td>\n",
       "    </tr>\n",
       "    <tr>\n",
       "      <th>4</th>\n",
       "      <td>2020-01-16</td>\n",
       "      <td>164.350006</td>\n",
       "      <td>166.240005</td>\n",
       "      <td>164.029999</td>\n",
       "      <td>166.169998</td>\n",
       "      <td>164.428116</td>\n",
       "      <td>23865400</td>\n",
       "    </tr>\n",
       "  </tbody>\n",
       "</table>\n",
       "</div>"
      ],
      "text/plain": [
       "         Date        Open        High         Low       Close   Adj Close  \\\n",
       "0  2020-01-10  162.820007  163.220001  161.179993  161.339996  159.648727   \n",
       "1  2020-01-13  161.759995  163.309998  161.259995  163.279999  161.568405   \n",
       "2  2020-01-14  163.389999  163.600006  161.720001  162.130005  160.430450   \n",
       "3  2020-01-15  162.619995  163.940002  162.570007  163.179993  161.469452   \n",
       "4  2020-01-16  164.350006  166.240005  164.029999  166.169998  164.428116   \n",
       "\n",
       "     Volume  \n",
       "0  20725900  \n",
       "1  21626500  \n",
       "2  23477400  \n",
       "3  21417900  \n",
       "4  23865400  "
      ]
     },
     "execution_count": 2,
     "metadata": {},
     "output_type": "execute_result"
    }
   ],
   "source": [
    "df=pd.read_csv('MSFT.csv')\n",
    "df.head()"
   ]
  },
  {
   "cell_type": "code",
   "execution_count": 3,
   "id": "0a1aed99",
   "metadata": {},
   "outputs": [
    {
     "data": {
      "text/html": [
       "<div>\n",
       "<style scoped>\n",
       "    .dataframe tbody tr th:only-of-type {\n",
       "        vertical-align: middle;\n",
       "    }\n",
       "\n",
       "    .dataframe tbody tr th {\n",
       "        vertical-align: top;\n",
       "    }\n",
       "\n",
       "    .dataframe thead th {\n",
       "        text-align: right;\n",
       "    }\n",
       "</style>\n",
       "<table border=\"1\" class=\"dataframe\">\n",
       "  <thead>\n",
       "    <tr style=\"text-align: right;\">\n",
       "      <th></th>\n",
       "      <th>count</th>\n",
       "      <th>mean</th>\n",
       "      <th>std</th>\n",
       "      <th>min</th>\n",
       "      <th>25%</th>\n",
       "      <th>50%</th>\n",
       "      <th>75%</th>\n",
       "      <th>max</th>\n",
       "    </tr>\n",
       "  </thead>\n",
       "  <tbody>\n",
       "    <tr>\n",
       "      <th>Open</th>\n",
       "      <td>252.0</td>\n",
       "      <td>1.941933e+02</td>\n",
       "      <td>2.277012e+01</td>\n",
       "      <td>1.370100e+02</td>\n",
       "      <td>1.766200e+02</td>\n",
       "      <td>2.026500e+02</td>\n",
       "      <td>2.135225e+02</td>\n",
       "      <td>2.292700e+02</td>\n",
       "    </tr>\n",
       "    <tr>\n",
       "      <th>High</th>\n",
       "      <td>252.0</td>\n",
       "      <td>1.967783e+02</td>\n",
       "      <td>2.224673e+01</td>\n",
       "      <td>1.405700e+02</td>\n",
       "      <td>1.789375e+02</td>\n",
       "      <td>2.045550e+02</td>\n",
       "      <td>2.153125e+02</td>\n",
       "      <td>2.328600e+02</td>\n",
       "    </tr>\n",
       "    <tr>\n",
       "      <th>Low</th>\n",
       "      <td>252.0</td>\n",
       "      <td>1.916249e+02</td>\n",
       "      <td>2.301490e+01</td>\n",
       "      <td>1.325200e+02</td>\n",
       "      <td>1.747450e+02</td>\n",
       "      <td>1.999950e+02</td>\n",
       "      <td>2.109300e+02</td>\n",
       "      <td>2.273500e+02</td>\n",
       "    </tr>\n",
       "    <tr>\n",
       "      <th>Close</th>\n",
       "      <td>252.0</td>\n",
       "      <td>1.942989e+02</td>\n",
       "      <td>2.267934e+01</td>\n",
       "      <td>1.354200e+02</td>\n",
       "      <td>1.783000e+02</td>\n",
       "      <td>2.026000e+02</td>\n",
       "      <td>2.132675e+02</td>\n",
       "      <td>2.316500e+02</td>\n",
       "    </tr>\n",
       "    <tr>\n",
       "      <th>Adj Close</th>\n",
       "      <td>252.0</td>\n",
       "      <td>1.933907e+02</td>\n",
       "      <td>2.305360e+01</td>\n",
       "      <td>1.343665e+02</td>\n",
       "      <td>1.769129e+02</td>\n",
       "      <td>2.019762e+02</td>\n",
       "      <td>2.126219e+02</td>\n",
       "      <td>2.310451e+02</td>\n",
       "    </tr>\n",
       "    <tr>\n",
       "      <th>Volume</th>\n",
       "      <td>252.0</td>\n",
       "      <td>3.786005e+07</td>\n",
       "      <td>1.683367e+07</td>\n",
       "      <td>1.055060e+07</td>\n",
       "      <td>2.642552e+07</td>\n",
       "      <td>3.309325e+07</td>\n",
       "      <td>4.391550e+07</td>\n",
       "      <td>9.707360e+07</td>\n",
       "    </tr>\n",
       "  </tbody>\n",
       "</table>\n",
       "</div>"
      ],
      "text/plain": [
       "           count          mean           std           min           25%  \\\n",
       "Open       252.0  1.941933e+02  2.277012e+01  1.370100e+02  1.766200e+02   \n",
       "High       252.0  1.967783e+02  2.224673e+01  1.405700e+02  1.789375e+02   \n",
       "Low        252.0  1.916249e+02  2.301490e+01  1.325200e+02  1.747450e+02   \n",
       "Close      252.0  1.942989e+02  2.267934e+01  1.354200e+02  1.783000e+02   \n",
       "Adj Close  252.0  1.933907e+02  2.305360e+01  1.343665e+02  1.769129e+02   \n",
       "Volume     252.0  3.786005e+07  1.683367e+07  1.055060e+07  2.642552e+07   \n",
       "\n",
       "                    50%           75%           max  \n",
       "Open       2.026500e+02  2.135225e+02  2.292700e+02  \n",
       "High       2.045550e+02  2.153125e+02  2.328600e+02  \n",
       "Low        1.999950e+02  2.109300e+02  2.273500e+02  \n",
       "Close      2.026000e+02  2.132675e+02  2.316500e+02  \n",
       "Adj Close  2.019762e+02  2.126219e+02  2.310451e+02  \n",
       "Volume     3.309325e+07  4.391550e+07  9.707360e+07  "
      ]
     },
     "execution_count": 3,
     "metadata": {},
     "output_type": "execute_result"
    }
   ],
   "source": [
    "df.describe().T"
   ]
  },
  {
   "cell_type": "code",
   "execution_count": 4,
   "id": "561e4b8e",
   "metadata": {},
   "outputs": [
    {
     "name": "stdout",
     "output_type": "stream",
     "text": [
      "<class 'pandas.core.frame.DataFrame'>\n",
      "RangeIndex: 252 entries, 0 to 251\n",
      "Data columns (total 7 columns):\n",
      " #   Column     Non-Null Count  Dtype  \n",
      "---  ------     --------------  -----  \n",
      " 0   Date       252 non-null    object \n",
      " 1   Open       252 non-null    float64\n",
      " 2   High       252 non-null    float64\n",
      " 3   Low        252 non-null    float64\n",
      " 4   Close      252 non-null    float64\n",
      " 5   Adj Close  252 non-null    float64\n",
      " 6   Volume     252 non-null    int64  \n",
      "dtypes: float64(5), int64(1), object(1)\n",
      "memory usage: 13.9+ KB\n"
     ]
    }
   ],
   "source": [
    "df.info()"
   ]
  },
  {
   "cell_type": "code",
   "execution_count": 5,
   "id": "775c9107",
   "metadata": {},
   "outputs": [],
   "source": [
    "df['Date']=pd.to_datetime(df['Date'],format=\"mixed\",dayfirst=True)"
   ]
  },
  {
   "cell_type": "code",
   "execution_count": 6,
   "id": "fdc8f21b",
   "metadata": {},
   "outputs": [
    {
     "name": "stdout",
     "output_type": "stream",
     "text": [
      "<class 'pandas.core.frame.DataFrame'>\n",
      "RangeIndex: 252 entries, 0 to 251\n",
      "Data columns (total 7 columns):\n",
      " #   Column     Non-Null Count  Dtype         \n",
      "---  ------     --------------  -----         \n",
      " 0   Date       252 non-null    datetime64[ns]\n",
      " 1   Open       252 non-null    float64       \n",
      " 2   High       252 non-null    float64       \n",
      " 3   Low        252 non-null    float64       \n",
      " 4   Close      252 non-null    float64       \n",
      " 5   Adj Close  252 non-null    float64       \n",
      " 6   Volume     252 non-null    int64         \n",
      "dtypes: datetime64[ns](1), float64(5), int64(1)\n",
      "memory usage: 13.9 KB\n"
     ]
    }
   ],
   "source": [
    "df.info()"
   ]
  },
  {
   "cell_type": "code",
   "execution_count": 7,
   "id": "40927dfc",
   "metadata": {},
   "outputs": [
    {
     "data": {
      "text/plain": [
       "0           NaN\n",
       "1      0.011953\n",
       "2     -0.007068\n",
       "3      0.006455\n",
       "4      0.018158\n",
       "         ...   \n",
       "247   -0.021495\n",
       "248    0.000964\n",
       "249   -0.026271\n",
       "250    0.028060\n",
       "251    0.006074\n",
       "Name: LogReturn, Length: 252, dtype: float64"
      ]
     },
     "execution_count": 7,
     "metadata": {},
     "output_type": "execute_result"
    }
   ],
   "source": [
    "df['LogReturn']=np.log(df['Close'])-np.log(df['Close']).shift(1)\n",
    "df['LogReturn']"
   ]
  },
  {
   "cell_type": "code",
   "execution_count": 8,
   "id": "58cb0c9e",
   "metadata": {},
   "outputs": [
    {
     "data": {
      "text/plain": [
       "0.0012286248712609787"
      ]
     },
     "execution_count": 8,
     "metadata": {},
     "output_type": "execute_result"
    }
   ],
   "source": [
    "mu=df['LogReturn'].mean()\n",
    "mu"
   ]
  },
  {
   "cell_type": "code",
   "execution_count": 9,
   "id": "9bf71cb8",
   "metadata": {},
   "outputs": [
    {
     "data": {
      "text/plain": [
       "0.027902837306767212"
      ]
     },
     "execution_count": 9,
     "metadata": {},
     "output_type": "execute_result"
    }
   ],
   "source": [
    "sigma=df['LogReturn'].std()\n",
    "sigma"
   ]
  },
  {
   "cell_type": "code",
   "execution_count": 10,
   "id": "b6c3c5e8",
   "metadata": {},
   "outputs": [
    {
     "data": {
      "text/plain": [
       "<seaborn.axisgrid.FacetGrid at 0x200b8fec810>"
      ]
     },
     "execution_count": 10,
     "metadata": {},
     "output_type": "execute_result"
    },
    {
     "data": {
      "image/png": "[encoded data removed]",
      "text/plain": [
       "<Figure size 500x500 with 1 Axes>"
      ]
     },
     "metadata": {},
     "output_type": "display_data"
    }
   ],
   "source": [
    "sns.displot(data=df['LogReturn'],kde=True)"
   ]
  },
  {
   "cell_type": "code",
   "execution_count": 11,
   "id": "70dcbb34",
   "metadata": {},
   "outputs": [],
   "source": [
    "density=pd.DataFrame()"
   ]
  },
  {
   "cell_type": "code",
   "execution_count": 12,
   "id": "1a046c70",
   "metadata": {},
   "outputs": [
    {
     "data": {
      "text/plain": [
       "(252,)"
      ]
     },
     "execution_count": 12,
     "metadata": {},
     "output_type": "execute_result"
    }
   ],
   "source": [
    "df['LogReturn'].shape"
   ]
  },
  {
   "cell_type": "code",
   "execution_count": 13,
   "id": "b20f3c3b",
   "metadata": {},
   "outputs": [
    {
     "data": {
      "text/plain": [
       "0    -0.159453\n",
       "1    -0.149453\n",
       "2    -0.139453\n",
       "3    -0.129453\n",
       "4    -0.119453\n",
       "5    -0.109453\n",
       "6    -0.099453\n",
       "7    -0.089453\n",
       "8    -0.079453\n",
       "9    -0.069453\n",
       "10   -0.059453\n",
       "11   -0.049453\n",
       "12   -0.039453\n",
       "13   -0.029453\n",
       "14   -0.019453\n",
       "15   -0.009453\n",
       "16    0.000547\n",
       "17    0.010547\n",
       "18    0.020547\n",
       "19    0.030547\n",
       "20    0.040547\n",
       "21    0.050547\n",
       "22    0.060547\n",
       "23    0.070547\n",
       "24    0.080547\n",
       "25    0.090547\n",
       "26    0.100547\n",
       "27    0.110547\n",
       "28    0.120547\n",
       "29    0.130547\n",
       "Name: x, dtype: float64"
      ]
     },
     "execution_count": 13,
     "metadata": {},
     "output_type": "execute_result"
    }
   ],
   "source": []
  },
  {
   "cell_type": "code",
   "execution_count": 15,
   "id": "da963866",
   "metadata": {},
   "outputs": [
    {
     "ename": "ValueError",
     "evalue": "Length of values (293) does not match length of index (30)",
     "output_type": "error",
     "traceback": [
      "\u001b[1;31m---------------------------------------------------------------------------\u001b[0m",
      "\u001b[1;31mValueError\u001b[0m                                Traceback (most recent call last)",
      "Cell \u001b[1;32mIn[15], line 1\u001b[0m\n\u001b[1;32m----> 1\u001b[0m density[\u001b[38;5;124m'\u001b[39m\u001b[38;5;124mx\u001b[39m\u001b[38;5;124m'\u001b[39m] \u001b[38;5;241m=\u001b[39m np\u001b[38;5;241m.\u001b[39marange(df[\u001b[38;5;124m'\u001b[39m\u001b[38;5;124mLogReturn\u001b[39m\u001b[38;5;124m'\u001b[39m]\u001b[38;5;241m.\u001b[39mmin(), df[\u001b[38;5;124m'\u001b[39m\u001b[38;5;124mLogReturn\u001b[39m\u001b[38;5;124m'\u001b[39m]\u001b[38;5;241m.\u001b[39mmax(), \u001b[38;5;241m0.001\u001b[39m)\n\u001b[0;32m      2\u001b[0m \u001b[38;5;66;03m#ensity['x']=np.arange(df['LogReturn'].min(),df['LogReturn'].max(),100)\u001b[39;00m\n\u001b[0;32m      3\u001b[0m \u001b[38;5;28mprint\u001b[39m(density[\u001b[38;5;124m'\u001b[39m\u001b[38;5;124mx\u001b[39m\u001b[38;5;124m'\u001b[39m])\n",
      "File \u001b[1;32mD:\\InstalledSoftware\\Lib\\site-packages\\pandas\\core\\frame.py:4091\u001b[0m, in \u001b[0;36mDataFrame.__setitem__\u001b[1;34m(self, key, value)\u001b[0m\n\u001b[0;32m   4088\u001b[0m     \u001b[38;5;28mself\u001b[39m\u001b[38;5;241m.\u001b[39m_setitem_array([key], value)\n\u001b[0;32m   4089\u001b[0m \u001b[38;5;28;01melse\u001b[39;00m:\n\u001b[0;32m   4090\u001b[0m     \u001b[38;5;66;03m# set column\u001b[39;00m\n\u001b[1;32m-> 4091\u001b[0m     \u001b[38;5;28mself\u001b[39m\u001b[38;5;241m.\u001b[39m_set_item(key, value)\n",
      "File \u001b[1;32mD:\\InstalledSoftware\\Lib\\site-packages\\pandas\\core\\frame.py:4300\u001b[0m, in \u001b[0;36mDataFrame._set_item\u001b[1;34m(self, key, value)\u001b[0m\n\u001b[0;32m   4290\u001b[0m \u001b[38;5;28;01mdef\u001b[39;00m \u001b[38;5;21m_set_item\u001b[39m(\u001b[38;5;28mself\u001b[39m, key, value) \u001b[38;5;241m-\u001b[39m\u001b[38;5;241m>\u001b[39m \u001b[38;5;28;01mNone\u001b[39;00m:\n\u001b[0;32m   4291\u001b[0m \u001b[38;5;250m    \u001b[39m\u001b[38;5;124;03m\"\"\"\u001b[39;00m\n\u001b[0;32m   4292\u001b[0m \u001b[38;5;124;03m    Add series to DataFrame in specified column.\u001b[39;00m\n\u001b[0;32m   4293\u001b[0m \n\u001b[1;32m   (...)\u001b[0m\n\u001b[0;32m   4298\u001b[0m \u001b[38;5;124;03m    ensure homogeneity.\u001b[39;00m\n\u001b[0;32m   4299\u001b[0m \u001b[38;5;124;03m    \"\"\"\u001b[39;00m\n\u001b[1;32m-> 4300\u001b[0m     value, refs \u001b[38;5;241m=\u001b[39m \u001b[38;5;28mself\u001b[39m\u001b[38;5;241m.\u001b[39m_sanitize_column(value)\n\u001b[0;32m   4302\u001b[0m     \u001b[38;5;28;01mif\u001b[39;00m (\n\u001b[0;32m   4303\u001b[0m         key \u001b[38;5;129;01min\u001b[39;00m \u001b[38;5;28mself\u001b[39m\u001b[38;5;241m.\u001b[39mcolumns\n\u001b[0;32m   4304\u001b[0m         \u001b[38;5;129;01mand\u001b[39;00m value\u001b[38;5;241m.\u001b[39mndim \u001b[38;5;241m==\u001b[39m \u001b[38;5;241m1\u001b[39m\n\u001b[0;32m   4305\u001b[0m         \u001b[38;5;129;01mand\u001b[39;00m \u001b[38;5;129;01mnot\u001b[39;00m \u001b[38;5;28misinstance\u001b[39m(value\u001b[38;5;241m.\u001b[39mdtype, ExtensionDtype)\n\u001b[0;32m   4306\u001b[0m     ):\n\u001b[0;32m   4307\u001b[0m         \u001b[38;5;66;03m# broadcast across multiple columns if necessary\u001b[39;00m\n\u001b[0;32m   4308\u001b[0m         \u001b[38;5;28;01mif\u001b[39;00m \u001b[38;5;129;01mnot\u001b[39;00m \u001b[38;5;28mself\u001b[39m\u001b[38;5;241m.\u001b[39mcolumns\u001b[38;5;241m.\u001b[39mis_unique \u001b[38;5;129;01mor\u001b[39;00m \u001b[38;5;28misinstance\u001b[39m(\u001b[38;5;28mself\u001b[39m\u001b[38;5;241m.\u001b[39mcolumns, MultiIndex):\n",
      "File \u001b[1;32mD:\\InstalledSoftware\\Lib\\site-packages\\pandas\\core\\frame.py:5039\u001b[0m, in \u001b[0;36mDataFrame._sanitize_column\u001b[1;34m(self, value)\u001b[0m\n\u001b[0;32m   5036\u001b[0m     \u001b[38;5;28;01mreturn\u001b[39;00m _reindex_for_setitem(value, \u001b[38;5;28mself\u001b[39m\u001b[38;5;241m.\u001b[39mindex)\n\u001b[0;32m   5038\u001b[0m \u001b[38;5;28;01mif\u001b[39;00m is_list_like(value):\n\u001b[1;32m-> 5039\u001b[0m     com\u001b[38;5;241m.\u001b[39mrequire_length_match(value, \u001b[38;5;28mself\u001b[39m\u001b[38;5;241m.\u001b[39mindex)\n\u001b[0;32m   5040\u001b[0m \u001b[38;5;28;01mreturn\u001b[39;00m sanitize_array(value, \u001b[38;5;28mself\u001b[39m\u001b[38;5;241m.\u001b[39mindex, copy\u001b[38;5;241m=\u001b[39m\u001b[38;5;28;01mTrue\u001b[39;00m, allow_2d\u001b[38;5;241m=\u001b[39m\u001b[38;5;28;01mTrue\u001b[39;00m), \u001b[38;5;28;01mNone\u001b[39;00m\n",
      "File \u001b[1;32mD:\\InstalledSoftware\\Lib\\site-packages\\pandas\\core\\common.py:561\u001b[0m, in \u001b[0;36mrequire_length_match\u001b[1;34m(data, index)\u001b[0m\n\u001b[0;32m    557\u001b[0m \u001b[38;5;250m\u001b[39m\u001b[38;5;124;03m\"\"\"\u001b[39;00m\n\u001b[0;32m    558\u001b[0m \u001b[38;5;124;03mCheck the length of data matches the length of the index.\u001b[39;00m\n\u001b[0;32m    559\u001b[0m \u001b[38;5;124;03m\"\"\"\u001b[39;00m\n\u001b[0;32m    560\u001b[0m \u001b[38;5;28;01mif\u001b[39;00m \u001b[38;5;28mlen\u001b[39m(data) \u001b[38;5;241m!=\u001b[39m \u001b[38;5;28mlen\u001b[39m(index):\n\u001b[1;32m--> 561\u001b[0m     \u001b[38;5;28;01mraise\u001b[39;00m \u001b[38;5;167;01mValueError\u001b[39;00m(\n\u001b[0;32m    562\u001b[0m         \u001b[38;5;124m\"\u001b[39m\u001b[38;5;124mLength of values \u001b[39m\u001b[38;5;124m\"\u001b[39m\n\u001b[0;32m    563\u001b[0m         \u001b[38;5;124mf\u001b[39m\u001b[38;5;124m\"\u001b[39m\u001b[38;5;124m(\u001b[39m\u001b[38;5;132;01m{\u001b[39;00m\u001b[38;5;28mlen\u001b[39m(data)\u001b[38;5;132;01m}\u001b[39;00m\u001b[38;5;124m) \u001b[39m\u001b[38;5;124m\"\u001b[39m\n\u001b[0;32m    564\u001b[0m         \u001b[38;5;124m\"\u001b[39m\u001b[38;5;124mdoes not match length of index \u001b[39m\u001b[38;5;124m\"\u001b[39m\n\u001b[0;32m    565\u001b[0m         \u001b[38;5;124mf\u001b[39m\u001b[38;5;124m\"\u001b[39m\u001b[38;5;124m(\u001b[39m\u001b[38;5;132;01m{\u001b[39;00m\u001b[38;5;28mlen\u001b[39m(index)\u001b[38;5;132;01m}\u001b[39;00m\u001b[38;5;124m)\u001b[39m\u001b[38;5;124m\"\u001b[39m\n\u001b[0;32m    566\u001b[0m     )\n",
      "\u001b[1;31mValueError\u001b[0m: Length of values (293) does not match length of index (30)"
     ]
    }
   ],
   "source": [
    "density['x'] = np.arange(df['LogReturn'].min(), df['LogReturn'].max(), 0.001)\n",
    "#ensity['x']=np.arange(df['LogReturn'].min(),df['LogReturn'].max(),100)\n",
    "print(density['x'])\n",
    "density['pdf']=norm.pdf(density['x'],mu,sigma)\n",
    "density['pdf']\n",
    "fig,ax=plt.subplots()\n",
    "sns.histplot(data=df['LogReturn'],kde=True,ax=ax,stat=\"density\")\n",
    "ax.plot(density['x'],density['pdf'],color=\"red\")\n",
    "plt.title(\"Normal Distriution \")\n",
    "plt.show()"
   ]
  },
  {
   "cell_type": "markdown",
   "id": "d7dfb7f9",
   "metadata": {},
   "source": [
    "What is the probability that the stock price will drop over 5% in a day?"
   ]
  },
  {
   "cell_type": "code",
   "execution_count": 37,
   "id": "3574d5c1",
   "metadata": {},
   "outputs": [
    {
     "data": {
      "text/plain": [
       "0.033181437344865984"
      ]
     },
     "execution_count": 37,
     "metadata": {},
     "output_type": "execute_result"
    }
   ],
   "source": [
    "norm.cdf(-0.05,mu,sigma)"
   ]
  },
  {
   "cell_type": "markdown",
   "id": "b36f4a50",
   "metadata": {},
   "source": [
    "What is the probability that the stock price will drop over 10% in a day?"
   ]
  },
  {
   "cell_type": "code",
   "execution_count": 38,
   "id": "b44b9bf8",
   "metadata": {},
   "outputs": [
    {
     "data": {
      "text/plain": [
       "0.0001428695000257634"
      ]
     },
     "execution_count": 38,
     "metadata": {},
     "output_type": "execute_result"
    }
   ],
   "source": [
    "norm.cdf(-0.10,mu,sigma)"
   ]
  },
  {
   "cell_type": "markdown",
   "id": "a1b77d47",
   "metadata": {},
   "source": [
    " What is the probability that the stock price will drop over 50% in a year?"
   ]
  },
  {
   "cell_type": "code",
   "execution_count": 39,
   "id": "5fbad516",
   "metadata": {},
   "outputs": [
    {
     "data": {
      "text/plain": [
       "0.4411825953525139"
      ]
     },
     "execution_count": 39,
     "metadata": {},
     "output_type": "execute_result"
    }
   ],
   "source": [
    "sigmaYearly=sigma*np.sqrt(250)\n",
    "sigmaYearly"
   ]
  },
  {
   "cell_type": "code",
   "execution_count": 41,
   "id": "050eb080",
   "metadata": {},
   "outputs": [
    {
     "data": {
      "text/plain": [
       "0.30715621781524466"
      ]
     },
     "execution_count": 41,
     "metadata": {},
     "output_type": "execute_result"
    }
   ],
   "source": [
    "muyearly=mu*250\n",
    "muyearly"
   ]
  },
  {
   "cell_type": "code",
   "execution_count": 42,
   "id": "3389ed78",
   "metadata": {},
   "outputs": [
    {
     "data": {
      "text/plain": [
       "0.03366022235185039"
      ]
     },
     "execution_count": 42,
     "metadata": {},
     "output_type": "execute_result"
    }
   ],
   "source": [
    "norm.cdf(-0.50,muyearly,sigmaYearly)"
   ]
  },
  {
   "cell_type": "markdown",
   "id": "99197a71",
   "metadata": {},
   "source": [
    "What is the probability that the stock price will drop over 25% in a year?"
   ]
  },
  {
   "cell_type": "code",
   "execution_count": 43,
   "id": "e563fab7",
   "metadata": {},
   "outputs": [
    {
     "data": {
      "text/plain": [
       "0.10331797034715662"
      ]
     },
     "execution_count": 43,
     "metadata": {},
     "output_type": "execute_result"
    }
   ],
   "source": [
    "norm.cdf(-0.25,muyearly,sigmaYearly)"
   ]
  },
  {
   "cell_type": "markdown",
   "id": "de09db22",
   "metadata": {},
   "source": [
    " What is the 50th percentile of the yearly stock price?"
   ]
  },
  {
   "cell_type": "code",
   "execution_count": 44,
   "id": "1aba68c5",
   "metadata": {},
   "outputs": [
    {
     "data": {
      "text/plain": [
       "0.30715621781524466"
      ]
     },
     "execution_count": 44,
     "metadata": {},
     "output_type": "execute_result"
    }
   ],
   "source": [
    "zscore=norm.ppf(0.50,loc=muyearly,scale=sigmaYearly)\n",
    "zscore"
   ]
  },
  {
   "cell_type": "code",
   "execution_count": null,
   "id": "96cac1fa",
   "metadata": {},
   "outputs": [],
   "source": []
  }
 ],
 "metadata": {
  "kernelspec": {
   "display_name": "Python 3 (ipykernel)",
   "language": "python",
   "name": "python3"
  },
  "language_info": {
   "codemirror_mode": {
    "name": "ipython",
    "version": 3
   },
   "file_extension": ".py",
   "mimetype": "text/x-python",
   "name": "python",
   "nbconvert_exporter": "python",
   "pygments_lexer": "ipython3",
   "version": "3.11.7"
  }
 },
 "nbformat": 4,
 "nbformat_minor": 5
}
