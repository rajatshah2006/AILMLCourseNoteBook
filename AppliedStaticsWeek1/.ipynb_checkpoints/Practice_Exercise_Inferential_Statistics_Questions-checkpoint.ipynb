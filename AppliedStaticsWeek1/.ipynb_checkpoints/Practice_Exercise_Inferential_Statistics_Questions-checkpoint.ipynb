{
 "cells": [
  {
   "cell_type": "markdown",
   "metadata": {
    "id": "XeV1U7GkVNZY"
   },
   "source": [
    "## **Importing necessary libraries**"
   ]
  },
  {
   "cell_type": "code",
   "execution_count": 10,
   "metadata": {
    "id": "219CEYUFVNZn"
   },
   "outputs": [],
   "source": [
    "# import the important packages\n",
    "import pandas as pd  # library used for data manipulation and analysis\n",
    "\n",
    "import numpy as np  # library used for working with arrays\n",
    "\n",
    "import matplotlib.pyplot as plt  # library for visualization\n",
    "\n",
    "import seaborn as sns  # library for visualization\n",
    "\n",
    "%matplotlib inline\n",
    "\n",
    "import scipy.stats as stats  # this library contains a large number of probability distributions as well as a growing library of statistical functions\n",
    "from scipy.stats import binom\n",
    "from scipy.stats import norm\n"
   ]
  },
  {
   "cell_type": "code",
   "execution_count": null,
   "metadata": {},
   "outputs": [],
   "source": []
  },
  {
   "cell_type": "markdown",
   "metadata": {
    "id": "zwbR4fdpVNZp"
   },
   "source": [
    "# Binomial Distribution"
   ]
  },
  {
   "cell_type": "markdown",
   "metadata": {
    "id": "iLvUFh_6VNZp"
   },
   "source": [
    "### Q1. A LED bulb manufacturing company regularly conducts quality checks at specified periods on the products it manufactures.  Historically, the failure rate for LED light bulbs that the company manufactures is 5%. Suppose a random sample of 10 LED light bulbs is selected. Find the probability distribution for the defective bulbs and answer the following questions."
   ]
  },
  {
   "cell_type": "code",
   "execution_count": 11,
   "metadata": {},
   "outputs": [
    {
     "data": {
      "text/plain": [
       "array([ 0,  1,  2,  3,  4,  5,  6,  7,  8,  9, 10])"
      ]
     },
     "execution_count": 11,
     "metadata": {},
     "output_type": "execute_result"
    }
   ],
   "source": [
    "p=0.05\n",
    "n=10\n",
    "k=np.arange(0,11)\n",
    "k"
   ]
  },
  {
   "cell_type": "code",
   "execution_count": 12,
   "metadata": {},
   "outputs": [
    {
     "data": {
      "text/plain": [
       "array([5.98736939e-01, 3.15124705e-01, 7.46347985e-02, 1.04750594e-02,\n",
       "       9.64808106e-04, 6.09352488e-05, 2.67259863e-06, 8.03789062e-08,\n",
       "       1.58642578e-09, 1.85546875e-11, 9.76562500e-14])"
      ]
     },
     "execution_count": 12,
     "metadata": {},
     "output_type": "execute_result"
    }
   ],
   "source": [
    "probablit_distributio=binom.pmf(k=k,n=10,p=0.05)\n",
    "probablit_distributio"
   ]
  },
  {
   "cell_type": "code",
   "execution_count": 15,
   "metadata": {},
   "outputs": [
    {
     "data": {
      "text/plain": [
       "Text(0, 0.5, 'Probability of Failure')"
      ]
     },
     "execution_count": 15,
     "metadata": {},
     "output_type": "execute_result"
    },
    {
     "data": {
      "image/png": "[encoded data removed]",
      "text/plain": [
       "<Figure size 640x480 with 1 Axes>"
      ]
     },
     "metadata": {},
     "output_type": "display_data"
    }
   ],
   "source": [
    "plt.bar(k,probablit_distributio)\n",
    "plt.xlabel(\"Number of Successes\") # set the x-axis label\n",
    "plt.ylabel(\"Probability of Failure\") # set the y-axis label"
   ]
  },
  {
   "cell_type": "markdown",
   "metadata": {
    "id": "U8C34C7HVNZr"
   },
   "source": [
    "**a) What is the probability that none of the LED bulbs are defective?**"
   ]
  },
  {
   "cell_type": "code",
   "execution_count": 17,
   "metadata": {
    "id": "yenN_WdLaeMa"
   },
   "outputs": [
    {
     "data": {
      "text/plain": [
       "0.5987369392383789"
      ]
     },
     "execution_count": 17,
     "metadata": {},
     "output_type": "execute_result"
    }
   ],
   "source": [
    "binom.pmf(k=0,n=n,p=0.05)"
   ]
  },
  {
   "cell_type": "markdown",
   "metadata": {
    "id": "siKk2kFfVNZs"
   },
   "source": [
    "**b) What is the probability that exactly one of the LED bulbs is defective?**"
   ]
  },
  {
   "cell_type": "code",
   "execution_count": 18,
   "metadata": {
    "id": "Wo3kz9hwaeMb"
   },
   "outputs": [
    {
     "data": {
      "text/plain": [
       "0.3151247048623047"
      ]
     },
     "execution_count": 18,
     "metadata": {},
     "output_type": "execute_result"
    }
   ],
   "source": [
    "binom.pmf(k=1,n=n,p=p)"
   ]
  },
  {
   "cell_type": "markdown",
   "metadata": {
    "id": "sTKTp_VbVNZt"
   },
   "source": [
    "**c) What is the probability that two or fewer of the LED bulbs are defective?**"
   ]
  },
  {
   "cell_type": "markdown",
   "metadata": {
    "id": "_ETr7cSsVNZu"
   },
   "source": [
    "Hint: We need to calculate cumulative probability of two or fewer LED bulbs being defective."
   ]
  },
  {
   "cell_type": "code",
   "execution_count": 19,
   "metadata": {
    "id": "KOj8G7k4aeMb"
   },
   "outputs": [
    {
     "data": {
      "text/plain": [
       "0.9884964426207031"
      ]
     },
     "execution_count": 19,
     "metadata": {},
     "output_type": "execute_result"
    }
   ],
   "source": [
    "binom.cdf(k=2,n=10,p=p)"
   ]
  },
  {
   "cell_type": "markdown",
   "metadata": {
    "id": "6D3d7vgNVNZv"
   },
   "source": [
    "**d) What is the probability that three or more of the LED bulbs are defective?**"
   ]
  },
  {
   "cell_type": "markdown",
   "metadata": {
    "id": "-EnDIeiTVNZv"
   },
   "source": [
    "Hint: We need to subtract the cumulative probability of up to 2 defective LED bulbs from 1."
   ]
  },
  {
   "cell_type": "code",
   "execution_count": 20,
   "metadata": {
    "id": "dCS_yZufaeMc"
   },
   "outputs": [
    {
     "data": {
      "text/plain": [
       "0.01150355737929687"
      ]
     },
     "execution_count": 20,
     "metadata": {},
     "output_type": "execute_result"
    }
   ],
   "source": [
    "1-binom.cdf(k=2,n=10,p=p)"
   ]
  },
  {
   "cell_type": "markdown",
   "metadata": {
    "id": "g7pg-lWiVNZx"
   },
   "source": [
    "### Q2. During an NBA game, a basketball player has two foul shots (free throw) and the conversion rate of free-throw shots is 93%. Find the following probabilities."
   ]
  },
  {
   "cell_type": "markdown",
   "metadata": {
    "id": "I1yejxesVNZx"
   },
   "source": [
    "**a) What is the probability that the player will convert both the shots?**"
   ]
  },
  {
   "cell_type": "code",
   "execution_count": 22,
   "metadata": {
    "id": "y1jX9zKJaeMc"
   },
   "outputs": [
    {
     "data": {
      "text/plain": [
       "0.8649000000000001"
      ]
     },
     "execution_count": 22,
     "metadata": {},
     "output_type": "execute_result"
    }
   ],
   "source": [
    "binom.pmf(k=2,n=2,p=0.93)"
   ]
  },
  {
   "cell_type": "markdown",
   "metadata": {
    "id": "0R1FriOVVNZy"
   },
   "source": [
    "**b) What is the probability that the player will convert at least one shot?**"
   ]
  },
  {
   "cell_type": "code",
   "execution_count": 24,
   "metadata": {
    "id": "xy9RrrhMaeMd"
   },
   "outputs": [
    {
     "data": {
      "text/plain": [
       "0.9951"
      ]
     },
     "execution_count": 24,
     "metadata": {},
     "output_type": "execute_result"
    }
   ],
   "source": [
    "1-binom.cdf(k=0,n=2,p=0.93)"
   ]
  },
  {
   "cell_type": "markdown",
   "metadata": {
    "id": "jeGWrHJhabri"
   },
   "source": [
    "### Q3.\tOver a long period in a large multinomial corporation, 10% of all sales trainees are rated as outstanding, 75% are rated as excellent, 10% are rated as satisfactory and 5% are considered unsatisfactory. Find the following probabilities for a sample of 10 trainees selected at random."
   ]
  },
  {
   "cell_type": "markdown",
   "metadata": {
    "id": "f0-NPUBiVNaG"
   },
   "source": [
    "**a) Two are rated as outstanding**"
   ]
  },
  {
   "cell_type": "code",
   "execution_count": 25,
   "metadata": {
    "id": "-421QtcYaeMd"
   },
   "outputs": [
    {
     "data": {
      "text/plain": [
       "0.19371024450000007"
      ]
     },
     "execution_count": 25,
     "metadata": {},
     "output_type": "execute_result"
    }
   ],
   "source": [
    "binom.pmf(k=2,n=10,p=0.10)"
   ]
  },
  {
   "cell_type": "markdown",
   "metadata": {
    "id": "RZCEMFSrVNaG"
   },
   "source": [
    "**b) Two or more are rated as outstanding**"
   ]
  },
  {
   "cell_type": "code",
   "execution_count": 26,
   "metadata": {
    "id": "oQ2uhA8taeMe"
   },
   "outputs": [
    {
     "data": {
      "text/plain": [
       "0.26390107090000003"
      ]
     },
     "execution_count": 26,
     "metadata": {},
     "output_type": "execute_result"
    }
   ],
   "source": [
    "1-binom.cdf(k=1,n=10,p=0.10)"
   ]
  },
  {
   "cell_type": "markdown",
   "metadata": {
    "id": "u5_21Ab8VNaH"
   },
   "source": [
    "**c) Eight of the ten are rated either outstanding or excellent**"
   ]
  },
  {
   "cell_type": "code",
   "execution_count": 27,
   "metadata": {
    "id": "DTCvpKRzaeMe"
   },
   "outputs": [
    {
     "data": {
      "text/plain": [
       "0.27589665660205076"
      ]
     },
     "execution_count": 27,
     "metadata": {},
     "output_type": "execute_result"
    }
   ],
   "source": [
    "#Probability of excellent or outstanding is 0.75 + 0.10\n",
    "binom.pmf(k=8,n=10,p=0.85)"
   ]
  },
  {
   "cell_type": "markdown",
   "metadata": {
    "id": "by_BuepFVNaH"
   },
   "source": [
    "**d) None of the trainees are rated as unsatisfactory**"
   ]
  },
  {
   "cell_type": "code",
   "execution_count": 28,
   "metadata": {
    "id": "7Bl7uvFRaeMe"
   },
   "outputs": [
    {
     "data": {
      "text/plain": [
       "0.5987369392383789"
      ]
     },
     "execution_count": 28,
     "metadata": {},
     "output_type": "execute_result"
    }
   ],
   "source": [
    "binom.pmf(k=0,n=10,p=0.05)"
   ]
  },
  {
   "cell_type": "markdown",
   "metadata": {
    "id": "xh7vsKOHVNZ8"
   },
   "source": [
    "# Normal Distribution"
   ]
  },
  {
   "cell_type": "markdown",
   "metadata": {
    "id": "yRiWnS4VabsT"
   },
   "source": [
    "### Q4. According to the Telecommunication Industry, the average monthly cell phone bill is Rs. 850 with a standard deviation of Rs. 150. Assuming that the monthly bill follows a normal distribution, answer the following questions."
   ]
  },
  {
   "cell_type": "code",
   "execution_count": 29,
   "metadata": {},
   "outputs": [],
   "source": [
    "mu=850\n",
    "sigma=150"
   ]
  },
  {
   "cell_type": "code",
   "execution_count": null,
   "metadata": {},
   "outputs": [],
   "source": []
  },
  {
   "cell_type": "markdown",
   "metadata": {
    "id": "MJ7wKYwvVNZ_"
   },
   "source": [
    "**a) What is the probability that a randomly selected cell phone bill is more than Rs 1200?**"
   ]
  },
  {
   "cell_type": "code",
   "execution_count": 30,
   "metadata": {
    "id": "r84zdMDRaeMg"
   },
   "outputs": [
    {
     "data": {
      "text/plain": [
       "0.009815328628645315"
      ]
     },
     "execution_count": 30,
     "metadata": {},
     "output_type": "execute_result"
    }
   ],
   "source": [
    "1-norm.cdf(1200,loc=mu,scale=sigma)"
   ]
  },
  {
   "cell_type": "markdown",
   "metadata": {
    "id": "1eoJzslRVNZ_"
   },
   "source": [
    "**b) What is the probability that a randomly selected cell phone bill is between Rs 750 and Rs 1200?**"
   ]
  },
  {
   "cell_type": "code",
   "execution_count": 33,
   "metadata": {
    "id": "_eqzvDheaeMg"
   },
   "outputs": [
    {
     "data": {
      "text/plain": [
       "0.7376921338244318"
      ]
     },
     "execution_count": 33,
     "metadata": {},
     "output_type": "execute_result"
    }
   ],
   "source": [
    "(norm.cdf(1200,loc=mu,scale=sigma)) - (norm.cdf(750,loc=mu,scale=sigma)) "
   ]
  },
  {
   "cell_type": "markdown",
   "metadata": {
    "id": "tGxBocT6VNZ_"
   },
   "source": [
    "**c) What is the probability that a randomly selected cell phone bill is no more than Rs 650?**"
   ]
  },
  {
   "cell_type": "code",
   "execution_count": 34,
   "metadata": {
    "id": "DeXADiggaeMg"
   },
   "outputs": [
    {
     "data": {
      "text/plain": [
       "0.09121121972586788"
      ]
     },
     "execution_count": 34,
     "metadata": {},
     "output_type": "execute_result"
    }
   ],
   "source": [
    "norm.cdf(650,loc=mu,scale=sigma)"
   ]
  },
  {
   "cell_type": "markdown",
   "metadata": {
    "id": "oFmIG_sqVNaA"
   },
   "source": [
    "**d) What is the amount above which lies top 15% of cell phone bills?**"
   ]
  },
  {
   "cell_type": "code",
   "execution_count": 35,
   "metadata": {
    "id": "HtRciemRaeMh"
   },
   "outputs": [
    {
     "data": {
      "text/plain": [
       "694.5349915759315"
      ]
     },
     "execution_count": 35,
     "metadata": {},
     "output_type": "execute_result"
    }
   ],
   "source": [
    "norm.ppf(0.15,loc=mu,scale=sigma)"
   ]
  },
  {
   "cell_type": "markdown",
   "metadata": {
    "id": "_lNAMUvvVNaA"
   },
   "source": [
    "**e) What is the amount below which lies bottom 25% of cell phone bills?**"
   ]
  },
  {
   "cell_type": "code",
   "execution_count": 38,
   "metadata": {
    "id": "zNyubmckaeMh"
   },
   "outputs": [
    {
     "data": {
      "text/plain": [
       "748.8265374705877"
      ]
     },
     "execution_count": 38,
     "metadata": {},
     "output_type": "execute_result"
    }
   ],
   "source": [
    "norm.ppf(0.25,loc=mu,scale=sigma)"
   ]
  },
  {
   "cell_type": "markdown",
   "metadata": {
    "id": "QmtfulFDVNaH"
   },
   "source": [
    "### Q5. The mean filling capacity for a coke bottle is 500 ml with a standard deviation of 20 ml. Assume that it follows a normal distribution and answer the following questions."
   ]
  },
  {
   "cell_type": "code",
   "execution_count": null,
   "metadata": {},
   "outputs": [],
   "source": [
    "mu=500\n",
    "sigma=20"
   ]
  },
  {
   "cell_type": "markdown",
   "metadata": {
    "id": "ak4RyMGVVNaI"
   },
   "source": [
    "**a) What is the probability that the bottle filled less than 480 ml?**"
   ]
  },
  {
   "cell_type": "code",
   "execution_count": 39,
   "metadata": {
    "id": "iexbsJtWaeMh"
   },
   "outputs": [
    {
     "data": {
      "text/plain": [
       "0.15865525393145707"
      ]
     },
     "execution_count": 39,
     "metadata": {},
     "output_type": "execute_result"
    }
   ],
   "source": [
    "norm.cdf(480,500,20)"
   ]
  },
  {
   "cell_type": "markdown",
   "metadata": {
    "id": "ILDdv_5fVNaI"
   },
   "source": [
    "**b) What is the probability that the bottle filled more than 520 ml?**"
   ]
  },
  {
   "cell_type": "code",
   "execution_count": 40,
   "metadata": {
    "id": "nhY36ADLaeMh"
   },
   "outputs": [
    {
     "data": {
      "text/plain": [
       "0.15865525393145707"
      ]
     },
     "execution_count": 40,
     "metadata": {},
     "output_type": "execute_result"
    }
   ],
   "source": [
    "1-norm.cdf(520,500,20)"
   ]
  },
  {
   "cell_type": "markdown",
   "metadata": {
    "id": "GDGLNR7dVNaJ"
   },
   "source": [
    "**c) What is the probability that the bottle filled between 470 ml to 525 ml?**"
   ]
  },
  {
   "cell_type": "code",
   "execution_count": 41,
   "metadata": {
    "id": "e4s5mbb-aeMi"
   },
   "outputs": [
    {
     "data": {
      "text/plain": [
       "0.8275430250642866"
      ]
     },
     "execution_count": 41,
     "metadata": {},
     "output_type": "execute_result"
    }
   ],
   "source": [
    "norm.cdf(525,500,20)-norm.cdf(470,500,20)"
   ]
  },
  {
   "cell_type": "markdown",
   "metadata": {
    "id": "7WFVLPL-VNaM"
   },
   "source": [
    "### Q6. In 2 Liter soft drink bottles, the drink filled is normally distributed, with a mean of 2.0 liters and a standard deviation of 0.05 liter. If bottles contain less than 95% of the listed net content (1.90 liters), the manufacturer may be subject to penalty by the state office of consumer affairs. Bottles that have a net quantity above 2.1 liters may cause excess spillage upon opening. Answer the following questions."
   ]
  },
  {
   "cell_type": "code",
   "execution_count": null,
   "metadata": {},
   "outputs": [],
   "source": [
    "mu=2\n",
    "sigma=0.05"
   ]
  },
  {
   "cell_type": "markdown",
   "metadata": {
    "id": "KJh8EodMVNaM"
   },
   "source": [
    "**a) What is the probability that the bottle content is between 1.9 and 2.0 liters?**"
   ]
  },
  {
   "cell_type": "code",
   "execution_count": 42,
   "metadata": {
    "id": "K1aXj1baaeMi"
   },
   "outputs": [
    {
     "data": {
      "text/plain": [
       "0.4772498680518209"
      ]
     },
     "execution_count": 42,
     "metadata": {},
     "output_type": "execute_result"
    }
   ],
   "source": [
    "norm.cdf(2,2,0.05)-norm.cdf(1.9,2,0.05)"
   ]
  },
  {
   "cell_type": "markdown",
   "metadata": {
    "id": "hZhrsYtoVNaN"
   },
   "source": [
    "**b) What is the probability that the bottle content is between 1.9 and 2.1 liters?**"
   ]
  },
  {
   "cell_type": "code",
   "execution_count": 43,
   "metadata": {
    "id": "qQW73stQaeMi"
   },
   "outputs": [
    {
     "data": {
      "text/plain": [
       "0.9544997361036418"
      ]
     },
     "execution_count": 43,
     "metadata": {},
     "output_type": "execute_result"
    }
   ],
   "source": [
    "norm.cdf(2.1,2,0.05)-norm.cdf(1.9,2,0.05)"
   ]
  },
  {
   "cell_type": "markdown",
   "metadata": {
    "id": "H6fG71TVVNaN"
   },
   "source": [
    "**c) What is the probability that the bottle content is below 1.9 liters or above 2.1 liters?**"
   ]
  },
  {
   "cell_type": "code",
   "execution_count": 44,
   "metadata": {
    "id": "PRf6z2JuaeMi"
   },
   "outputs": [
    {
     "data": {
      "text/plain": [
       "0.0227501319481791"
      ]
     },
     "execution_count": 44,
     "metadata": {},
     "output_type": "execute_result"
    }
   ],
   "source": [
    "norm.cdf(1.9,2,0.05) + (1-norm.cdf(2.1,2,0.05))"
   ]
  },
  {
   "cell_type": "code",
   "execution_count": 45,
   "metadata": {},
   "outputs": [
    {
     "data": {
      "text/plain": [
       "0.022750131948179098"
      ]
     },
     "execution_count": 45,
     "metadata": {},
     "output_type": "execute_result"
    }
   ],
   "source": []
  },
  {
   "cell_type": "markdown",
   "metadata": {
    "id": "Qc1CMY6PVNaO"
   },
   "source": [
    "**d) 99% of the bottles contains at least what amount of soft drink in them?**"
   ]
  },
  {
   "cell_type": "code",
   "execution_count": 46,
   "metadata": {
    "id": "nZEE2g-XaeMj"
   },
   "outputs": [
    {
     "data": {
      "text/plain": [
       "2.116317393702042"
      ]
     },
     "execution_count": 46,
     "metadata": {},
     "output_type": "execute_result"
    }
   ],
   "source": [
    "norm.ppf(0.99,2,0.05)"
   ]
  },
  {
   "cell_type": "code",
   "execution_count": null,
   "metadata": {},
   "outputs": [],
   "source": []
  }
 ],
 "metadata": {
  "colab": {
   "collapsed_sections": [
    "g7pg-lWiVNZx"
   ],
   "name": "Practice_Exercise_Inferential_Statistics_Questions.ipynb",
   "provenance": []
  },
  "kernelspec": {
   "display_name": "Python 3 (ipykernel)",
   "language": "python",
   "name": "python3"
  },
  "language_info": {
   "codemirror_mode": {
    "name": "ipython",
    "version": 3
   },
   "file_extension": ".py",
   "mimetype": "text/x-python",
   "name": "python",
   "nbconvert_exporter": "python",
   "pygments_lexer": "ipython3",
   "version": "3.11.7"
  }
 },
 "nbformat": 4,
 "nbformat_minor": 1
}
