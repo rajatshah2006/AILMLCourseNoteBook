{
 "cells": [
  {
   "cell_type": "markdown",
   "metadata": {
    "id": "XD2EHsa05AB8"
   },
   "source": [
    "<center><p float=\"center\">\n",
    "  <img src=\"https://upload.wikimedia.org/wikipedia/commons/e/e9/4_RGB_McCombs_School_Brand_Branded.png\" width=\"300\" height=\"100\"/>\n",
    "  <img src=\"https://mma.prnewswire.com/media/1458111/Great_Learning_Logo.jpg?p=facebook\" width=\"200\" height=\"100\"/>\n",
    "</p></center>\n",
    "\n",
    "<center><font size=10>Applied Statistics</center></font>\n",
    "<center><font size=5>Inferential Statistics Foundations - Week 1</font></center>"
   ]
  },
  {
   "cell_type": "markdown",
   "metadata": {
    "id": "qYguhvOlTlFJ"
   },
   "source": [
    "<center><img src=\"https://tradebrains.in/features/wp-content/uploads/2021/07/stock-market-news-trade-brains.jpg\" width=\"1000\" height=\"600\"></center>\n",
    "\n",
    "<center><font size=5><b> Mircrosoft Stock Price Case Study</b></font></center>"
   ]
  },
  {
   "cell_type": "markdown",
   "metadata": {
    "id": "edKPaAbe6VYd"
   },
   "source": [
    "## **Problem Statement**"
   ]
  },
  {
   "cell_type": "markdown",
   "metadata": {
    "id": "h95vWNpH6egz"
   },
   "source": [
    "### **Business Context**\n"
   ]
  },
  {
   "cell_type": "markdown",
   "metadata": {
    "id": "XNsQZ1xNusNI"
   },
   "source": [
    "Companies' worth or its total market value is called market capitalization or market cap. It is equal to the share price multiplied by the number of shares outstanding. Stock price is a proportional and relative  value of companies' growth. Here, analysing the stock price data will help us to understand a company's growth. Increase in stock price increases the company's market value."
   ]
  },
  {
   "cell_type": "markdown",
   "metadata": {
    "id": "Iocb2R1N6htr"
   },
   "source": [
    "### **Objective**"
   ]
  },
  {
   "cell_type": "markdown",
   "metadata": {
    "id": "1b4Wmz2fuvSW"
   },
   "source": [
    "We have Collected the latest data of Microsoft Stock price and calculated daily log return which is approximately normally distributed. Let us try to answer some of the question that will help us to decide roughly whether to invest in the Microsoft shares or not?\n",
    "\n",
    "A) What is the probability that the stock price will drop over 5% in a day?\n",
    "\n",
    "B) What is the probability that the stock price will drop over 10% in a day?\n",
    "\n",
    "C) What is the probability that the stock price will drop over 50% in a year?\n",
    "\n",
    "D) What is the probability that the stock price will drop over 25% in a year?\n",
    "\n",
    "E) What is the 50th percentile  of the yearly stock price?"
   ]
  },
  {
   "cell_type": "markdown",
   "metadata": {
    "id": "3SyQiLZK6yk_"
   },
   "source": [
    "### **Data Description**"
   ]
  },
  {
   "cell_type": "markdown",
   "metadata": {
    "id": "qRvk2yIeuzhl"
   },
   "source": [
    "Stock price data of Microsoft  is collected from [Yahoo finance](https://finance.yahoo.com/quote/MSFT/history/?guccounter=1&guce_referrer=aHR0cHM6Ly93d3cuZ29vZ2xlLmNvbS8&guce_referrer_sig=AQAAACSI6SR_7Lby3ssAYvSwbF4Vrasme85BzSE1On02J71Ft-9OAY7hldPaYfYfqY4cCXkAj2PzEpzcLOBo3Usc4RC37eM4jZI5bqXmsXoAdEWXXDKLtJpZI4GK2EAXM8HRWFhkkkUckOoyxvcw66UVWlAnUMRswLPnIPNivRXivisH). It has four main attributes, as follows:\n",
    "\n",
    "1. **Date:** Date of the stock price records.\n",
    "\n",
    "2. **Open:** The average value of opened price on a particular day.\n",
    "\n",
    "3. **Close:**  The average value of closed  price on a particular day.\n",
    "\n",
    "4. **Low:** The lowest price reached on a particular day.\n",
    "\n",
    "5. **High:** The highest price reached on a particular day."
   ]
  },
  {
   "cell_type": "markdown",
   "metadata": {
    "id": "74H1TQUju5Cx"
   },
   "source": [
    "## **Import the necessary libraries**\n"
   ]
  },
  {
   "cell_type": "code",
   "execution_count": 2,
   "metadata": {
    "id": "PZCzw9HGupYm"
   },
   "outputs": [],
   "source": [
    "import pandas as pd\n",
    "import numpy as np\n",
    "import matplotlib.pyplot as plt\n",
    "import seaborn as sns\n",
    "#%matplotlib inline\n",
    "\n",
    "# importing normal distribution functions\n",
    "from scipy.stats import norm"
   ]
  },
  {
   "cell_type": "markdown",
   "metadata": {
    "id": "rx8Lxdtwu_6N"
   },
   "source": [
    "## **Loading the dataset**"
   ]
  },
  {
   "cell_type": "code",
   "execution_count": 3,
   "metadata": {
    "colab": {
     "base_uri": "https://localhost:8080/"
    },
    "id": "3aBe-zZ5mCZc",
    "outputId": "083439ff-d776-45b6-cbb1-abeb280da9a1"
   },
   "outputs": [
    {
     "name": "stdout",
     "output_type": "stream",
     "text": [
      "Mounted at /content/drive\n"
     ]
    }
   ],
   "source": [
    "# uncomment the below code cell to mount your google drive\n",
    "from google.colab import drive\n",
    "drive.mount('/content/drive')"
   ]
  },
  {
   "cell_type": "code",
   "execution_count": 3,
   "metadata": {
    "id": "pOTDmD1d7pn8"
   },
   "outputs": [],
   "source": [
    "\n",
    "ms = pd.read_csv('MSFT.csv')"
   ]
  },
  {
   "cell_type": "markdown",
   "metadata": {
    "id": "x3HyP15z853A"
   },
   "source": [
    "## **Data Overview**"
   ]
  },
  {
   "cell_type": "markdown",
   "metadata": {
    "id": "FsrI9fgl83LM"
   },
   "source": [
    "The initial steps to get an overview of any dataset is to:\n",
    "- Observe the first few rows of the dataset, to check whether the dataset has been loaded properly or not\n",
    "- Get information about the number of rows and columns in the dataset\n",
    "- Find out the data types of the columns to ensure that data is stored in the preferred format and the value of each property is as expected.\n",
    "- Check the statistical summary of the dataset to get an overview of the numerical columns of the data"
   ]
  },
  {
   "cell_type": "markdown",
   "metadata": {
    "id": "8-Z_-gZ87qfy"
   },
   "source": [
    "### **Displaying the first few rows of the dataset**"
   ]
  },
  {
   "cell_type": "code",
   "execution_count": 4,
   "metadata": {
    "colab": {
     "base_uri": "https://localhost:8080/",
     "height": 206
    },
    "id": "o2uGcZEuvIB_",
    "outputId": "c534fda1-9f90-45b3-f145-cbd46fc0b762"
   },
   "outputs": [
    {
     "data": {
      "text/html": [
       "<div>\n",
       "<style scoped>\n",
       "    .dataframe tbody tr th:only-of-type {\n",
       "        vertical-align: middle;\n",
       "    }\n",
       "\n",
       "    .dataframe tbody tr th {\n",
       "        vertical-align: top;\n",
       "    }\n",
       "\n",
       "    .dataframe thead th {\n",
       "        text-align: right;\n",
       "    }\n",
       "</style>\n",
       "<table border=\"1\" class=\"dataframe\">\n",
       "  <thead>\n",
       "    <tr style=\"text-align: right;\">\n",
       "      <th></th>\n",
       "      <th>Date</th>\n",
       "      <th>Open</th>\n",
       "      <th>High</th>\n",
       "      <th>Low</th>\n",
       "      <th>Close</th>\n",
       "      <th>Adj Close</th>\n",
       "      <th>Volume</th>\n",
       "    </tr>\n",
       "  </thead>\n",
       "  <tbody>\n",
       "    <tr>\n",
       "      <th>0</th>\n",
       "      <td>2020-01-10</td>\n",
       "      <td>162.820007</td>\n",
       "      <td>163.220001</td>\n",
       "      <td>161.179993</td>\n",
       "      <td>161.339996</td>\n",
       "      <td>159.648727</td>\n",
       "      <td>20725900</td>\n",
       "    </tr>\n",
       "    <tr>\n",
       "      <th>1</th>\n",
       "      <td>2020-01-13</td>\n",
       "      <td>161.759995</td>\n",
       "      <td>163.309998</td>\n",
       "      <td>161.259995</td>\n",
       "      <td>163.279999</td>\n",
       "      <td>161.568405</td>\n",
       "      <td>21626500</td>\n",
       "    </tr>\n",
       "    <tr>\n",
       "      <th>2</th>\n",
       "      <td>2020-01-14</td>\n",
       "      <td>163.389999</td>\n",
       "      <td>163.600006</td>\n",
       "      <td>161.720001</td>\n",
       "      <td>162.130005</td>\n",
       "      <td>160.430450</td>\n",
       "      <td>23477400</td>\n",
       "    </tr>\n",
       "    <tr>\n",
       "      <th>3</th>\n",
       "      <td>2020-01-15</td>\n",
       "      <td>162.619995</td>\n",
       "      <td>163.940002</td>\n",
       "      <td>162.570007</td>\n",
       "      <td>163.179993</td>\n",
       "      <td>161.469452</td>\n",
       "      <td>21417900</td>\n",
       "    </tr>\n",
       "    <tr>\n",
       "      <th>4</th>\n",
       "      <td>2020-01-16</td>\n",
       "      <td>164.350006</td>\n",
       "      <td>166.240005</td>\n",
       "      <td>164.029999</td>\n",
       "      <td>166.169998</td>\n",
       "      <td>164.428116</td>\n",
       "      <td>23865400</td>\n",
       "    </tr>\n",
       "  </tbody>\n",
       "</table>\n",
       "</div>"
      ],
      "text/plain": [
       "         Date        Open        High         Low       Close   Adj Close  \\\n",
       "0  2020-01-10  162.820007  163.220001  161.179993  161.339996  159.648727   \n",
       "1  2020-01-13  161.759995  163.309998  161.259995  163.279999  161.568405   \n",
       "2  2020-01-14  163.389999  163.600006  161.720001  162.130005  160.430450   \n",
       "3  2020-01-15  162.619995  163.940002  162.570007  163.179993  161.469452   \n",
       "4  2020-01-16  164.350006  166.240005  164.029999  166.169998  164.428116   \n",
       "\n",
       "     Volume  \n",
       "0  20725900  \n",
       "1  21626500  \n",
       "2  23477400  \n",
       "3  21417900  \n",
       "4  23865400  "
      ]
     },
     "execution_count": 4,
     "metadata": {},
     "output_type": "execute_result"
    }
   ],
   "source": [
    "ms.head()"
   ]
  },
  {
   "cell_type": "markdown",
   "metadata": {
    "id": "vbW07QET8BRW"
   },
   "source": [
    "### **Checking the shape of the dataset**"
   ]
  },
  {
   "cell_type": "code",
   "execution_count": 5,
   "metadata": {
    "colab": {
     "base_uri": "https://localhost:8080/"
    },
    "id": "HRjNC29NTlFV",
    "outputId": "76cc1736-6cd0-4c50-c1ea-4a0985874ecb"
   },
   "outputs": [
    {
     "data": {
      "text/plain": [
       "(252, 7)"
      ]
     },
     "execution_count": 5,
     "metadata": {},
     "output_type": "execute_result"
    }
   ],
   "source": [
    "# checking the shape of the data\n",
    "ms.shape"
   ]
  },
  {
   "cell_type": "markdown",
   "metadata": {
    "id": "XzX4wK42TlFW"
   },
   "source": [
    "* There are 252 rows and 7 columns."
   ]
  },
  {
   "cell_type": "markdown",
   "metadata": {
    "id": "oYySRluS8Dk8"
   },
   "source": [
    "### **Checking the data types of the columns for the dataset**"
   ]
  },
  {
   "cell_type": "code",
   "execution_count": 6,
   "metadata": {
    "colab": {
     "base_uri": "https://localhost:8080/"
    },
    "id": "8f6nBzAPTlFX",
    "outputId": "82874cf9-2758-477e-8b46-0c54896d8307"
   },
   "outputs": [
    {
     "name": "stdout",
     "output_type": "stream",
     "text": [
      "<class 'pandas.core.frame.DataFrame'>\n",
      "RangeIndex: 252 entries, 0 to 251\n",
      "Data columns (total 7 columns):\n",
      " #   Column     Non-Null Count  Dtype  \n",
      "---  ------     --------------  -----  \n",
      " 0   Date       252 non-null    object \n",
      " 1   Open       252 non-null    float64\n",
      " 2   High       252 non-null    float64\n",
      " 3   Low        252 non-null    float64\n",
      " 4   Close      252 non-null    float64\n",
      " 5   Adj Close  252 non-null    float64\n",
      " 6   Volume     252 non-null    int64  \n",
      "dtypes: float64(5), int64(1), object(1)\n",
      "memory usage: 13.9+ KB\n"
     ]
    }
   ],
   "source": [
    "# inspecting the dataset\n",
    "ms.info()"
   ]
  },
  {
   "cell_type": "markdown",
   "metadata": {
    "id": "qk3Sd4miTlFX"
   },
   "source": [
    "* There are 6 numeric features about the stock price, and one categorical feature 'Date'."
   ]
  },
  {
   "cell_type": "markdown",
   "metadata": {
    "id": "WVS_kIOu8OMj"
   },
   "source": [
    "### **Statistical summary of the dataset**"
   ]
  },
  {
   "cell_type": "code",
   "execution_count": 7,
   "metadata": {
    "colab": {
     "base_uri": "https://localhost:8080/",
     "height": 300
    },
    "id": "-WguCHkl8PMF",
    "outputId": "b7af8c56-0c62-4a0c-81ae-d0d0cc0b7ebc"
   },
   "outputs": [
    {
     "data": {
      "text/html": [
       "<div>\n",
       "<style scoped>\n",
       "    .dataframe tbody tr th:only-of-type {\n",
       "        vertical-align: middle;\n",
       "    }\n",
       "\n",
       "    .dataframe tbody tr th {\n",
       "        vertical-align: top;\n",
       "    }\n",
       "\n",
       "    .dataframe thead th {\n",
       "        text-align: right;\n",
       "    }\n",
       "</style>\n",
       "<table border=\"1\" class=\"dataframe\">\n",
       "  <thead>\n",
       "    <tr style=\"text-align: right;\">\n",
       "      <th></th>\n",
       "      <th>Open</th>\n",
       "      <th>High</th>\n",
       "      <th>Low</th>\n",
       "      <th>Close</th>\n",
       "      <th>Adj Close</th>\n",
       "      <th>Volume</th>\n",
       "    </tr>\n",
       "  </thead>\n",
       "  <tbody>\n",
       "    <tr>\n",
       "      <th>count</th>\n",
       "      <td>252.000000</td>\n",
       "      <td>252.000000</td>\n",
       "      <td>252.000000</td>\n",
       "      <td>252.000000</td>\n",
       "      <td>252.000000</td>\n",
       "      <td>2.520000e+02</td>\n",
       "    </tr>\n",
       "    <tr>\n",
       "      <th>mean</th>\n",
       "      <td>194.193254</td>\n",
       "      <td>196.778333</td>\n",
       "      <td>191.624921</td>\n",
       "      <td>194.298929</td>\n",
       "      <td>193.390709</td>\n",
       "      <td>3.786005e+07</td>\n",
       "    </tr>\n",
       "    <tr>\n",
       "      <th>std</th>\n",
       "      <td>22.770120</td>\n",
       "      <td>22.246734</td>\n",
       "      <td>23.014902</td>\n",
       "      <td>22.679339</td>\n",
       "      <td>23.053599</td>\n",
       "      <td>1.683367e+07</td>\n",
       "    </tr>\n",
       "    <tr>\n",
       "      <th>min</th>\n",
       "      <td>137.009995</td>\n",
       "      <td>140.570007</td>\n",
       "      <td>132.520004</td>\n",
       "      <td>135.419998</td>\n",
       "      <td>134.366470</td>\n",
       "      <td>1.055060e+07</td>\n",
       "    </tr>\n",
       "    <tr>\n",
       "      <th>25%</th>\n",
       "      <td>176.620003</td>\n",
       "      <td>178.937500</td>\n",
       "      <td>174.745002</td>\n",
       "      <td>178.299995</td>\n",
       "      <td>176.912861</td>\n",
       "      <td>2.642552e+07</td>\n",
       "    </tr>\n",
       "    <tr>\n",
       "      <th>50%</th>\n",
       "      <td>202.650002</td>\n",
       "      <td>204.555001</td>\n",
       "      <td>199.995003</td>\n",
       "      <td>202.599998</td>\n",
       "      <td>201.976220</td>\n",
       "      <td>3.309325e+07</td>\n",
       "    </tr>\n",
       "    <tr>\n",
       "      <th>75%</th>\n",
       "      <td>213.522503</td>\n",
       "      <td>215.312496</td>\n",
       "      <td>210.929993</td>\n",
       "      <td>213.267494</td>\n",
       "      <td>212.621899</td>\n",
       "      <td>4.391550e+07</td>\n",
       "    </tr>\n",
       "    <tr>\n",
       "      <th>max</th>\n",
       "      <td>229.270004</td>\n",
       "      <td>232.860001</td>\n",
       "      <td>227.350006</td>\n",
       "      <td>231.649994</td>\n",
       "      <td>231.045105</td>\n",
       "      <td>9.707360e+07</td>\n",
       "    </tr>\n",
       "  </tbody>\n",
       "</table>\n",
       "</div>"
      ],
      "text/plain": [
       "             Open        High         Low       Close   Adj Close  \\\n",
       "count  252.000000  252.000000  252.000000  252.000000  252.000000   \n",
       "mean   194.193254  196.778333  191.624921  194.298929  193.390709   \n",
       "std     22.770120   22.246734   23.014902   22.679339   23.053599   \n",
       "min    137.009995  140.570007  132.520004  135.419998  134.366470   \n",
       "25%    176.620003  178.937500  174.745002  178.299995  176.912861   \n",
       "50%    202.650002  204.555001  199.995003  202.599998  201.976220   \n",
       "75%    213.522503  215.312496  210.929993  213.267494  212.621899   \n",
       "max    229.270004  232.860001  227.350006  231.649994  231.045105   \n",
       "\n",
       "             Volume  \n",
       "count  2.520000e+02  \n",
       "mean   3.786005e+07  \n",
       "std    1.683367e+07  \n",
       "min    1.055060e+07  \n",
       "25%    2.642552e+07  \n",
       "50%    3.309325e+07  \n",
       "75%    4.391550e+07  \n",
       "max    9.707360e+07  "
      ]
     },
     "execution_count": 7,
     "metadata": {},
     "output_type": "execute_result"
    }
   ],
   "source": [
    "ms.describe()"
   ]
  },
  {
   "cell_type": "markdown",
   "metadata": {
    "id": "yW6HH4NjVKa7"
   },
   "source": [
    "### **Checking for null values**"
   ]
  },
  {
   "cell_type": "code",
   "execution_count": 8,
   "metadata": {
    "colab": {
     "base_uri": "https://localhost:8080/"
    },
    "id": "7Sl1mUmQUwpz",
    "outputId": "a0348044-b3d4-406a-c880-d176cc3668b5"
   },
   "outputs": [
    {
     "data": {
      "text/plain": [
       "Date         0\n",
       "Open         0\n",
       "High         0\n",
       "Low          0\n",
       "Close        0\n",
       "Adj Close    0\n",
       "Volume       0\n",
       "dtype: int64"
      ]
     },
     "execution_count": 8,
     "metadata": {},
     "output_type": "execute_result"
    }
   ],
   "source": [
    "ms.isnull().sum()"
   ]
  },
  {
   "cell_type": "markdown",
   "metadata": {
    "id": "4HUVIvyWTlFY"
   },
   "source": [
    "* There are no missing values in the data."
   ]
  },
  {
   "cell_type": "markdown",
   "metadata": {
    "id": "I3Kffm3s7PNT"
   },
   "source": [
    "## **Log Daily Return**"
   ]
  },
  {
   "cell_type": "markdown",
   "metadata": {
    "id": "biNFxNjCc_Ib"
   },
   "source": [
    "\n",
    "**Log Returns Explanation:**\n",
    "\n",
    "Log returns involve the calculation of return on investment using logarithms, providing a clearer representation of overall returns compared to the traditional arithmetic formula commonly used in everyday financial calculations.\n",
    "\n",
    "**Consider an example to understand this:**\n",
    "\n",
    "Consider the closing prices for three consecutive days:\n",
    "\n",
    "- Day 1: Rs 100\n",
    "- Day 2: Rs 150\n",
    "- Day 3: Rs 75\n",
    "\n",
    "**Arithmetic Return Formula:**\n",
    "\n",
    "**Return = (Final Value - Initial Value) / Initial Value**\n",
    "\n",
    "- Return on Day 2: (150 - 100)(100) = 0.50\n",
    "- Return on Day 3: (75 - 150)(150) = -0.50\n",
    "- Overall return: (75 - 100)(100) = -0.25\n",
    "\n",
    "The arithmetic return calculation suggests a gain of 50% on Day 2 and a loss of 50% on Day 3, seemingly indicating no overall gain or loss. However, there is indeed a loss of 25% on Day 3 compared to Day 1. Arithmetic returns can be misleading in certain scenarios.\n",
    "\n",
    "**Log Returns Formula:**\n",
    "\n",
    "**Log Return = ln(Final Value) - ln(Initial Value)**\n",
    "\n",
    "- Log Return on Day 2: ln(150) - ln(100) = 0.41\n",
    "- Log Return on Day 3: ln(75) - ln(150) = -0.69\n",
    "- Overall log return:  ln(75) - ln(100) = -0.28\n",
    "\n",
    "In log returns, the return for Day 2 is 0.41, and for Day 3 is -0.69. This clearly highlights that the loss on Day 3 is more significant than the gain on Day 2. The overall log return is -0.28 on Day 3, providing a more accurate reflection of the investment's performance compared to arithmetic returns.\n",
    "\n",
    "In the arithmetic return calculation, an overall return of 0 is obtained by adding daily returns, which can be misleading, as demonstrated in the example.\n",
    "Log returns offer a more precise, clear and informative perspective on investment returns."
   ]
  },
  {
   "cell_type": "code",
   "execution_count": 9,
   "metadata": {
    "id": "ZGQ2T0cRvL22"
   },
   "outputs": [],
   "source": [
    "# let's calculate log daily return for Microsoft data\n",
    "ms['LogReturn'] = np.log(ms['Close'])-np.log(ms['Close']).shift(1)"
   ]
  },
  {
   "cell_type": "code",
   "execution_count": 10,
   "metadata": {
    "colab": {
     "base_uri": "https://localhost:8080/"
    },
    "id": "1jhpvYidvOux",
    "outputId": "0dae415f-1df1-40e6-881b-1c4fb55e9f9f"
   },
   "outputs": [
    {
     "data": {
      "text/plain": [
       "0           NaN\n",
       "1      0.011953\n",
       "2     -0.007068\n",
       "3      0.006455\n",
       "4      0.018158\n",
       "         ...   \n",
       "247   -0.021495\n",
       "248    0.000964\n",
       "249   -0.026271\n",
       "250    0.028060\n",
       "251    0.006074\n",
       "Name: LogReturn, Length: 252, dtype: float64"
      ]
     },
     "execution_count": 10,
     "metadata": {},
     "output_type": "execute_result"
    }
   ],
   "source": [
    "ms['LogReturn']"
   ]
  },
  {
   "cell_type": "markdown",
   "metadata": {
    "id": "eLLivqwrvUru"
   },
   "source": [
    "## **Mean and Standard Deviation of LogReturn**"
   ]
  },
  {
   "cell_type": "code",
   "execution_count": 11,
   "metadata": {
    "id": "Fd3fcJ2tvVHf"
   },
   "outputs": [],
   "source": [
    "#mean\n",
    "mu = ms['LogReturn'].mean()\n",
    "#standard deviation\n",
    "sigma = ms['LogReturn'].std(ddof=1)"
   ]
  },
  {
   "cell_type": "markdown",
   "metadata": {
    "id": "JvFccvmivaqD"
   },
   "source": [
    "## **Plotting the Distribution**"
   ]
  },
  {
   "cell_type": "markdown",
   "metadata": {
    "id": "GqI-1eMfjmdp"
   },
   "source": [
    "It  will help us analyse the shape of data distribution and PDF of normal distribution using the calculated statistics ( mu and sigma ) from data."
   ]
  },
  {
   "cell_type": "code",
   "execution_count": 12,
   "metadata": {
    "colab": {
     "base_uri": "https://localhost:8080/",
     "height": 449
    },
    "id": "imDlwanmvX8T",
    "outputId": "6c39793a-e390-4a8e-9293-735c1f509852"
   },
   "outputs": [
    {
     "data": {
      "image/png": "[encoded data removed]",
      "text/plain": [
       "<Figure size 640x480 with 1 Axes>"
      ]
     },
     "metadata": {},
     "output_type": "display_data"
    }
   ],
   "source": [
    "# Plot a histogram to show the distribution of log return of Microsoft's stock.\n",
    "\n",
    "density = pd.DataFrame()\n",
    "density['x'] = np.arange(ms['LogReturn'].min(), ms['LogReturn'].max(), 0.001)\n",
    "density['pdf'] = norm.pdf(density['x'], mu, sigma)\n",
    "\n",
    "sns.histplot(ms['LogReturn'], kde = True, stat = 'density')\n",
    "plt.plot(density['x'], density['pdf'], color='red')\n",
    "plt.show()"
   ]
  },
  {
   "cell_type": "markdown",
   "metadata": {
    "id": "ujriM3cVvf2M"
   },
   "source": [
    "**Insight:**  As can be seen in the above plot, there are two curves red and blue. Blue curve represents the shape of data distribution and red curve represnts the PDF ( Probability density function ). This data is approximately normal. Thus, We can assume this data distribution as normal and apply other calculation of PDF and CDF based on normality assumption"
   ]
  },
  {
   "cell_type": "markdown",
   "metadata": {
    "id": "GP40qyu5vjGk"
   },
   "source": [
    "As we already discussed that stock price represents the growth of the company and increasing or decreasing of stock price will effect the market value of the company. If anyone  would like  to buy the shares of the company then he  will  be interested in knowing the probability of increment or decrement of stock price. This probability can be calculated using CDF. Lets understand CDF.\n",
    "\n",
    "\n",
    "**CDF:** of a Random variable ( X ) is the probability that X  will take the value less than or equal to x. It can be represented mathematically as -\n",
    "\n",
    ">  $F_x (x) = P(X \\leq x) $\n",
    "\n",
    "The library scipy.stats provides a function called cdf() to calculate the CDF of any distribution. Here, we assumed our data to be normal distribution so we can use norm.cdf() to calculate cumulative probability density for a normal distribution"
   ]
  },
  {
   "cell_type": "markdown",
   "metadata": {
    "id": "w8IyvRKMTlFb"
   },
   "source": [
    "## **Calculating Probabilities**"
   ]
  },
  {
   "cell_type": "markdown",
   "metadata": {
    "id": "tRz6vjDrvsGs"
   },
   "source": [
    "### **A) What is the probability that the stock price will drop over 5% in a day?**"
   ]
  },
  {
   "cell_type": "code",
   "execution_count": 16,
   "metadata": {
    "colab": {
     "base_uri": "https://localhost:8080/"
    },
    "id": "6fLGSnLjTlFc",
    "outputId": "1c853852-4441-4cce-aa9e-c3a65ff5d20a"
   },
   "outputs": [
    {
     "name": "stdout",
     "output_type": "stream",
     "text": [
      "The required probability that the stock price will drop over 5% in a day is 0.033181437344865984\n"
     ]
    }
   ],
   "source": [
    "# We are to calculate P(X<=-0.05)\n",
    "prob_drop5_day = norm.cdf(-0.05,loc=mu, scale=sigma)\n",
    "print('The required probability that the stock price will drop over 5% in a day is '+ str(prob_drop5_day))"
   ]
  },
  {
   "cell_type": "markdown",
   "metadata": {
    "id": "9vHXiYsev1hG"
   },
   "source": [
    "### **B) What is the probability that the stock price will drop over 10% in a day?**\n"
   ]
  },
  {
   "cell_type": "code",
   "execution_count": 17,
   "metadata": {
    "colab": {
     "base_uri": "https://localhost:8080/"
    },
    "id": "NAglidNITlFc",
    "outputId": "dccb3b0d-388a-4ace-964c-6d28feacc1b1",
    "scrolled": false
   },
   "outputs": [
    {
     "name": "stdout",
     "output_type": "stream",
     "text": [
      "The probability that the stock price will drop over 10% in a day is 0.0001428695000257634\n"
     ]
    }
   ],
   "source": [
    "# We are to calculate P(X<=-0.10)\n",
    "prob_drop10_day=norm.cdf(-0.10, loc=mu, scale = sigma)\n",
    "print('The probability that the stock price will drop over 10% in a day is '+str(prob_drop10_day))"
   ]
  },
  {
   "cell_type": "markdown",
   "metadata": {
    "id": "qv-FACUTTlFc"
   },
   "source": [
    "### **C) What is the probability that the stock price will drop over 50% in a year?**\n"
   ]
  },
  {
   "cell_type": "markdown",
   "metadata": {
    "id": "XDZgjWQITlFc"
   },
   "source": [
    "While, considering the volatility of stock price for a year, we have to calculate the annual standard deviation.Therefore, we will have to annualize the standard deviation calculated using the periodic data.\n",
    "\n",
    "Here, we shall assume that there are 250 trading days in a year. Depending on weekends and public holidays, this number may vary between 250 and 260.\n",
    "\n",
    "The annualized standard deviation of daily returns is calculated as follows:\n",
    "\n",
    "> Annualized Standard Deviation = Standard Deviation of Daily Returns * Square Root (250)"
   ]
  },
  {
   "cell_type": "markdown",
   "metadata": {
    "id": "P4GDlgpQ4p1Z"
   },
   "source": [
    "**Note: For more details on the above formula for annualized standard deviation, please refer to this [article](https://financetrain.com/calculate-annualized-standard-deviation).**"
   ]
  },
  {
   "cell_type": "markdown",
   "metadata": {
    "id": "dDbM-D9lTlFd"
   },
   "source": [
    "For yearly calculation, mean can be calculated as:\n",
    "> Annual Mean = Mean of Daily Returns * 250"
   ]
  },
  {
   "cell_type": "code",
   "execution_count": 18,
   "metadata": {
    "colab": {
     "base_uri": "https://localhost:8080/"
    },
    "id": "0gqSRlidv19t",
    "outputId": "7d1e2301-dede-40e1-9c52-89a36e48df64"
   },
   "outputs": [
    {
     "name": "stdout",
     "output_type": "stream",
     "text": [
      "The probability that the stock price will drop over 50% in a year is 0.03366022235185039\n"
     ]
    }
   ],
   "source": [
    "# calculating mean and standard deviation for yearly log-return\n",
    "mu_yearly = mu * 250\n",
    "sigma_yearly = sigma * np.sqrt(250)\n",
    "# We are to calculate P(X<=0.5)\n",
    "prob_drop50_year=norm.cdf(-0.5, mu_yearly, sigma_yearly)\n",
    "print('The probability that the stock price will drop over 50% in a year is '+ str(prob_drop50_year) )"
   ]
  },
  {
   "cell_type": "markdown",
   "metadata": {
    "id": "yUdyxWFMTlFd"
   },
   "source": [
    "### **D) What is the probability that the stock price will drop over 25% in a year?**\n"
   ]
  },
  {
   "cell_type": "code",
   "execution_count": 19,
   "metadata": {
    "colab": {
     "base_uri": "https://localhost:8080/"
    },
    "id": "VGhYmioBTlFd",
    "outputId": "d7be4438-cdb9-4dad-d35d-9e6fc62b2f16"
   },
   "outputs": [
    {
     "name": "stdout",
     "output_type": "stream",
     "text": [
      "The probability that the stock price will drop over 25% in a year is 0.10331797034715662\n"
     ]
    }
   ],
   "source": [
    "# We are to calculate P(X<=25)\n",
    "prob_drop25_year=norm.cdf(-0.25, mu_yearly, sigma_yearly)\n",
    "print('The probability that the stock price will drop over 25% in a year is '+ str(prob_drop25_year))"
   ]
  },
  {
   "cell_type": "markdown",
   "metadata": {
    "id": "fvnEkJLbv-Up"
   },
   "source": [
    "### **E) What is the 50th percentile  of the yearly stock price?**"
   ]
  },
  {
   "cell_type": "markdown",
   "metadata": {
    "id": "cMb1QWKJTlFe"
   },
   "source": [
    "The 50th percentile is the value which has a cumulative probability density of 50% or 0.50\n",
    "We can calculate the percentile values using the function norm.ppf()"
   ]
  },
  {
   "cell_type": "code",
   "execution_count": 20,
   "metadata": {
    "colab": {
     "base_uri": "https://localhost:8080/"
    },
    "id": "wKqk2Z58wj2V",
    "outputId": "0a311f46-e18b-4138-ff38-ba62b138a4cb"
   },
   "outputs": [
    {
     "data": {
      "text/plain": [
       "0.30715621781524466"
      ]
     },
     "execution_count": 20,
     "metadata": {},
     "output_type": "execute_result"
    }
   ],
   "source": [
    "# We are to calculate x such that P(X<=x)=0.50\n",
    "norm.ppf(0.50, loc=mu_yearly, scale=sigma_yearly)"
   ]
  },
  {
   "cell_type": "markdown",
   "metadata": {
    "id": "VPhDkvs9kN9x"
   },
   "source": [
    "## **Conclusion**"
   ]
  },
  {
   "cell_type": "markdown",
   "metadata": {
    "id": "VH4FbhyIwogc"
   },
   "source": [
    "From the above calculation, It is clear that the probability of decrement in stock price of Microsoft is very less. Therefore, It is safe to invest in the shares of Microsoft."
   ]
  }
 ],
 "metadata": {
  "colab": {
   "collapsed_sections": [
    "edKPaAbe6VYd",
    "h95vWNpH6egz",
    "Iocb2R1N6htr",
    "3SyQiLZK6yk_",
    "74H1TQUju5Cx",
    "rx8Lxdtwu_6N",
    "x3HyP15z853A",
    "8-Z_-gZ87qfy",
    "vbW07QET8BRW",
    "oYySRluS8Dk8",
    "WVS_kIOu8OMj",
    "I3Kffm3s7PNT",
    "eLLivqwrvUru",
    "JvFccvmivaqD",
    "w8IyvRKMTlFb",
    "tRz6vjDrvsGs",
    "9vHXiYsev1hG",
    "qv-FACUTTlFc",
    "yUdyxWFMTlFd",
    "fvnEkJLbv-Up",
    "VPhDkvs9kN9x"
   ],
   "provenance": []
  },
  "kernelspec": {
   "display_name": "Python 3 (ipykernel)",
   "language": "python",
   "name": "python3"
  },
  "language_info": {
   "codemirror_mode": {
    "name": "ipython",
    "version": 3
   },
   "file_extension": ".py",
   "mimetype": "text/x-python",
   "name": "python",
   "nbconvert_exporter": "python",
   "pygments_lexer": "ipython3",
   "version": "3.11.7"
  }
 },
 "nbformat": 4,
 "nbformat_minor": 1
}
