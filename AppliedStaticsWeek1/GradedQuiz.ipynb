{
 "cells": [
  {
   "cell_type": "code",
   "execution_count": 2,
   "id": "0e429276",
   "metadata": {},
   "outputs": [],
   "source": [
    "# import the important packages\n",
    "import pandas as pd  # library used for data manipulation and analysis\n",
    "\n",
    "import numpy as np  # library used for working with arrays\n",
    "\n",
    "import matplotlib.pyplot as plt  # library for visualization\n",
    "\n",
    "import seaborn as sns  # library for visualization\n",
    "\n",
    "%matplotlib inline\n",
    "\n",
    "import scipy.stats as stats  # this library contains a large number of probability distributions as well as a growing library of statistical functions\n",
    "from scipy.stats import binom\n",
    "from scipy.stats import norm\n"
   ]
  },
  {
   "cell_type": "markdown",
   "id": "11ee2ca4",
   "metadata": {},
   "source": [
    "A college conducts a common test for all the students. For the Mathematics portion of this test, the scores are normally distributed with a mean of 502 and a standard deviation of 115. Based on this information, what percentage of students would be expected to score between 400 and 590?"
   ]
  },
  {
   "cell_type": "code",
   "execution_count": 3,
   "id": "9a1d32b5",
   "metadata": {},
   "outputs": [
    {
     "data": {
      "text/plain": [
       "0.5903777927789047"
      ]
     },
     "execution_count": 3,
     "metadata": {},
     "output_type": "execute_result"
    }
   ],
   "source": [
    "prob=norm.cdf(590,502,115)-norm.cdf(400,502,115)"
   ]
  },
  {
   "cell_type": "markdown",
   "id": "ca15fd73",
   "metadata": {},
   "source": [
    "### A student is taking a multiple-choice exam that has 7 test questions and each has 4 options. Assume that the student has no knowledge of the subject material but guesses the correct answer with a probability of 0.75. What is the probability that she will answer at most 3 questions correctly?"
   ]
  },
  {
   "cell_type": "code",
   "execution_count": 5,
   "id": "da494e55",
   "metadata": {},
   "outputs": [
    {
     "data": {
      "text/plain": [
       "0.070556640625"
      ]
     },
     "execution_count": 5,
     "metadata": {},
     "output_type": "execute_result"
    }
   ],
   "source": [
    "binom.cdf(k=3,n=7,p=0.75)"
   ]
  },
  {
   "cell_type": "code",
   "execution_count": null,
   "id": "78add0d1",
   "metadata": {},
   "outputs": [],
   "source": []
  },
  {
   "cell_type": "code",
   "execution_count": null,
   "id": "de64bb17",
   "metadata": {},
   "outputs": [],
   "source": []
  }
 ],
 "metadata": {
  "kernelspec": {
   "display_name": "Python 3 (ipykernel)",
   "language": "python",
   "name": "python3"
  },
  "language_info": {
   "codemirror_mode": {
    "name": "ipython",
    "version": 3
   },
   "file_extension": ".py",
   "mimetype": "text/x-python",
   "name": "python",
   "nbconvert_exporter": "python",
   "pygments_lexer": "ipython3",
   "version": "3.11.7"
  }
 },
 "nbformat": 4,
 "nbformat_minor": 5
}
