{
 "cells": [
  {
   "cell_type": "code",
   "execution_count": 2,
   "id": "36050f29",
   "metadata": {},
   "outputs": [],
   "source": [
    "import numpy as np \n",
    "import pandas as pd \n",
    "import matplotlib.pyplot as plt \n",
    "import seaborn as sns \n",
    "import scipy.stats as stats\n",
    "%matplotlib inline \n",
    "\n",
    "from scipy.stats import norm\n",
    "from scipy.stats import uniform\n",
    "from scipy.stats import expon\n",
    "from scipy.stats import t\n"
   ]
  },
  {
   "cell_type": "code",
   "execution_count": 3,
   "id": "37bf6cd3",
   "metadata": {},
   "outputs": [
    {
     "data": {
      "text/plain": [
       "(42.285681897456875, 43.714318102543125)"
      ]
     },
     "execution_count": 3,
     "metadata": {},
     "output_type": "execute_result"
    }
   ],
   "source": [
    "stats.t.interval(0.95, df = 100-1, loc =43 , scale = 3.6/np.sqrt(100))"
   ]
  },
  {
   "cell_type": "markdown",
   "id": "bfffb027",
   "metadata": {},
   "source": [
    "At Intel, the thickness of processor chips has a mean of 1 mm with a standard deviation of 0.2 mm. Multiple random samples, each consisting of 35 processor chips, are taken. The sample mean and standard deviation for each sample are recorded to form a sampling distribution. What is the mean and standard deviation of this sampling distribution?"
   ]
  },
  {
   "cell_type": "code",
   "execution_count": 4,
   "id": "8e517837",
   "metadata": {},
   "outputs": [
    {
     "data": {
      "text/plain": [
       "0.033806170189140665"
      ]
     },
     "execution_count": 4,
     "metadata": {},
     "output_type": "execute_result"
    }
   ],
   "source": [
    "mu=1\n",
    "sigma=0.2\n",
    "\n",
    "n=35\n",
    "\n",
    "\n",
    "std=sigma/np.sqrt(n)\n",
    "std"
   ]
  },
  {
   "cell_type": "code",
   "execution_count": null,
   "id": "0e08f907",
   "metadata": {},
   "outputs": [],
   "source": []
  }
 ],
 "metadata": {
  "kernelspec": {
   "display_name": "Python 3 (ipykernel)",
   "language": "python",
   "name": "python3"
  },
  "language_info": {
   "codemirror_mode": {
    "name": "ipython",
    "version": 3
   },
   "file_extension": ".py",
   "mimetype": "text/x-python",
   "name": "python",
   "nbconvert_exporter": "python",
   "pygments_lexer": "ipython3",
   "version": "3.11.7"
  }
 },
 "nbformat": 4,
 "nbformat_minor": 5
}
