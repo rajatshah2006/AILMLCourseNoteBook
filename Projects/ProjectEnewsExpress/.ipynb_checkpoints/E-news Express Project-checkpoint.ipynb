{
 "cells": [
  {
   "cell_type": "markdown",
   "id": "75d9375b",
   "metadata": {},
   "source": [
    "## Business Context\n",
    "\n",
    "The advent of e-news, or electronic news, portals has offered us a great opportunity to quickly get updates on the day-to-day events occurring globally. The information on these portals is retrieved electronically from online databases, processed using a variety of software, and then transmitted to the users. There are multiple advantages of transmitting new electronically, like faster access to the content and the ability to utilize different technologies such as audio, graphics, video, and other interactive elements that are either not being used or aren’t common yet in traditional newspapers.\n",
    "\n",
    "E-news Express, an online news portal, aims to expand its business by acquiring new subscribers. With every visitor to the website taking certain actions based on their interest, the company plans to analyze these actions to understand user interests and determine how to drive better engagement. The executives at E-news Express are of the opinion that there has been a decline in new monthly subscribers compared to the past year because the current webpage is not designed well enough in terms of the outline & recommended content to keep customers engaged long enough to make a decision to subscribe.\n",
    "\n"
   ]
  },
  {
   "cell_type": "markdown",
   "id": "3776b815",
   "metadata": {},
   "source": [
    "## Objective\n",
    "The design team of the company has researched and created a new landing page that has a new outline & more relevant content shown compared to the old page. In order to test the effectiveness of the new landing page in gathering new subscribers, the Data Science team conducted an experiment by randomly selecting 100 users and dividing them equally into two groups. The existing landing page was served to the first group (control group) and the new landing page to the second group (treatment group). Data regarding the interaction of users in both groups with the two versions of the landing page was collected. Being a data scientist in E-news Express, you have been asked to explore the data and perform a statistical analysis (at a significance level of 5%) to determine the effectiveness of the new landing page in gathering new subscribers for the news portal by answering the following questions:\n",
    "\n",
    "    1. Do the users spend more time on the new landing page than on the existing landing page?\n",
    "    2. Is the conversion rate (the proportion of users who visit the landing page and get converted) for the new page greater than the conversion rate for the old page?\n",
    "    3. Does the converted status depend on the preferred language?\n",
    "    4. Is the time spent on the new page the same for the different language users?\n"
   ]
  },
  {
   "cell_type": "markdown",
   "id": "7229168d",
   "metadata": {},
   "source": [
    "## Data Dictionary\n",
    "The data contains information regarding the interaction of users in both groups with the two versions of the landing page.\n",
    "\n",
    "    1. user_id - Unique user ID of the person visiting the website\n",
    "    2. group - Whether the user belongs to the first group (control) or the second group (treatment)\n",
    "    3. landing_page - Whether the landing page is new or old\n",
    "    4. time_spent_on_the_page - Time (in minutes) spent by the user on the landing page\n",
    "    5. converted - Whether the user gets converted to a subscriber of the news portal or not\n",
    "    6. language_preferred - Language chosen by the user to view the landing page\n"
   ]
  },
  {
   "cell_type": "markdown",
   "id": "b5135a39",
   "metadata": {},
   "source": [
    "### Import the required packages"
   ]
  },
  {
   "cell_type": "code",
   "execution_count": 109,
   "id": "78d0b955",
   "metadata": {},
   "outputs": [],
   "source": [
    "import numpy as np #library used for working with arrays\n",
    "import pandas as pd  #library used for data manipulation and analysis \n",
    "import matplotlib.pyplot as plt #library for plots and visualisations\n",
    "import seaborn as sns #library for visualisations\n",
    "%matplotlib inline  \n",
    "import scipy.stats as stats  #this library contains a large number of probability distributions and statistical functions"
   ]
  },
  {
   "cell_type": "markdown",
   "id": "e03dc5ec",
   "metadata": {},
   "source": [
    "### Understanding the Data"
   ]
  },
  {
   "cell_type": "code",
   "execution_count": 110,
   "id": "b7f4b741",
   "metadata": {},
   "outputs": [
    {
     "data": {
      "text/html": [
       "<div>\n",
       "<style scoped>\n",
       "    .dataframe tbody tr th:only-of-type {\n",
       "        vertical-align: middle;\n",
       "    }\n",
       "\n",
       "    .dataframe tbody tr th {\n",
       "        vertical-align: top;\n",
       "    }\n",
       "\n",
       "    .dataframe thead th {\n",
       "        text-align: right;\n",
       "    }\n",
       "</style>\n",
       "<table border=\"1\" class=\"dataframe\">\n",
       "  <thead>\n",
       "    <tr style=\"text-align: right;\">\n",
       "      <th></th>\n",
       "      <th>user_id</th>\n",
       "      <th>group</th>\n",
       "      <th>landing_page</th>\n",
       "      <th>time_spent_on_the_page</th>\n",
       "      <th>converted</th>\n",
       "      <th>language_preferred</th>\n",
       "    </tr>\n",
       "  </thead>\n",
       "  <tbody>\n",
       "    <tr>\n",
       "      <th>0</th>\n",
       "      <td>546592</td>\n",
       "      <td>control</td>\n",
       "      <td>old</td>\n",
       "      <td>3.48</td>\n",
       "      <td>no</td>\n",
       "      <td>Spanish</td>\n",
       "    </tr>\n",
       "    <tr>\n",
       "      <th>1</th>\n",
       "      <td>546468</td>\n",
       "      <td>treatment</td>\n",
       "      <td>new</td>\n",
       "      <td>7.13</td>\n",
       "      <td>yes</td>\n",
       "      <td>English</td>\n",
       "    </tr>\n",
       "    <tr>\n",
       "      <th>2</th>\n",
       "      <td>546462</td>\n",
       "      <td>treatment</td>\n",
       "      <td>new</td>\n",
       "      <td>4.40</td>\n",
       "      <td>no</td>\n",
       "      <td>Spanish</td>\n",
       "    </tr>\n",
       "    <tr>\n",
       "      <th>3</th>\n",
       "      <td>546567</td>\n",
       "      <td>control</td>\n",
       "      <td>old</td>\n",
       "      <td>3.02</td>\n",
       "      <td>no</td>\n",
       "      <td>French</td>\n",
       "    </tr>\n",
       "    <tr>\n",
       "      <th>4</th>\n",
       "      <td>546459</td>\n",
       "      <td>treatment</td>\n",
       "      <td>new</td>\n",
       "      <td>4.75</td>\n",
       "      <td>yes</td>\n",
       "      <td>Spanish</td>\n",
       "    </tr>\n",
       "  </tbody>\n",
       "</table>\n",
       "</div>"
      ],
      "text/plain": [
       "   user_id      group landing_page  time_spent_on_the_page converted  \\\n",
       "0   546592    control          old                    3.48        no   \n",
       "1   546468  treatment          new                    7.13       yes   \n",
       "2   546462  treatment          new                    4.40        no   \n",
       "3   546567    control          old                    3.02        no   \n",
       "4   546459  treatment          new                    4.75       yes   \n",
       "\n",
       "  language_preferred  \n",
       "0            Spanish  \n",
       "1            English  \n",
       "2            Spanish  \n",
       "3             French  \n",
       "4            Spanish  "
      ]
     },
     "execution_count": 110,
     "metadata": {},
     "output_type": "execute_result"
    }
   ],
   "source": [
    "df=pd.read_csv('abtest.csv') # read the dataset\n",
    "#Print first 5 lines\n",
    "df.head()"
   ]
  },
  {
   "cell_type": "code",
   "execution_count": 111,
   "id": "25b55804",
   "metadata": {},
   "outputs": [
    {
     "data": {
      "text/plain": [
       "(100, 6)"
      ]
     },
     "execution_count": 111,
     "metadata": {},
     "output_type": "execute_result"
    }
   ],
   "source": [
    "df.shape #Outputs the dimemsion of data set"
   ]
  },
  {
   "cell_type": "markdown",
   "id": "87bce4f5",
   "metadata": {},
   "source": [
    "### Observation\n",
    "The DataFrame has a total of 100 observations composed of 6 features describing each observation. "
   ]
  },
  {
   "cell_type": "code",
   "execution_count": 112,
   "id": "affb1339",
   "metadata": {},
   "outputs": [
    {
     "data": {
      "text/plain": [
       "user_id                   0\n",
       "group                     0\n",
       "landing_page              0\n",
       "time_spent_on_the_page    0\n",
       "converted                 0\n",
       "language_preferred        0\n",
       "dtype: int64"
      ]
     },
     "execution_count": 112,
     "metadata": {},
     "output_type": "execute_result"
    }
   ],
   "source": [
    "df.isnull().sum() #Check if the there are some missing values in DataFrame"
   ]
  },
  {
   "cell_type": "markdown",
   "id": "0b6e53d2",
   "metadata": {},
   "source": [
    "#### Observations: \n",
    "There are no missing values for any of the 100 observations and their related features."
   ]
  },
  {
   "cell_type": "code",
   "execution_count": 113,
   "id": "2be3fb94",
   "metadata": {},
   "outputs": [
    {
     "name": "stdout",
     "output_type": "stream",
     "text": [
      "<class 'pandas.core.frame.DataFrame'>\n",
      "RangeIndex: 100 entries, 0 to 99\n",
      "Data columns (total 6 columns):\n",
      " #   Column                  Non-Null Count  Dtype  \n",
      "---  ------                  --------------  -----  \n",
      " 0   user_id                 100 non-null    int64  \n",
      " 1   group                   100 non-null    object \n",
      " 2   landing_page            100 non-null    object \n",
      " 3   time_spent_on_the_page  100 non-null    float64\n",
      " 4   converted               100 non-null    object \n",
      " 5   language_preferred      100 non-null    object \n",
      "dtypes: float64(1), int64(1), object(4)\n",
      "memory usage: 4.8+ KB\n"
     ]
    }
   ],
   "source": [
    "df.info() #use info() to print a concise summary of the DataFrame"
   ]
  },
  {
   "cell_type": "markdown",
   "id": "dbf9fcb7",
   "metadata": {},
   "source": [
    "#### Observations: \n",
    "There are a total of 100 entries/observations and 6 columns/features in the dataset. \n",
    "\n",
    "There is 3 different data types: \n",
    "1. int64(1)\n",
    "    * user_id\n",
    "2. float64(1)\n",
    "    * time_spent_on_the_page\n",
    "3. object(4)\n",
    "    * group, landing_page, converted, language_preferred\n",
    "    \n",
    "    There are 4 categorical columns and two numeric columns in the dataset."
   ]
  },
  {
   "cell_type": "code",
   "execution_count": 114,
   "id": "557e7219",
   "metadata": {},
   "outputs": [
    {
     "data": {
      "text/html": [
       "<div>\n",
       "<style scoped>\n",
       "    .dataframe tbody tr th:only-of-type {\n",
       "        vertical-align: middle;\n",
       "    }\n",
       "\n",
       "    .dataframe tbody tr th {\n",
       "        vertical-align: top;\n",
       "    }\n",
       "\n",
       "    .dataframe thead th {\n",
       "        text-align: right;\n",
       "    }\n",
       "</style>\n",
       "<table border=\"1\" class=\"dataframe\">\n",
       "  <thead>\n",
       "    <tr style=\"text-align: right;\">\n",
       "      <th></th>\n",
       "      <th>count</th>\n",
       "      <th>unique</th>\n",
       "      <th>top</th>\n",
       "      <th>freq</th>\n",
       "      <th>mean</th>\n",
       "      <th>std</th>\n",
       "      <th>min</th>\n",
       "      <th>25%</th>\n",
       "      <th>50%</th>\n",
       "      <th>75%</th>\n",
       "      <th>max</th>\n",
       "    </tr>\n",
       "  </thead>\n",
       "  <tbody>\n",
       "    <tr>\n",
       "      <th>user_id</th>\n",
       "      <td>100.0</td>\n",
       "      <td>NaN</td>\n",
       "      <td>NaN</td>\n",
       "      <td>NaN</td>\n",
       "      <td>546517.0</td>\n",
       "      <td>52.295779</td>\n",
       "      <td>546443.0</td>\n",
       "      <td>546467.75</td>\n",
       "      <td>546492.5</td>\n",
       "      <td>546567.25</td>\n",
       "      <td>546592.0</td>\n",
       "    </tr>\n",
       "    <tr>\n",
       "      <th>group</th>\n",
       "      <td>100</td>\n",
       "      <td>2</td>\n",
       "      <td>control</td>\n",
       "      <td>50</td>\n",
       "      <td>NaN</td>\n",
       "      <td>NaN</td>\n",
       "      <td>NaN</td>\n",
       "      <td>NaN</td>\n",
       "      <td>NaN</td>\n",
       "      <td>NaN</td>\n",
       "      <td>NaN</td>\n",
       "    </tr>\n",
       "    <tr>\n",
       "      <th>landing_page</th>\n",
       "      <td>100</td>\n",
       "      <td>2</td>\n",
       "      <td>old</td>\n",
       "      <td>50</td>\n",
       "      <td>NaN</td>\n",
       "      <td>NaN</td>\n",
       "      <td>NaN</td>\n",
       "      <td>NaN</td>\n",
       "      <td>NaN</td>\n",
       "      <td>NaN</td>\n",
       "      <td>NaN</td>\n",
       "    </tr>\n",
       "    <tr>\n",
       "      <th>time_spent_on_the_page</th>\n",
       "      <td>100.0</td>\n",
       "      <td>NaN</td>\n",
       "      <td>NaN</td>\n",
       "      <td>NaN</td>\n",
       "      <td>5.3778</td>\n",
       "      <td>2.378166</td>\n",
       "      <td>0.19</td>\n",
       "      <td>3.88</td>\n",
       "      <td>5.415</td>\n",
       "      <td>7.0225</td>\n",
       "      <td>10.71</td>\n",
       "    </tr>\n",
       "    <tr>\n",
       "      <th>converted</th>\n",
       "      <td>100</td>\n",
       "      <td>2</td>\n",
       "      <td>yes</td>\n",
       "      <td>54</td>\n",
       "      <td>NaN</td>\n",
       "      <td>NaN</td>\n",
       "      <td>NaN</td>\n",
       "      <td>NaN</td>\n",
       "      <td>NaN</td>\n",
       "      <td>NaN</td>\n",
       "      <td>NaN</td>\n",
       "    </tr>\n",
       "    <tr>\n",
       "      <th>language_preferred</th>\n",
       "      <td>100</td>\n",
       "      <td>3</td>\n",
       "      <td>Spanish</td>\n",
       "      <td>34</td>\n",
       "      <td>NaN</td>\n",
       "      <td>NaN</td>\n",
       "      <td>NaN</td>\n",
       "      <td>NaN</td>\n",
       "      <td>NaN</td>\n",
       "      <td>NaN</td>\n",
       "      <td>NaN</td>\n",
       "    </tr>\n",
       "  </tbody>\n",
       "</table>\n",
       "</div>"
      ],
      "text/plain": [
       "                        count unique      top freq      mean        std  \\\n",
       "user_id                 100.0    NaN      NaN  NaN  546517.0  52.295779   \n",
       "group                     100      2  control   50       NaN        NaN   \n",
       "landing_page              100      2      old   50       NaN        NaN   \n",
       "time_spent_on_the_page  100.0    NaN      NaN  NaN    5.3778   2.378166   \n",
       "converted                 100      2      yes   54       NaN        NaN   \n",
       "language_preferred        100      3  Spanish   34       NaN        NaN   \n",
       "\n",
       "                             min        25%       50%        75%       max  \n",
       "user_id                 546443.0  546467.75  546492.5  546567.25  546592.0  \n",
       "group                        NaN        NaN       NaN        NaN       NaN  \n",
       "landing_page                 NaN        NaN       NaN        NaN       NaN  \n",
       "time_spent_on_the_page      0.19       3.88     5.415     7.0225     10.71  \n",
       "converted                    NaN        NaN       NaN        NaN       NaN  \n",
       "language_preferred           NaN        NaN       NaN        NaN       NaN  "
      ]
     },
     "execution_count": 114,
     "metadata": {},
     "output_type": "execute_result"
    }
   ],
   "source": [
    "df.describe(include=\"all\").T #outputs the summary statistics of the dataset \n",
    "## Include all helps to get some insight of categorial variable as well"
   ]
  },
  {
   "cell_type": "markdown",
   "id": "b2039487",
   "metadata": {},
   "source": [
    "### Observation\n",
    "1. The average \"time spent on the page\" is about 5.38 minutes\n",
    "2. The standard deviation is about 2.38 minutes\n",
    "3 Inter-quartile range includes:\n",
    "    * Min = 0.19\n",
    "    * 25% quartile = 3.88\n",
    "    * 50% quartile = 5.42\n",
    "    * 75% quartile = 7.02\n",
    "    * Max = 10.71\n",
    "    \n",
    "4. The feature \"group\" has 2 unique values and top value is \"control\"\n",
    "5. The feature \"landing page\" also has 2 unique values and top value if \"old\"\n",
    "6. The feature \"converted\" has 2 unique values no and yes, with yes(coverted) having the highest frequency of 54.\n",
    "7. he feature \"language preferred\" has 3 unique values with spanish being top ."
   ]
  },
  {
   "cell_type": "code",
   "execution_count": 115,
   "id": "1095c5bd",
   "metadata": {},
   "outputs": [
    {
     "data": {
      "text/plain": [
       "array(['Spanish', 'English', 'French'], dtype=object)"
      ]
     },
     "execution_count": 115,
     "metadata": {},
     "output_type": "execute_result"
    }
   ],
   "source": [
    "df['language_preferred'].unique() #Output unique language\n"
   ]
  },
  {
   "cell_type": "code",
   "execution_count": 116,
   "id": "285c41ab",
   "metadata": {},
   "outputs": [
    {
     "data": {
      "text/plain": [
       "language_preferred\n",
       "Spanish    34\n",
       "French     34\n",
       "English    32\n",
       "Name: count, dtype: int64"
      ]
     },
     "execution_count": 116,
     "metadata": {},
     "output_type": "execute_result"
    }
   ],
   "source": [
    "df['language_preferred'].value_counts() #get the count of each unique value"
   ]
  },
  {
   "cell_type": "markdown",
   "id": "bc3f0776",
   "metadata": {},
   "source": [
    "#### Observations: \n",
    "The feature \"language preferred\" has 3 unique values spanish, english, and french, with both french and spanish having the highest frequencies of 34. "
   ]
  },
  {
   "cell_type": "markdown",
   "id": "5df7f239",
   "metadata": {},
   "source": [
    "### Exploratory Data Analysis (EDA)\n",
    "### Univariate Analysis "
   ]
  },
  {
   "cell_type": "markdown",
   "id": "d400f631",
   "metadata": {},
   "source": [
    "### Obervation on landing_page"
   ]
  },
  {
   "cell_type": "code",
   "execution_count": 117,
   "id": "fc2067cb",
   "metadata": {},
   "outputs": [
    {
     "data": {
      "text/plain": [
       "<Axes: xlabel='landing_page', ylabel='count'>"
      ]
     },
     "execution_count": 117,
     "metadata": {},
     "output_type": "execute_result"
    },
    {
     "data": {
      "image/png": "[encoded data removed]",
      "text/plain": [
       "<Figure size 640x480 with 1 Axes>"
      ]
     },
     "metadata": {},
     "output_type": "display_data"
    }
   ],
   "source": [
    "sns.countplot(data=df,x=df['landing_page'],hue=df['landing_page'])"
   ]
  },
  {
   "cell_type": "markdown",
   "id": "b8b44923",
   "metadata": {},
   "source": [
    "### Observatiion\n",
    "The data shows 50 observations for the old landing page and 50 observation for the new landing page."
   ]
  },
  {
   "cell_type": "markdown",
   "id": "e9036ca2",
   "metadata": {},
   "source": [
    "### Observations on \"time spent on the landing page\""
   ]
  },
  {
   "cell_type": "code",
   "execution_count": 118,
   "id": "7441119d",
   "metadata": {},
   "outputs": [
    {
     "data": {
      "text/plain": [
       "<Axes: xlabel='time_spent_on_the_page', ylabel='Count'>"
      ]
     },
     "execution_count": 118,
     "metadata": {},
     "output_type": "execute_result"
    },
    {
     "data": {
      "image/png": "[encoded data removed]",
      "text/plain": [
       "<Figure size 640x480 with 1 Axes>"
      ]
     },
     "metadata": {},
     "output_type": "display_data"
    }
   ],
   "source": [
    "sns.histplot(data=df,x=df['time_spent_on_the_page'],kde=True)"
   ]
  },
  {
   "cell_type": "code",
   "execution_count": 119,
   "id": "d74dc08c",
   "metadata": {},
   "outputs": [
    {
     "data": {
      "text/plain": [
       "<Axes: xlabel='time_spent_on_the_page'>"
      ]
     },
     "execution_count": 119,
     "metadata": {},
     "output_type": "execute_result"
    },
    {
     "data": {
      "image/png": "[encoded data removed]",
      "text/plain": [
       "<Figure size 640x480 with 1 Axes>"
      ]
     },
     "metadata": {},
     "output_type": "display_data"
    }
   ],
   "source": [
    "sns.boxplot(data=df,x=df['time_spent_on_the_page'])"
   ]
  },
  {
   "cell_type": "markdown",
   "id": "b31a2e42",
   "metadata": {},
   "source": [
    "#### Observations:\n",
    "1. The average \"time spent on the page\" is about 5.38 minutes\n",
    "2. The standard deviation is about 2.38 minutes\n",
    "3. Inter-quartile range includes:\n",
    "    * Min = 0.19\n",
    "    * 25% quartile = 3.88\n",
    "    * 50% quartile = 5.42\n",
    "    * 75% quartile = 7.02\n",
    "    * Max = 10.71\n",
    "4. The data seems to follow a normal distribution as seen on the barplot/histogram"
   ]
  },
  {
   "cell_type": "markdown",
   "id": "45e3183b",
   "metadata": {},
   "source": [
    "### Observations on \"converted\""
   ]
  },
  {
   "cell_type": "code",
   "execution_count": 120,
   "id": "4a228074",
   "metadata": {},
   "outputs": [
    {
     "data": {
      "text/plain": [
       "count     100\n",
       "unique      2\n",
       "top       yes\n",
       "freq       54\n",
       "Name: converted, dtype: object"
      ]
     },
     "execution_count": 120,
     "metadata": {},
     "output_type": "execute_result"
    }
   ],
   "source": [
    "df['converted'].describe()  #outputs the count, unique values, top value, frequency, and data type"
   ]
  },
  {
   "cell_type": "code",
   "execution_count": 121,
   "id": "58497683",
   "metadata": {},
   "outputs": [
    {
     "data": {
      "text/plain": [
       "array(['no', 'yes'], dtype=object)"
      ]
     },
     "execution_count": 121,
     "metadata": {},
     "output_type": "execute_result"
    }
   ],
   "source": [
    "df['converted'].unique()"
   ]
  },
  {
   "cell_type": "markdown",
   "id": "076c5264",
   "metadata": {},
   "source": [
    "#### Observations: \n",
    "The feature \"converted\" has 2 unique values no and yes, with yes(coverted) having the highest frequency of 54 and no(converted) with 46."
   ]
  },
  {
   "cell_type": "code",
   "execution_count": 122,
   "id": "dca6f01e",
   "metadata": {},
   "outputs": [
    {
     "data": {
      "text/plain": [
       "<Axes: xlabel='converted', ylabel='count'>"
      ]
     },
     "execution_count": 122,
     "metadata": {},
     "output_type": "execute_result"
    },
    {
     "data": {
      "image/png": "[encoded data removed]",
      "text/plain": [
       "<Figure size 640x480 with 1 Axes>"
      ]
     },
     "metadata": {},
     "output_type": "display_data"
    }
   ],
   "source": [
    "plt.xticks(rotation=90, fontsize=15)\n",
    "sns.countplot(data=df,x=df['converted'],hue=df['converted'])"
   ]
  },
  {
   "cell_type": "markdown",
   "id": "a9e10764",
   "metadata": {},
   "source": [
    "#### Observations: \n",
    "The feature \"converted\" has 2 unique values no and yes, with yes(coverted) having the highest frequency of 54 and no(converted) with 46."
   ]
  },
  {
   "cell_type": "markdown",
   "id": "594fcc6b",
   "metadata": {},
   "source": [
    "### Observations on \"language_preferred\""
   ]
  },
  {
   "cell_type": "code",
   "execution_count": 123,
   "id": "c16afc8d",
   "metadata": {},
   "outputs": [
    {
     "data": {
      "text/plain": [
       "<Axes: xlabel='language_preferred', ylabel='count'>"
      ]
     },
     "execution_count": 123,
     "metadata": {},
     "output_type": "execute_result"
    },
    {
     "data": {
      "image/png": "[encoded data removed]",
      "text/plain": [
       "<Figure size 640x480 with 1 Axes>"
      ]
     },
     "metadata": {},
     "output_type": "display_data"
    }
   ],
   "source": [
    "plt.xticks(rotation=90, fontsize=15)\n",
    "sns.countplot(data=df,x=df['language_preferred'],hue=df['language_preferred'])"
   ]
  },
  {
   "cell_type": "code",
   "execution_count": 124,
   "id": "5fbe2bce",
   "metadata": {},
   "outputs": [
    {
     "data": {
      "text/plain": [
       "language_preferred\n",
       "Spanish    34\n",
       "French     34\n",
       "English    32\n",
       "Name: count, dtype: int64"
      ]
     },
     "execution_count": 124,
     "metadata": {},
     "output_type": "execute_result"
    }
   ],
   "source": [
    "df['language_preferred'].value_counts()"
   ]
  },
  {
   "cell_type": "markdown",
   "id": "f60e66f6",
   "metadata": {},
   "source": [
    "#### Observations: \n",
    "The feature \"language preferred\" has 3 unique values spanish, english, and french, with both french and spanish having the highest frequencies of 34. "
   ]
  },
  {
   "cell_type": "markdown",
   "id": "69ebc95e",
   "metadata": {},
   "source": [
    "### Observations on \"group\""
   ]
  },
  {
   "cell_type": "code",
   "execution_count": 125,
   "id": "0eb1b52a",
   "metadata": {},
   "outputs": [
    {
     "data": {
      "text/plain": [
       "group\n",
       "control      50\n",
       "treatment    50\n",
       "Name: count, dtype: int64"
      ]
     },
     "execution_count": 125,
     "metadata": {},
     "output_type": "execute_result"
    }
   ],
   "source": [
    "df['group'].value_counts()"
   ]
  },
  {
   "cell_type": "code",
   "execution_count": 126,
   "id": "67ba20c9",
   "metadata": {},
   "outputs": [
    {
     "data": {
      "text/plain": [
       "<Axes: xlabel='group', ylabel='count'>"
      ]
     },
     "execution_count": 126,
     "metadata": {},
     "output_type": "execute_result"
    },
    {
     "data": {
      "image/png": "[encoded data removed]",
      "text/plain": [
       "<Figure size 640x480 with 1 Axes>"
      ]
     },
     "metadata": {},
     "output_type": "display_data"
    }
   ],
   "source": [
    "sns.countplot(data=df,x=df['group'],hue=df['group'])"
   ]
  },
  {
   "cell_type": "markdown",
   "id": "91479b06",
   "metadata": {},
   "source": [
    "### Observation \n",
    "There are two group control and treatment and both are having 50,50 observation"
   ]
  },
  {
   "cell_type": "markdown",
   "id": "e130a4a1",
   "metadata": {},
   "source": [
    "### Bivariate Analysis"
   ]
  },
  {
   "cell_type": "code",
   "execution_count": 127,
   "id": "a2db0151",
   "metadata": {},
   "outputs": [
    {
     "data": {
      "text/html": [
       "<div>\n",
       "<style scoped>\n",
       "    .dataframe tbody tr th:only-of-type {\n",
       "        vertical-align: middle;\n",
       "    }\n",
       "\n",
       "    .dataframe tbody tr th {\n",
       "        vertical-align: top;\n",
       "    }\n",
       "\n",
       "    .dataframe thead th {\n",
       "        text-align: right;\n",
       "    }\n",
       "</style>\n",
       "<table border=\"1\" class=\"dataframe\">\n",
       "  <thead>\n",
       "    <tr style=\"text-align: right;\">\n",
       "      <th></th>\n",
       "      <th>user_id</th>\n",
       "      <th>time_spent_on_the_page</th>\n",
       "    </tr>\n",
       "  </thead>\n",
       "  <tbody>\n",
       "    <tr>\n",
       "      <th>user_id</th>\n",
       "      <td>1.000000</td>\n",
       "      <td>-0.372868</td>\n",
       "    </tr>\n",
       "    <tr>\n",
       "      <th>time_spent_on_the_page</th>\n",
       "      <td>-0.372868</td>\n",
       "      <td>1.000000</td>\n",
       "    </tr>\n",
       "  </tbody>\n",
       "</table>\n",
       "</div>"
      ],
      "text/plain": [
       "                         user_id  time_spent_on_the_page\n",
       "user_id                 1.000000               -0.372868\n",
       "time_spent_on_the_page -0.372868                1.000000"
      ]
     },
     "execution_count": 127,
     "metadata": {},
     "output_type": "execute_result"
    }
   ],
   "source": [
    "df.corr(numeric_only=True)"
   ]
  },
  {
   "cell_type": "code",
   "execution_count": 128,
   "id": "b267e246",
   "metadata": {},
   "outputs": [
    {
     "data": {
      "text/plain": [
       "<Axes: xlabel='group', ylabel='time_spent_on_the_page'>"
      ]
     },
     "execution_count": 128,
     "metadata": {},
     "output_type": "execute_result"
    },
    {
     "data": {
      "image/png": "[encoded data removed]",
      "text/plain": [
       "<Figure size 640x480 with 1 Axes>"
      ]
     },
     "metadata": {},
     "output_type": "display_data"
    }
   ],
   "source": [
    "sns.barplot(data=df,x=df['group'],y=df['time_spent_on_the_page'],hue=df['group'])"
   ]
  },
  {
   "cell_type": "code",
   "execution_count": 129,
   "id": "d824dc38",
   "metadata": {},
   "outputs": [
    {
     "data": {
      "text/plain": [
       "group\n",
       "control      4.5324\n",
       "treatment    6.2232\n",
       "Name: time_spent_on_the_page, dtype: float64"
      ]
     },
     "execution_count": 129,
     "metadata": {},
     "output_type": "execute_result"
    }
   ],
   "source": [
    "df.groupby(df['group'])['time_spent_on_the_page'].mean()"
   ]
  },
  {
   "cell_type": "markdown",
   "id": "4b142cf0",
   "metadata": {},
   "source": [
    "#### Observations:\n",
    "The treatment group(those exposed to the new landing page) are more likely to spend more time on the page."
   ]
  },
  {
   "cell_type": "code",
   "execution_count": 130,
   "id": "aa8097a3",
   "metadata": {},
   "outputs": [
    {
     "data": {
      "text/plain": [
       "<Axes: xlabel='landing_page', ylabel='time_spent_on_the_page'>"
      ]
     },
     "execution_count": 130,
     "metadata": {},
     "output_type": "execute_result"
    },
    {
     "data": {
      "image/png": "[encoded data removed]",
      "text/plain": [
       "<Figure size 640x480 with 1 Axes>"
      ]
     },
     "metadata": {},
     "output_type": "display_data"
    }
   ],
   "source": [
    "sns.barplot(data=df,x=df['landing_page'],y=df['time_spent_on_the_page'],hue=df['landing_page'])"
   ]
  },
  {
   "cell_type": "code",
   "execution_count": 131,
   "id": "e389ac80",
   "metadata": {},
   "outputs": [
    {
     "data": {
      "text/plain": [
       "landing_page\n",
       "new    6.2232\n",
       "old    4.5324\n",
       "Name: time_spent_on_the_page, dtype: float64"
      ]
     },
     "execution_count": 131,
     "metadata": {},
     "output_type": "execute_result"
    }
   ],
   "source": [
    "df.groupby(df['landing_page'])['time_spent_on_the_page'].mean()"
   ]
  },
  {
   "cell_type": "markdown",
   "id": "24f7188a",
   "metadata": {},
   "source": [
    "#### Observations:\n",
    "The same observation from above applies to this one too. Users exposed to the new landing page spend more time on average than those on the old landing page."
   ]
  },
  {
   "cell_type": "code",
   "execution_count": 132,
   "id": "fd557849",
   "metadata": {},
   "outputs": [
    {
     "data": {
      "text/plain": [
       "<Axes: xlabel='converted', ylabel='time_spent_on_the_page'>"
      ]
     },
     "execution_count": 132,
     "metadata": {},
     "output_type": "execute_result"
    },
    {
     "data": {
      "image/png": "[encoded data removed]",
      "text/plain": [
       "<Figure size 640x480 with 1 Axes>"
      ]
     },
     "metadata": {},
     "output_type": "display_data"
    }
   ],
   "source": [
    "sns.barplot(data=df,x=df['converted'],y=df['time_spent_on_the_page'],hue=df['converted'])"
   ]
  },
  {
   "cell_type": "code",
   "execution_count": 133,
   "id": "dd30f0c1",
   "metadata": {},
   "outputs": [
    {
     "data": {
      "text/plain": [
       "converted\n",
       "no     3.915870\n",
       "yes    6.623148\n",
       "Name: time_spent_on_the_page, dtype: float64"
      ]
     },
     "execution_count": 133,
     "metadata": {},
     "output_type": "execute_result"
    }
   ],
   "source": [
    "df.groupby(df['converted'])['time_spent_on_the_page'].mean()"
   ]
  },
  {
   "cell_type": "markdown",
   "id": "2ef91ec4",
   "metadata": {},
   "source": [
    "#### Observations:\n",
    "Users who converted demonstrate on average a higher time spent on the page."
   ]
  },
  {
   "cell_type": "code",
   "execution_count": 134,
   "id": "6f6a8630",
   "metadata": {},
   "outputs": [
    {
     "data": {
      "text/plain": [
       "<Axes: xlabel='language_preferred', ylabel='time_spent_on_the_page'>"
      ]
     },
     "execution_count": 134,
     "metadata": {},
     "output_type": "execute_result"
    },
    {
     "data": {
      "image/png": "[encoded data removed]",
      "text/plain": [
       "<Figure size 640x480 with 1 Axes>"
      ]
     },
     "metadata": {},
     "output_type": "display_data"
    }
   ],
   "source": [
    "sns.barplot(data=df,x=df['language_preferred'],y=df['time_spent_on_the_page'],hue=df['language_preferred'])"
   ]
  },
  {
   "cell_type": "code",
   "execution_count": 135,
   "id": "0e46f45c",
   "metadata": {},
   "outputs": [
    {
     "data": {
      "text/plain": [
       "language_preferred\n",
       "English    5.559062\n",
       "French     5.253235\n",
       "Spanish    5.331765\n",
       "Name: time_spent_on_the_page, dtype: float64"
      ]
     },
     "execution_count": 135,
     "metadata": {},
     "output_type": "execute_result"
    }
   ],
   "source": [
    "df.groupby(df['language_preferred'])['time_spent_on_the_page'].mean()"
   ]
  },
  {
   "cell_type": "markdown",
   "id": "c26faa69",
   "metadata": {},
   "source": [
    "#### Observations:\n",
    "Amond the different languages English, French, and Spanish the average time spent on the page seems relatively the same."
   ]
  },
  {
   "cell_type": "code",
   "execution_count": 136,
   "id": "a80f4f33",
   "metadata": {},
   "outputs": [
    {
     "data": {
      "text/plain": [
       "<seaborn.axisgrid.FacetGrid at 0x1a8e56a0290>"
      ]
     },
     "execution_count": 136,
     "metadata": {},
     "output_type": "execute_result"
    },
    {
     "data": {
      "image/png": "[encoded data removed]",
      "text/plain": [
       "<Figure size 1081.36x500 with 2 Axes>"
      ]
     },
     "metadata": {},
     "output_type": "display_data"
    }
   ],
   "source": [
    "sns.catplot(data=df,x=df['language_preferred'],hue=df['converted'],col=df['landing_page'],kind=\"count\")"
   ]
  },
  {
   "cell_type": "markdown",
   "id": "4a630473",
   "metadata": {},
   "source": [
    "#### Observations:\n",
    "French and Spanish speaking users are less likely to convert to the new landing page if first exposed to the old landing page. Whereas, if they are first exposed to the new landing page they are more likely to convert. "
   ]
  },
  {
   "cell_type": "code",
   "execution_count": 137,
   "id": "7262eeb1",
   "metadata": {},
   "outputs": [
    {
     "data": {
      "text/plain": [
       "<Axes: xlabel='landing_page', ylabel='time_spent_on_the_page'>"
      ]
     },
     "execution_count": 137,
     "metadata": {},
     "output_type": "execute_result"
    },
    {
     "data": {
      "image/png": "[encoded data removed]",
      "text/plain": [
       "<Figure size 640x480 with 1 Axes>"
      ]
     },
     "metadata": {},
     "output_type": "display_data"
    }
   ],
   "source": [
    "sns.barplot(data=df,x=df['landing_page'],y=df['time_spent_on_the_page'],hue=df['converted'])"
   ]
  },
  {
   "cell_type": "markdown",
   "id": "5fc35c47",
   "metadata": {},
   "source": [
    "#### Observations:\n",
    "The graph demonstrates that more users are likely to convert to the new landing page despite whatever landing page they are first exposed to and those who do convert demonstrate higher time averages. "
   ]
  },
  {
   "cell_type": "markdown",
   "id": "034a5d5c",
   "metadata": {},
   "source": [
    "### 1. Do the users spend more time on the new landing page than the old landing page?"
   ]
  },
  {
   "cell_type": "code",
   "execution_count": 138,
   "id": "37b70273",
   "metadata": {},
   "outputs": [
    {
     "data": {
      "text/plain": [
       "<Axes: xlabel='landing_page', ylabel='time_spent_on_the_page'>"
      ]
     },
     "execution_count": 138,
     "metadata": {},
     "output_type": "execute_result"
    },
    {
     "data": {
      "image/png": "[encoded data removed]",
      "text/plain": [
       "<Figure size 640x480 with 1 Axes>"
      ]
     },
     "metadata": {},
     "output_type": "display_data"
    }
   ],
   "source": [
    "sns.boxplot(data=df,x=df['landing_page'],y=df['time_spent_on_the_page'],hue=df['landing_page'])"
   ]
  },
  {
   "cell_type": "code",
   "execution_count": 139,
   "id": "c7456ec5",
   "metadata": {},
   "outputs": [
    {
     "data": {
      "text/plain": [
       "landing_page\n",
       "new    6.2232\n",
       "old    4.5324\n",
       "Name: time_spent_on_the_page, dtype: float64"
      ]
     },
     "execution_count": 139,
     "metadata": {},
     "output_type": "execute_result"
    }
   ],
   "source": [
    "df.groupby(['landing_page'])['time_spent_on_the_page'].mean()"
   ]
  },
  {
   "cell_type": "markdown",
   "id": "cef298e5",
   "metadata": {},
   "source": [
    "#### Observations:\n",
    "On average users seem to spend more time on the new page than on the old page."
   ]
  },
  {
   "cell_type": "code",
   "execution_count": 140,
   "id": "b24cf222",
   "metadata": {},
   "outputs": [
    {
     "name": "stdout",
     "output_type": "stream",
     "text": [
      "The standard deviation time spent for old page is 2.58\n",
      "The standard deviation time spent for new page is 1.82\n"
     ]
    }
   ],
   "source": [
    "print('The standard deviation time spent for old page is ' + str(round(df[df['landing_page']=='old']['time_spent_on_the_page'].std(), 2)))\n",
    "print('The standard deviation time spent for new page is ' + str(round(df[df['landing_page']=='new']['time_spent_on_the_page'].std(), 2)))"
   ]
  },
  {
   "cell_type": "markdown",
   "id": "012bde4c",
   "metadata": {},
   "source": [
    "## Hypothesis testing \n",
    "we can do hypothesis testing to see if new and old page spend time is same or more\n",
    "\n",
    "### Null and Alternate Hypothesis \n",
    "\n",
    "Let $\\mu_1, \\mu_2$ be the mean time spent on the old landing page vs the mean time spent on the new landing page.\n",
    "\n",
    "hypotheses can be written as:\n",
    "\n",
    "$H_0: \\mu_1 = \\mu_2 $\n",
    "\n",
    "$H_a: \\mu_1 < \\mu_2 $\n",
    "\n",
    "This is a case of a one-tailed two-sample mean test. As the two samples are  independent in this case,time spent of page follow normal distribution and  the population standard deviations are unknown, we shall use a two sample t-test with unequal daviation as standard daviation of sample is unequal for this problem \n",
    "\n",
    "#### Step 3: Decide the significance level\n",
    "As given in the problem statement, we select $\\alpha$ = 0.05."
   ]
  },
  {
   "cell_type": "code",
   "execution_count": 141,
   "id": "9cc94bae",
   "metadata": {},
   "outputs": [
    {
     "data": {
      "text/plain": [
       "0.0001392381225166549"
      ]
     },
     "execution_count": 141,
     "metadata": {},
     "output_type": "execute_result"
    }
   ],
   "source": [
    "test_stat,pvalue=stats.ttest_ind(df[df['landing_page']=='old']['time_spent_on_the_page'],df[df['landing_page']=='new']['time_spent_on_the_page'],equal_var=False,alternative='less')\n",
    "pvalue"
   ]
  },
  {
   "cell_type": "code",
   "execution_count": 142,
   "id": "e9ae42c5",
   "metadata": {},
   "outputs": [
    {
     "name": "stdout",
     "output_type": "stream",
     "text": [
      "As the p-value 0.0001392381225166549 is less than the level of significance, we reject the null hypothesis.\n"
     ]
    }
   ],
   "source": [
    "# print the conclusion based on p-value\n",
    "if pvalue < 0.05:\n",
    "    print(f'As the p-value {pvalue} is less than the level of significance, we reject the null hypothesis.')\n",
    "else:\n",
    "    print(f'As the p-value {pvalue} is greater than the level of significance, we fail to reject the null hypothesis.')\n"
   ]
  },
  {
   "cell_type": "markdown",
   "id": "b2f6a9ac",
   "metadata": {},
   "source": [
    "####  Draw Inference\n",
    "At 5% significance level, we reject the null hypothesis. Hence we have enough statistical evidence to say that the conversion rate among the two groups, old landing page and new landing page are different and  Mean time spent on new landing page is higher than old landing page"
   ]
  },
  {
   "cell_type": "markdown",
   "id": "b53016e0",
   "metadata": {},
   "source": [
    "### 2. Is the conversion rate (the proportion of users who visit the landing page and get converted) for the new page greater than the conversion rate for the old page?"
   ]
  },
  {
   "cell_type": "code",
   "execution_count": 143,
   "id": "edc495a9",
   "metadata": {},
   "outputs": [
    {
     "data": {
      "text/plain": [
       "<seaborn.axisgrid.FacetGrid at 0x1a8e58decd0>"
      ]
     },
     "execution_count": 143,
     "metadata": {},
     "output_type": "execute_result"
    },
    {
     "data": {
      "image/png": "[encoded data removed]",
      "text/plain": [
       "<Figure size 1000x500 with 2 Axes>"
      ]
     },
     "metadata": {},
     "output_type": "display_data"
    }
   ],
   "source": [
    "sns.catplot(data = df, x = 'converted', col = 'landing_page', kind = 'count',hue=df['converted'])"
   ]
  },
  {
   "cell_type": "markdown",
   "id": "cb19aea6",
   "metadata": {},
   "source": [
    "#### Observation:\n",
    "Users engaging with the new landing page are more likely to convert than those using the old landing page."
   ]
  },
  {
   "cell_type": "code",
   "execution_count": 144,
   "id": "9d9761ff",
   "metadata": {},
   "outputs": [
    {
     "data": {
      "text/plain": [
       "(100, 6)"
      ]
     },
     "execution_count": 144,
     "metadata": {},
     "output_type": "execute_result"
    }
   ],
   "source": [
    "df.shape"
   ]
  },
  {
   "cell_type": "code",
   "execution_count": 145,
   "id": "6b6e6d4a",
   "metadata": {},
   "outputs": [
    {
     "data": {
      "text/plain": [
       "landing_page  converted\n",
       "new           yes          33\n",
       "              no           17\n",
       "old           no           29\n",
       "              yes          21\n",
       "Name: count, dtype: int64"
      ]
     },
     "execution_count": 145,
     "metadata": {},
     "output_type": "execute_result"
    }
   ],
   "source": [
    "df.groupby(df['landing_page'])['converted'].value_counts()"
   ]
  },
  {
   "cell_type": "markdown",
   "id": "a94df6ea",
   "metadata": {},
   "source": [
    "## Hypothesis testing \n",
    "\n",
    "### null and alternative hypothesis\n",
    "Let $p_1,p_2$ be the proportions of converters in old landing page and new landing page respectively.\n",
    "\n",
    "The company will test the null hypothesis\n",
    "\n",
    ">$H_0:p_1 \\geq p_2$\n",
    "\n",
    "against the alternate hypothesis\n",
    "\n",
    ">$H_a:p_1 < p_2$\n",
    "\n",
    "### Let's test whether the Z-test assumptions are satisfied or not\n",
    "\n",
    "*   Binomally distributed population - Yes, converted is either yes or no.\n",
    "*   Random sampling from the population - Yes, collected sample is a random sample.  \n",
    "*   Can the binomial distribution approximated to normal distribution - Yes. For binary data, CLT works slower than usual. The standard thing is to check whether np and n(1-p) are greater than or equal to 10. Here, n and p refer to the sample size and sample proportion respectively.\n",
    "\n",
    "total sample: 50 \n",
    "\n",
    "Old landing page  converted : 21 \n",
    "\n",
    "New landing page  converted : 33\n",
    "\n",
    ">$np_1 = 50\\cdot \\frac{21}{50} =21 \\geq 10\\\\\n",
    "n(1-p_1) = 50 \\cdot \\frac{50-21}{50} =29 \\geq 10 \\\\\n",
    "np_2 = 50\\cdot \\frac{33}{50} =33 \\geq 10\\\\\n",
    "n(1-p_2) = 50 \\cdot \\frac{40-33}{50} =17 \\geq 10 $"
   ]
  },
  {
   "cell_type": "code",
   "execution_count": 146,
   "id": "4ed83e98",
   "metadata": {},
   "outputs": [
    {
     "name": "stdout",
     "output_type": "stream",
     "text": [
      "The p-value is 0.008026308204056278\n"
     ]
    }
   ],
   "source": [
    "# import the required fuction\n",
    "from statsmodels.stats.proportion import proportions_ztest\n",
    "# set the counts of converters\n",
    "converter_count = np.array([21, 33])\n",
    "\n",
    "# set the sample sizes\n",
    "nobs = np.array([50, 50])\n",
    "\n",
    "# find the p-value\n",
    "test_stat, p_value = proportions_ztest(converter_count, nobs,alternative=\"smaller\")\n",
    "print('The p-value is ' + str(p_value))"
   ]
  },
  {
   "cell_type": "code",
   "execution_count": 147,
   "id": "acd72b7e",
   "metadata": {},
   "outputs": [
    {
     "name": "stdout",
     "output_type": "stream",
     "text": [
      "As the p-value 0.008026308204056278 is less than the level of significance, we reject the null hypothesis.\n"
     ]
    }
   ],
   "source": [
    "# print the conclusion based on p-value\n",
    "if p_value < 0.05:\n",
    "    print(f'As the p-value {p_value} is less than the level of significance, we reject the null hypothesis.')\n",
    "else:\n",
    "    print(f'As the p-value {p_value} is greater than the level of significance, we fail to reject the null hypothesis.')"
   ]
  },
  {
   "cell_type": "markdown",
   "id": "6ee2ba28",
   "metadata": {},
   "source": [
    "####  Draw Inference\n",
    "\n",
    "At 5% significance level, we reject the null hypothesis. Hence we have enough statistical evidence to say that the conversion rate of new landing page is greater than old landing page."
   ]
  },
  {
   "cell_type": "markdown",
   "id": "43764d0a",
   "metadata": {},
   "source": [
    "### 3. Does the converted status depend on the preferred language? [Hint: Create a contingency table using the pandas.crosstab() function]"
   ]
  },
  {
   "cell_type": "code",
   "execution_count": 148,
   "id": "cbcd8689",
   "metadata": {},
   "outputs": [
    {
     "data": {
      "text/plain": [
       "<seaborn.axisgrid.FacetGrid at 0x1a8e42bf150>"
      ]
     },
     "execution_count": 148,
     "metadata": {},
     "output_type": "execute_result"
    },
    {
     "data": {
      "image/png": "[encoded data removed]",
      "text/plain": [
       "<Figure size 1500x500 with 3 Axes>"
      ]
     },
     "metadata": {},
     "output_type": "display_data"
    }
   ],
   "source": [
    "sns.catplot(df,x=df['converted'],col=df['language_preferred'],kind=\"count\",hue=df['converted'])"
   ]
  },
  {
   "cell_type": "markdown",
   "id": "2a131dcc",
   "metadata": {},
   "source": [
    "#### Observation:\n",
    "The converted status doesn't seem to have much of an effect on French and Spanish speaking users, but does play more of a role with English speaking users."
   ]
  },
  {
   "cell_type": "code",
   "execution_count": 149,
   "id": "35c1327f",
   "metadata": {},
   "outputs": [
    {
     "data": {
      "text/html": [
       "<div>\n",
       "<style scoped>\n",
       "    .dataframe tbody tr th:only-of-type {\n",
       "        vertical-align: middle;\n",
       "    }\n",
       "\n",
       "    .dataframe tbody tr th {\n",
       "        vertical-align: top;\n",
       "    }\n",
       "\n",
       "    .dataframe thead th {\n",
       "        text-align: right;\n",
       "    }\n",
       "</style>\n",
       "<table border=\"1\" class=\"dataframe\">\n",
       "  <thead>\n",
       "    <tr style=\"text-align: right;\">\n",
       "      <th>language_preferred</th>\n",
       "      <th>English</th>\n",
       "      <th>French</th>\n",
       "      <th>Spanish</th>\n",
       "    </tr>\n",
       "    <tr>\n",
       "      <th>converted</th>\n",
       "      <th></th>\n",
       "      <th></th>\n",
       "      <th></th>\n",
       "    </tr>\n",
       "  </thead>\n",
       "  <tbody>\n",
       "    <tr>\n",
       "      <th>no</th>\n",
       "      <td>11</td>\n",
       "      <td>19</td>\n",
       "      <td>16</td>\n",
       "    </tr>\n",
       "    <tr>\n",
       "      <th>yes</th>\n",
       "      <td>21</td>\n",
       "      <td>15</td>\n",
       "      <td>18</td>\n",
       "    </tr>\n",
       "  </tbody>\n",
       "</table>\n",
       "</div>"
      ],
      "text/plain": [
       "language_preferred  English  French  Spanish\n",
       "converted                                   \n",
       "no                       11      19       16\n",
       "yes                      21      15       18"
      ]
     },
     "execution_count": 149,
     "metadata": {},
     "output_type": "execute_result"
    }
   ],
   "source": [
    "df1 = pd.crosstab(df['converted'], df['language_preferred'])\n",
    "df1"
   ]
  },
  {
   "cell_type": "markdown",
   "id": "0244a145",
   "metadata": {},
   "source": [
    "## Hypothesis testing \n",
    "\n",
    "### null and alternative hypothesis\n",
    "\n",
    "\n",
    "We will test the null hypothesis\n",
    "\n",
    " $H_0:$ Converted status is independent of language preferred.\n",
    "\n",
    "against the alternate hypothesis\n",
    "\n",
    " $H_a:$ Converted status depends on language preferred.\n",
    " \n",
    " \n",
    "### Let's test whether the assumptions are satisfied or not\n",
    "\n",
    "* Categorical variables - Yes\n",
    "* Expected value of the number of sample observations in each level of the variable is at least 5 - Yes, the number of observations in each level is greater than 5.\n",
    "* Random sampling from the population - Yes, collected sample is a simple random sample. \n",
    "\n",
    "We will use the `chi2_contingency` function from the scipy stats library to perform the hypothesis test. It takes the contingency table as an input and returns the test statistic, p-value, degrees of freedom, and the expected frequencies as the output."
   ]
  },
  {
   "cell_type": "code",
   "execution_count": 150,
   "id": "68074e1c",
   "metadata": {},
   "outputs": [
    {
     "name": "stdout",
     "output_type": "stream",
     "text": [
      "Test Statistic = 3.0930306905370837\n",
      "p-value = 0.21298887487543447\n",
      "Degrees of freedom = 2\n",
      "Expected frequencies \n",
      " [[14.72 15.64 15.64]\n",
      " [17.28 18.36 18.36]]\n"
     ]
    }
   ],
   "source": [
    "# import the required function\n",
    "from scipy.stats import chi2_contingency\n",
    "\n",
    "# find the p-value\n",
    "chi, p_value, dof, expected = chi2_contingency(df1)\n",
    "print(\"Test Statistic =\",chi)\n",
    "print(\"p-value =\",p_value)\n",
    "print(\"Degrees of freedom =\",dof)\n",
    "print(\"Expected frequencies \\n\", expected)"
   ]
  },
  {
   "cell_type": "code",
   "execution_count": 151,
   "id": "8a378a9e",
   "metadata": {},
   "outputs": [
    {
     "name": "stdout",
     "output_type": "stream",
     "text": [
      "As the p-value 0.21298887487543447 is greater than the level of significance, we fail to reject the null hypothesis.\n"
     ]
    }
   ],
   "source": [
    "# print the conclusion based on p-value\n",
    "if p_value < 0.05:\n",
    "    print(f'As the p-value {p_value} is less than the level of significance, we reject the null hypothesis.')\n",
    "else:\n",
    "    print(f'As the p-value {p_value} is greater than the level of significance, we fail to reject the null hypothesis.')"
   ]
  },
  {
   "cell_type": "markdown",
   "id": "9e9df900",
   "metadata": {},
   "source": [
    "### Draw inference \n",
    "At 5% significance level, we fail to reject the null hypothesis. Hence we don't have enough statistical evidence to say that converted status depends on language preferrence."
   ]
  },
  {
   "cell_type": "markdown",
   "id": "520bf971",
   "metadata": {},
   "source": [
    "### 4. Is the mean time spent on the new page same for the different language users?"
   ]
  },
  {
   "cell_type": "code",
   "execution_count": 152,
   "id": "63025409",
   "metadata": {},
   "outputs": [
    {
     "data": {
      "text/html": [
       "<div>\n",
       "<style scoped>\n",
       "    .dataframe tbody tr th:only-of-type {\n",
       "        vertical-align: middle;\n",
       "    }\n",
       "\n",
       "    .dataframe tbody tr th {\n",
       "        vertical-align: top;\n",
       "    }\n",
       "\n",
       "    .dataframe thead th {\n",
       "        text-align: right;\n",
       "    }\n",
       "</style>\n",
       "<table border=\"1\" class=\"dataframe\">\n",
       "  <thead>\n",
       "    <tr style=\"text-align: right;\">\n",
       "      <th></th>\n",
       "      <th>user_id</th>\n",
       "      <th>group</th>\n",
       "      <th>landing_page</th>\n",
       "      <th>time_spent_on_the_page</th>\n",
       "      <th>converted</th>\n",
       "      <th>language_preferred</th>\n",
       "    </tr>\n",
       "  </thead>\n",
       "  <tbody>\n",
       "    <tr>\n",
       "      <th>1</th>\n",
       "      <td>546468</td>\n",
       "      <td>treatment</td>\n",
       "      <td>new</td>\n",
       "      <td>7.13</td>\n",
       "      <td>yes</td>\n",
       "      <td>English</td>\n",
       "    </tr>\n",
       "    <tr>\n",
       "      <th>2</th>\n",
       "      <td>546462</td>\n",
       "      <td>treatment</td>\n",
       "      <td>new</td>\n",
       "      <td>4.40</td>\n",
       "      <td>no</td>\n",
       "      <td>Spanish</td>\n",
       "    </tr>\n",
       "    <tr>\n",
       "      <th>4</th>\n",
       "      <td>546459</td>\n",
       "      <td>treatment</td>\n",
       "      <td>new</td>\n",
       "      <td>4.75</td>\n",
       "      <td>yes</td>\n",
       "      <td>Spanish</td>\n",
       "    </tr>\n",
       "    <tr>\n",
       "      <th>6</th>\n",
       "      <td>546448</td>\n",
       "      <td>treatment</td>\n",
       "      <td>new</td>\n",
       "      <td>5.25</td>\n",
       "      <td>yes</td>\n",
       "      <td>French</td>\n",
       "    </tr>\n",
       "    <tr>\n",
       "      <th>8</th>\n",
       "      <td>546461</td>\n",
       "      <td>treatment</td>\n",
       "      <td>new</td>\n",
       "      <td>10.71</td>\n",
       "      <td>yes</td>\n",
       "      <td>French</td>\n",
       "    </tr>\n",
       "  </tbody>\n",
       "</table>\n",
       "</div>"
      ],
      "text/plain": [
       "   user_id      group landing_page  time_spent_on_the_page converted  \\\n",
       "1   546468  treatment          new                    7.13       yes   \n",
       "2   546462  treatment          new                    4.40        no   \n",
       "4   546459  treatment          new                    4.75       yes   \n",
       "6   546448  treatment          new                    5.25       yes   \n",
       "8   546461  treatment          new                   10.71       yes   \n",
       "\n",
       "  language_preferred  \n",
       "1            English  \n",
       "2            Spanish  \n",
       "4            Spanish  \n",
       "6             French  \n",
       "8             French  "
      ]
     },
     "execution_count": 152,
     "metadata": {},
     "output_type": "execute_result"
    }
   ],
   "source": [
    "df1 = df.loc[df['landing_page'] == 'new']\n",
    "df1.head()"
   ]
  },
  {
   "cell_type": "code",
   "execution_count": 153,
   "id": "c1911734",
   "metadata": {},
   "outputs": [
    {
     "data": {
      "text/plain": [
       "language_preferred\n",
       "English    6.663750\n",
       "French     6.196471\n",
       "Spanish    5.835294\n",
       "Name: time_spent_on_the_page, dtype: float64"
      ]
     },
     "execution_count": 153,
     "metadata": {},
     "output_type": "execute_result"
    }
   ],
   "source": [
    "df1.groupby(df1['language_preferred'])['time_spent_on_the_page'].mean()"
   ]
  },
  {
   "cell_type": "code",
   "execution_count": 154,
   "id": "075c75d7",
   "metadata": {},
   "outputs": [
    {
     "data": {
      "text/plain": [
       "<Axes: xlabel='language_preferred', ylabel='time_spent_on_the_page'>"
      ]
     },
     "execution_count": 154,
     "metadata": {},
     "output_type": "execute_result"
    },
    {
     "data": {
      "image/png": "[encoded data removed]",
      "text/plain": [
       "<Figure size 640x480 with 1 Axes>"
      ]
     },
     "metadata": {},
     "output_type": "display_data"
    }
   ],
   "source": [
    "sns.boxplot(data = df1, x = 'language_preferred', y = 'time_spent_on_the_page',hue=df['language_preferred'])"
   ]
  },
  {
   "cell_type": "markdown",
   "id": "bed8530c",
   "metadata": {},
   "source": [
    "#### Observation:\n",
    "The average time spent on the pages seems relatively the same among the different language preferences."
   ]
  },
  {
   "cell_type": "markdown",
   "id": "1b2744a4",
   "metadata": {},
   "source": [
    "## Hypothesis testing \n",
    "\n",
    "### null and alternative hypothesis\n",
    "\n",
    "Let $\\mu_1, \\mu_2, \\mu_3$ be the means of time spent on the new landing page for language preferences English, Spanish and French respectively.\n",
    "\n",
    "We will test the null hypothesis\n",
    "\n",
    ">$H_0: \\mu_1 = \\mu_2 = \\mu_3$\n",
    "\n",
    "against the alternative hypothesis\n",
    "\n",
    ">$H_a: $ At least one time average of the new landing page is different among the language preferences.\n"
   ]
  },
  {
   "cell_type": "markdown",
   "id": "b6126913",
   "metadata": {},
   "source": [
    "the normality and equality of variance assumptions need to be checked. \n",
    "\n",
    "* For testing of normality, Shapiro-Wilk’s test is applied to the response variable.\n",
    "\n",
    "* For equality of variance, Levene test is applied to the response variable."
   ]
  },
  {
   "cell_type": "markdown",
   "id": "ebf09016",
   "metadata": {},
   "source": [
    "### Shapiro-Wilk’s test\n",
    "\n",
    "We will test the null hypothesis\n",
    "\n",
    ">$H_0:$ time spent on page follows a normal distribution\n",
    "\n",
    "against the alternative hypothesis\n",
    "\n",
    ">$H_a:$ time spent does not follow a normal distribution"
   ]
  },
  {
   "cell_type": "code",
   "execution_count": 155,
   "id": "46756a21",
   "metadata": {},
   "outputs": [
    {
     "name": "stdout",
     "output_type": "stream",
     "text": [
      "The p-value is 0.8040016293525696\n"
     ]
    }
   ],
   "source": [
    "# find the p-value\n",
    "w, p_value = stats.shapiro(df1['time_spent_on_the_page']) \n",
    "print('The p-value is', p_value)"
   ]
  },
  {
   "cell_type": "markdown",
   "id": "a4610138",
   "metadata": {},
   "source": [
    "Since p-value of the test is large, we fail to reject the null hypothesis that the time spent on page follows the normal distribution."
   ]
  },
  {
   "cell_type": "markdown",
   "id": "f5b8a3aa",
   "metadata": {},
   "source": [
    "### Levene’s test\n",
    "\n",
    "We will test the null hypothesis\n",
    "\n",
    ">$H_0$: All the population variances are equal\n",
    "\n",
    "against the alternative hypothesis\n",
    "\n",
    ">$H_a$: At least one variance is different from the rest"
   ]
  },
  {
   "cell_type": "code",
   "execution_count": 156,
   "id": "871fdf4e",
   "metadata": {},
   "outputs": [
    {
     "name": "stdout",
     "output_type": "stream",
     "text": [
      "The p-value is 0.46711357711340173\n"
     ]
    }
   ],
   "source": [
    "#import the required function\n",
    "from scipy.stats import levene\n",
    "statistic, p_value = levene( df1['time_spent_on_the_page'][df1['language_preferred']==\"English\"], \n",
    "                                   df1['time_spent_on_the_page'][df1['language_preferred']==\"Spanish\"], \n",
    "                                   df1['time_spent_on_the_page'][df1['language_preferred']==\"French\"])\n",
    "# find the p-value\n",
    "print('The p-value is', p_value)"
   ]
  },
  {
   "cell_type": "markdown",
   "id": "f235b199",
   "metadata": {},
   "source": [
    "Since the p-value is large, we fail to reject the null hypothesis of homogeneity of variances."
   ]
  },
  {
   "cell_type": "markdown",
   "id": "eece5b50",
   "metadata": {},
   "source": [
    "### Let's see whether the assumptions are satisfied or not\n",
    "\n",
    "* The populations are normally distributed - Yes, the normality assumption is verified using the Shapiro-Wilk’s test.\n",
    "* Samples are independent simple random samples - Yes, we are informed that the collected sample is a simple random sample.\n",
    "* Population variances are equal - Yes, the homogeneity of variance assumption is verified using the Levene's test."
   ]
  },
  {
   "cell_type": "code",
   "execution_count": 157,
   "id": "425cffa3",
   "metadata": {},
   "outputs": [
    {
     "name": "stdout",
     "output_type": "stream",
     "text": [
      "The p-value is 0.43204138694325955\n"
     ]
    }
   ],
   "source": [
    "#import the required function\n",
    "from scipy.stats import f_oneway\n",
    "\n",
    "# perform one-way anova test\n",
    "test_stat, p_value = f_oneway(df1.loc[df1['language_preferred'] == 'English', 'time_spent_on_the_page'],\n",
    "                              df1.loc[df1['language_preferred'] == 'Spanish', 'time_spent_on_the_page'],\n",
    "                              df1.loc[df1['language_preferred'] == 'French', 'time_spent_on_the_page'])\n",
    "print('The p-value is ' + str(p_value))"
   ]
  },
  {
   "cell_type": "code",
   "execution_count": 158,
   "id": "dd50acae",
   "metadata": {},
   "outputs": [
    {
     "name": "stdout",
     "output_type": "stream",
     "text": [
      "As the p-value 0.43204138694325955 is greater than the level of significance, we fail to reject the null hypothesis.\n"
     ]
    }
   ],
   "source": [
    "# print the conclusion based on p-value\n",
    "if p_value < 0.05:\n",
    "    print(f'As the p-value {p_value} is less than the level of significance, we reject the null hypothesis.')\n",
    "else:\n",
    "    print(f'As the p-value {p_value} is greater than the level of significance, we fail to reject the null hypothesis.')"
   ]
  },
  {
   "cell_type": "markdown",
   "id": "073fe875",
   "metadata": {},
   "source": [
    "### Draw inference\n",
    "At 5% significance level, we fail to reject the null hypothesis. Hence we don't have enough statistical evidence to say that at least one time average on the new landing page is different among the language preferences.\n",
    "\n",
    "\n",
    "This means that the time averages on the new landing page for the different languages are relatively the same."
   ]
  },
  {
   "cell_type": "markdown",
   "id": "e6715073",
   "metadata": {},
   "source": [
    "## Conclusion \n",
    "\n",
    "1. Mean time spent on new landing page is higher than old landing page \n",
    "2. Conversion rate of new landing page is higher than old landing page.\n",
    "3. Converted status doesn't depends on language preferrence\n",
    "3. Time averages on the new landing page for different language are relatively same."
   ]
  },
  {
   "cell_type": "markdown",
   "id": "3d7eee9e",
   "metadata": {},
   "source": [
    "## Business Recommendation\n",
    "\n",
    "### 1. The new landing page is effective, as the conversion rate is higher on the new landing page compared to the old landing page.\n",
    "### 2. Implement the new landing page for users, since they are spending more time on the new landing page compared to the old one.\n",
    "\n",
    "### 2. As the time spent on different languages is relatively the same and the conversion status doesn't depend on language preferences, the company should continue to offer the page in the provided languages.\n",
    "\n"
   ]
  }
 ],
 "metadata": {
  "kernelspec": {
   "display_name": "Python 3 (ipykernel)",
   "language": "python",
   "name": "python3"
  },
  "language_info": {
   "codemirror_mode": {
    "name": "ipython",
    "version": 3
   },
   "file_extension": ".py",
   "mimetype": "text/x-python",
   "name": "python",
   "nbconvert_exporter": "python",
   "pygments_lexer": "ipython3",
   "version": "3.11.7"
  }
 },
 "nbformat": 4,
 "nbformat_minor": 5
}
