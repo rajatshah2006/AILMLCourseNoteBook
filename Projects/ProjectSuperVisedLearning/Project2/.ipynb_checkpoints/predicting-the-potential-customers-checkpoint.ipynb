{
 "cells": [
  {
   "cell_type": "markdown",
   "id": "cf1b5cf2",
   "metadata": {},
   "source": [
    "<center><p float=\"center\">\n",
    "  <img src=\"https://upload.wikimedia.org/wikipedia/commons/e/e9/4_RGB_McCombs_School_Brand_Branded.png\" width=\"300\" height=\"100\"/>\n",
    "  <img src=\"https://mma.prnewswire.com/media/1458111/Great_Learning_Logo.jpg?p=facebook\" width=\"200\" height=\"100\"/>\n",
    "</p></center>\n",
    "\n",
    "<h1><center><font size=10>Artificial Intelligence and Machine Learning</center></font></h1>\n",
    "<h1><center>Potential Customer Prediction</center></h1>"
   ]
  },
  {
   "cell_type": "markdown",
   "id": "0cf5072b",
   "metadata": {},
   "source": [
    "### Context: \n",
    "A bank X is on a massive digital transformation for all its departments. Bank has a growing customer base whee majority of them are\n",
    "liability customers (depositors) vs borrowers (asset customers). The bank is interested in expanding the borrowers base rapidly to bring in more\n",
    "business via loan interests. A campaign that the bank ran in last quarter showed an average single digit conversion rate. Digital transformation\n",
    "being the core strength of the business strategy, marketing department wants to devise effective campaigns with better target marketing to\n",
    "increase the conversion ratio to double digit with same budget as per last campaign.\n",
    "\n",
    "### Data Dictionary: \n",
    "1. ID: Customer ID\n",
    "2. Age: Customer’s approximate age.\n",
    "3. CustomerSince: Customer of the bank since. [unit is masked]\n",
    "4. HighestSpend: Customer’s highest spend so far in one transaction. [unit is masked]\n",
    "5. ZipCode: Customer’s zip code.\n",
    "6. HiddenScore: A score associated to the customer which is masked by the bank as an IP.\n",
    "7. MonthlyAverageSpend: Customer’s monthly average spend so far. [unit is masked]\n",
    "8. Level: A level associated to the customer which is masked by the bank as an IP.\n",
    "9. Mortgage: Customer’s mortgage. [unit is masked]\n",
    "10. Security: Customer’s security asset with the bank. [unit is masked]\n",
    "11. FixedDepositAccount: Customer’s fixed deposit account with the bank. [unit is masked]\n",
    "12. InternetBanking: if the customer uses internet banking.\n",
    "13. CreditCard: if the customer uses bank’s credit card.\n",
    "14. LoanOnCard: if the customer has a loan on credit card.\n",
    "\n",
    "### PROJECT OBJECTIVE: \n",
    "Build a Machine Learning model to perform focused marketing by predicting the potential customers who will convert\n",
    "using the historical dataset"
   ]
  },
  {
   "cell_type": "code",
   "execution_count": 1,
   "id": "b7451a2e",
   "metadata": {},
   "outputs": [],
   "source": [
    "# Import libraries\n",
    "import pandas as pd\n",
    "import numpy as np\n",
    "import matplotlib.pyplot as plt\n",
    "import seaborn as sns\n",
    "%matplotlib inline\n",
    "# To build model for prediction\n",
    "from sklearn.linear_model import LogisticRegression\n",
    "\n",
    "# To get diferent metric scores\n",
    "from sklearn.metrics import (\n",
    "    f1_score,\n",
    "    accuracy_score,\n",
    "    recall_score,\n",
    "    precision_score,\n",
    "    confusion_matrix,\n",
    "    roc_auc_score,\n",
    "    roc_curve,\n",
    "    precision_recall_curve,\n",
    "    classification_report,\n",
    ")\n",
    "from sklearn.model_selection import train_test_split\n",
    "\n",
    "# To build model for prediction\n",
    "from sklearn.svm import SVC\n",
    "from sklearn import metrics\n",
    "#Preprocessing\n",
    "# To ignore unnecessary warnings\n",
    "import warnings\n",
    "warnings.filterwarnings(\"ignore\")"
   ]
  },
  {
   "cell_type": "markdown",
   "id": "6097dde2",
   "metadata": {},
   "source": [
    "### 1. DATA UNDERSTANDING AND PREPARATION"
   ]
  },
  {
   "cell_type": "code",
   "execution_count": 3,
   "id": "a810c9f3",
   "metadata": {},
   "outputs": [
    {
     "data": {
      "text/html": [
       "<div>\n",
       "<style scoped>\n",
       "    .dataframe tbody tr th:only-of-type {\n",
       "        vertical-align: middle;\n",
       "    }\n",
       "\n",
       "    .dataframe tbody tr th {\n",
       "        vertical-align: top;\n",
       "    }\n",
       "\n",
       "    .dataframe thead th {\n",
       "        text-align: right;\n",
       "    }\n",
       "</style>\n",
       "<table border=\"1\" class=\"dataframe\">\n",
       "  <thead>\n",
       "    <tr style=\"text-align: right;\">\n",
       "      <th></th>\n",
       "      <th>ID</th>\n",
       "      <th>Age</th>\n",
       "      <th>CustomerSince</th>\n",
       "      <th>HighestSpend</th>\n",
       "      <th>ZipCode</th>\n",
       "      <th>HiddenScore</th>\n",
       "      <th>MonthlyAverageSpend</th>\n",
       "      <th>Level</th>\n",
       "    </tr>\n",
       "  </thead>\n",
       "  <tbody>\n",
       "    <tr>\n",
       "      <th>0</th>\n",
       "      <td>1</td>\n",
       "      <td>25</td>\n",
       "      <td>1</td>\n",
       "      <td>49</td>\n",
       "      <td>91107</td>\n",
       "      <td>4</td>\n",
       "      <td>1.6</td>\n",
       "      <td>1</td>\n",
       "    </tr>\n",
       "    <tr>\n",
       "      <th>1</th>\n",
       "      <td>2</td>\n",
       "      <td>45</td>\n",
       "      <td>19</td>\n",
       "      <td>34</td>\n",
       "      <td>90089</td>\n",
       "      <td>3</td>\n",
       "      <td>1.5</td>\n",
       "      <td>1</td>\n",
       "    </tr>\n",
       "    <tr>\n",
       "      <th>2</th>\n",
       "      <td>3</td>\n",
       "      <td>39</td>\n",
       "      <td>15</td>\n",
       "      <td>11</td>\n",
       "      <td>94720</td>\n",
       "      <td>1</td>\n",
       "      <td>1.0</td>\n",
       "      <td>1</td>\n",
       "    </tr>\n",
       "    <tr>\n",
       "      <th>3</th>\n",
       "      <td>4</td>\n",
       "      <td>35</td>\n",
       "      <td>9</td>\n",
       "      <td>100</td>\n",
       "      <td>94112</td>\n",
       "      <td>1</td>\n",
       "      <td>2.7</td>\n",
       "      <td>2</td>\n",
       "    </tr>\n",
       "    <tr>\n",
       "      <th>4</th>\n",
       "      <td>5</td>\n",
       "      <td>35</td>\n",
       "      <td>8</td>\n",
       "      <td>45</td>\n",
       "      <td>91330</td>\n",
       "      <td>4</td>\n",
       "      <td>1.0</td>\n",
       "      <td>2</td>\n",
       "    </tr>\n",
       "  </tbody>\n",
       "</table>\n",
       "</div>"
      ],
      "text/plain": [
       "   ID  Age  CustomerSince  HighestSpend  ZipCode  HiddenScore  \\\n",
       "0   1   25              1            49    91107            4   \n",
       "1   2   45             19            34    90089            3   \n",
       "2   3   39             15            11    94720            1   \n",
       "3   4   35              9           100    94112            1   \n",
       "4   5   35              8            45    91330            4   \n",
       "\n",
       "   MonthlyAverageSpend  Level  \n",
       "0                  1.6      1  \n",
       "1                  1.5      1  \n",
       "2                  1.0      1  \n",
       "3                  2.7      2  \n",
       "4                  1.0      2  "
      ]
     },
     "execution_count": 3,
     "metadata": {},
     "output_type": "execute_result"
    }
   ],
   "source": [
    "# Read both the Datasets ‘Data1’ and ‘Data 2’ as DataFrame and store them into two separate variables.\n",
    "# Data1\n",
    "data1=pd.read_csv('Data1.csv')\n",
    "data1.head()"
   ]
  },
  {
   "cell_type": "code",
   "execution_count": 4,
   "id": "7221c19b",
   "metadata": {},
   "outputs": [
    {
     "data": {
      "text/html": [
       "<div>\n",
       "<style scoped>\n",
       "    .dataframe tbody tr th:only-of-type {\n",
       "        vertical-align: middle;\n",
       "    }\n",
       "\n",
       "    .dataframe tbody tr th {\n",
       "        vertical-align: top;\n",
       "    }\n",
       "\n",
       "    .dataframe thead th {\n",
       "        text-align: right;\n",
       "    }\n",
       "</style>\n",
       "<table border=\"1\" class=\"dataframe\">\n",
       "  <thead>\n",
       "    <tr style=\"text-align: right;\">\n",
       "      <th></th>\n",
       "      <th>ID</th>\n",
       "      <th>Mortgage</th>\n",
       "      <th>Security</th>\n",
       "      <th>FixedDepositAccount</th>\n",
       "      <th>InternetBanking</th>\n",
       "      <th>CreditCard</th>\n",
       "      <th>LoanOnCard</th>\n",
       "    </tr>\n",
       "  </thead>\n",
       "  <tbody>\n",
       "    <tr>\n",
       "      <th>0</th>\n",
       "      <td>1</td>\n",
       "      <td>0</td>\n",
       "      <td>1</td>\n",
       "      <td>0</td>\n",
       "      <td>0</td>\n",
       "      <td>0</td>\n",
       "      <td>NaN</td>\n",
       "    </tr>\n",
       "    <tr>\n",
       "      <th>1</th>\n",
       "      <td>2</td>\n",
       "      <td>0</td>\n",
       "      <td>1</td>\n",
       "      <td>0</td>\n",
       "      <td>0</td>\n",
       "      <td>0</td>\n",
       "      <td>NaN</td>\n",
       "    </tr>\n",
       "    <tr>\n",
       "      <th>2</th>\n",
       "      <td>3</td>\n",
       "      <td>0</td>\n",
       "      <td>0</td>\n",
       "      <td>0</td>\n",
       "      <td>0</td>\n",
       "      <td>0</td>\n",
       "      <td>NaN</td>\n",
       "    </tr>\n",
       "    <tr>\n",
       "      <th>3</th>\n",
       "      <td>4</td>\n",
       "      <td>0</td>\n",
       "      <td>0</td>\n",
       "      <td>0</td>\n",
       "      <td>0</td>\n",
       "      <td>0</td>\n",
       "      <td>NaN</td>\n",
       "    </tr>\n",
       "    <tr>\n",
       "      <th>4</th>\n",
       "      <td>5</td>\n",
       "      <td>0</td>\n",
       "      <td>0</td>\n",
       "      <td>0</td>\n",
       "      <td>0</td>\n",
       "      <td>1</td>\n",
       "      <td>NaN</td>\n",
       "    </tr>\n",
       "  </tbody>\n",
       "</table>\n",
       "</div>"
      ],
      "text/plain": [
       "   ID  Mortgage  Security  FixedDepositAccount  InternetBanking  CreditCard  \\\n",
       "0   1         0         1                    0                0           0   \n",
       "1   2         0         1                    0                0           0   \n",
       "2   3         0         0                    0                0           0   \n",
       "3   4         0         0                    0                0           0   \n",
       "4   5         0         0                    0                0           1   \n",
       "\n",
       "   LoanOnCard  \n",
       "0         NaN  \n",
       "1         NaN  \n",
       "2         NaN  \n",
       "3         NaN  \n",
       "4         NaN  "
      ]
     },
     "execution_count": 4,
     "metadata": {},
     "output_type": "execute_result"
    }
   ],
   "source": [
    "#Data2\n",
    "data2=pd.read_csv('Data2.csv')\n",
    "data2.head()"
   ]
  },
  {
   "cell_type": "code",
   "execution_count": 5,
   "id": "e4c9c1fd",
   "metadata": {},
   "outputs": [
    {
     "data": {
      "text/plain": [
       "(5000, 8)"
      ]
     },
     "execution_count": 5,
     "metadata": {},
     "output_type": "execute_result"
    }
   ],
   "source": [
    "# Print shape and Column Names and DataTypes of both the Dataframes.\n",
    "data1.shape"
   ]
  },
  {
   "cell_type": "markdown",
   "id": "b75bf291",
   "metadata": {},
   "source": [
    "**Observation: We have 5000 rows and 8 colums in data1**"
   ]
  },
  {
   "cell_type": "code",
   "execution_count": 6,
   "id": "c21c2050",
   "metadata": {},
   "outputs": [
    {
     "name": "stdout",
     "output_type": "stream",
     "text": [
      "Index(['ID', 'Age', 'CustomerSince', 'HighestSpend', 'ZipCode', 'HiddenScore',\n",
      "       'MonthlyAverageSpend', 'Level'],\n",
      "      dtype='object')\n",
      "\n",
      "\n",
      "-----Data Type of Data1 ---\n",
      "\n",
      "\n",
      "<class 'pandas.core.frame.DataFrame'>\n",
      "RangeIndex: 5000 entries, 0 to 4999\n",
      "Data columns (total 8 columns):\n",
      " #   Column               Non-Null Count  Dtype  \n",
      "---  ------               --------------  -----  \n",
      " 0   ID                   5000 non-null   int64  \n",
      " 1   Age                  5000 non-null   int64  \n",
      " 2   CustomerSince        5000 non-null   int64  \n",
      " 3   HighestSpend         5000 non-null   int64  \n",
      " 4   ZipCode              5000 non-null   int64  \n",
      " 5   HiddenScore          5000 non-null   int64  \n",
      " 6   MonthlyAverageSpend  5000 non-null   float64\n",
      " 7   Level                5000 non-null   int64  \n",
      "dtypes: float64(1), int64(7)\n",
      "memory usage: 312.6 KB\n"
     ]
    }
   ],
   "source": [
    "print(data1.columns)\n",
    "\n",
    "print(\"\\n\\n-----Data Type of Data1 ---\\n\\n\")\n",
    "\n",
    "data1.info()"
   ]
  },
  {
   "cell_type": "markdown",
   "id": "b59ef155",
   "metadata": {},
   "source": [
    "**Observation: Columns are numeric in nature**"
   ]
  },
  {
   "cell_type": "code",
   "execution_count": 7,
   "id": "2dac492c",
   "metadata": {},
   "outputs": [
    {
     "data": {
      "text/plain": [
       "(5000, 7)"
      ]
     },
     "execution_count": 7,
     "metadata": {},
     "output_type": "execute_result"
    }
   ],
   "source": [
    "data2.shape"
   ]
  },
  {
   "cell_type": "markdown",
   "id": "2e70c3cd",
   "metadata": {},
   "source": [
    "**Observation: We have 5000 rows and 7 colums in data1**"
   ]
  },
  {
   "cell_type": "code",
   "execution_count": 8,
   "id": "47bf3959",
   "metadata": {},
   "outputs": [
    {
     "name": "stdout",
     "output_type": "stream",
     "text": [
      "Index(['ID', 'Mortgage', 'Security', 'FixedDepositAccount', 'InternetBanking',\n",
      "       'CreditCard', 'LoanOnCard'],\n",
      "      dtype='object')\n",
      "\n",
      "\n",
      "-----Data Type of Data2 ---\n",
      "\n",
      "\n",
      "<class 'pandas.core.frame.DataFrame'>\n",
      "RangeIndex: 5000 entries, 0 to 4999\n",
      "Data columns (total 7 columns):\n",
      " #   Column               Non-Null Count  Dtype  \n",
      "---  ------               --------------  -----  \n",
      " 0   ID                   5000 non-null   int64  \n",
      " 1   Mortgage             5000 non-null   int64  \n",
      " 2   Security             5000 non-null   int64  \n",
      " 3   FixedDepositAccount  5000 non-null   int64  \n",
      " 4   InternetBanking      5000 non-null   int64  \n",
      " 5   CreditCard           5000 non-null   int64  \n",
      " 6   LoanOnCard           4980 non-null   float64\n",
      "dtypes: float64(1), int64(6)\n",
      "memory usage: 273.6 KB\n"
     ]
    }
   ],
   "source": [
    "print(data2.columns)\n",
    "\n",
    "print(\"\\n\\n-----Data Type of Data2 ---\\n\\n\")\n",
    "\n",
    "data2.info()"
   ]
  },
  {
   "cell_type": "markdown",
   "id": "65502127",
   "metadata": {},
   "source": [
    "**Observation: Columns are numeric in nature**"
   ]
  },
  {
   "cell_type": "code",
   "execution_count": 9,
   "id": "340d95b6",
   "metadata": {},
   "outputs": [
    {
     "data": {
      "text/html": [
       "<div>\n",
       "<style scoped>\n",
       "    .dataframe tbody tr th:only-of-type {\n",
       "        vertical-align: middle;\n",
       "    }\n",
       "\n",
       "    .dataframe tbody tr th {\n",
       "        vertical-align: top;\n",
       "    }\n",
       "\n",
       "    .dataframe thead th {\n",
       "        text-align: right;\n",
       "    }\n",
       "</style>\n",
       "<table border=\"1\" class=\"dataframe\">\n",
       "  <thead>\n",
       "    <tr style=\"text-align: right;\">\n",
       "      <th></th>\n",
       "      <th>ID</th>\n",
       "      <th>Age</th>\n",
       "      <th>CustomerSince</th>\n",
       "      <th>HighestSpend</th>\n",
       "      <th>ZipCode</th>\n",
       "      <th>HiddenScore</th>\n",
       "      <th>MonthlyAverageSpend</th>\n",
       "      <th>Level</th>\n",
       "      <th>Mortgage</th>\n",
       "      <th>Security</th>\n",
       "      <th>FixedDepositAccount</th>\n",
       "      <th>InternetBanking</th>\n",
       "      <th>CreditCard</th>\n",
       "      <th>LoanOnCard</th>\n",
       "    </tr>\n",
       "  </thead>\n",
       "  <tbody>\n",
       "    <tr>\n",
       "      <th>0</th>\n",
       "      <td>1</td>\n",
       "      <td>25</td>\n",
       "      <td>1</td>\n",
       "      <td>49</td>\n",
       "      <td>91107</td>\n",
       "      <td>4</td>\n",
       "      <td>1.6</td>\n",
       "      <td>1</td>\n",
       "      <td>0</td>\n",
       "      <td>1</td>\n",
       "      <td>0</td>\n",
       "      <td>0</td>\n",
       "      <td>0</td>\n",
       "      <td>NaN</td>\n",
       "    </tr>\n",
       "    <tr>\n",
       "      <th>1</th>\n",
       "      <td>2</td>\n",
       "      <td>45</td>\n",
       "      <td>19</td>\n",
       "      <td>34</td>\n",
       "      <td>90089</td>\n",
       "      <td>3</td>\n",
       "      <td>1.5</td>\n",
       "      <td>1</td>\n",
       "      <td>0</td>\n",
       "      <td>1</td>\n",
       "      <td>0</td>\n",
       "      <td>0</td>\n",
       "      <td>0</td>\n",
       "      <td>NaN</td>\n",
       "    </tr>\n",
       "    <tr>\n",
       "      <th>2</th>\n",
       "      <td>3</td>\n",
       "      <td>39</td>\n",
       "      <td>15</td>\n",
       "      <td>11</td>\n",
       "      <td>94720</td>\n",
       "      <td>1</td>\n",
       "      <td>1.0</td>\n",
       "      <td>1</td>\n",
       "      <td>0</td>\n",
       "      <td>0</td>\n",
       "      <td>0</td>\n",
       "      <td>0</td>\n",
       "      <td>0</td>\n",
       "      <td>NaN</td>\n",
       "    </tr>\n",
       "    <tr>\n",
       "      <th>3</th>\n",
       "      <td>4</td>\n",
       "      <td>35</td>\n",
       "      <td>9</td>\n",
       "      <td>100</td>\n",
       "      <td>94112</td>\n",
       "      <td>1</td>\n",
       "      <td>2.7</td>\n",
       "      <td>2</td>\n",
       "      <td>0</td>\n",
       "      <td>0</td>\n",
       "      <td>0</td>\n",
       "      <td>0</td>\n",
       "      <td>0</td>\n",
       "      <td>NaN</td>\n",
       "    </tr>\n",
       "    <tr>\n",
       "      <th>4</th>\n",
       "      <td>5</td>\n",
       "      <td>35</td>\n",
       "      <td>8</td>\n",
       "      <td>45</td>\n",
       "      <td>91330</td>\n",
       "      <td>4</td>\n",
       "      <td>1.0</td>\n",
       "      <td>2</td>\n",
       "      <td>0</td>\n",
       "      <td>0</td>\n",
       "      <td>0</td>\n",
       "      <td>0</td>\n",
       "      <td>1</td>\n",
       "      <td>NaN</td>\n",
       "    </tr>\n",
       "    <tr>\n",
       "      <th>...</th>\n",
       "      <td>...</td>\n",
       "      <td>...</td>\n",
       "      <td>...</td>\n",
       "      <td>...</td>\n",
       "      <td>...</td>\n",
       "      <td>...</td>\n",
       "      <td>...</td>\n",
       "      <td>...</td>\n",
       "      <td>...</td>\n",
       "      <td>...</td>\n",
       "      <td>...</td>\n",
       "      <td>...</td>\n",
       "      <td>...</td>\n",
       "      <td>...</td>\n",
       "    </tr>\n",
       "    <tr>\n",
       "      <th>4995</th>\n",
       "      <td>4996</td>\n",
       "      <td>29</td>\n",
       "      <td>3</td>\n",
       "      <td>40</td>\n",
       "      <td>92697</td>\n",
       "      <td>1</td>\n",
       "      <td>1.9</td>\n",
       "      <td>3</td>\n",
       "      <td>0</td>\n",
       "      <td>0</td>\n",
       "      <td>0</td>\n",
       "      <td>1</td>\n",
       "      <td>0</td>\n",
       "      <td>0.0</td>\n",
       "    </tr>\n",
       "    <tr>\n",
       "      <th>4996</th>\n",
       "      <td>4997</td>\n",
       "      <td>30</td>\n",
       "      <td>4</td>\n",
       "      <td>15</td>\n",
       "      <td>92037</td>\n",
       "      <td>4</td>\n",
       "      <td>0.4</td>\n",
       "      <td>1</td>\n",
       "      <td>85</td>\n",
       "      <td>0</td>\n",
       "      <td>0</td>\n",
       "      <td>1</td>\n",
       "      <td>0</td>\n",
       "      <td>0.0</td>\n",
       "    </tr>\n",
       "    <tr>\n",
       "      <th>4997</th>\n",
       "      <td>4998</td>\n",
       "      <td>63</td>\n",
       "      <td>39</td>\n",
       "      <td>24</td>\n",
       "      <td>93023</td>\n",
       "      <td>2</td>\n",
       "      <td>0.3</td>\n",
       "      <td>3</td>\n",
       "      <td>0</td>\n",
       "      <td>0</td>\n",
       "      <td>0</td>\n",
       "      <td>0</td>\n",
       "      <td>0</td>\n",
       "      <td>0.0</td>\n",
       "    </tr>\n",
       "    <tr>\n",
       "      <th>4998</th>\n",
       "      <td>4999</td>\n",
       "      <td>65</td>\n",
       "      <td>40</td>\n",
       "      <td>49</td>\n",
       "      <td>90034</td>\n",
       "      <td>3</td>\n",
       "      <td>0.5</td>\n",
       "      <td>2</td>\n",
       "      <td>0</td>\n",
       "      <td>0</td>\n",
       "      <td>0</td>\n",
       "      <td>1</td>\n",
       "      <td>0</td>\n",
       "      <td>0.0</td>\n",
       "    </tr>\n",
       "    <tr>\n",
       "      <th>4999</th>\n",
       "      <td>5000</td>\n",
       "      <td>28</td>\n",
       "      <td>4</td>\n",
       "      <td>83</td>\n",
       "      <td>92612</td>\n",
       "      <td>3</td>\n",
       "      <td>0.8</td>\n",
       "      <td>1</td>\n",
       "      <td>0</td>\n",
       "      <td>0</td>\n",
       "      <td>0</td>\n",
       "      <td>1</td>\n",
       "      <td>1</td>\n",
       "      <td>0.0</td>\n",
       "    </tr>\n",
       "  </tbody>\n",
       "</table>\n",
       "<p>5000 rows × 14 columns</p>\n",
       "</div>"
      ],
      "text/plain": [
       "        ID  Age  CustomerSince  HighestSpend  ZipCode  HiddenScore  \\\n",
       "0        1   25              1            49    91107            4   \n",
       "1        2   45             19            34    90089            3   \n",
       "2        3   39             15            11    94720            1   \n",
       "3        4   35              9           100    94112            1   \n",
       "4        5   35              8            45    91330            4   \n",
       "...    ...  ...            ...           ...      ...          ...   \n",
       "4995  4996   29              3            40    92697            1   \n",
       "4996  4997   30              4            15    92037            4   \n",
       "4997  4998   63             39            24    93023            2   \n",
       "4998  4999   65             40            49    90034            3   \n",
       "4999  5000   28              4            83    92612            3   \n",
       "\n",
       "      MonthlyAverageSpend  Level  Mortgage  Security  FixedDepositAccount  \\\n",
       "0                     1.6      1         0         1                    0   \n",
       "1                     1.5      1         0         1                    0   \n",
       "2                     1.0      1         0         0                    0   \n",
       "3                     2.7      2         0         0                    0   \n",
       "4                     1.0      2         0         0                    0   \n",
       "...                   ...    ...       ...       ...                  ...   \n",
       "4995                  1.9      3         0         0                    0   \n",
       "4996                  0.4      1        85         0                    0   \n",
       "4997                  0.3      3         0         0                    0   \n",
       "4998                  0.5      2         0         0                    0   \n",
       "4999                  0.8      1         0         0                    0   \n",
       "\n",
       "      InternetBanking  CreditCard  LoanOnCard  \n",
       "0                   0           0         NaN  \n",
       "1                   0           0         NaN  \n",
       "2                   0           0         NaN  \n",
       "3                   0           0         NaN  \n",
       "4                   0           1         NaN  \n",
       "...               ...         ...         ...  \n",
       "4995                1           0         0.0  \n",
       "4996                1           0         0.0  \n",
       "4997                0           0         0.0  \n",
       "4998                1           0         0.0  \n",
       "4999                1           1         0.0  \n",
       "\n",
       "[5000 rows x 14 columns]"
      ]
     },
     "execution_count": 9,
     "metadata": {},
     "output_type": "execute_result"
    }
   ],
   "source": [
    "# Merge both the Dataframes on ‘ID’ feature to form a single DataFrame.\n",
    "\n",
    "data = pd.merge(data1,data2,how='outer',on='ID')\n",
    "data"
   ]
  },
  {
   "cell_type": "code",
   "execution_count": 10,
   "id": "52b64a84",
   "metadata": {},
   "outputs": [
    {
     "data": {
      "text/plain": [
       "ID                       int64\n",
       "Age                      int64\n",
       "CustomerSince            int64\n",
       "HighestSpend             int64\n",
       "ZipCode                  int64\n",
       "HiddenScore             object\n",
       "MonthlyAverageSpend    float64\n",
       "Level                   object\n",
       "Mortgage                 int64\n",
       "Security                object\n",
       "FixedDepositAccount     object\n",
       "InternetBanking         object\n",
       "CreditCard              object\n",
       "LoanOnCard             float64\n",
       "dtype: object"
      ]
     },
     "execution_count": 10,
     "metadata": {},
     "output_type": "execute_result"
    }
   ],
   "source": [
    "# Change Datatype of the features to ‘Object’ - ‘CreditCard’, ‘InternetBanking’, ‘FixedDepositAccount’, ‘Security’, ‘Level’, ‘HiddenScore’ \n",
    "\n",
    "data = data.astype({'CreditCard': str,'InternetBanking': str, 'FixedDepositAccount': str, 'Security':str, 'Level': str, 'HiddenScore': str })\n",
    "data.dtypes"
   ]
  },
  {
   "cell_type": "markdown",
   "id": "87e40424",
   "metadata": {},
   "source": [
    "### 2. DATA EXPLORATION AND ANALYSIS"
   ]
  },
  {
   "cell_type": "code",
   "execution_count": 11,
   "id": "c73b5f6b",
   "metadata": {},
   "outputs": [
    {
     "data": {
      "image/png": "[encoded data removed]",
      "text/plain": [
       "<Figure size 600x800 with 1 Axes>"
      ]
     },
     "metadata": {},
     "output_type": "display_data"
    }
   ],
   "source": [
    "# Visualize distribution of Target variable ‘LoanOnCard’ and clearly share insights.\n",
    "\n",
    "plt.figure(figsize=(6,8))\n",
    "\n",
    "# Create countplot\n",
    "ax = sns.countplot(data=data,x=data['LoanOnCard'],hue='LoanOnCard')\n",
    "\n",
    "# Add labels and title\n",
    "ax.set(xlabel='Loan on Credit Card', ylabel='Count', title='Countplot of Target Variable')\n",
    "\n",
    "# Add data labels on top of each bar\n",
    "for p in ax.patches:\n",
    "    ax.annotate(format(p.get_height(), '.0f'), \n",
    "                (p.get_x() + p.get_width() / 2., p.get_height()), \n",
    "                ha = 'center', va = 'center', \n",
    "                xytext = (0, 10), \n",
    "                textcoords = 'offset points')\n",
    "                \n",
    "# Show plot\n",
    "plt.show()"
   ]
  },
  {
   "cell_type": "markdown",
   "id": "fbba5924",
   "metadata": {},
   "source": [
    "**Observation: We can clearly see imbalanced class distribution from the above plot. Count is very high for Class'0', while it is very less for Class'1'.**"
   ]
  },
  {
   "cell_type": "code",
   "execution_count": 12,
   "id": "8e2abda1",
   "metadata": {},
   "outputs": [
    {
     "name": "stdout",
     "output_type": "stream",
     "text": [
      "ID                     0.0\n",
      "Age                    0.0\n",
      "CustomerSince          0.0\n",
      "HighestSpend           0.0\n",
      "ZipCode                0.0\n",
      "HiddenScore            0.0\n",
      "MonthlyAverageSpend    0.0\n",
      "Level                  0.0\n",
      "Mortgage               0.0\n",
      "Security               0.0\n",
      "FixedDepositAccount    0.0\n",
      "InternetBanking        0.0\n",
      "CreditCard             0.0\n",
      "LoanOnCard             0.4\n",
      "dtype: float64\n"
     ]
    }
   ],
   "source": [
    "# Check the percentage of missing values and impute if required.\n",
    "\n",
    "# Calculate percentage of missing values in each column\n",
    "percent_mv = data.isnull().sum() * 100 / len(data)\n",
    "print(percent_mv)"
   ]
  },
  {
   "cell_type": "markdown",
   "id": "4df89cd9",
   "metadata": {},
   "source": [
    "**Observation: As the percentage of missing values in target variable 'LoanOnCard' is just 0.4%, we decide to impute the missing values with mode.**"
   ]
  },
  {
   "cell_type": "code",
   "execution_count": 13,
   "id": "59451a1d",
   "metadata": {},
   "outputs": [
    {
     "name": "stdout",
     "output_type": "stream",
     "text": [
      "0.0\n"
     ]
    },
    {
     "data": {
      "text/html": [
       "<div>\n",
       "<style scoped>\n",
       "    .dataframe tbody tr th:only-of-type {\n",
       "        vertical-align: middle;\n",
       "    }\n",
       "\n",
       "    .dataframe tbody tr th {\n",
       "        vertical-align: top;\n",
       "    }\n",
       "\n",
       "    .dataframe thead th {\n",
       "        text-align: right;\n",
       "    }\n",
       "</style>\n",
       "<table border=\"1\" class=\"dataframe\">\n",
       "  <thead>\n",
       "    <tr style=\"text-align: right;\">\n",
       "      <th></th>\n",
       "      <th>ID</th>\n",
       "      <th>Age</th>\n",
       "      <th>CustomerSince</th>\n",
       "      <th>HighestSpend</th>\n",
       "      <th>ZipCode</th>\n",
       "      <th>HiddenScore</th>\n",
       "      <th>MonthlyAverageSpend</th>\n",
       "      <th>Level</th>\n",
       "      <th>Mortgage</th>\n",
       "      <th>Security</th>\n",
       "      <th>FixedDepositAccount</th>\n",
       "      <th>InternetBanking</th>\n",
       "      <th>CreditCard</th>\n",
       "      <th>LoanOnCard</th>\n",
       "    </tr>\n",
       "  </thead>\n",
       "  <tbody>\n",
       "    <tr>\n",
       "      <th>0</th>\n",
       "      <td>1</td>\n",
       "      <td>25</td>\n",
       "      <td>1</td>\n",
       "      <td>49</td>\n",
       "      <td>91107</td>\n",
       "      <td>4</td>\n",
       "      <td>1.6</td>\n",
       "      <td>1</td>\n",
       "      <td>0</td>\n",
       "      <td>1</td>\n",
       "      <td>0</td>\n",
       "      <td>0</td>\n",
       "      <td>0</td>\n",
       "      <td>0.0</td>\n",
       "    </tr>\n",
       "    <tr>\n",
       "      <th>1</th>\n",
       "      <td>2</td>\n",
       "      <td>45</td>\n",
       "      <td>19</td>\n",
       "      <td>34</td>\n",
       "      <td>90089</td>\n",
       "      <td>3</td>\n",
       "      <td>1.5</td>\n",
       "      <td>1</td>\n",
       "      <td>0</td>\n",
       "      <td>1</td>\n",
       "      <td>0</td>\n",
       "      <td>0</td>\n",
       "      <td>0</td>\n",
       "      <td>0.0</td>\n",
       "    </tr>\n",
       "    <tr>\n",
       "      <th>2</th>\n",
       "      <td>3</td>\n",
       "      <td>39</td>\n",
       "      <td>15</td>\n",
       "      <td>11</td>\n",
       "      <td>94720</td>\n",
       "      <td>1</td>\n",
       "      <td>1.0</td>\n",
       "      <td>1</td>\n",
       "      <td>0</td>\n",
       "      <td>0</td>\n",
       "      <td>0</td>\n",
       "      <td>0</td>\n",
       "      <td>0</td>\n",
       "      <td>0.0</td>\n",
       "    </tr>\n",
       "    <tr>\n",
       "      <th>3</th>\n",
       "      <td>4</td>\n",
       "      <td>35</td>\n",
       "      <td>9</td>\n",
       "      <td>100</td>\n",
       "      <td>94112</td>\n",
       "      <td>1</td>\n",
       "      <td>2.7</td>\n",
       "      <td>2</td>\n",
       "      <td>0</td>\n",
       "      <td>0</td>\n",
       "      <td>0</td>\n",
       "      <td>0</td>\n",
       "      <td>0</td>\n",
       "      <td>0.0</td>\n",
       "    </tr>\n",
       "    <tr>\n",
       "      <th>4</th>\n",
       "      <td>5</td>\n",
       "      <td>35</td>\n",
       "      <td>8</td>\n",
       "      <td>45</td>\n",
       "      <td>91330</td>\n",
       "      <td>4</td>\n",
       "      <td>1.0</td>\n",
       "      <td>2</td>\n",
       "      <td>0</td>\n",
       "      <td>0</td>\n",
       "      <td>0</td>\n",
       "      <td>0</td>\n",
       "      <td>1</td>\n",
       "      <td>0.0</td>\n",
       "    </tr>\n",
       "  </tbody>\n",
       "</table>\n",
       "</div>"
      ],
      "text/plain": [
       "   ID  Age  CustomerSince  HighestSpend  ZipCode HiddenScore  \\\n",
       "0   1   25              1            49    91107           4   \n",
       "1   2   45             19            34    90089           3   \n",
       "2   3   39             15            11    94720           1   \n",
       "3   4   35              9           100    94112           1   \n",
       "4   5   35              8            45    91330           4   \n",
       "\n",
       "   MonthlyAverageSpend Level  Mortgage Security FixedDepositAccount  \\\n",
       "0                  1.6     1         0        1                   0   \n",
       "1                  1.5     1         0        1                   0   \n",
       "2                  1.0     1         0        0                   0   \n",
       "3                  2.7     2         0        0                   0   \n",
       "4                  1.0     2         0        0                   0   \n",
       "\n",
       "  InternetBanking CreditCard  LoanOnCard  \n",
       "0               0          0         0.0  \n",
       "1               0          0         0.0  \n",
       "2               0          0         0.0  \n",
       "3               0          0         0.0  \n",
       "4               0          1         0.0  "
      ]
     },
     "execution_count": 13,
     "metadata": {},
     "output_type": "execute_result"
    }
   ],
   "source": [
    "# Missing value imputation\n",
    "mode_value = data['LoanOnCard'].mode()[0]\n",
    "print(mode_value)\n",
    "## Let's replace null values with mode_value\n",
    "data['LoanOnCard']=data['LoanOnCard'].fillna(mode_value)\n",
    "data.head()"
   ]
  },
  {
   "cell_type": "code",
   "execution_count": 14,
   "id": "5082f2af",
   "metadata": {},
   "outputs": [
    {
     "data": {
      "text/plain": [
       "ID                     0\n",
       "Age                    0\n",
       "CustomerSince          0\n",
       "HighestSpend           0\n",
       "ZipCode                0\n",
       "HiddenScore            0\n",
       "MonthlyAverageSpend    0\n",
       "Level                  0\n",
       "Mortgage               0\n",
       "Security               0\n",
       "FixedDepositAccount    0\n",
       "InternetBanking        0\n",
       "CreditCard             0\n",
       "LoanOnCard             0\n",
       "dtype: int64"
      ]
     },
     "execution_count": 14,
     "metadata": {},
     "output_type": "execute_result"
    }
   ],
   "source": [
    "data.isnull().sum()"
   ]
  },
  {
   "cell_type": "markdown",
   "id": "6a2d72d5",
   "metadata": {},
   "source": [
    "**Obervation: Now there is no missing values**"
   ]
  },
  {
   "cell_type": "code",
   "execution_count": 15,
   "id": "dad6c948",
   "metadata": {},
   "outputs": [
    {
     "name": "stdout",
     "output_type": "stream",
     "text": [
      "<class 'pandas.core.frame.DataFrame'>\n",
      "RangeIndex: 5000 entries, 0 to 4999\n",
      "Data columns (total 14 columns):\n",
      " #   Column               Non-Null Count  Dtype  \n",
      "---  ------               --------------  -----  \n",
      " 0   ID                   5000 non-null   int64  \n",
      " 1   Age                  5000 non-null   int64  \n",
      " 2   CustomerSince        5000 non-null   int64  \n",
      " 3   HighestSpend         5000 non-null   int64  \n",
      " 4   ZipCode              5000 non-null   int64  \n",
      " 5   HiddenScore          5000 non-null   object \n",
      " 6   MonthlyAverageSpend  5000 non-null   float64\n",
      " 7   Level                5000 non-null   object \n",
      " 8   Mortgage             5000 non-null   int64  \n",
      " 9   Security             5000 non-null   object \n",
      " 10  FixedDepositAccount  5000 non-null   object \n",
      " 11  InternetBanking      5000 non-null   object \n",
      " 12  CreditCard           5000 non-null   object \n",
      " 13  LoanOnCard           5000 non-null   float64\n",
      "dtypes: float64(2), int64(6), object(6)\n",
      "memory usage: 547.0+ KB\n"
     ]
    }
   ],
   "source": [
    "data.info()"
   ]
  },
  {
   "cell_type": "code",
   "execution_count": 16,
   "id": "a2dc18a0",
   "metadata": {},
   "outputs": [
    {
     "name": "stdout",
     "output_type": "stream",
     "text": [
      "Unique values of HiddenScore  ['4' '3' '1' '2']\n",
      "Unique values of Level  ['1' '2' '3']\n",
      "Unique values of Security  ['1' '0']\n",
      "Unique values of FixedDepositAccount  ['0' '1']\n",
      "Unique values of InternetBanking  ['0' '1']\n"
     ]
    }
   ],
   "source": [
    "# Check for unexpected values in each categorical variable and impute with best suitable value.\n",
    "print(\"Unique values of HiddenScore \",data['HiddenScore'].unique())\n",
    "print(\"Unique values of Level \",data['Level'].unique())\n",
    "print(\"Unique values of Security \",data['Security'].unique())\n",
    "print(\"Unique values of FixedDepositAccount \",data['FixedDepositAccount'].unique())\n",
    "print(\"Unique values of InternetBanking \",data['InternetBanking'].unique())"
   ]
  },
  {
   "cell_type": "markdown",
   "id": "a503322b",
   "metadata": {},
   "source": [
    "**Obervation: Now there are no unexpected values in each categorical variable**"
   ]
  },
  {
   "cell_type": "markdown",
   "id": "291e1969",
   "metadata": {},
   "source": [
    "### 3. DATA PREPARATION AND MODEL BUILDING"
   ]
  },
  {
   "cell_type": "code",
   "execution_count": 17,
   "id": "61ff2ba7",
   "metadata": {},
   "outputs": [],
   "source": [
    "# defining a function to compute different metrics to check performance of a classification model built using statsmodels\n",
    "def model_performance_classification_sklearn(\n",
    "    model, predictors, target, threshold=0.5\n",
    "):\n",
    "    \"\"\"\n",
    "    Function to compute different metrics to check classification model performance\n",
    "\n",
    "    model: classifier\n",
    "    predictors: independent variables\n",
    "    target: dependent variable\n",
    "    threshold: threshold for classifying the observation as class 1\n",
    "    \"\"\"\n",
    "\n",
    "    # checking which probabilities are greater than threshold\n",
    "    pred_temp = (model.predict_proba(predictors))[:, 1] > threshold\n",
    "    # rounding off the above values to get classes\n",
    "    pred = np.round(pred_temp)\n",
    "\n",
    "    acc = accuracy_score(target, pred)  # to compute Accuracy\n",
    "    recall = recall_score(target, pred)  # to compute Recall\n",
    "    precision = precision_score(target, pred)  # to compute Precision\n",
    "    f1 = f1_score(target, pred)  # to compute F1-score\n",
    "\n",
    "    # creating a dataframe of metrics\n",
    "    df_perf = pd.DataFrame(\n",
    "        {\"Accuracy\": acc, \"Recall\": recall, \"Precision\": precision, \"F1\": f1,},\n",
    "        index=[0],\n",
    "    )\n",
    "\n",
    "    return df_perf"
   ]
  },
  {
   "cell_type": "code",
   "execution_count": 18,
   "id": "f50ee626",
   "metadata": {},
   "outputs": [],
   "source": [
    "# defining a function to plot the confusion_matrix of a classification model\n",
    "\n",
    "\n",
    "def confusion_matrix_sklearn(model, predictors, target, threshold=0.5):\n",
    "    \"\"\"\n",
    "    To plot the confusion_matrix with percentages\n",
    "\n",
    "    model: classifier\n",
    "    predictors: independent variables\n",
    "    target: dependent variable\n",
    "    threshold: threshold for classifying the observation as class 1\n",
    "    \"\"\"\n",
    "    # checking which probabilities are greater than threshold\n",
    "    pred_temp = (model.predict_proba(predictors))[:, 1] > threshold\n",
    "    # rounding off the above values to get classes\n",
    "    y_pred = np.round(pred_temp)\n",
    "\n",
    "    cm = confusion_matrix(target, y_pred)\n",
    "    labels = np.asarray(\n",
    "        [\n",
    "            [\"{0:0.0f}\".format(item) + \"\\n{0:.2%}\".format(item / cm.flatten().sum())]\n",
    "            for item in cm.flatten()\n",
    "        ]\n",
    "    ).reshape(2, 2)\n",
    "\n",
    "    plt.figure(figsize=(6, 4))\n",
    "    sns.heatmap(cm, annot=labels, fmt=\"\")\n",
    "    plt.ylabel(\"True label\")\n",
    "    plt.xlabel(\"Predicted label\")"
   ]
  },
  {
   "cell_type": "code",
   "execution_count": 19,
   "id": "307218db",
   "metadata": {},
   "outputs": [],
   "source": [
    "# Split data into X and Y.\n",
    "\n",
    "X = data.drop(labels=['ID', 'ZipCode', 'LoanOnCard'], axis=1)\n",
    "y = data['LoanOnCard']"
   ]
  },
  {
   "cell_type": "code",
   "execution_count": 20,
   "id": "16703ba8",
   "metadata": {},
   "outputs": [],
   "source": [
    "# Split data into train and test. Keep 25% data reserved for testing.\n",
    "\n",
    "X_train, X_test, y_train, y_test = train_test_split(X, y, test_size=0.25, random_state=365)"
   ]
  },
  {
   "cell_type": "code",
   "execution_count": 21,
   "id": "a1173b02",
   "metadata": {},
   "outputs": [
    {
     "data": {
      "text/html": [
       "<style>#sk-container-id-1 {color: black;background-color: white;}#sk-container-id-1 pre{padding: 0;}#sk-container-id-1 div.sk-toggleable {background-color: white;}#sk-container-id-1 label.sk-toggleable__label {cursor: pointer;display: block;width: 100%;margin-bottom: 0;padding: 0.3em;box-sizing: border-box;text-align: center;}#sk-container-id-1 label.sk-toggleable__label-arrow:before {content: \"▸\";float: left;margin-right: 0.25em;color: #696969;}#sk-container-id-1 label.sk-toggleable__label-arrow:hover:before {color: black;}#sk-container-id-1 div.sk-estimator:hover label.sk-toggleable__label-arrow:before {color: black;}#sk-container-id-1 div.sk-toggleable__content {max-height: 0;max-width: 0;overflow: hidden;text-align: left;background-color: #f0f8ff;}#sk-container-id-1 div.sk-toggleable__content pre {margin: 0.2em;color: black;border-radius: 0.25em;background-color: #f0f8ff;}#sk-container-id-1 input.sk-toggleable__control:checked~div.sk-toggleable__content {max-height: 200px;max-width: 100%;overflow: auto;}#sk-container-id-1 input.sk-toggleable__control:checked~label.sk-toggleable__label-arrow:before {content: \"▾\";}#sk-container-id-1 div.sk-estimator input.sk-toggleable__control:checked~label.sk-toggleable__label {background-color: #d4ebff;}#sk-container-id-1 div.sk-label input.sk-toggleable__control:checked~label.sk-toggleable__label {background-color: #d4ebff;}#sk-container-id-1 input.sk-hidden--visually {border: 0;clip: rect(1px 1px 1px 1px);clip: rect(1px, 1px, 1px, 1px);height: 1px;margin: -1px;overflow: hidden;padding: 0;position: absolute;width: 1px;}#sk-container-id-1 div.sk-estimator {font-family: monospace;background-color: #f0f8ff;border: 1px dotted black;border-radius: 0.25em;box-sizing: border-box;margin-bottom: 0.5em;}#sk-container-id-1 div.sk-estimator:hover {background-color: #d4ebff;}#sk-container-id-1 div.sk-parallel-item::after {content: \"\";width: 100%;border-bottom: 1px solid gray;flex-grow: 1;}#sk-container-id-1 div.sk-label:hover label.sk-toggleable__label {background-color: #d4ebff;}#sk-container-id-1 div.sk-serial::before {content: \"\";position: absolute;border-left: 1px solid gray;box-sizing: border-box;top: 0;bottom: 0;left: 50%;z-index: 0;}#sk-container-id-1 div.sk-serial {display: flex;flex-direction: column;align-items: center;background-color: white;padding-right: 0.2em;padding-left: 0.2em;position: relative;}#sk-container-id-1 div.sk-item {position: relative;z-index: 1;}#sk-container-id-1 div.sk-parallel {display: flex;align-items: stretch;justify-content: center;background-color: white;position: relative;}#sk-container-id-1 div.sk-item::before, #sk-container-id-1 div.sk-parallel-item::before {content: \"\";position: absolute;border-left: 1px solid gray;box-sizing: border-box;top: 0;bottom: 0;left: 50%;z-index: -1;}#sk-container-id-1 div.sk-parallel-item {display: flex;flex-direction: column;z-index: 1;position: relative;background-color: white;}#sk-container-id-1 div.sk-parallel-item:first-child::after {align-self: flex-end;width: 50%;}#sk-container-id-1 div.sk-parallel-item:last-child::after {align-self: flex-start;width: 50%;}#sk-container-id-1 div.sk-parallel-item:only-child::after {width: 0;}#sk-container-id-1 div.sk-dashed-wrapped {border: 1px dashed gray;margin: 0 0.4em 0.5em 0.4em;box-sizing: border-box;padding-bottom: 0.4em;background-color: white;}#sk-container-id-1 div.sk-label label {font-family: monospace;font-weight: bold;display: inline-block;line-height: 1.2em;}#sk-container-id-1 div.sk-label-container {text-align: center;}#sk-container-id-1 div.sk-container {/* jupyter's `normalize.less` sets `[hidden] { display: none; }` but bootstrap.min.css set `[hidden] { display: none !important; }` so we also need the `!important` here to be able to override the default hidden behavior on the sphinx rendered scikit-learn.org. See: https://github.com/scikit-learn/scikit-learn/issues/21755 */display: inline-block !important;position: relative;}#sk-container-id-1 div.sk-text-repr-fallback {display: none;}</style><div id=\"sk-container-id-1\" class=\"sk-top-container\"><div class=\"sk-text-repr-fallback\"><pre>LogisticRegression(random_state=1, solver=&#x27;newton-cg&#x27;)</pre><b>In a Jupyter environment, please rerun this cell to show the HTML representation or trust the notebook. <br />On GitHub, the HTML representation is unable to render, please try loading this page with nbviewer.org.</b></div><div class=\"sk-container\" hidden><div class=\"sk-item\"><div class=\"sk-estimator sk-toggleable\"><input class=\"sk-toggleable__control sk-hidden--visually\" id=\"sk-estimator-id-1\" type=\"checkbox\" checked><label for=\"sk-estimator-id-1\" class=\"sk-toggleable__label sk-toggleable__label-arrow\">LogisticRegression</label><div class=\"sk-toggleable__content\"><pre>LogisticRegression(random_state=1, solver=&#x27;newton-cg&#x27;)</pre></div></div></div></div></div>"
      ],
      "text/plain": [
       "LogisticRegression(random_state=1, solver='newton-cg')"
      ]
     },
     "execution_count": 21,
     "metadata": {},
     "output_type": "execute_result"
    }
   ],
   "source": [
    "# Train a Supervised Learning Classification base model - Logistic Regression.\n",
    "\n",
    "lr = LogisticRegression(solver=\"newton-cg\", random_state=1)\n",
    "lr.fit(X_train, y_train)"
   ]
  },
  {
   "cell_type": "code",
   "execution_count": 22,
   "id": "bb06eb10",
   "metadata": {},
   "outputs": [
    {
     "data": {
      "image/png": "[encoded data removed]",
      "text/plain": [
       "<Figure size 600x400 with 2 Axes>"
      ]
     },
     "metadata": {},
     "output_type": "display_data"
    }
   ],
   "source": [
    "confusion_matrix_sklearn(lr, X_train, y_train)"
   ]
  },
  {
   "cell_type": "code",
   "execution_count": 23,
   "id": "fdaf099a",
   "metadata": {},
   "outputs": [
    {
     "name": "stdout",
     "output_type": "stream",
     "text": [
      "Training performance:\n"
     ]
    },
    {
     "data": {
      "text/html": [
       "<div>\n",
       "<style scoped>\n",
       "    .dataframe tbody tr th:only-of-type {\n",
       "        vertical-align: middle;\n",
       "    }\n",
       "\n",
       "    .dataframe tbody tr th {\n",
       "        vertical-align: top;\n",
       "    }\n",
       "\n",
       "    .dataframe thead th {\n",
       "        text-align: right;\n",
       "    }\n",
       "</style>\n",
       "<table border=\"1\" class=\"dataframe\">\n",
       "  <thead>\n",
       "    <tr style=\"text-align: right;\">\n",
       "      <th></th>\n",
       "      <th>Accuracy</th>\n",
       "      <th>Recall</th>\n",
       "      <th>Precision</th>\n",
       "      <th>F1</th>\n",
       "    </tr>\n",
       "  </thead>\n",
       "  <tbody>\n",
       "    <tr>\n",
       "      <th>0</th>\n",
       "      <td>0.9512</td>\n",
       "      <td>0.614286</td>\n",
       "      <td>0.81749</td>\n",
       "      <td>0.701468</td>\n",
       "    </tr>\n",
       "  </tbody>\n",
       "</table>\n",
       "</div>"
      ],
      "text/plain": [
       "   Accuracy    Recall  Precision        F1\n",
       "0    0.9512  0.614286    0.81749  0.701468"
      ]
     },
     "execution_count": 23,
     "metadata": {},
     "output_type": "execute_result"
    }
   ],
   "source": [
    "# checking model performance for this model\n",
    "log_reg_model_train_perf = model_performance_classification_sklearn(\n",
    "    lr, X_train, y_train\n",
    ")\n",
    "print(\"Training performance:\")\n",
    "log_reg_model_train_perf"
   ]
  },
  {
   "cell_type": "code",
   "execution_count": 24,
   "id": "83d9d8f5",
   "metadata": {},
   "outputs": [],
   "source": [
    "predicted=lr.predict(X_test)"
   ]
  },
  {
   "cell_type": "code",
   "execution_count": 25,
   "id": "72accdc1",
   "metadata": {},
   "outputs": [
    {
     "name": "stdout",
     "output_type": "stream",
     "text": [
      "Test performance:\n"
     ]
    },
    {
     "data": {
      "text/html": [
       "<div>\n",
       "<style scoped>\n",
       "    .dataframe tbody tr th:only-of-type {\n",
       "        vertical-align: middle;\n",
       "    }\n",
       "\n",
       "    .dataframe tbody tr th {\n",
       "        vertical-align: top;\n",
       "    }\n",
       "\n",
       "    .dataframe thead th {\n",
       "        text-align: right;\n",
       "    }\n",
       "</style>\n",
       "<table border=\"1\" class=\"dataframe\">\n",
       "  <thead>\n",
       "    <tr style=\"text-align: right;\">\n",
       "      <th></th>\n",
       "      <th>Accuracy</th>\n",
       "      <th>Recall</th>\n",
       "      <th>Precision</th>\n",
       "      <th>F1</th>\n",
       "    </tr>\n",
       "  </thead>\n",
       "  <tbody>\n",
       "    <tr>\n",
       "      <th>0</th>\n",
       "      <td>0.948</td>\n",
       "      <td>0.6</td>\n",
       "      <td>0.857143</td>\n",
       "      <td>0.705882</td>\n",
       "    </tr>\n",
       "  </tbody>\n",
       "</table>\n",
       "</div>"
      ],
      "text/plain": [
       "   Accuracy  Recall  Precision        F1\n",
       "0     0.948     0.6   0.857143  0.705882"
      ]
     },
     "execution_count": 25,
     "metadata": {},
     "output_type": "execute_result"
    }
   ],
   "source": [
    "# checking model performance for this model\n",
    "log_reg_model_test_perf = model_performance_classification_sklearn(\n",
    "    lr, X_test, y_test\n",
    ")\n",
    "print(\"Test performance:\")\n",
    "log_reg_model_test_perf"
   ]
  },
  {
   "cell_type": "code",
   "execution_count": 26,
   "id": "b917301c",
   "metadata": {},
   "outputs": [
    {
     "name": "stdout",
     "output_type": "stream",
     "text": [
      "Classification Report:  \n",
      "               precision    recall  f1-score   support\n",
      "\n",
      "         0.0       0.96      0.99      0.97      1120\n",
      "         1.0       0.86      0.60      0.71       130\n",
      "\n",
      "    accuracy                           0.95      1250\n",
      "   macro avg       0.91      0.79      0.84      1250\n",
      "weighted avg       0.94      0.95      0.94      1250\n",
      "\n"
     ]
    }
   ],
   "source": [
    "print('Classification Report:  \\n',classification_report(y_test, predicted))"
   ]
  },
  {
   "cell_type": "code",
   "execution_count": 27,
   "id": "3dff7100",
   "metadata": {},
   "outputs": [
    {
     "name": "stdout",
     "output_type": "stream",
     "text": [
      "ROC_AUC score: 0.79\n"
     ]
    }
   ],
   "source": [
    "print('ROC_AUC score:', roc_auc_score(y_test, predicted).round(2))"
   ]
  },
  {
   "cell_type": "markdown",
   "id": "ad510c39",
   "metadata": {},
   "source": [
    "**Observation:**\n",
    "> **The model has a low recall  on the training and test sets.**\n",
    "\n",
    "> **Though the accuracy is 95%, the recall of minority class is very less. So we can say that our model is biased towards majority class.**"
   ]
  },
  {
   "cell_type": "code",
   "execution_count": 28,
   "id": "2e7d6d99",
   "metadata": {},
   "outputs": [
    {
     "data": {
      "text/plain": [
       "LoanOnCard\n",
       "0.0    90.4\n",
       "1.0     9.6\n",
       "Name: count, dtype: float64"
      ]
     },
     "execution_count": 28,
     "metadata": {},
     "output_type": "execute_result"
    }
   ],
   "source": [
    "# Check the distribution of the target variable\n",
    "percent_dist_tv = (data.LoanOnCard.value_counts()/data.LoanOnCard.value_counts().sum())*100\n",
    "percent_dist_tv"
   ]
  },
  {
   "cell_type": "markdown",
   "id": "2eb8344d",
   "metadata": {},
   "source": [
    "**Observations :**\n",
    "> **We can see imbalanced distribution of classes in the target variable.**\n",
    "\n",
    "> **90.4% belong to class'0.0' and 9.6% belong to class'1.0'.**\n",
    "\n",
    "> **To overcome this problem we will use oversampling technique called SMOTE.**"
   ]
  },
  {
   "cell_type": "code",
   "execution_count": 29,
   "id": "ad32c7c3",
   "metadata": {},
   "outputs": [],
   "source": [
    "# balance the target variable as 50:50\n",
    "\n",
    "from imblearn.over_sampling import SMOTE\n",
    "smote = SMOTE()\n",
    "X_train_res, y_train_res = smote.fit_resample(X_train, y_train)"
   ]
  },
  {
   "cell_type": "code",
   "execution_count": 30,
   "id": "aeff472b",
   "metadata": {},
   "outputs": [
    {
     "data": {
      "text/plain": [
       "LoanOnCard\n",
       "0.0    3400\n",
       "1.0    3400\n",
       "Name: count, dtype: int64"
      ]
     },
     "execution_count": 30,
     "metadata": {},
     "output_type": "execute_result"
    }
   ],
   "source": [
    "y_train_res.value_counts()"
   ]
  },
  {
   "cell_type": "markdown",
   "id": "5f784127",
   "metadata": {},
   "source": [
    "**Thus, we have balanced the target variable as 50:50.**"
   ]
  },
  {
   "cell_type": "code",
   "execution_count": 31,
   "id": "6e0fc08f",
   "metadata": {},
   "outputs": [
    {
     "data": {
      "text/html": [
       "<style>#sk-container-id-2 {color: black;background-color: white;}#sk-container-id-2 pre{padding: 0;}#sk-container-id-2 div.sk-toggleable {background-color: white;}#sk-container-id-2 label.sk-toggleable__label {cursor: pointer;display: block;width: 100%;margin-bottom: 0;padding: 0.3em;box-sizing: border-box;text-align: center;}#sk-container-id-2 label.sk-toggleable__label-arrow:before {content: \"▸\";float: left;margin-right: 0.25em;color: #696969;}#sk-container-id-2 label.sk-toggleable__label-arrow:hover:before {color: black;}#sk-container-id-2 div.sk-estimator:hover label.sk-toggleable__label-arrow:before {color: black;}#sk-container-id-2 div.sk-toggleable__content {max-height: 0;max-width: 0;overflow: hidden;text-align: left;background-color: #f0f8ff;}#sk-container-id-2 div.sk-toggleable__content pre {margin: 0.2em;color: black;border-radius: 0.25em;background-color: #f0f8ff;}#sk-container-id-2 input.sk-toggleable__control:checked~div.sk-toggleable__content {max-height: 200px;max-width: 100%;overflow: auto;}#sk-container-id-2 input.sk-toggleable__control:checked~label.sk-toggleable__label-arrow:before {content: \"▾\";}#sk-container-id-2 div.sk-estimator input.sk-toggleable__control:checked~label.sk-toggleable__label {background-color: #d4ebff;}#sk-container-id-2 div.sk-label input.sk-toggleable__control:checked~label.sk-toggleable__label {background-color: #d4ebff;}#sk-container-id-2 input.sk-hidden--visually {border: 0;clip: rect(1px 1px 1px 1px);clip: rect(1px, 1px, 1px, 1px);height: 1px;margin: -1px;overflow: hidden;padding: 0;position: absolute;width: 1px;}#sk-container-id-2 div.sk-estimator {font-family: monospace;background-color: #f0f8ff;border: 1px dotted black;border-radius: 0.25em;box-sizing: border-box;margin-bottom: 0.5em;}#sk-container-id-2 div.sk-estimator:hover {background-color: #d4ebff;}#sk-container-id-2 div.sk-parallel-item::after {content: \"\";width: 100%;border-bottom: 1px solid gray;flex-grow: 1;}#sk-container-id-2 div.sk-label:hover label.sk-toggleable__label {background-color: #d4ebff;}#sk-container-id-2 div.sk-serial::before {content: \"\";position: absolute;border-left: 1px solid gray;box-sizing: border-box;top: 0;bottom: 0;left: 50%;z-index: 0;}#sk-container-id-2 div.sk-serial {display: flex;flex-direction: column;align-items: center;background-color: white;padding-right: 0.2em;padding-left: 0.2em;position: relative;}#sk-container-id-2 div.sk-item {position: relative;z-index: 1;}#sk-container-id-2 div.sk-parallel {display: flex;align-items: stretch;justify-content: center;background-color: white;position: relative;}#sk-container-id-2 div.sk-item::before, #sk-container-id-2 div.sk-parallel-item::before {content: \"\";position: absolute;border-left: 1px solid gray;box-sizing: border-box;top: 0;bottom: 0;left: 50%;z-index: -1;}#sk-container-id-2 div.sk-parallel-item {display: flex;flex-direction: column;z-index: 1;position: relative;background-color: white;}#sk-container-id-2 div.sk-parallel-item:first-child::after {align-self: flex-end;width: 50%;}#sk-container-id-2 div.sk-parallel-item:last-child::after {align-self: flex-start;width: 50%;}#sk-container-id-2 div.sk-parallel-item:only-child::after {width: 0;}#sk-container-id-2 div.sk-dashed-wrapped {border: 1px dashed gray;margin: 0 0.4em 0.5em 0.4em;box-sizing: border-box;padding-bottom: 0.4em;background-color: white;}#sk-container-id-2 div.sk-label label {font-family: monospace;font-weight: bold;display: inline-block;line-height: 1.2em;}#sk-container-id-2 div.sk-label-container {text-align: center;}#sk-container-id-2 div.sk-container {/* jupyter's `normalize.less` sets `[hidden] { display: none; }` but bootstrap.min.css set `[hidden] { display: none !important; }` so we also need the `!important` here to be able to override the default hidden behavior on the sphinx rendered scikit-learn.org. See: https://github.com/scikit-learn/scikit-learn/issues/21755 */display: inline-block !important;position: relative;}#sk-container-id-2 div.sk-text-repr-fallback {display: none;}</style><div id=\"sk-container-id-2\" class=\"sk-top-container\"><div class=\"sk-text-repr-fallback\"><pre>LogisticRegression(random_state=1, solver=&#x27;newton-cg&#x27;)</pre><b>In a Jupyter environment, please rerun this cell to show the HTML representation or trust the notebook. <br />On GitHub, the HTML representation is unable to render, please try loading this page with nbviewer.org.</b></div><div class=\"sk-container\" hidden><div class=\"sk-item\"><div class=\"sk-estimator sk-toggleable\"><input class=\"sk-toggleable__control sk-hidden--visually\" id=\"sk-estimator-id-2\" type=\"checkbox\" checked><label for=\"sk-estimator-id-2\" class=\"sk-toggleable__label sk-toggleable__label-arrow\">LogisticRegression</label><div class=\"sk-toggleable__content\"><pre>LogisticRegression(random_state=1, solver=&#x27;newton-cg&#x27;)</pre></div></div></div></div></div>"
      ],
      "text/plain": [
       "LogisticRegression(random_state=1, solver='newton-cg')"
      ]
     },
     "execution_count": 31,
     "metadata": {},
     "output_type": "execute_result"
    }
   ],
   "source": [
    "lr.fit(X_train_res,y_train_res)"
   ]
  },
  {
   "cell_type": "code",
   "execution_count": 32,
   "id": "d7f560f0",
   "metadata": {},
   "outputs": [
    {
     "name": "stdout",
     "output_type": "stream",
     "text": [
      "Training performance:\n"
     ]
    },
    {
     "data": {
      "text/html": [
       "<div>\n",
       "<style scoped>\n",
       "    .dataframe tbody tr th:only-of-type {\n",
       "        vertical-align: middle;\n",
       "    }\n",
       "\n",
       "    .dataframe tbody tr th {\n",
       "        vertical-align: top;\n",
       "    }\n",
       "\n",
       "    .dataframe thead th {\n",
       "        text-align: right;\n",
       "    }\n",
       "</style>\n",
       "<table border=\"1\" class=\"dataframe\">\n",
       "  <thead>\n",
       "    <tr style=\"text-align: right;\">\n",
       "      <th></th>\n",
       "      <th>Accuracy</th>\n",
       "      <th>Recall</th>\n",
       "      <th>Precision</th>\n",
       "      <th>F1</th>\n",
       "    </tr>\n",
       "  </thead>\n",
       "  <tbody>\n",
       "    <tr>\n",
       "      <th>0</th>\n",
       "      <td>0.907353</td>\n",
       "      <td>0.913824</td>\n",
       "      <td>0.902149</td>\n",
       "      <td>0.907949</td>\n",
       "    </tr>\n",
       "  </tbody>\n",
       "</table>\n",
       "</div>"
      ],
      "text/plain": [
       "   Accuracy    Recall  Precision        F1\n",
       "0  0.907353  0.913824   0.902149  0.907949"
      ]
     },
     "execution_count": 32,
     "metadata": {},
     "output_type": "execute_result"
    }
   ],
   "source": [
    "# Print evaluation metrics and clearly share differences observed.\n",
    "# checking model performance for this model\n",
    "log_reg_model_train_perf = model_performance_classification_sklearn(\n",
    "    lr, X_train_res, y_train_res\n",
    ")\n",
    "print(\"Training performance:\")\n",
    "log_reg_model_train_perf"
   ]
  },
  {
   "cell_type": "code",
   "execution_count": 33,
   "id": "751f44dd",
   "metadata": {},
   "outputs": [
    {
     "data": {
      "image/png": "[encoded data removed]",
      "text/plain": [
       "<Figure size 600x400 with 2 Axes>"
      ]
     },
     "metadata": {},
     "output_type": "display_data"
    }
   ],
   "source": [
    "confusion_matrix_sklearn(lr, X_train_res, y_train_res)"
   ]
  },
  {
   "cell_type": "code",
   "execution_count": 34,
   "id": "9e0226b8",
   "metadata": {},
   "outputs": [],
   "source": [
    "predicted_res=lr.predict(X_test)"
   ]
  },
  {
   "cell_type": "code",
   "execution_count": 35,
   "id": "d98a9609",
   "metadata": {},
   "outputs": [
    {
     "name": "stdout",
     "output_type": "stream",
     "text": [
      "Test performance:\n"
     ]
    },
    {
     "data": {
      "text/html": [
       "<div>\n",
       "<style scoped>\n",
       "    .dataframe tbody tr th:only-of-type {\n",
       "        vertical-align: middle;\n",
       "    }\n",
       "\n",
       "    .dataframe tbody tr th {\n",
       "        vertical-align: top;\n",
       "    }\n",
       "\n",
       "    .dataframe thead th {\n",
       "        text-align: right;\n",
       "    }\n",
       "</style>\n",
       "<table border=\"1\" class=\"dataframe\">\n",
       "  <thead>\n",
       "    <tr style=\"text-align: right;\">\n",
       "      <th></th>\n",
       "      <th>Accuracy</th>\n",
       "      <th>Recall</th>\n",
       "      <th>Precision</th>\n",
       "      <th>F1</th>\n",
       "    </tr>\n",
       "  </thead>\n",
       "  <tbody>\n",
       "    <tr>\n",
       "      <th>0</th>\n",
       "      <td>0.9112</td>\n",
       "      <td>0.861538</td>\n",
       "      <td>0.546341</td>\n",
       "      <td>0.668657</td>\n",
       "    </tr>\n",
       "  </tbody>\n",
       "</table>\n",
       "</div>"
      ],
      "text/plain": [
       "   Accuracy    Recall  Precision        F1\n",
       "0    0.9112  0.861538   0.546341  0.668657"
      ]
     },
     "execution_count": 35,
     "metadata": {},
     "output_type": "execute_result"
    }
   ],
   "source": [
    "# checking model performance for this model\n",
    "log_reg_model_test_perf = model_performance_classification_sklearn(\n",
    "    lr, X_test, y_test\n",
    ")\n",
    "print(\"Test performance:\")\n",
    "log_reg_model_test_perf"
   ]
  },
  {
   "cell_type": "code",
   "execution_count": 36,
   "id": "68e8647b",
   "metadata": {},
   "outputs": [
    {
     "name": "stdout",
     "output_type": "stream",
     "text": [
      "Classification Report:  \n",
      "               precision    recall  f1-score   support\n",
      "\n",
      "         0.0       0.98      0.92      0.95      1120\n",
      "         1.0       0.55      0.86      0.67       130\n",
      "\n",
      "    accuracy                           0.91      1250\n",
      "   macro avg       0.76      0.89      0.81      1250\n",
      "weighted avg       0.94      0.91      0.92      1250\n",
      "\n",
      "\n",
      "\n",
      "ROC_AUC score: 0.89\n"
     ]
    }
   ],
   "source": [
    "print('Classification Report:  \\n', classification_report(y_test, predicted_res))\n",
    "print('\\n')\n",
    "print('ROC_AUC score:', roc_auc_score(y_test, predicted_res).round(2))"
   ]
  },
  {
   "cell_type": "markdown",
   "id": "51890f93",
   "metadata": {},
   "source": [
    "**Observations:**\n",
    "> **The accuracy has decreased a little bit, but the recall score has increased for the minority class.**\n",
    "\n",
    "> **ROC_AUC score has improved from 0.79 to 0.89.**"
   ]
  },
  {
   "cell_type": "markdown",
   "id": "34daaa4a",
   "metadata": {},
   "source": [
    "### 4. PERFORMANCE IMPROVEMENT"
   ]
  },
  {
   "cell_type": "code",
   "execution_count": 39,
   "id": "77cf7857",
   "metadata": {},
   "outputs": [
    {
     "data": {
      "text/html": [
       "<style>#sk-container-id-4 {color: black;background-color: white;}#sk-container-id-4 pre{padding: 0;}#sk-container-id-4 div.sk-toggleable {background-color: white;}#sk-container-id-4 label.sk-toggleable__label {cursor: pointer;display: block;width: 100%;margin-bottom: 0;padding: 0.3em;box-sizing: border-box;text-align: center;}#sk-container-id-4 label.sk-toggleable__label-arrow:before {content: \"▸\";float: left;margin-right: 0.25em;color: #696969;}#sk-container-id-4 label.sk-toggleable__label-arrow:hover:before {color: black;}#sk-container-id-4 div.sk-estimator:hover label.sk-toggleable__label-arrow:before {color: black;}#sk-container-id-4 div.sk-toggleable__content {max-height: 0;max-width: 0;overflow: hidden;text-align: left;background-color: #f0f8ff;}#sk-container-id-4 div.sk-toggleable__content pre {margin: 0.2em;color: black;border-radius: 0.25em;background-color: #f0f8ff;}#sk-container-id-4 input.sk-toggleable__control:checked~div.sk-toggleable__content {max-height: 200px;max-width: 100%;overflow: auto;}#sk-container-id-4 input.sk-toggleable__control:checked~label.sk-toggleable__label-arrow:before {content: \"▾\";}#sk-container-id-4 div.sk-estimator input.sk-toggleable__control:checked~label.sk-toggleable__label {background-color: #d4ebff;}#sk-container-id-4 div.sk-label input.sk-toggleable__control:checked~label.sk-toggleable__label {background-color: #d4ebff;}#sk-container-id-4 input.sk-hidden--visually {border: 0;clip: rect(1px 1px 1px 1px);clip: rect(1px, 1px, 1px, 1px);height: 1px;margin: -1px;overflow: hidden;padding: 0;position: absolute;width: 1px;}#sk-container-id-4 div.sk-estimator {font-family: monospace;background-color: #f0f8ff;border: 1px dotted black;border-radius: 0.25em;box-sizing: border-box;margin-bottom: 0.5em;}#sk-container-id-4 div.sk-estimator:hover {background-color: #d4ebff;}#sk-container-id-4 div.sk-parallel-item::after {content: \"\";width: 100%;border-bottom: 1px solid gray;flex-grow: 1;}#sk-container-id-4 div.sk-label:hover label.sk-toggleable__label {background-color: #d4ebff;}#sk-container-id-4 div.sk-serial::before {content: \"\";position: absolute;border-left: 1px solid gray;box-sizing: border-box;top: 0;bottom: 0;left: 50%;z-index: 0;}#sk-container-id-4 div.sk-serial {display: flex;flex-direction: column;align-items: center;background-color: white;padding-right: 0.2em;padding-left: 0.2em;position: relative;}#sk-container-id-4 div.sk-item {position: relative;z-index: 1;}#sk-container-id-4 div.sk-parallel {display: flex;align-items: stretch;justify-content: center;background-color: white;position: relative;}#sk-container-id-4 div.sk-item::before, #sk-container-id-4 div.sk-parallel-item::before {content: \"\";position: absolute;border-left: 1px solid gray;box-sizing: border-box;top: 0;bottom: 0;left: 50%;z-index: -1;}#sk-container-id-4 div.sk-parallel-item {display: flex;flex-direction: column;z-index: 1;position: relative;background-color: white;}#sk-container-id-4 div.sk-parallel-item:first-child::after {align-self: flex-end;width: 50%;}#sk-container-id-4 div.sk-parallel-item:last-child::after {align-self: flex-start;width: 50%;}#sk-container-id-4 div.sk-parallel-item:only-child::after {width: 0;}#sk-container-id-4 div.sk-dashed-wrapped {border: 1px dashed gray;margin: 0 0.4em 0.5em 0.4em;box-sizing: border-box;padding-bottom: 0.4em;background-color: white;}#sk-container-id-4 div.sk-label label {font-family: monospace;font-weight: bold;display: inline-block;line-height: 1.2em;}#sk-container-id-4 div.sk-label-container {text-align: center;}#sk-container-id-4 div.sk-container {/* jupyter's `normalize.less` sets `[hidden] { display: none; }` but bootstrap.min.css set `[hidden] { display: none !important; }` so we also need the `!important` here to be able to override the default hidden behavior on the sphinx rendered scikit-learn.org. See: https://github.com/scikit-learn/scikit-learn/issues/21755 */display: inline-block !important;position: relative;}#sk-container-id-4 div.sk-text-repr-fallback {display: none;}</style><div id=\"sk-container-id-4\" class=\"sk-top-container\"><div class=\"sk-text-repr-fallback\"><pre>SVC(probability=True, random_state=42)</pre><b>In a Jupyter environment, please rerun this cell to show the HTML representation or trust the notebook. <br />On GitHub, the HTML representation is unable to render, please try loading this page with nbviewer.org.</b></div><div class=\"sk-container\" hidden><div class=\"sk-item\"><div class=\"sk-estimator sk-toggleable\"><input class=\"sk-toggleable__control sk-hidden--visually\" id=\"sk-estimator-id-4\" type=\"checkbox\" checked><label for=\"sk-estimator-id-4\" class=\"sk-toggleable__label sk-toggleable__label-arrow\">SVC</label><div class=\"sk-toggleable__content\"><pre>SVC(probability=True, random_state=42)</pre></div></div></div></div></div>"
      ],
      "text/plain": [
       "SVC(probability=True, random_state=42)"
      ]
     },
     "execution_count": 39,
     "metadata": {},
     "output_type": "execute_result"
    }
   ],
   "source": [
    "#Train a base model each for SVM\n",
    "svm_base = SVC(probability=True,random_state=42)\n",
    "svm_base.fit(X_train,y_train)"
   ]
  },
  {
   "cell_type": "code",
   "execution_count": 40,
   "id": "89a35a21",
   "metadata": {},
   "outputs": [
    {
     "data": {
      "image/png": "[encoded data removed]",
      "text/plain": [
       "<Figure size 600x400 with 2 Axes>"
      ]
     },
     "metadata": {},
     "output_type": "display_data"
    }
   ],
   "source": [
    "confusion_matrix_sklearn(svm_base, X_train, y_train)"
   ]
  },
  {
   "cell_type": "code",
   "execution_count": 41,
   "id": "02e53f44",
   "metadata": {},
   "outputs": [
    {
     "data": {
      "image/png": "[encoded data removed]",
      "text/plain": [
       "<Figure size 600x400 with 2 Axes>"
      ]
     },
     "metadata": {},
     "output_type": "display_data"
    }
   ],
   "source": [
    "confusion_matrix_sklearn(model=svm_base,predictors= X_test, target=y_test)"
   ]
  },
  {
   "cell_type": "code",
   "execution_count": 42,
   "id": "bcaf912e",
   "metadata": {},
   "outputs": [
    {
     "name": "stdout",
     "output_type": "stream",
     "text": [
      "Training performance:\n"
     ]
    },
    {
     "data": {
      "text/html": [
       "<div>\n",
       "<style scoped>\n",
       "    .dataframe tbody tr th:only-of-type {\n",
       "        vertical-align: middle;\n",
       "    }\n",
       "\n",
       "    .dataframe tbody tr th {\n",
       "        vertical-align: top;\n",
       "    }\n",
       "\n",
       "    .dataframe thead th {\n",
       "        text-align: right;\n",
       "    }\n",
       "</style>\n",
       "<table border=\"1\" class=\"dataframe\">\n",
       "  <thead>\n",
       "    <tr style=\"text-align: right;\">\n",
       "      <th></th>\n",
       "      <th>Accuracy</th>\n",
       "      <th>Recall</th>\n",
       "      <th>Precision</th>\n",
       "      <th>F1</th>\n",
       "    </tr>\n",
       "  </thead>\n",
       "  <tbody>\n",
       "    <tr>\n",
       "      <th>0</th>\n",
       "      <td>0.911467</td>\n",
       "      <td>0.108571</td>\n",
       "      <td>0.655172</td>\n",
       "      <td>0.186275</td>\n",
       "    </tr>\n",
       "  </tbody>\n",
       "</table>\n",
       "</div>"
      ],
      "text/plain": [
       "   Accuracy    Recall  Precision        F1\n",
       "0  0.911467  0.108571   0.655172  0.186275"
      ]
     },
     "execution_count": 42,
     "metadata": {},
     "output_type": "execute_result"
    }
   ],
   "source": [
    "print(\"Training performance:\")\n",
    "model_lin_kern = model_performance_classification_sklearn(model=svm_base, predictors=X_train, target=y_train)\n",
    "model_lin_kern"
   ]
  },
  {
   "cell_type": "code",
   "execution_count": 43,
   "id": "44323b4b",
   "metadata": {},
   "outputs": [
    {
     "name": "stdout",
     "output_type": "stream",
     "text": [
      "Test performance:\n"
     ]
    },
    {
     "data": {
      "text/html": [
       "<div>\n",
       "<style scoped>\n",
       "    .dataframe tbody tr th:only-of-type {\n",
       "        vertical-align: middle;\n",
       "    }\n",
       "\n",
       "    .dataframe tbody tr th {\n",
       "        vertical-align: top;\n",
       "    }\n",
       "\n",
       "    .dataframe thead th {\n",
       "        text-align: right;\n",
       "    }\n",
       "</style>\n",
       "<table border=\"1\" class=\"dataframe\">\n",
       "  <thead>\n",
       "    <tr style=\"text-align: right;\">\n",
       "      <th></th>\n",
       "      <th>Accuracy</th>\n",
       "      <th>Recall</th>\n",
       "      <th>Precision</th>\n",
       "      <th>F1</th>\n",
       "    </tr>\n",
       "  </thead>\n",
       "  <tbody>\n",
       "    <tr>\n",
       "      <th>0</th>\n",
       "      <td>0.9056</td>\n",
       "      <td>0.115385</td>\n",
       "      <td>0.833333</td>\n",
       "      <td>0.202703</td>\n",
       "    </tr>\n",
       "  </tbody>\n",
       "</table>\n",
       "</div>"
      ],
      "text/plain": [
       "   Accuracy    Recall  Precision        F1\n",
       "0    0.9056  0.115385   0.833333  0.202703"
      ]
     },
     "execution_count": 43,
     "metadata": {},
     "output_type": "execute_result"
    }
   ],
   "source": [
    "print(\"Test performance:\")\n",
    "model_lin_kern_test = model_performance_classification_sklearn(model=svm_base, predictors=X_test, target=y_test)\n",
    "model_lin_kern_test"
   ]
  },
  {
   "cell_type": "markdown",
   "id": "2c90af13",
   "metadata": {},
   "source": [
    "**Observation: We can see from performance report that Accuracy and Precision is high but Recall and F1 score is quite low**"
   ]
  },
  {
   "cell_type": "code",
   "execution_count": 44,
   "id": "366877ca",
   "metadata": {},
   "outputs": [],
   "source": [
    "# Tune parameters for each of the models wherever required and finalize a model.\n",
    "\n",
    "# Tune parameters for svm model with default kernel 'rbf' using different values of 'C' and 'gamma'\n",
    "c_values = []\n",
    "gamma_values = []\n",
    "accuracy = []\n",
    "precision = []\n",
    "recall = []\n",
    "f1_score_list = []\n",
    "\n",
    "C = [0.001,0.01,0.1,1,100,1000]\n",
    "gamma = [0.001,0.01,0.1,1,100,1000]\n",
    "for i in C:\n",
    "    for j in gamma:\n",
    "        svm_model = SVC(C=i, gamma=j,probability=True,random_state=42)\n",
    "        svm_model.fit(X_train, y_train)\n",
    "        pred = svm_model.predict(X_test)\n",
    "        c_values.append(i)\n",
    "        gamma_values.append(j)\n",
    "        accuracy.append(accuracy_score(y_test,pred))\n",
    "        precision.append(precision_score(y_test,pred, zero_division=0))\n",
    "        recall.append(recall_score(y_test,pred))\n",
    "        f1_score_list.append(f1_score(y_test, pred))"
   ]
  },
  {
   "cell_type": "code",
   "execution_count": 45,
   "id": "2f17268c",
   "metadata": {},
   "outputs": [
    {
     "data": {
      "text/html": [
       "<div>\n",
       "<style scoped>\n",
       "    .dataframe tbody tr th:only-of-type {\n",
       "        vertical-align: middle;\n",
       "    }\n",
       "\n",
       "    .dataframe tbody tr th {\n",
       "        vertical-align: top;\n",
       "    }\n",
       "\n",
       "    .dataframe thead th {\n",
       "        text-align: right;\n",
       "    }\n",
       "</style>\n",
       "<table border=\"1\" class=\"dataframe\">\n",
       "  <thead>\n",
       "    <tr style=\"text-align: right;\">\n",
       "      <th></th>\n",
       "      <th>C</th>\n",
       "      <th>Gamma</th>\n",
       "      <th>Accuracy</th>\n",
       "      <th>Precision</th>\n",
       "      <th>Recall</th>\n",
       "      <th>f1-score</th>\n",
       "    </tr>\n",
       "  </thead>\n",
       "  <tbody>\n",
       "    <tr>\n",
       "      <th>0</th>\n",
       "      <td>0.001</td>\n",
       "      <td>0.001</td>\n",
       "      <td>0.8960</td>\n",
       "      <td>0.000000</td>\n",
       "      <td>0.000000</td>\n",
       "      <td>0.000000</td>\n",
       "    </tr>\n",
       "    <tr>\n",
       "      <th>1</th>\n",
       "      <td>0.001</td>\n",
       "      <td>0.010</td>\n",
       "      <td>0.8960</td>\n",
       "      <td>0.000000</td>\n",
       "      <td>0.000000</td>\n",
       "      <td>0.000000</td>\n",
       "    </tr>\n",
       "    <tr>\n",
       "      <th>2</th>\n",
       "      <td>0.001</td>\n",
       "      <td>0.100</td>\n",
       "      <td>0.8960</td>\n",
       "      <td>0.000000</td>\n",
       "      <td>0.000000</td>\n",
       "      <td>0.000000</td>\n",
       "    </tr>\n",
       "    <tr>\n",
       "      <th>3</th>\n",
       "      <td>0.001</td>\n",
       "      <td>1.000</td>\n",
       "      <td>0.8960</td>\n",
       "      <td>0.000000</td>\n",
       "      <td>0.000000</td>\n",
       "      <td>0.000000</td>\n",
       "    </tr>\n",
       "    <tr>\n",
       "      <th>4</th>\n",
       "      <td>0.001</td>\n",
       "      <td>100.000</td>\n",
       "      <td>0.8960</td>\n",
       "      <td>0.000000</td>\n",
       "      <td>0.000000</td>\n",
       "      <td>0.000000</td>\n",
       "    </tr>\n",
       "    <tr>\n",
       "      <th>5</th>\n",
       "      <td>0.001</td>\n",
       "      <td>1000.000</td>\n",
       "      <td>0.8960</td>\n",
       "      <td>0.000000</td>\n",
       "      <td>0.000000</td>\n",
       "      <td>0.000000</td>\n",
       "    </tr>\n",
       "    <tr>\n",
       "      <th>6</th>\n",
       "      <td>0.010</td>\n",
       "      <td>0.001</td>\n",
       "      <td>0.8960</td>\n",
       "      <td>0.000000</td>\n",
       "      <td>0.000000</td>\n",
       "      <td>0.000000</td>\n",
       "    </tr>\n",
       "    <tr>\n",
       "      <th>7</th>\n",
       "      <td>0.010</td>\n",
       "      <td>0.010</td>\n",
       "      <td>0.8960</td>\n",
       "      <td>0.000000</td>\n",
       "      <td>0.000000</td>\n",
       "      <td>0.000000</td>\n",
       "    </tr>\n",
       "    <tr>\n",
       "      <th>8</th>\n",
       "      <td>0.010</td>\n",
       "      <td>0.100</td>\n",
       "      <td>0.8960</td>\n",
       "      <td>0.000000</td>\n",
       "      <td>0.000000</td>\n",
       "      <td>0.000000</td>\n",
       "    </tr>\n",
       "    <tr>\n",
       "      <th>9</th>\n",
       "      <td>0.010</td>\n",
       "      <td>1.000</td>\n",
       "      <td>0.8960</td>\n",
       "      <td>0.000000</td>\n",
       "      <td>0.000000</td>\n",
       "      <td>0.000000</td>\n",
       "    </tr>\n",
       "    <tr>\n",
       "      <th>10</th>\n",
       "      <td>0.010</td>\n",
       "      <td>100.000</td>\n",
       "      <td>0.8960</td>\n",
       "      <td>0.000000</td>\n",
       "      <td>0.000000</td>\n",
       "      <td>0.000000</td>\n",
       "    </tr>\n",
       "    <tr>\n",
       "      <th>11</th>\n",
       "      <td>0.010</td>\n",
       "      <td>1000.000</td>\n",
       "      <td>0.8960</td>\n",
       "      <td>0.000000</td>\n",
       "      <td>0.000000</td>\n",
       "      <td>0.000000</td>\n",
       "    </tr>\n",
       "    <tr>\n",
       "      <th>12</th>\n",
       "      <td>0.100</td>\n",
       "      <td>0.001</td>\n",
       "      <td>0.8960</td>\n",
       "      <td>0.000000</td>\n",
       "      <td>0.000000</td>\n",
       "      <td>0.000000</td>\n",
       "    </tr>\n",
       "    <tr>\n",
       "      <th>13</th>\n",
       "      <td>0.100</td>\n",
       "      <td>0.010</td>\n",
       "      <td>0.8960</td>\n",
       "      <td>0.000000</td>\n",
       "      <td>0.000000</td>\n",
       "      <td>0.000000</td>\n",
       "    </tr>\n",
       "    <tr>\n",
       "      <th>14</th>\n",
       "      <td>0.100</td>\n",
       "      <td>0.100</td>\n",
       "      <td>0.8960</td>\n",
       "      <td>0.000000</td>\n",
       "      <td>0.000000</td>\n",
       "      <td>0.000000</td>\n",
       "    </tr>\n",
       "    <tr>\n",
       "      <th>15</th>\n",
       "      <td>0.100</td>\n",
       "      <td>1.000</td>\n",
       "      <td>0.8960</td>\n",
       "      <td>0.000000</td>\n",
       "      <td>0.000000</td>\n",
       "      <td>0.000000</td>\n",
       "    </tr>\n",
       "    <tr>\n",
       "      <th>16</th>\n",
       "      <td>0.100</td>\n",
       "      <td>100.000</td>\n",
       "      <td>0.8960</td>\n",
       "      <td>0.000000</td>\n",
       "      <td>0.000000</td>\n",
       "      <td>0.000000</td>\n",
       "    </tr>\n",
       "    <tr>\n",
       "      <th>17</th>\n",
       "      <td>0.100</td>\n",
       "      <td>1000.000</td>\n",
       "      <td>0.8960</td>\n",
       "      <td>0.000000</td>\n",
       "      <td>0.000000</td>\n",
       "      <td>0.000000</td>\n",
       "    </tr>\n",
       "    <tr>\n",
       "      <th>18</th>\n",
       "      <td>1.000</td>\n",
       "      <td>0.001</td>\n",
       "      <td>0.9064</td>\n",
       "      <td>0.724138</td>\n",
       "      <td>0.161538</td>\n",
       "      <td>0.264151</td>\n",
       "    </tr>\n",
       "    <tr>\n",
       "      <th>19</th>\n",
       "      <td>1.000</td>\n",
       "      <td>0.010</td>\n",
       "      <td>0.9088</td>\n",
       "      <td>0.807692</td>\n",
       "      <td>0.161538</td>\n",
       "      <td>0.269231</td>\n",
       "    </tr>\n",
       "    <tr>\n",
       "      <th>20</th>\n",
       "      <td>1.000</td>\n",
       "      <td>0.100</td>\n",
       "      <td>0.8960</td>\n",
       "      <td>0.500000</td>\n",
       "      <td>0.015385</td>\n",
       "      <td>0.029851</td>\n",
       "    </tr>\n",
       "    <tr>\n",
       "      <th>21</th>\n",
       "      <td>1.000</td>\n",
       "      <td>1.000</td>\n",
       "      <td>0.8960</td>\n",
       "      <td>0.000000</td>\n",
       "      <td>0.000000</td>\n",
       "      <td>0.000000</td>\n",
       "    </tr>\n",
       "    <tr>\n",
       "      <th>22</th>\n",
       "      <td>1.000</td>\n",
       "      <td>100.000</td>\n",
       "      <td>0.8960</td>\n",
       "      <td>0.000000</td>\n",
       "      <td>0.000000</td>\n",
       "      <td>0.000000</td>\n",
       "    </tr>\n",
       "    <tr>\n",
       "      <th>23</th>\n",
       "      <td>1.000</td>\n",
       "      <td>1000.000</td>\n",
       "      <td>0.8960</td>\n",
       "      <td>0.000000</td>\n",
       "      <td>0.000000</td>\n",
       "      <td>0.000000</td>\n",
       "    </tr>\n",
       "    <tr>\n",
       "      <th>24</th>\n",
       "      <td>100.000</td>\n",
       "      <td>0.001</td>\n",
       "      <td>0.9568</td>\n",
       "      <td>0.865385</td>\n",
       "      <td>0.692308</td>\n",
       "      <td>0.769231</td>\n",
       "    </tr>\n",
       "    <tr>\n",
       "      <th>25</th>\n",
       "      <td>100.000</td>\n",
       "      <td>0.010</td>\n",
       "      <td>0.9456</td>\n",
       "      <td>0.822917</td>\n",
       "      <td>0.607692</td>\n",
       "      <td>0.699115</td>\n",
       "    </tr>\n",
       "    <tr>\n",
       "      <th>26</th>\n",
       "      <td>100.000</td>\n",
       "      <td>0.100</td>\n",
       "      <td>0.9000</td>\n",
       "      <td>0.608696</td>\n",
       "      <td>0.107692</td>\n",
       "      <td>0.183007</td>\n",
       "    </tr>\n",
       "    <tr>\n",
       "      <th>27</th>\n",
       "      <td>100.000</td>\n",
       "      <td>1.000</td>\n",
       "      <td>0.8960</td>\n",
       "      <td>0.000000</td>\n",
       "      <td>0.000000</td>\n",
       "      <td>0.000000</td>\n",
       "    </tr>\n",
       "    <tr>\n",
       "      <th>28</th>\n",
       "      <td>100.000</td>\n",
       "      <td>100.000</td>\n",
       "      <td>0.8960</td>\n",
       "      <td>0.000000</td>\n",
       "      <td>0.000000</td>\n",
       "      <td>0.000000</td>\n",
       "    </tr>\n",
       "    <tr>\n",
       "      <th>29</th>\n",
       "      <td>100.000</td>\n",
       "      <td>1000.000</td>\n",
       "      <td>0.8960</td>\n",
       "      <td>0.000000</td>\n",
       "      <td>0.000000</td>\n",
       "      <td>0.000000</td>\n",
       "    </tr>\n",
       "    <tr>\n",
       "      <th>30</th>\n",
       "      <td>1000.000</td>\n",
       "      <td>0.001</td>\n",
       "      <td>0.9592</td>\n",
       "      <td>0.869159</td>\n",
       "      <td>0.715385</td>\n",
       "      <td>0.784810</td>\n",
       "    </tr>\n",
       "    <tr>\n",
       "      <th>31</th>\n",
       "      <td>1000.000</td>\n",
       "      <td>0.010</td>\n",
       "      <td>0.9448</td>\n",
       "      <td>0.842697</td>\n",
       "      <td>0.576923</td>\n",
       "      <td>0.684932</td>\n",
       "    </tr>\n",
       "    <tr>\n",
       "      <th>32</th>\n",
       "      <td>1000.000</td>\n",
       "      <td>0.100</td>\n",
       "      <td>0.9000</td>\n",
       "      <td>0.608696</td>\n",
       "      <td>0.107692</td>\n",
       "      <td>0.183007</td>\n",
       "    </tr>\n",
       "    <tr>\n",
       "      <th>33</th>\n",
       "      <td>1000.000</td>\n",
       "      <td>1.000</td>\n",
       "      <td>0.8960</td>\n",
       "      <td>0.000000</td>\n",
       "      <td>0.000000</td>\n",
       "      <td>0.000000</td>\n",
       "    </tr>\n",
       "    <tr>\n",
       "      <th>34</th>\n",
       "      <td>1000.000</td>\n",
       "      <td>100.000</td>\n",
       "      <td>0.8960</td>\n",
       "      <td>0.000000</td>\n",
       "      <td>0.000000</td>\n",
       "      <td>0.000000</td>\n",
       "    </tr>\n",
       "    <tr>\n",
       "      <th>35</th>\n",
       "      <td>1000.000</td>\n",
       "      <td>1000.000</td>\n",
       "      <td>0.8960</td>\n",
       "      <td>0.000000</td>\n",
       "      <td>0.000000</td>\n",
       "      <td>0.000000</td>\n",
       "    </tr>\n",
       "  </tbody>\n",
       "</table>\n",
       "</div>"
      ],
      "text/plain": [
       "           C     Gamma  Accuracy  Precision    Recall  f1-score\n",
       "0      0.001     0.001    0.8960   0.000000  0.000000  0.000000\n",
       "1      0.001     0.010    0.8960   0.000000  0.000000  0.000000\n",
       "2      0.001     0.100    0.8960   0.000000  0.000000  0.000000\n",
       "3      0.001     1.000    0.8960   0.000000  0.000000  0.000000\n",
       "4      0.001   100.000    0.8960   0.000000  0.000000  0.000000\n",
       "5      0.001  1000.000    0.8960   0.000000  0.000000  0.000000\n",
       "6      0.010     0.001    0.8960   0.000000  0.000000  0.000000\n",
       "7      0.010     0.010    0.8960   0.000000  0.000000  0.000000\n",
       "8      0.010     0.100    0.8960   0.000000  0.000000  0.000000\n",
       "9      0.010     1.000    0.8960   0.000000  0.000000  0.000000\n",
       "10     0.010   100.000    0.8960   0.000000  0.000000  0.000000\n",
       "11     0.010  1000.000    0.8960   0.000000  0.000000  0.000000\n",
       "12     0.100     0.001    0.8960   0.000000  0.000000  0.000000\n",
       "13     0.100     0.010    0.8960   0.000000  0.000000  0.000000\n",
       "14     0.100     0.100    0.8960   0.000000  0.000000  0.000000\n",
       "15     0.100     1.000    0.8960   0.000000  0.000000  0.000000\n",
       "16     0.100   100.000    0.8960   0.000000  0.000000  0.000000\n",
       "17     0.100  1000.000    0.8960   0.000000  0.000000  0.000000\n",
       "18     1.000     0.001    0.9064   0.724138  0.161538  0.264151\n",
       "19     1.000     0.010    0.9088   0.807692  0.161538  0.269231\n",
       "20     1.000     0.100    0.8960   0.500000  0.015385  0.029851\n",
       "21     1.000     1.000    0.8960   0.000000  0.000000  0.000000\n",
       "22     1.000   100.000    0.8960   0.000000  0.000000  0.000000\n",
       "23     1.000  1000.000    0.8960   0.000000  0.000000  0.000000\n",
       "24   100.000     0.001    0.9568   0.865385  0.692308  0.769231\n",
       "25   100.000     0.010    0.9456   0.822917  0.607692  0.699115\n",
       "26   100.000     0.100    0.9000   0.608696  0.107692  0.183007\n",
       "27   100.000     1.000    0.8960   0.000000  0.000000  0.000000\n",
       "28   100.000   100.000    0.8960   0.000000  0.000000  0.000000\n",
       "29   100.000  1000.000    0.8960   0.000000  0.000000  0.000000\n",
       "30  1000.000     0.001    0.9592   0.869159  0.715385  0.784810\n",
       "31  1000.000     0.010    0.9448   0.842697  0.576923  0.684932\n",
       "32  1000.000     0.100    0.9000   0.608696  0.107692  0.183007\n",
       "33  1000.000     1.000    0.8960   0.000000  0.000000  0.000000\n",
       "34  1000.000   100.000    0.8960   0.000000  0.000000  0.000000\n",
       "35  1000.000  1000.000    0.8960   0.000000  0.000000  0.000000"
      ]
     },
     "execution_count": 45,
     "metadata": {},
     "output_type": "execute_result"
    }
   ],
   "source": [
    "# Create a score table with different values of 'C' and 'gamma'\n",
    "\n",
    "d = {'C': c_values, 'Gamma': gamma_values, 'Accuracy': accuracy, 'Precision': precision, 'Recall': recall, 'f1-score': f1_score_list}\n",
    "df_performance=pd.DataFrame(data=d)\n",
    "df_performance"
   ]
  },
  {
   "cell_type": "markdown",
   "id": "2823bea9",
   "metadata": {},
   "source": [
    "**Observation: From the above dataframe, we can say that the SVM model with C=1000 and gamma=0.001 gives the highest accuracy, precision, recall and f1 score.**"
   ]
  },
  {
   "cell_type": "code",
   "execution_count": 46,
   "id": "667b83c8",
   "metadata": {},
   "outputs": [
    {
     "data": {
      "text/html": [
       "<style>#sk-container-id-5 {color: black;background-color: white;}#sk-container-id-5 pre{padding: 0;}#sk-container-id-5 div.sk-toggleable {background-color: white;}#sk-container-id-5 label.sk-toggleable__label {cursor: pointer;display: block;width: 100%;margin-bottom: 0;padding: 0.3em;box-sizing: border-box;text-align: center;}#sk-container-id-5 label.sk-toggleable__label-arrow:before {content: \"▸\";float: left;margin-right: 0.25em;color: #696969;}#sk-container-id-5 label.sk-toggleable__label-arrow:hover:before {color: black;}#sk-container-id-5 div.sk-estimator:hover label.sk-toggleable__label-arrow:before {color: black;}#sk-container-id-5 div.sk-toggleable__content {max-height: 0;max-width: 0;overflow: hidden;text-align: left;background-color: #f0f8ff;}#sk-container-id-5 div.sk-toggleable__content pre {margin: 0.2em;color: black;border-radius: 0.25em;background-color: #f0f8ff;}#sk-container-id-5 input.sk-toggleable__control:checked~div.sk-toggleable__content {max-height: 200px;max-width: 100%;overflow: auto;}#sk-container-id-5 input.sk-toggleable__control:checked~label.sk-toggleable__label-arrow:before {content: \"▾\";}#sk-container-id-5 div.sk-estimator input.sk-toggleable__control:checked~label.sk-toggleable__label {background-color: #d4ebff;}#sk-container-id-5 div.sk-label input.sk-toggleable__control:checked~label.sk-toggleable__label {background-color: #d4ebff;}#sk-container-id-5 input.sk-hidden--visually {border: 0;clip: rect(1px 1px 1px 1px);clip: rect(1px, 1px, 1px, 1px);height: 1px;margin: -1px;overflow: hidden;padding: 0;position: absolute;width: 1px;}#sk-container-id-5 div.sk-estimator {font-family: monospace;background-color: #f0f8ff;border: 1px dotted black;border-radius: 0.25em;box-sizing: border-box;margin-bottom: 0.5em;}#sk-container-id-5 div.sk-estimator:hover {background-color: #d4ebff;}#sk-container-id-5 div.sk-parallel-item::after {content: \"\";width: 100%;border-bottom: 1px solid gray;flex-grow: 1;}#sk-container-id-5 div.sk-label:hover label.sk-toggleable__label {background-color: #d4ebff;}#sk-container-id-5 div.sk-serial::before {content: \"\";position: absolute;border-left: 1px solid gray;box-sizing: border-box;top: 0;bottom: 0;left: 50%;z-index: 0;}#sk-container-id-5 div.sk-serial {display: flex;flex-direction: column;align-items: center;background-color: white;padding-right: 0.2em;padding-left: 0.2em;position: relative;}#sk-container-id-5 div.sk-item {position: relative;z-index: 1;}#sk-container-id-5 div.sk-parallel {display: flex;align-items: stretch;justify-content: center;background-color: white;position: relative;}#sk-container-id-5 div.sk-item::before, #sk-container-id-5 div.sk-parallel-item::before {content: \"\";position: absolute;border-left: 1px solid gray;box-sizing: border-box;top: 0;bottom: 0;left: 50%;z-index: -1;}#sk-container-id-5 div.sk-parallel-item {display: flex;flex-direction: column;z-index: 1;position: relative;background-color: white;}#sk-container-id-5 div.sk-parallel-item:first-child::after {align-self: flex-end;width: 50%;}#sk-container-id-5 div.sk-parallel-item:last-child::after {align-self: flex-start;width: 50%;}#sk-container-id-5 div.sk-parallel-item:only-child::after {width: 0;}#sk-container-id-5 div.sk-dashed-wrapped {border: 1px dashed gray;margin: 0 0.4em 0.5em 0.4em;box-sizing: border-box;padding-bottom: 0.4em;background-color: white;}#sk-container-id-5 div.sk-label label {font-family: monospace;font-weight: bold;display: inline-block;line-height: 1.2em;}#sk-container-id-5 div.sk-label-container {text-align: center;}#sk-container-id-5 div.sk-container {/* jupyter's `normalize.less` sets `[hidden] { display: none; }` but bootstrap.min.css set `[hidden] { display: none !important; }` so we also need the `!important` here to be able to override the default hidden behavior on the sphinx rendered scikit-learn.org. See: https://github.com/scikit-learn/scikit-learn/issues/21755 */display: inline-block !important;position: relative;}#sk-container-id-5 div.sk-text-repr-fallback {display: none;}</style><div id=\"sk-container-id-5\" class=\"sk-top-container\"><div class=\"sk-text-repr-fallback\"><pre>KNeighborsClassifier(n_neighbors=3)</pre><b>In a Jupyter environment, please rerun this cell to show the HTML representation or trust the notebook. <br />On GitHub, the HTML representation is unable to render, please try loading this page with nbviewer.org.</b></div><div class=\"sk-container\" hidden><div class=\"sk-item\"><div class=\"sk-estimator sk-toggleable\"><input class=\"sk-toggleable__control sk-hidden--visually\" id=\"sk-estimator-id-5\" type=\"checkbox\" checked><label for=\"sk-estimator-id-5\" class=\"sk-toggleable__label sk-toggleable__label-arrow\">KNeighborsClassifier</label><div class=\"sk-toggleable__content\"><pre>KNeighborsClassifier(n_neighbors=3)</pre></div></div></div></div></div>"
      ],
      "text/plain": [
       "KNeighborsClassifier(n_neighbors=3)"
      ]
     },
     "execution_count": 46,
     "metadata": {},
     "output_type": "execute_result"
    }
   ],
   "source": [
    "#Train data with KNN Model\n",
    "from sklearn.neighbors import KNeighborsClassifier\n",
    "KNN = KNeighborsClassifier(n_neighbors= 3) #Building knn with 3 neighbors\n",
    "KNN.fit(X_train, y_train)"
   ]
  },
  {
   "cell_type": "code",
   "execution_count": 47,
   "id": "c940499e",
   "metadata": {},
   "outputs": [
    {
     "data": {
      "image/png": "[encoded data removed]",
      "text/plain": [
       "<Figure size 600x400 with 2 Axes>"
      ]
     },
     "metadata": {},
     "output_type": "display_data"
    }
   ],
   "source": [
    "confusion_matrix_sklearn(KNN, X_train, y_train)"
   ]
  },
  {
   "cell_type": "code",
   "execution_count": 48,
   "id": "5e1f31b9",
   "metadata": {},
   "outputs": [
    {
     "name": "stdout",
     "output_type": "stream",
     "text": [
      "Training performance:\n"
     ]
    },
    {
     "data": {
      "text/html": [
       "<div>\n",
       "<style scoped>\n",
       "    .dataframe tbody tr th:only-of-type {\n",
       "        vertical-align: middle;\n",
       "    }\n",
       "\n",
       "    .dataframe tbody tr th {\n",
       "        vertical-align: top;\n",
       "    }\n",
       "\n",
       "    .dataframe thead th {\n",
       "        text-align: right;\n",
       "    }\n",
       "</style>\n",
       "<table border=\"1\" class=\"dataframe\">\n",
       "  <thead>\n",
       "    <tr style=\"text-align: right;\">\n",
       "      <th></th>\n",
       "      <th>Accuracy</th>\n",
       "      <th>Recall</th>\n",
       "      <th>Precision</th>\n",
       "      <th>F1</th>\n",
       "    </tr>\n",
       "  </thead>\n",
       "  <tbody>\n",
       "    <tr>\n",
       "      <th>0</th>\n",
       "      <td>0.9528</td>\n",
       "      <td>0.64</td>\n",
       "      <td>0.814545</td>\n",
       "      <td>0.7168</td>\n",
       "    </tr>\n",
       "  </tbody>\n",
       "</table>\n",
       "</div>"
      ],
      "text/plain": [
       "   Accuracy  Recall  Precision      F1\n",
       "0    0.9528    0.64   0.814545  0.7168"
      ]
     },
     "execution_count": 48,
     "metadata": {},
     "output_type": "execute_result"
    }
   ],
   "source": [
    "print(\"Training performance:\")\n",
    "model_knn = model_performance_classification_sklearn(model=KNN, predictors=X_train, target=y_train)\n",
    "model_knn"
   ]
  },
  {
   "cell_type": "code",
   "execution_count": 49,
   "id": "9b486387",
   "metadata": {},
   "outputs": [
    {
     "data": {
      "image/png": "[encoded data removed]",
      "text/plain": [
       "<Figure size 600x400 with 2 Axes>"
      ]
     },
     "metadata": {},
     "output_type": "display_data"
    }
   ],
   "source": [
    "confusion_matrix_sklearn(KNN, X_test, y_test)"
   ]
  },
  {
   "cell_type": "code",
   "execution_count": 50,
   "id": "313c01de",
   "metadata": {},
   "outputs": [
    {
     "name": "stdout",
     "output_type": "stream",
     "text": [
      "Test performance:\n"
     ]
    },
    {
     "data": {
      "text/html": [
       "<div>\n",
       "<style scoped>\n",
       "    .dataframe tbody tr th:only-of-type {\n",
       "        vertical-align: middle;\n",
       "    }\n",
       "\n",
       "    .dataframe tbody tr th {\n",
       "        vertical-align: top;\n",
       "    }\n",
       "\n",
       "    .dataframe thead th {\n",
       "        text-align: right;\n",
       "    }\n",
       "</style>\n",
       "<table border=\"1\" class=\"dataframe\">\n",
       "  <thead>\n",
       "    <tr style=\"text-align: right;\">\n",
       "      <th></th>\n",
       "      <th>Accuracy</th>\n",
       "      <th>Recall</th>\n",
       "      <th>Precision</th>\n",
       "      <th>F1</th>\n",
       "    </tr>\n",
       "  </thead>\n",
       "  <tbody>\n",
       "    <tr>\n",
       "      <th>0</th>\n",
       "      <td>0.9152</td>\n",
       "      <td>0.415385</td>\n",
       "      <td>0.642857</td>\n",
       "      <td>0.504673</td>\n",
       "    </tr>\n",
       "  </tbody>\n",
       "</table>\n",
       "</div>"
      ],
      "text/plain": [
       "   Accuracy    Recall  Precision        F1\n",
       "0    0.9152  0.415385   0.642857  0.504673"
      ]
     },
     "execution_count": 50,
     "metadata": {},
     "output_type": "execute_result"
    }
   ],
   "source": [
    "print(\"Test performance:\")\n",
    "model_knn_test = model_performance_classification_sklearn(model=KNN, predictors=X_test, target=y_test)\n",
    "model_knn_test"
   ]
  },
  {
   "cell_type": "markdown",
   "id": "9239f08d",
   "metadata": {},
   "source": [
    "**Observation : We can see accuracny is high but Recall and Precision and F1 score are very low**"
   ]
  },
  {
   "cell_type": "code",
   "execution_count": 51,
   "id": "db38116d",
   "metadata": {},
   "outputs": [],
   "source": [
    "# Tune parameters of the knn model\n",
    "# train_score=[]\n",
    "# test_score=[]\n",
    "accuracy_knn = []\n",
    "precision_knn = []\n",
    "recall_knn = []\n",
    "f1_score_knn = []\n",
    "n_neighbors_param = []\n",
    "\n",
    "neighbors = [i for i in range(1,51) if i%2 != 0]\n",
    "for k in neighbors:\n",
    "    KNN = KNeighborsClassifier(n_neighbors= k ) \n",
    "    KNN.fit(X_train, y_train)\n",
    "    pred_knn = KNN.predict(X_test)\n",
    "    n_neighbors_param.append(k)\n",
    "      # predict on train and test\n",
    "    accuracy_knn.append(accuracy_score(y_test,pred_knn))\n",
    "    precision_knn.append(precision_score(y_test,pred_knn))\n",
    "    recall_knn.append(recall_score(y_test,pred_knn))\n",
    "    f1_score_knn.append(f1_score(y_test,pred_knn))"
   ]
  },
  {
   "cell_type": "code",
   "execution_count": 52,
   "id": "3f78974f",
   "metadata": {},
   "outputs": [
    {
     "data": {
      "text/html": [
       "<div>\n",
       "<style scoped>\n",
       "    .dataframe tbody tr th:only-of-type {\n",
       "        vertical-align: middle;\n",
       "    }\n",
       "\n",
       "    .dataframe tbody tr th {\n",
       "        vertical-align: top;\n",
       "    }\n",
       "\n",
       "    .dataframe thead th {\n",
       "        text-align: right;\n",
       "    }\n",
       "</style>\n",
       "<table border=\"1\" class=\"dataframe\">\n",
       "  <thead>\n",
       "    <tr style=\"text-align: right;\">\n",
       "      <th></th>\n",
       "      <th>neighbors-Value</th>\n",
       "      <th>Accuracy</th>\n",
       "      <th>Precision</th>\n",
       "      <th>Recall</th>\n",
       "      <th>f1-score</th>\n",
       "    </tr>\n",
       "  </thead>\n",
       "  <tbody>\n",
       "    <tr>\n",
       "      <th>0</th>\n",
       "      <td>1</td>\n",
       "      <td>0.9072</td>\n",
       "      <td>0.576087</td>\n",
       "      <td>0.407692</td>\n",
       "      <td>0.477477</td>\n",
       "    </tr>\n",
       "    <tr>\n",
       "      <th>1</th>\n",
       "      <td>3</td>\n",
       "      <td>0.9152</td>\n",
       "      <td>0.642857</td>\n",
       "      <td>0.415385</td>\n",
       "      <td>0.504673</td>\n",
       "    </tr>\n",
       "    <tr>\n",
       "      <th>2</th>\n",
       "      <td>5</td>\n",
       "      <td>0.9080</td>\n",
       "      <td>0.602740</td>\n",
       "      <td>0.338462</td>\n",
       "      <td>0.433498</td>\n",
       "    </tr>\n",
       "    <tr>\n",
       "      <th>3</th>\n",
       "      <td>7</td>\n",
       "      <td>0.9096</td>\n",
       "      <td>0.626866</td>\n",
       "      <td>0.323077</td>\n",
       "      <td>0.426396</td>\n",
       "    </tr>\n",
       "    <tr>\n",
       "      <th>4</th>\n",
       "      <td>9</td>\n",
       "      <td>0.9096</td>\n",
       "      <td>0.639344</td>\n",
       "      <td>0.300000</td>\n",
       "      <td>0.408377</td>\n",
       "    </tr>\n",
       "    <tr>\n",
       "      <th>5</th>\n",
       "      <td>11</td>\n",
       "      <td>0.9096</td>\n",
       "      <td>0.654545</td>\n",
       "      <td>0.276923</td>\n",
       "      <td>0.389189</td>\n",
       "    </tr>\n",
       "    <tr>\n",
       "      <th>6</th>\n",
       "      <td>13</td>\n",
       "      <td>0.9032</td>\n",
       "      <td>0.576271</td>\n",
       "      <td>0.261538</td>\n",
       "      <td>0.359788</td>\n",
       "    </tr>\n",
       "    <tr>\n",
       "      <th>7</th>\n",
       "      <td>15</td>\n",
       "      <td>0.9048</td>\n",
       "      <td>0.593220</td>\n",
       "      <td>0.269231</td>\n",
       "      <td>0.370370</td>\n",
       "    </tr>\n",
       "    <tr>\n",
       "      <th>8</th>\n",
       "      <td>17</td>\n",
       "      <td>0.9056</td>\n",
       "      <td>0.615385</td>\n",
       "      <td>0.246154</td>\n",
       "      <td>0.351648</td>\n",
       "    </tr>\n",
       "    <tr>\n",
       "      <th>9</th>\n",
       "      <td>19</td>\n",
       "      <td>0.9032</td>\n",
       "      <td>0.581818</td>\n",
       "      <td>0.246154</td>\n",
       "      <td>0.345946</td>\n",
       "    </tr>\n",
       "    <tr>\n",
       "      <th>10</th>\n",
       "      <td>21</td>\n",
       "      <td>0.9048</td>\n",
       "      <td>0.607843</td>\n",
       "      <td>0.238462</td>\n",
       "      <td>0.342541</td>\n",
       "    </tr>\n",
       "    <tr>\n",
       "      <th>11</th>\n",
       "      <td>23</td>\n",
       "      <td>0.9016</td>\n",
       "      <td>0.574468</td>\n",
       "      <td>0.207692</td>\n",
       "      <td>0.305085</td>\n",
       "    </tr>\n",
       "    <tr>\n",
       "      <th>12</th>\n",
       "      <td>25</td>\n",
       "      <td>0.9056</td>\n",
       "      <td>0.625000</td>\n",
       "      <td>0.230769</td>\n",
       "      <td>0.337079</td>\n",
       "    </tr>\n",
       "    <tr>\n",
       "      <th>13</th>\n",
       "      <td>27</td>\n",
       "      <td>0.9040</td>\n",
       "      <td>0.608696</td>\n",
       "      <td>0.215385</td>\n",
       "      <td>0.318182</td>\n",
       "    </tr>\n",
       "    <tr>\n",
       "      <th>14</th>\n",
       "      <td>29</td>\n",
       "      <td>0.9056</td>\n",
       "      <td>0.642857</td>\n",
       "      <td>0.207692</td>\n",
       "      <td>0.313953</td>\n",
       "    </tr>\n",
       "    <tr>\n",
       "      <th>15</th>\n",
       "      <td>31</td>\n",
       "      <td>0.9048</td>\n",
       "      <td>0.677419</td>\n",
       "      <td>0.161538</td>\n",
       "      <td>0.260870</td>\n",
       "    </tr>\n",
       "    <tr>\n",
       "      <th>16</th>\n",
       "      <td>33</td>\n",
       "      <td>0.9040</td>\n",
       "      <td>0.666667</td>\n",
       "      <td>0.153846</td>\n",
       "      <td>0.250000</td>\n",
       "    </tr>\n",
       "    <tr>\n",
       "      <th>17</th>\n",
       "      <td>35</td>\n",
       "      <td>0.9024</td>\n",
       "      <td>0.642857</td>\n",
       "      <td>0.138462</td>\n",
       "      <td>0.227848</td>\n",
       "    </tr>\n",
       "    <tr>\n",
       "      <th>18</th>\n",
       "      <td>37</td>\n",
       "      <td>0.9008</td>\n",
       "      <td>0.615385</td>\n",
       "      <td>0.123077</td>\n",
       "      <td>0.205128</td>\n",
       "    </tr>\n",
       "    <tr>\n",
       "      <th>19</th>\n",
       "      <td>39</td>\n",
       "      <td>0.9048</td>\n",
       "      <td>0.720000</td>\n",
       "      <td>0.138462</td>\n",
       "      <td>0.232258</td>\n",
       "    </tr>\n",
       "    <tr>\n",
       "      <th>20</th>\n",
       "      <td>41</td>\n",
       "      <td>0.9032</td>\n",
       "      <td>0.666667</td>\n",
       "      <td>0.138462</td>\n",
       "      <td>0.229299</td>\n",
       "    </tr>\n",
       "    <tr>\n",
       "      <th>21</th>\n",
       "      <td>43</td>\n",
       "      <td>0.9024</td>\n",
       "      <td>0.666667</td>\n",
       "      <td>0.123077</td>\n",
       "      <td>0.207792</td>\n",
       "    </tr>\n",
       "    <tr>\n",
       "      <th>22</th>\n",
       "      <td>45</td>\n",
       "      <td>0.9024</td>\n",
       "      <td>0.666667</td>\n",
       "      <td>0.123077</td>\n",
       "      <td>0.207792</td>\n",
       "    </tr>\n",
       "    <tr>\n",
       "      <th>23</th>\n",
       "      <td>47</td>\n",
       "      <td>0.9024</td>\n",
       "      <td>0.700000</td>\n",
       "      <td>0.107692</td>\n",
       "      <td>0.186667</td>\n",
       "    </tr>\n",
       "    <tr>\n",
       "      <th>24</th>\n",
       "      <td>49</td>\n",
       "      <td>0.9024</td>\n",
       "      <td>0.750000</td>\n",
       "      <td>0.092308</td>\n",
       "      <td>0.164384</td>\n",
       "    </tr>\n",
       "  </tbody>\n",
       "</table>\n",
       "</div>"
      ],
      "text/plain": [
       "    neighbors-Value  Accuracy  Precision    Recall  f1-score\n",
       "0                 1    0.9072   0.576087  0.407692  0.477477\n",
       "1                 3    0.9152   0.642857  0.415385  0.504673\n",
       "2                 5    0.9080   0.602740  0.338462  0.433498\n",
       "3                 7    0.9096   0.626866  0.323077  0.426396\n",
       "4                 9    0.9096   0.639344  0.300000  0.408377\n",
       "5                11    0.9096   0.654545  0.276923  0.389189\n",
       "6                13    0.9032   0.576271  0.261538  0.359788\n",
       "7                15    0.9048   0.593220  0.269231  0.370370\n",
       "8                17    0.9056   0.615385  0.246154  0.351648\n",
       "9                19    0.9032   0.581818  0.246154  0.345946\n",
       "10               21    0.9048   0.607843  0.238462  0.342541\n",
       "11               23    0.9016   0.574468  0.207692  0.305085\n",
       "12               25    0.9056   0.625000  0.230769  0.337079\n",
       "13               27    0.9040   0.608696  0.215385  0.318182\n",
       "14               29    0.9056   0.642857  0.207692  0.313953\n",
       "15               31    0.9048   0.677419  0.161538  0.260870\n",
       "16               33    0.9040   0.666667  0.153846  0.250000\n",
       "17               35    0.9024   0.642857  0.138462  0.227848\n",
       "18               37    0.9008   0.615385  0.123077  0.205128\n",
       "19               39    0.9048   0.720000  0.138462  0.232258\n",
       "20               41    0.9032   0.666667  0.138462  0.229299\n",
       "21               43    0.9024   0.666667  0.123077  0.207792\n",
       "22               45    0.9024   0.666667  0.123077  0.207792\n",
       "23               47    0.9024   0.700000  0.107692  0.186667\n",
       "24               49    0.9024   0.750000  0.092308  0.164384"
      ]
     },
     "execution_count": 52,
     "metadata": {},
     "output_type": "execute_result"
    }
   ],
   "source": [
    "# Create a score table with different values of 'K'\n",
    "\n",
    "p = {'neighbors-Value': n_neighbors_param, 'Accuracy': accuracy_knn, 'Precision': precision_knn, 'Recall': recall_knn, 'f1-score': f1_score_knn}\n",
    "knn_perofrmance_matrix=pd.DataFrame(data=p)\n",
    "knn_perofrmance_matrix"
   ]
  },
  {
   "cell_type": "markdown",
   "id": "d4aef72b",
   "metadata": {},
   "source": [
    "**Observation:**\n",
    "\n",
    "> **From the above dataframe, we can say that the KNN model neighbors-value=3 gives the highest accuracy, precision, recall and f1 score.**"
   ]
  },
  {
   "cell_type": "markdown",
   "id": "c55b7bf6",
   "metadata": {},
   "source": [
    "**On comparing the SVM and KNN model, the SVM model is the best as it gives the highest accuracy, precision, recall and f1 score. Hence our final model is the SVM model with C=1000 and gamma=0.001.**"
   ]
  },
  {
   "cell_type": "code",
   "execution_count": 53,
   "id": "0b33e8ea",
   "metadata": {},
   "outputs": [
    {
     "data": {
      "text/html": [
       "<style>#sk-container-id-6 {color: black;background-color: white;}#sk-container-id-6 pre{padding: 0;}#sk-container-id-6 div.sk-toggleable {background-color: white;}#sk-container-id-6 label.sk-toggleable__label {cursor: pointer;display: block;width: 100%;margin-bottom: 0;padding: 0.3em;box-sizing: border-box;text-align: center;}#sk-container-id-6 label.sk-toggleable__label-arrow:before {content: \"▸\";float: left;margin-right: 0.25em;color: #696969;}#sk-container-id-6 label.sk-toggleable__label-arrow:hover:before {color: black;}#sk-container-id-6 div.sk-estimator:hover label.sk-toggleable__label-arrow:before {color: black;}#sk-container-id-6 div.sk-toggleable__content {max-height: 0;max-width: 0;overflow: hidden;text-align: left;background-color: #f0f8ff;}#sk-container-id-6 div.sk-toggleable__content pre {margin: 0.2em;color: black;border-radius: 0.25em;background-color: #f0f8ff;}#sk-container-id-6 input.sk-toggleable__control:checked~div.sk-toggleable__content {max-height: 200px;max-width: 100%;overflow: auto;}#sk-container-id-6 input.sk-toggleable__control:checked~label.sk-toggleable__label-arrow:before {content: \"▾\";}#sk-container-id-6 div.sk-estimator input.sk-toggleable__control:checked~label.sk-toggleable__label {background-color: #d4ebff;}#sk-container-id-6 div.sk-label input.sk-toggleable__control:checked~label.sk-toggleable__label {background-color: #d4ebff;}#sk-container-id-6 input.sk-hidden--visually {border: 0;clip: rect(1px 1px 1px 1px);clip: rect(1px, 1px, 1px, 1px);height: 1px;margin: -1px;overflow: hidden;padding: 0;position: absolute;width: 1px;}#sk-container-id-6 div.sk-estimator {font-family: monospace;background-color: #f0f8ff;border: 1px dotted black;border-radius: 0.25em;box-sizing: border-box;margin-bottom: 0.5em;}#sk-container-id-6 div.sk-estimator:hover {background-color: #d4ebff;}#sk-container-id-6 div.sk-parallel-item::after {content: \"\";width: 100%;border-bottom: 1px solid gray;flex-grow: 1;}#sk-container-id-6 div.sk-label:hover label.sk-toggleable__label {background-color: #d4ebff;}#sk-container-id-6 div.sk-serial::before {content: \"\";position: absolute;border-left: 1px solid gray;box-sizing: border-box;top: 0;bottom: 0;left: 50%;z-index: 0;}#sk-container-id-6 div.sk-serial {display: flex;flex-direction: column;align-items: center;background-color: white;padding-right: 0.2em;padding-left: 0.2em;position: relative;}#sk-container-id-6 div.sk-item {position: relative;z-index: 1;}#sk-container-id-6 div.sk-parallel {display: flex;align-items: stretch;justify-content: center;background-color: white;position: relative;}#sk-container-id-6 div.sk-item::before, #sk-container-id-6 div.sk-parallel-item::before {content: \"\";position: absolute;border-left: 1px solid gray;box-sizing: border-box;top: 0;bottom: 0;left: 50%;z-index: -1;}#sk-container-id-6 div.sk-parallel-item {display: flex;flex-direction: column;z-index: 1;position: relative;background-color: white;}#sk-container-id-6 div.sk-parallel-item:first-child::after {align-self: flex-end;width: 50%;}#sk-container-id-6 div.sk-parallel-item:last-child::after {align-self: flex-start;width: 50%;}#sk-container-id-6 div.sk-parallel-item:only-child::after {width: 0;}#sk-container-id-6 div.sk-dashed-wrapped {border: 1px dashed gray;margin: 0 0.4em 0.5em 0.4em;box-sizing: border-box;padding-bottom: 0.4em;background-color: white;}#sk-container-id-6 div.sk-label label {font-family: monospace;font-weight: bold;display: inline-block;line-height: 1.2em;}#sk-container-id-6 div.sk-label-container {text-align: center;}#sk-container-id-6 div.sk-container {/* jupyter's `normalize.less` sets `[hidden] { display: none; }` but bootstrap.min.css set `[hidden] { display: none !important; }` so we also need the `!important` here to be able to override the default hidden behavior on the sphinx rendered scikit-learn.org. See: https://github.com/scikit-learn/scikit-learn/issues/21755 */display: inline-block !important;position: relative;}#sk-container-id-6 div.sk-text-repr-fallback {display: none;}</style><div id=\"sk-container-id-6\" class=\"sk-top-container\"><div class=\"sk-text-repr-fallback\"><pre>SVC(C=1000, gamma=0.001, probability=True, random_state=42)</pre><b>In a Jupyter environment, please rerun this cell to show the HTML representation or trust the notebook. <br />On GitHub, the HTML representation is unable to render, please try loading this page with nbviewer.org.</b></div><div class=\"sk-container\" hidden><div class=\"sk-item\"><div class=\"sk-estimator sk-toggleable\"><input class=\"sk-toggleable__control sk-hidden--visually\" id=\"sk-estimator-id-6\" type=\"checkbox\" checked><label for=\"sk-estimator-id-6\" class=\"sk-toggleable__label sk-toggleable__label-arrow\">SVC</label><div class=\"sk-toggleable__content\"><pre>SVC(C=1000, gamma=0.001, probability=True, random_state=42)</pre></div></div></div></div></div>"
      ],
      "text/plain": [
       "SVC(C=1000, gamma=0.001, probability=True, random_state=42)"
      ]
     },
     "execution_count": 53,
     "metadata": {},
     "output_type": "execute_result"
    }
   ],
   "source": [
    "# Print evaluation metrics for final model.\n",
    "\n",
    "svm_final = SVC(C=1000, gamma=0.001,probability=True,random_state=42)\n",
    "svm_final.fit(X_train, y_train)\n"
   ]
  },
  {
   "cell_type": "code",
   "execution_count": 55,
   "id": "6d72f6f6",
   "metadata": {},
   "outputs": [
    {
     "name": "stdout",
     "output_type": "stream",
     "text": [
      "Classification Report of the final model: \n",
      "               precision    recall  f1-score   support\n",
      "\n",
      "         0.0       0.97      0.99      0.98      1120\n",
      "         1.0       0.87      0.72      0.78       130\n",
      "\n",
      "    accuracy                           0.96      1250\n",
      "   macro avg       0.92      0.85      0.88      1250\n",
      "weighted avg       0.96      0.96      0.96      1250\n",
      "\n",
      "\n",
      "\n",
      "ROC_AUC Score of the final model: 0.85\n"
     ]
    }
   ],
   "source": [
    "pred_final = svm_final.predict(X_test)\n",
    "print('Classification Report of the final model: \\n', metrics.classification_report(y_test, pred_final))\n",
    "print('\\n')\n",
    "print('ROC_AUC Score of the final model:', metrics.roc_auc_score(y_test, pred_final).round(2))"
   ]
  },
  {
   "cell_type": "code",
   "execution_count": 56,
   "id": "057f41a5",
   "metadata": {},
   "outputs": [],
   "source": [
    "# Peformance of svm base model \n",
    "pred_base = svm_base.predict(X_test)"
   ]
  },
  {
   "cell_type": "code",
   "execution_count": 57,
   "id": "458860e1",
   "metadata": {},
   "outputs": [
    {
     "name": "stdout",
     "output_type": "stream",
     "text": [
      "Classification Report of the svm base model: \n",
      "               precision    recall  f1-score   support\n",
      "\n",
      "         0.0       0.91      1.00      0.95      1120\n",
      "         1.0       0.82      0.11      0.19       130\n",
      "\n",
      "    accuracy                           0.90      1250\n",
      "   macro avg       0.86      0.55      0.57      1250\n",
      "weighted avg       0.90      0.90      0.87      1250\n",
      "\n",
      "\n",
      "\n",
      "ROC_AUC Score of the svm base model: 0.55\n"
     ]
    }
   ],
   "source": [
    "print('Classification Report of the svm base model: \\n', metrics.classification_report(y_test, pred_base))\n",
    "print('\\n')\n",
    "print('ROC_AUC Score of the svm base model:', metrics.roc_auc_score(y_test, pred_base).round(2))"
   ]
  },
  {
   "cell_type": "markdown",
   "id": "81700f93",
   "metadata": {},
   "source": [
    "**Improvements achieved:**\n",
    "\n",
    "> **Accuracy increased from 0.90 to 0.96.**\n",
    "\n",
    "> **Base model is biased towards minority class while the final model is not.**\n",
    "\n",
    "> **Precision, Recall and f1-score has increased in the final model.**\n",
    "\n",
    "> **ROC_AUC score has improved from 0.55 to 0.85.**"
   ]
  }
 ],
 "metadata": {
  "kernelspec": {
   "display_name": "Python 3 (ipykernel)",
   "language": "python",
   "name": "python3"
  },
  "language_info": {
   "codemirror_mode": {
    "name": "ipython",
    "version": 3
   },
   "file_extension": ".py",
   "mimetype": "text/x-python",
   "name": "python",
   "nbconvert_exporter": "python",
   "pygments_lexer": "ipython3",
   "version": "3.11.7"
  }
 },
 "nbformat": 4,
 "nbformat_minor": 5
}
