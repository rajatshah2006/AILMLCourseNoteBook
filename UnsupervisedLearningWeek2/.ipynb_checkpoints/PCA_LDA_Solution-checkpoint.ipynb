{
 "cells": [
  {
   "cell_type": "markdown",
   "metadata": {
    "id": "gYFhHC31duWB"
   },
   "source": [
    "<h1>Objective</h1>\n",
    "\n",
    "Visualizing high dimensional data using the PCA and doing dimensionality reduction to check the explained variance using PCA model. Training a Linear Discriminant Analysis(LDA) model to check if the product has been shipped or canceled."
   ]
  },
  {
   "cell_type": "markdown",
   "metadata": {
    "id": "9-VGHM-sduWM"
   },
   "source": [
    "## Problem Statement\n",
    "\n",
    "XYZ.com is an e-commerce company based in Argentina. Due to the covid crisis and lockdown XYZ.com is facing lots of issues from the dealer and the shipment team.  XYZ.com has lots of product data where various shipping and sales details of each product have been mentioned. XYZ.com wants to find out which of the products has been shipped and which of the products has been canceled to reduce customer escalation. As a data-scientist, we have to train a PCA model to visualize its higher-dimensional data and we have to train an LDA(Linear Discriminant Analysis) model to predict which of the product has been shipped and which of the product has been canceled."
   ]
  },
  {
   "cell_type": "markdown",
   "metadata": {
    "id": "ONVPFqgsL8ry"
   },
   "source": [
    "<h1>1. Import necessary libraries.</h1>"
   ]
  },
  {
   "cell_type": "code",
   "execution_count": null,
   "metadata": {
    "id": "2kFsfPZXL8sC"
   },
   "outputs": [],
   "source": [
    "import warnings\n",
    "warnings.filterwarnings(\"ignore\")"
   ]
  },
  {
   "cell_type": "code",
   "execution_count": null,
   "metadata": {
    "id": "2VTgMsfTL8sE"
   },
   "outputs": [],
   "source": [
    "import numpy as np\n",
    "import re\n",
    "import pandas as pd\n",
    "import scipy.stats as stats\n",
    "import matplotlib.pyplot as plt\n",
    "import seaborn as sns\n",
    "from math import factorial as f\n",
    "from pylab import rcParams\n",
    "rcParams['figure.figsize'] = 10, 15\n",
    "from sklearn.model_selection import train_test_split\n",
    "from sklearn.metrics import classification_report,confusion_matrix,roc_curve,accuracy_score,auc,roc_auc_score\n",
    "from matplotlib.font_manager import FontProperties\n",
    "from sklearn.tree import DecisionTreeClassifier\n",
    "from sklearn.ensemble import RandomForestClassifier\n",
    "from sklearn.preprocessing import StandardScaler\n",
    "from scipy.linalg import eigh\n",
    "from sklearn import decomposition\n",
    "from sklearn.decomposition import PCA\n",
    "from sklearn.discriminant_analysis import LinearDiscriminantAnalysis as LDA"
   ]
  },
  {
   "cell_type": "markdown",
   "metadata": {
    "id": "QaMn72C6L8sG"
   },
   "source": [
    "<h1>2. Display a sample of five rows of the data frame</h1>"
   ]
  },
  {
   "cell_type": "code",
   "execution_count": null,
   "metadata": {
    "id": "bccGMqGYL8sH"
   },
   "outputs": [],
   "source": [
    "df=pd.read_csv('sales_data_sample.csv',encoding='unicode_escape')"
   ]
  },
  {
   "cell_type": "code",
   "execution_count": null,
   "metadata": {
    "id": "7HMBmKmtL8sI",
    "outputId": "34463398-7729-482d-833a-fb96def59705"
   },
   "outputs": [
    {
     "data": {
      "text/html": [
       "<div>\n",
       "<style scoped>\n",
       "    .dataframe tbody tr th:only-of-type {\n",
       "        vertical-align: middle;\n",
       "    }\n",
       "\n",
       "    .dataframe tbody tr th {\n",
       "        vertical-align: top;\n",
       "    }\n",
       "\n",
       "    .dataframe thead th {\n",
       "        text-align: right;\n",
       "    }\n",
       "</style>\n",
       "<table border=\"1\" class=\"dataframe\">\n",
       "  <thead>\n",
       "    <tr style=\"text-align: right;\">\n",
       "      <th></th>\n",
       "      <th>ORDERNUMBER</th>\n",
       "      <th>QUANTITYORDERED</th>\n",
       "      <th>PRICEEACH</th>\n",
       "      <th>ORDERLINENUMBER</th>\n",
       "      <th>SALES</th>\n",
       "      <th>ORDERDATE</th>\n",
       "      <th>STATUS</th>\n",
       "      <th>QTR_ID</th>\n",
       "      <th>MONTH_ID</th>\n",
       "      <th>YEAR_ID</th>\n",
       "      <th>...</th>\n",
       "      <th>ADDRESSLINE1</th>\n",
       "      <th>ADDRESSLINE2</th>\n",
       "      <th>CITY</th>\n",
       "      <th>STATE</th>\n",
       "      <th>POSTALCODE</th>\n",
       "      <th>COUNTRY</th>\n",
       "      <th>TERRITORY</th>\n",
       "      <th>CONTACTLASTNAME</th>\n",
       "      <th>CONTACTFIRSTNAME</th>\n",
       "      <th>DEALSIZE</th>\n",
       "    </tr>\n",
       "  </thead>\n",
       "  <tbody>\n",
       "    <tr>\n",
       "      <th>468</th>\n",
       "      <td>10342</td>\n",
       "      <td>40</td>\n",
       "      <td>100.0</td>\n",
       "      <td>2</td>\n",
       "      <td>6454.40</td>\n",
       "      <td>11/24/2004 0:00</td>\n",
       "      <td>Shipped</td>\n",
       "      <td>4</td>\n",
       "      <td>11</td>\n",
       "      <td>2004</td>\n",
       "      <td>...</td>\n",
       "      <td>636 St Kilda Road</td>\n",
       "      <td>Level 3</td>\n",
       "      <td>Melbourne</td>\n",
       "      <td>Victoria</td>\n",
       "      <td>3004</td>\n",
       "      <td>Australia</td>\n",
       "      <td>APAC</td>\n",
       "      <td>Ferguson</td>\n",
       "      <td>Peter</td>\n",
       "      <td>Medium</td>\n",
       "    </tr>\n",
       "    <tr>\n",
       "      <th>1030</th>\n",
       "      <td>10203</td>\n",
       "      <td>48</td>\n",
       "      <td>100.0</td>\n",
       "      <td>1</td>\n",
       "      <td>8291.04</td>\n",
       "      <td>12/2/2003 0:00</td>\n",
       "      <td>Shipped</td>\n",
       "      <td>4</td>\n",
       "      <td>12</td>\n",
       "      <td>2003</td>\n",
       "      <td>...</td>\n",
       "      <td>C/ Moralzarzal, 86</td>\n",
       "      <td>NaN</td>\n",
       "      <td>Madrid</td>\n",
       "      <td>NaN</td>\n",
       "      <td>28034</td>\n",
       "      <td>Spain</td>\n",
       "      <td>EMEA</td>\n",
       "      <td>Freyre</td>\n",
       "      <td>Diego</td>\n",
       "      <td>Large</td>\n",
       "    </tr>\n",
       "    <tr>\n",
       "      <th>302</th>\n",
       "      <td>10238</td>\n",
       "      <td>29</td>\n",
       "      <td>100.0</td>\n",
       "      <td>1</td>\n",
       "      <td>3167.38</td>\n",
       "      <td>4/9/2004 0:00</td>\n",
       "      <td>Shipped</td>\n",
       "      <td>2</td>\n",
       "      <td>4</td>\n",
       "      <td>2004</td>\n",
       "      <td>...</td>\n",
       "      <td>Vinb'ltet 34</td>\n",
       "      <td>NaN</td>\n",
       "      <td>Kobenhavn</td>\n",
       "      <td>NaN</td>\n",
       "      <td>1734</td>\n",
       "      <td>Denmark</td>\n",
       "      <td>EMEA</td>\n",
       "      <td>Petersen</td>\n",
       "      <td>Jytte</td>\n",
       "      <td>Medium</td>\n",
       "    </tr>\n",
       "    <tr>\n",
       "      <th>2477</th>\n",
       "      <td>10339</td>\n",
       "      <td>22</td>\n",
       "      <td>100.0</td>\n",
       "      <td>5</td>\n",
       "      <td>2816.44</td>\n",
       "      <td>11/23/2004 0:00</td>\n",
       "      <td>Shipped</td>\n",
       "      <td>4</td>\n",
       "      <td>11</td>\n",
       "      <td>2004</td>\n",
       "      <td>...</td>\n",
       "      <td>2-2-8 Roppongi</td>\n",
       "      <td>NaN</td>\n",
       "      <td>Minato-ku</td>\n",
       "      <td>Tokyo</td>\n",
       "      <td>106-0032</td>\n",
       "      <td>Japan</td>\n",
       "      <td>Japan</td>\n",
       "      <td>Shimamura</td>\n",
       "      <td>Akiko</td>\n",
       "      <td>Small</td>\n",
       "    </tr>\n",
       "    <tr>\n",
       "      <th>38</th>\n",
       "      <td>10245</td>\n",
       "      <td>34</td>\n",
       "      <td>100.0</td>\n",
       "      <td>9</td>\n",
       "      <td>6120.34</td>\n",
       "      <td>5/4/2004 0:00</td>\n",
       "      <td>Shipped</td>\n",
       "      <td>2</td>\n",
       "      <td>5</td>\n",
       "      <td>2004</td>\n",
       "      <td>...</td>\n",
       "      <td>567 North Pendale Street</td>\n",
       "      <td>NaN</td>\n",
       "      <td>New Haven</td>\n",
       "      <td>CT</td>\n",
       "      <td>97823</td>\n",
       "      <td>USA</td>\n",
       "      <td>NaN</td>\n",
       "      <td>Murphy</td>\n",
       "      <td>Leslie</td>\n",
       "      <td>Medium</td>\n",
       "    </tr>\n",
       "  </tbody>\n",
       "</table>\n",
       "<p>5 rows × 25 columns</p>\n",
       "</div>"
      ],
      "text/plain": [
       "      ORDERNUMBER  QUANTITYORDERED  PRICEEACH  ORDERLINENUMBER    SALES  \\\n",
       "468         10342               40      100.0                2  6454.40   \n",
       "1030        10203               48      100.0                1  8291.04   \n",
       "302         10238               29      100.0                1  3167.38   \n",
       "2477        10339               22      100.0                5  2816.44   \n",
       "38          10245               34      100.0                9  6120.34   \n",
       "\n",
       "            ORDERDATE   STATUS  QTR_ID  MONTH_ID  YEAR_ID   ...     \\\n",
       "468   11/24/2004 0:00  Shipped       4        11     2004   ...      \n",
       "1030   12/2/2003 0:00  Shipped       4        12     2003   ...      \n",
       "302     4/9/2004 0:00  Shipped       2         4     2004   ...      \n",
       "2477  11/23/2004 0:00  Shipped       4        11     2004   ...      \n",
       "38      5/4/2004 0:00  Shipped       2         5     2004   ...      \n",
       "\n",
       "                  ADDRESSLINE1  ADDRESSLINE2       CITY     STATE POSTALCODE  \\\n",
       "468          636 St Kilda Road       Level 3  Melbourne  Victoria       3004   \n",
       "1030        C/ Moralzarzal, 86           NaN     Madrid       NaN      28034   \n",
       "302               Vinb'ltet 34           NaN  Kobenhavn       NaN       1734   \n",
       "2477            2-2-8 Roppongi           NaN  Minato-ku     Tokyo   106-0032   \n",
       "38    567 North Pendale Street           NaN  New Haven        CT      97823   \n",
       "\n",
       "        COUNTRY TERRITORY CONTACTLASTNAME CONTACTFIRSTNAME DEALSIZE  \n",
       "468   Australia      APAC        Ferguson            Peter   Medium  \n",
       "1030      Spain      EMEA          Freyre            Diego    Large  \n",
       "302     Denmark      EMEA        Petersen            Jytte   Medium  \n",
       "2477      Japan     Japan       Shimamura            Akiko    Small  \n",
       "38          USA       NaN          Murphy           Leslie   Medium  \n",
       "\n",
       "[5 rows x 25 columns]"
      ]
     },
     "execution_count": 4,
     "metadata": {
      "tags": []
     },
     "output_type": "execute_result"
    }
   ],
   "source": [
    "df.sample(n=5)"
   ]
  },
  {
   "cell_type": "markdown",
   "metadata": {
    "id": "IDdvMs2rL8sK"
   },
   "source": [
    "<h1> 3. Check the shape of the data (number of rows and column). Check the general information about the dataframe using .info() method.\n",
    "</h1>"
   ]
  },
  {
   "cell_type": "code",
   "execution_count": null,
   "metadata": {
    "id": "TqL0V1pSL8sL",
    "outputId": "ee063271-ba1c-4d29-f958-c09d1aa110cf"
   },
   "outputs": [
    {
     "name": "stdout",
     "output_type": "stream",
     "text": [
      "Shape of the dataset (2823, 25)\n",
      "******************************\n",
      "<class 'pandas.core.frame.DataFrame'>\n",
      "RangeIndex: 2823 entries, 0 to 2822\n",
      "Data columns (total 25 columns):\n",
      "ORDERNUMBER         2823 non-null int64\n",
      "QUANTITYORDERED     2823 non-null int64\n",
      "PRICEEACH           2823 non-null float64\n",
      "ORDERLINENUMBER     2823 non-null int64\n",
      "SALES               2823 non-null float64\n",
      "ORDERDATE           2823 non-null object\n",
      "STATUS              2823 non-null object\n",
      "QTR_ID              2823 non-null int64\n",
      "MONTH_ID            2823 non-null int64\n",
      "YEAR_ID             2823 non-null int64\n",
      "PRODUCTLINE         2823 non-null object\n",
      "MSRP                2823 non-null int64\n",
      "PRODUCTCODE         2823 non-null object\n",
      "CUSTOMERNAME        2823 non-null object\n",
      "PHONE               2823 non-null object\n",
      "ADDRESSLINE1        2823 non-null object\n",
      "ADDRESSLINE2        302 non-null object\n",
      "CITY                2823 non-null object\n",
      "STATE               1337 non-null object\n",
      "POSTALCODE          2747 non-null object\n",
      "COUNTRY             2823 non-null object\n",
      "TERRITORY           1749 non-null object\n",
      "CONTACTLASTNAME     2823 non-null object\n",
      "CONTACTFIRSTNAME    2823 non-null object\n",
      "DEALSIZE            2823 non-null object\n",
      "dtypes: float64(2), int64(7), object(16)\n",
      "memory usage: 551.4+ KB\n",
      "None\n"
     ]
    }
   ],
   "source": [
    "def basic_info(df):\n",
    "    '''checking basic information & shape about the dataframe'''\n",
    "    temp=df.copy(deep=True)\n",
    "    print(\"Shape of the dataset\",df.shape)\n",
    "    print(\"*\"*30)\n",
    "    print(df.info())\n",
    "    \n",
    "basic_info(df)"
   ]
  },
  {
   "cell_type": "markdown",
   "metadata": {
    "id": "szbU2qr6L8sM"
   },
   "source": [
    "<h1>4.Check the percentage of missing values in each column of the data frame.</h1>"
   ]
  },
  {
   "cell_type": "code",
   "execution_count": null,
   "metadata": {
    "id": "bWiVb-9OL8sN",
    "outputId": "0d381eef-2176-49ed-b67a-1e270a0965ad"
   },
   "outputs": [
    {
     "name": "stdout",
     "output_type": "stream",
     "text": [
      "percentage of missing data of dataframe \n",
      " ORDERNUMBER          0.000000\n",
      "QUANTITYORDERED      0.000000\n",
      "PRICEEACH            0.000000\n",
      "ORDERLINENUMBER      0.000000\n",
      "SALES                0.000000\n",
      "ORDERDATE            0.000000\n",
      "STATUS               0.000000\n",
      "QTR_ID               0.000000\n",
      "MONTH_ID             0.000000\n",
      "YEAR_ID              0.000000\n",
      "PRODUCTLINE          0.000000\n",
      "MSRP                 0.000000\n",
      "PRODUCTCODE          0.000000\n",
      "CUSTOMERNAME         0.000000\n",
      "PHONE                0.000000\n",
      "ADDRESSLINE1         0.000000\n",
      "ADDRESSLINE2        89.302161\n",
      "CITY                 0.000000\n",
      "STATE               52.639036\n",
      "POSTALCODE           2.692171\n",
      "COUNTRY              0.000000\n",
      "TERRITORY           38.044633\n",
      "CONTACTLASTNAME      0.000000\n",
      "CONTACTFIRSTNAME     0.000000\n",
      "DEALSIZE             0.000000\n",
      "dtype: float64\n"
     ]
    }
   ],
   "source": [
    "def check_missing_values(df):\n",
    "    '''Function to check the missing data percentage'''\n",
    "    print(\"percentage of missing data of dataframe \\n\",df.isnull().sum()/len(df)*100)\n",
    "    \n",
    "check_missing_values(df)"
   ]
  },
  {
   "cell_type": "markdown",
   "metadata": {
    "id": "9tHniECYL8sO"
   },
   "source": [
    "- Here we can see the column ADDRESSLINE2 has  89.3% of missing values, STATE has 52.6% of missing values.\n",
    "- POSTALCODE has around 2.69% and TERRITORY has  around 38%."
   ]
  },
  {
   "cell_type": "markdown",
   "metadata": {
    "id": "UU9oLzTNL8sP"
   },
   "source": [
    "- We will drop the ADDRESSLINE2 column and impute other columns with most occured values with the respective column."
   ]
  },
  {
   "cell_type": "markdown",
   "metadata": {
    "id": "x3qZ-nzYL8sQ"
   },
   "source": [
    "<h1>5. Check if there are any duplicate rows.</h1>"
   ]
  },
  {
   "cell_type": "code",
   "execution_count": null,
   "metadata": {
    "id": "VwCjkDKiL8sQ",
    "outputId": "20ebbf51-3f7e-4333-b39a-c80aa02cfcbc"
   },
   "outputs": [
    {
     "data": {
      "text/html": [
       "<div>\n",
       "<style scoped>\n",
       "    .dataframe tbody tr th:only-of-type {\n",
       "        vertical-align: middle;\n",
       "    }\n",
       "\n",
       "    .dataframe tbody tr th {\n",
       "        vertical-align: top;\n",
       "    }\n",
       "\n",
       "    .dataframe thead th {\n",
       "        text-align: right;\n",
       "    }\n",
       "</style>\n",
       "<table border=\"1\" class=\"dataframe\">\n",
       "  <thead>\n",
       "    <tr style=\"text-align: right;\">\n",
       "      <th></th>\n",
       "      <th>ORDERNUMBER</th>\n",
       "      <th>QUANTITYORDERED</th>\n",
       "      <th>PRICEEACH</th>\n",
       "      <th>ORDERLINENUMBER</th>\n",
       "      <th>SALES</th>\n",
       "      <th>ORDERDATE</th>\n",
       "      <th>STATUS</th>\n",
       "      <th>QTR_ID</th>\n",
       "      <th>MONTH_ID</th>\n",
       "      <th>YEAR_ID</th>\n",
       "      <th>...</th>\n",
       "      <th>ADDRESSLINE1</th>\n",
       "      <th>ADDRESSLINE2</th>\n",
       "      <th>CITY</th>\n",
       "      <th>STATE</th>\n",
       "      <th>POSTALCODE</th>\n",
       "      <th>COUNTRY</th>\n",
       "      <th>TERRITORY</th>\n",
       "      <th>CONTACTLASTNAME</th>\n",
       "      <th>CONTACTFIRSTNAME</th>\n",
       "      <th>DEALSIZE</th>\n",
       "    </tr>\n",
       "  </thead>\n",
       "  <tbody>\n",
       "  </tbody>\n",
       "</table>\n",
       "<p>0 rows × 25 columns</p>\n",
       "</div>"
      ],
      "text/plain": [
       "Empty DataFrame\n",
       "Columns: [ORDERNUMBER, QUANTITYORDERED, PRICEEACH, ORDERLINENUMBER, SALES, ORDERDATE, STATUS, QTR_ID, MONTH_ID, YEAR_ID, PRODUCTLINE, MSRP, PRODUCTCODE, CUSTOMERNAME, PHONE, ADDRESSLINE1, ADDRESSLINE2, CITY, STATE, POSTALCODE, COUNTRY, TERRITORY, CONTACTLASTNAME, CONTACTFIRSTNAME, DEALSIZE]\n",
       "Index: []\n",
       "\n",
       "[0 rows x 25 columns]"
      ]
     },
     "execution_count": 7,
     "metadata": {
      "tags": []
     },
     "output_type": "execute_result"
    }
   ],
   "source": [
    "def check_duplicate(df):\n",
    "    duplicate=df[df.duplicated()]\n",
    "    return duplicate\n",
    "\n",
    "duplicate=check_duplicate(df)\n",
    "duplicate"
   ]
  },
  {
   "cell_type": "markdown",
   "metadata": {
    "id": "NgPBf7IuL8sR"
   },
   "source": [
    "- As we can see, There is no duplicate columns which is a good thing for us."
   ]
  },
  {
   "cell_type": "markdown",
   "metadata": {
    "id": "EJAVN2EqL8sS"
   },
   "source": [
    "<h1> 6. Write a function that will impute missing values of the columns “STATE”, “POSTALCODE”,“TERRITORY” with its most occurring label.   </h1>"
   ]
  },
  {
   "cell_type": "code",
   "execution_count": null,
   "metadata": {
    "id": "uOWtZIshL8sS"
   },
   "outputs": [],
   "source": [
    "def impute_most_occur(df):\n",
    "    df=df.copy(deep=True)\n",
    "    temp_state=df['STATE'].value_counts().index[0]\n",
    "    df['STATE'].fillna(value=temp_state,inplace=True)\n",
    "    temp_postal_code=df['POSTALCODE'].value_counts().index[0]\n",
    "    df['POSTALCODE'].fillna(value=temp_postal_code,inplace=True)\n",
    "    temp_territory=df['TERRITORY'].value_counts().index[0]\n",
    "    df['TERRITORY'].fillna(value=temp_territory,inplace=True)\n",
    "    return df\n",
    "\n",
    "df=impute_most_occur(df)"
   ]
  },
  {
   "cell_type": "code",
   "execution_count": null,
   "metadata": {
    "id": "YMaivayYL8sT",
    "outputId": "6df0fcbb-3569-4f66-d622-f74ab67c41aa"
   },
   "outputs": [
    {
     "name": "stdout",
     "output_type": "stream",
     "text": [
      "percentage of missing data of dataframe \n",
      " ORDERNUMBER          0.000000\n",
      "QUANTITYORDERED      0.000000\n",
      "PRICEEACH            0.000000\n",
      "ORDERLINENUMBER      0.000000\n",
      "SALES                0.000000\n",
      "ORDERDATE            0.000000\n",
      "STATUS               0.000000\n",
      "QTR_ID               0.000000\n",
      "MONTH_ID             0.000000\n",
      "YEAR_ID              0.000000\n",
      "PRODUCTLINE          0.000000\n",
      "MSRP                 0.000000\n",
      "PRODUCTCODE          0.000000\n",
      "CUSTOMERNAME         0.000000\n",
      "PHONE                0.000000\n",
      "ADDRESSLINE1         0.000000\n",
      "ADDRESSLINE2        89.302161\n",
      "CITY                 0.000000\n",
      "STATE                0.000000\n",
      "POSTALCODE           0.000000\n",
      "COUNTRY              0.000000\n",
      "TERRITORY            0.000000\n",
      "CONTACTLASTNAME      0.000000\n",
      "CONTACTFIRSTNAME     0.000000\n",
      "DEALSIZE             0.000000\n",
      "dtype: float64\n",
      "**************************************************\n",
      "Shape of the dataset (2823, 25)\n",
      "******************************\n",
      "<class 'pandas.core.frame.DataFrame'>\n",
      "RangeIndex: 2823 entries, 0 to 2822\n",
      "Data columns (total 25 columns):\n",
      "ORDERNUMBER         2823 non-null int64\n",
      "QUANTITYORDERED     2823 non-null int64\n",
      "PRICEEACH           2823 non-null float64\n",
      "ORDERLINENUMBER     2823 non-null int64\n",
      "SALES               2823 non-null float64\n",
      "ORDERDATE           2823 non-null object\n",
      "STATUS              2823 non-null object\n",
      "QTR_ID              2823 non-null int64\n",
      "MONTH_ID            2823 non-null int64\n",
      "YEAR_ID             2823 non-null int64\n",
      "PRODUCTLINE         2823 non-null object\n",
      "MSRP                2823 non-null int64\n",
      "PRODUCTCODE         2823 non-null object\n",
      "CUSTOMERNAME        2823 non-null object\n",
      "PHONE               2823 non-null object\n",
      "ADDRESSLINE1        2823 non-null object\n",
      "ADDRESSLINE2        302 non-null object\n",
      "CITY                2823 non-null object\n",
      "STATE               2823 non-null object\n",
      "POSTALCODE          2823 non-null object\n",
      "COUNTRY             2823 non-null object\n",
      "TERRITORY           2823 non-null object\n",
      "CONTACTLASTNAME     2823 non-null object\n",
      "CONTACTFIRSTNAME    2823 non-null object\n",
      "DEALSIZE            2823 non-null object\n",
      "dtypes: float64(2), int64(7), object(16)\n",
      "memory usage: 551.4+ KB\n",
      "None\n"
     ]
    }
   ],
   "source": [
    "check_missing_values(df)\n",
    "print(\"*\"*50)\n",
    "basic_info(df)"
   ]
  },
  {
   "cell_type": "markdown",
   "metadata": {
    "id": "5E9L2utWL8sT"
   },
   "source": [
    "<h1>7.Drop “ADDRESSLINE2”,”ORDERDATE”,”PHONE” column.</h1>"
   ]
  },
  {
   "cell_type": "code",
   "execution_count": null,
   "metadata": {
    "id": "ImWrWqoRL8sU"
   },
   "outputs": [],
   "source": [
    "df.drop(['ADDRESSLINE2','ORDERDATE','PHONE'],axis=1,inplace=True)"
   ]
  },
  {
   "cell_type": "code",
   "execution_count": null,
   "metadata": {
    "id": "BVpK6ZoHL8sU",
    "outputId": "70d1f9e8-f7d9-4c24-f369-021a7447f548"
   },
   "outputs": [
    {
     "name": "stdout",
     "output_type": "stream",
     "text": [
      "percentage of missing data of dataframe \n",
      " ORDERNUMBER         0.0\n",
      "QUANTITYORDERED     0.0\n",
      "PRICEEACH           0.0\n",
      "ORDERLINENUMBER     0.0\n",
      "SALES               0.0\n",
      "STATUS              0.0\n",
      "QTR_ID              0.0\n",
      "MONTH_ID            0.0\n",
      "YEAR_ID             0.0\n",
      "PRODUCTLINE         0.0\n",
      "MSRP                0.0\n",
      "PRODUCTCODE         0.0\n",
      "CUSTOMERNAME        0.0\n",
      "ADDRESSLINE1        0.0\n",
      "CITY                0.0\n",
      "STATE               0.0\n",
      "POSTALCODE          0.0\n",
      "COUNTRY             0.0\n",
      "TERRITORY           0.0\n",
      "CONTACTLASTNAME     0.0\n",
      "CONTACTFIRSTNAME    0.0\n",
      "DEALSIZE            0.0\n",
      "dtype: float64\n",
      "**************************************************\n",
      "Shape of the dataset (2823, 22)\n",
      "******************************\n",
      "<class 'pandas.core.frame.DataFrame'>\n",
      "RangeIndex: 2823 entries, 0 to 2822\n",
      "Data columns (total 22 columns):\n",
      "ORDERNUMBER         2823 non-null int64\n",
      "QUANTITYORDERED     2823 non-null int64\n",
      "PRICEEACH           2823 non-null float64\n",
      "ORDERLINENUMBER     2823 non-null int64\n",
      "SALES               2823 non-null float64\n",
      "STATUS              2823 non-null object\n",
      "QTR_ID              2823 non-null int64\n",
      "MONTH_ID            2823 non-null int64\n",
      "YEAR_ID             2823 non-null int64\n",
      "PRODUCTLINE         2823 non-null object\n",
      "MSRP                2823 non-null int64\n",
      "PRODUCTCODE         2823 non-null object\n",
      "CUSTOMERNAME        2823 non-null object\n",
      "ADDRESSLINE1        2823 non-null object\n",
      "CITY                2823 non-null object\n",
      "STATE               2823 non-null object\n",
      "POSTALCODE          2823 non-null object\n",
      "COUNTRY             2823 non-null object\n",
      "TERRITORY           2823 non-null object\n",
      "CONTACTLASTNAME     2823 non-null object\n",
      "CONTACTFIRSTNAME    2823 non-null object\n",
      "DEALSIZE            2823 non-null object\n",
      "dtypes: float64(2), int64(7), object(13)\n",
      "memory usage: 485.3+ KB\n",
      "None\n"
     ]
    }
   ],
   "source": [
    "check_missing_values(df)\n",
    "print(\"*\"*50)\n",
    "basic_info(df)"
   ]
  },
  {
   "cell_type": "markdown",
   "metadata": {
    "id": "gLSwZF8WL8sV"
   },
   "source": [
    "<h1>8.Convert the labels of the STATUS column to 0 and 1. For Shipped assign value 1 and for all other labels (i.e. ‘Cancelled’,’ Resolved’,’ On Hold’,’ In Process’, 'Disputed') assign 0. Note we will consider everything apart from Shipped as cancel (i.e. 0).\n"
   ]
  },
  {
   "cell_type": "code",
   "execution_count": null,
   "metadata": {
    "id": "CsyMc0gRL8sV"
   },
   "outputs": [],
   "source": [
    "df['STATUS']=df['STATUS'].map({'Shipped':1,'Cancelled':0,'Resolved':0,'On Hold':0,'In Process':0,'Disputed':0})"
   ]
  },
  {
   "cell_type": "code",
   "execution_count": null,
   "metadata": {
    "id": "ZCIajB9jL8sV",
    "outputId": "5a2af0ed-1dbc-44cc-9968-f7eff8225948"
   },
   "outputs": [
    {
     "data": {
      "text/plain": [
       "1    2617\n",
       "0     206\n",
       "Name: STATUS, dtype: int64"
      ]
     },
     "execution_count": 13,
     "metadata": {
      "tags": []
     },
     "output_type": "execute_result"
    }
   ],
   "source": [
    "df['STATUS'].value_counts()"
   ]
  },
  {
   "cell_type": "markdown",
   "metadata": {
    "id": "sXTGIBksL8sW"
   },
   "source": [
    "<h1>9.Assign ‘STATUS’ column into a label variable and drop it from the original dataframe.Convert the original dataframe to the dummy coded data.(Hint:-use pd.get_dummies()).</h1>"
   ]
  },
  {
   "cell_type": "code",
   "execution_count": null,
   "metadata": {
    "id": "mz-g8iawL8sW"
   },
   "outputs": [],
   "source": [
    "lv=df['STATUS']\n",
    "df.drop(['STATUS'],axis=1,inplace=True)"
   ]
  },
  {
   "cell_type": "code",
   "execution_count": null,
   "metadata": {
    "id": "NvdEU74AL8sX"
   },
   "outputs": [],
   "source": [
    "new_df=pd.get_dummies(df)"
   ]
  },
  {
   "cell_type": "code",
   "execution_count": null,
   "metadata": {
    "id": "EjwUG0xjL8sX",
    "outputId": "f1dbb4c7-aa91-4ff6-a431-e5c1ff3e7e37"
   },
   "outputs": [
    {
     "data": {
      "text/plain": [
       "(2823, 645)"
      ]
     },
     "execution_count": 16,
     "metadata": {
      "tags": []
     },
     "output_type": "execute_result"
    }
   ],
   "source": [
    "new_df.shape"
   ]
  },
  {
   "cell_type": "markdown",
   "metadata": {
    "id": "WKgjYhlcL8sX"
   },
   "source": [
    "<h1>10.Use StandardScaler to scale the data.</h1>\n"
   ]
  },
  {
   "cell_type": "code",
   "execution_count": null,
   "metadata": {
    "id": "cizNWrYdL8sY",
    "outputId": "a65f3539-05ad-4d20-9ef8-bc48fd943404"
   },
   "outputs": [
    {
     "name": "stdout",
     "output_type": "stream",
     "text": [
      "(2823, 645)\n"
     ]
    }
   ],
   "source": [
    "standardized_data=StandardScaler().fit_transform(new_df)\n",
    "print(standardized_data.shape)"
   ]
  },
  {
   "cell_type": "markdown",
   "metadata": {
    "id": "V0WD-e8WL8sY"
   },
   "source": [
    "<h1>PCA for Visualization </h1>"
   ]
  },
  {
   "cell_type": "markdown",
   "metadata": {
    "id": "0f4cUZfWL8sY"
   },
   "source": [
    "<h1> 1. Take the help of PCA to reduce the data to 2 dimensions. Use n_components=2. </h1>"
   ]
  },
  {
   "cell_type": "code",
   "execution_count": null,
   "metadata": {
    "id": "QRlE271iL8sZ",
    "outputId": "45a2d2b7-1f0c-4ab9-9ccc-aef269a600bb"
   },
   "outputs": [
    {
     "name": "stdout",
     "output_type": "stream",
     "text": [
      "Reduced dimension= (2823, 2)\n"
     ]
    }
   ],
   "source": [
    "sample_data=standardized_data\n",
    "pca=PCA()\n",
    "pca.n_components=2\n",
    "pca_data=pca.fit_transform(sample_data)\n",
    "print(\"Reduced dimension=\",pca_data.shape)"
   ]
  },
  {
   "cell_type": "markdown",
   "metadata": {
    "id": "xOrXqZQxL8sZ"
   },
   "source": [
    "<h1> 2.Take the first and second principal components and plot a scatter plot with the labels. </h1>"
   ]
  },
  {
   "cell_type": "code",
   "execution_count": null,
   "metadata": {
    "id": "eTfbTwevL8sZ",
    "outputId": "d373f539-9da3-4be3-9301-142c2d261da7"
   },
   "outputs": [
    {
     "name": "stderr",
     "output_type": "stream",
     "text": [
      "C:\\Users\\SWASTIK\\AppData\\Local\\Continuum\\anaconda3\\lib\\site-packages\\seaborn\\axisgrid.py:316: UserWarning: The `size` parameter has been renamed to `height`; please update your code.\n",
      "  warnings.warn(msg, UserWarning)\n"
     ]
    },
    {
     "data": {
      "image/png": "[encoded data removed]",
      "text/plain": [
       "<Figure size 772x720 with 1 Axes>"
      ]
     },
     "metadata": {
      "tags": []
     },
     "output_type": "display_data"
    }
   ],
   "source": [
    "pca_data=np.vstack((pca_data.T,lv)).T\n",
    "pca_df=pd.DataFrame(data=pca_data,columns=(\"1st_component\",\"2nd_component\",\"labels\"))\n",
    "sns.FacetGrid(pca_df,hue='labels',size=10).map(plt.scatter,\"1st_component\",\"2nd_component\").add_legend()\n",
    "plt.show()"
   ]
  },
  {
   "cell_type": "markdown",
   "metadata": {
    "id": "dKYKXaD7L8sa"
   },
   "source": [
    "<h1> 3. Write the intuitions about the scatter plot.</h1>"
   ]
  },
  {
   "cell_type": "markdown",
   "metadata": {
    "id": "ixS8CXyeL8sa"
   },
   "source": [
    "- Most of the data are overlapping with each other.\n",
    "- As we can see, data's are coming in clusters."
   ]
  },
  {
   "cell_type": "markdown",
   "metadata": {
    "id": "oJKzPfMeL8sb"
   },
   "source": [
    "<h1>PCA for dimensionality Reduction </h1>"
   ]
  },
  {
   "cell_type": "markdown",
   "metadata": {
    "id": "LwVjCmMBL8sb"
   },
   "source": [
    "<h1> 1. Fit the PCA model on the data and plot a graph between n_components and cumulative explained variance.</h1>"
   ]
  },
  {
   "cell_type": "code",
   "execution_count": null,
   "metadata": {
    "id": "AdWLqUZhL8sb",
    "outputId": "6eba07d5-9f8c-44ae-c0aa-7dbac7e4a1d5"
   },
   "outputs": [
    {
     "data": {
      "image/png": "[encoded data removed]",
      "text/plain": [
       "<Figure size 864x576 with 1 Axes>"
      ]
     },
     "metadata": {
      "tags": []
     },
     "output_type": "display_data"
    }
   ],
   "source": [
    "pca=PCA()\n",
    "pca.n_components=645\n",
    "pca_data=pca.fit_transform(sample_data)\n",
    "percentage_var_explained=pca.explained_variance_/np.sum(pca.explained_variance_)\n",
    "\n",
    "cum_var_explained=np.cumsum(percentage_var_explained)\n",
    "\n",
    "plt.figure(1,figsize=(12,8))\n",
    "plt.clf()\n",
    "plt.plot(cum_var_explained,linewidth=2)\n",
    "plt.axis=('tight')\n",
    "plt.grid()\n",
    "plt.xlabel('n_components')\n",
    "plt.ylabel('Cumulative_explained_Variance')\n",
    "plt.show()"
   ]
  },
  {
   "cell_type": "markdown",
   "metadata": {
    "id": "Sh-7mcNUL8sc"
   },
   "source": [
    "- From the above diagram it is clear that by taking around 150 components we will be able to get 90% varaiance."
   ]
  },
  {
   "cell_type": "markdown",
   "metadata": {
    "id": "dCPqwLLSL8sc"
   },
   "source": [
    "<h1>  LDA </h1>"
   ]
  },
  {
   "cell_type": "markdown",
   "metadata": {
    "id": "U3XMLanVL8sc"
   },
   "source": [
    "<h1> 1.Split the dataset into two parts (i.e. 80% train and 20% test) using random_state=42. </h1>"
   ]
  },
  {
   "cell_type": "code",
   "execution_count": null,
   "metadata": {
    "id": "v3Trl-N_duWh"
   },
   "outputs": [],
   "source": [
    "import warnings\n",
    "warnings.filterwarnings(\"ignore\")"
   ]
  },
  {
   "cell_type": "code",
   "execution_count": null,
   "metadata": {
    "id": "vDlPbkDQL8sd",
    "outputId": "1d134317-f212-4893-8ed5-84d5c332c7db"
   },
   "outputs": [
    {
     "data": {
      "text/plain": [
       "((2823, 645), (2823,))"
      ]
     },
     "execution_count": 22,
     "metadata": {
      "tags": []
     },
     "output_type": "execute_result"
    }
   ],
   "source": [
    "sample_data.shape,lv.shape"
   ]
  },
  {
   "cell_type": "code",
   "execution_count": null,
   "metadata": {
    "id": "zAiw_KhsL8sd"
   },
   "outputs": [],
   "source": [
    "label=lv.as_matrix()\n",
    "lv_mat=label.reshape(-1,1)"
   ]
  },
  {
   "cell_type": "code",
   "execution_count": null,
   "metadata": {
    "id": "EBtGYQrgL8sd"
   },
   "outputs": [],
   "source": [
    "X_train,X_test,y_train,y_test=train_test_split(sample_data,lv_mat,test_size=0.2,random_state=42)"
   ]
  },
  {
   "cell_type": "code",
   "execution_count": null,
   "metadata": {
    "id": "lGrg_YALduWi",
    "outputId": "8aa90d7b-dcc9-48a5-a39d-94060aa1b831"
   },
   "outputs": [
    {
     "name": "stdout",
     "output_type": "stream",
     "text": [
      "Train Accuracy 0.9317980513728964\n",
      "Test Accuracy 0.9079646017699115\n",
      "**************************************************\n",
      "Train confusion matrix [[   0  154]\n",
      " [   0 2104]]\n",
      "Test confusion matrix [[  0  52]\n",
      " [  0 513]]\n"
     ]
    }
   ],
   "source": [
    "rf=RandomForestClassifier(max_depth=3,n_estimators=25)\n",
    "rf.fit(X_train,y_train)\n",
    "y_train_pred=rf.predict(X_train)\n",
    "y_test_pred=rf.predict(X_test)\n",
    "\n",
    "print(\"Train Accuracy\",accuracy_score(y_train,y_train_pred))\n",
    "print(\"Test Accuracy\",accuracy_score(y_test,y_test_pred))\n",
    "print(\"*\"*50)\n",
    "print(\"Train confusion matrix\",confusion_matrix(y_train,y_train_pred))\n",
    "print(\"Test confusion matrix\",confusion_matrix(y_test,y_test_pred))"
   ]
  },
  {
   "cell_type": "markdown",
   "metadata": {
    "id": "TD8eznYyL8sd"
   },
   "source": [
    "<h1>2. Train a Linear Discriminant Analysis(LDA) model on the train data.Do fit_transform on the train data and only transform on the test data. </h1>"
   ]
  },
  {
   "cell_type": "code",
   "execution_count": null,
   "metadata": {
    "id": "SYZtKTTeduWj"
   },
   "outputs": [],
   "source": [
    "import warnings\n",
    "warnings.filterwarnings(\"ignore\")"
   ]
  },
  {
   "cell_type": "code",
   "execution_count": null,
   "metadata": {
    "id": "q8zvamhCduWj"
   },
   "outputs": [],
   "source": [
    "lda = LDA(n_components=1)\n",
    "X_train = lda.fit_transform(X_train, y_train)\n",
    "X_test = lda.transform(X_test)"
   ]
  },
  {
   "cell_type": "code",
   "execution_count": null,
   "metadata": {
    "id": "I1SCoHeWduWj",
    "outputId": "b5e652f0-cb06-4c31-c15f-4fd6a86887ef"
   },
   "outputs": [
    {
     "data": {
      "text/plain": [
       "(array([[ 0.60496511],\n",
       "        [ 0.28984435],\n",
       "        [ 0.6028427 ],\n",
       "        [-0.21719613],\n",
       "        [ 0.27988057]]), array([[ 1.26394182],\n",
       "        [ 2.52900911],\n",
       "        [ 1.33478261],\n",
       "        [-2.94060547],\n",
       "        [ 0.7395123 ]]))"
      ]
     },
     "execution_count": 28,
     "metadata": {
      "tags": []
     },
     "output_type": "execute_result"
    }
   ],
   "source": [
    "X_train[:5],X_test[:5]"
   ]
  },
  {
   "cell_type": "markdown",
   "metadata": {
    "id": "sh_3AzagL8se"
   },
   "source": [
    "<h1>3.Train a random-forest mode on the transformed data  and print the accuracy of train and test data. Take max_depth=3 and n_estimators=25 </h1>"
   ]
  },
  {
   "cell_type": "code",
   "execution_count": null,
   "metadata": {
    "id": "x56LR90VduWj",
    "outputId": "ef97ef76-aab2-477c-d7db-1aab9d50542d"
   },
   "outputs": [
    {
     "name": "stdout",
     "output_type": "stream",
     "text": [
      "Train Accuracy 0.9534986713906112\n",
      "Test Accuracy 0.9292035398230089\n",
      "**************************************************\n",
      "Train confusion matrix [[  88   66]\n",
      " [  39 2065]]\n",
      "Test confusion matrix [[ 20  32]\n",
      " [  8 505]]\n"
     ]
    }
   ],
   "source": [
    "rf=RandomForestClassifier(max_depth=3,n_estimators=25)\n",
    "rf.fit(X_train,y_train)\n",
    "y_train_pred=rf.predict(X_train)\n",
    "y_test_pred=rf.predict(X_test)\n",
    "\n",
    "print(\"Train Accuracy\",accuracy_score(y_train,y_train_pred))\n",
    "print(\"Test Accuracy\",accuracy_score(y_test,y_test_pred))\n",
    "print(\"*\"*50)\n",
    "print(\"Train confusion matrix\",confusion_matrix(y_train,y_train_pred))\n",
    "print(\"Test confusion matrix\",confusion_matrix(y_test,y_test_pred))"
   ]
  },
  {
   "cell_type": "markdown",
   "metadata": {
    "id": "2xrTqw67L8se"
   },
   "source": [
    "<h1>Conclusion </h1>"
   ]
  },
  {
   "cell_type": "markdown",
   "metadata": {
    "id": "IADYWZYZduWk"
   },
   "source": [
    "- As we can see we True negative and False negative points is zero before applying LDA but after applying LDA we are getting some amount of True negative and false negative points.\n",
    "- Due to class imbalance, the majority class has high recall but minority class has poor recall.\n"
   ]
  },
  {
   "cell_type": "code",
   "execution_count": null,
   "metadata": {
    "id": "9VBNPabAeHjL"
   },
   "outputs": [],
   "source": []
  }
 ],
 "metadata": {
  "colab": {
   "name": "USL_W2_Solution.ipynb",
   "provenance": []
  },
  "kernelspec": {
   "display_name": "Python 3 (ipykernel)",
   "language": "python",
   "name": "python3"
  },
  "language_info": {
   "codemirror_mode": {
    "name": "ipython",
    "version": 3
   },
   "file_extension": ".py",
   "mimetype": "text/x-python",
   "name": "python",
   "nbconvert_exporter": "python",
   "pygments_lexer": "ipython3",
   "version": "3.11.7"
  }
 },
 "nbformat": 4,
 "nbformat_minor": 1
}
