{
 "cells": [
  {
   "cell_type": "code",
   "execution_count": 35,
   "id": "b4014059",
   "metadata": {},
   "outputs": [],
   "source": [
    "import numpy as np \n",
    "import pandas as pd\n",
    "import matplotlib.pyplot as plt\n",
    "import seaborn as sns\n",
    "\n",
    "import  plotly.express as px\n",
    "%matplotlib inline\n",
    "\n",
    "pd.set_option('display.float_format',lambda x: '%.3f' %x)"
   ]
  },
  {
   "cell_type": "code",
   "execution_count": 55,
   "id": "ea42a7ac",
   "metadata": {},
   "outputs": [
    {
     "data": {
      "text/html": [
       "<div>\n",
       "<style scoped>\n",
       "    .dataframe tbody tr th:only-of-type {\n",
       "        vertical-align: middle;\n",
       "    }\n",
       "\n",
       "    .dataframe tbody tr th {\n",
       "        vertical-align: top;\n",
       "    }\n",
       "\n",
       "    .dataframe thead th {\n",
       "        text-align: right;\n",
       "    }\n",
       "</style>\n",
       "<table border=\"1\" class=\"dataframe\">\n",
       "  <thead>\n",
       "    <tr style=\"text-align: right;\">\n",
       "      <th></th>\n",
       "      <th>Suburb</th>\n",
       "      <th>Rooms</th>\n",
       "      <th>Type</th>\n",
       "      <th>SellerG</th>\n",
       "      <th>Date</th>\n",
       "      <th>Distance</th>\n",
       "      <th>Postcode</th>\n",
       "      <th>Bedroom</th>\n",
       "      <th>Bathroom</th>\n",
       "      <th>Car</th>\n",
       "      <th>Landsize</th>\n",
       "      <th>BuildingArea</th>\n",
       "      <th>YearBuilt</th>\n",
       "      <th>Regionname</th>\n",
       "      <th>Propertycount</th>\n",
       "      <th>Price</th>\n",
       "    </tr>\n",
       "  </thead>\n",
       "  <tbody>\n",
       "    <tr>\n",
       "      <th>0</th>\n",
       "      <td>Airport West</td>\n",
       "      <td>3</td>\n",
       "      <td>t</td>\n",
       "      <td>Nelson</td>\n",
       "      <td>03-09-2016</td>\n",
       "      <td>13.500</td>\n",
       "      <td>3042.000</td>\n",
       "      <td>3.000</td>\n",
       "      <td>2.000</td>\n",
       "      <td>1.000</td>\n",
       "      <td>303.000</td>\n",
       "      <td>225</td>\n",
       "      <td>2016.000</td>\n",
       "      <td>Western Metropolitan</td>\n",
       "      <td>3464</td>\n",
       "      <td>840000</td>\n",
       "    </tr>\n",
       "    <tr>\n",
       "      <th>1</th>\n",
       "      <td>Albert Park</td>\n",
       "      <td>2</td>\n",
       "      <td>h</td>\n",
       "      <td>hockingstuart</td>\n",
       "      <td>03-09-2016</td>\n",
       "      <td>3.300</td>\n",
       "      <td>3206.000</td>\n",
       "      <td>2.000</td>\n",
       "      <td>1.000</td>\n",
       "      <td>0.000</td>\n",
       "      <td>120.000</td>\n",
       "      <td>82</td>\n",
       "      <td>1900.000</td>\n",
       "      <td>Southern Metropolitan</td>\n",
       "      <td>3280</td>\n",
       "      <td>1275000</td>\n",
       "    </tr>\n",
       "    <tr>\n",
       "      <th>2</th>\n",
       "      <td>Albert Park</td>\n",
       "      <td>2</td>\n",
       "      <td>h</td>\n",
       "      <td>Thomson</td>\n",
       "      <td>03-09-2016</td>\n",
       "      <td>3.300</td>\n",
       "      <td>3206.000</td>\n",
       "      <td>2.000</td>\n",
       "      <td>1.000</td>\n",
       "      <td>0.000</td>\n",
       "      <td>159.000</td>\n",
       "      <td>inf</td>\n",
       "      <td>NaN</td>\n",
       "      <td>Southern Metropolitan</td>\n",
       "      <td>3280</td>\n",
       "      <td>1455000</td>\n",
       "    </tr>\n",
       "    <tr>\n",
       "      <th>3</th>\n",
       "      <td>Alphington</td>\n",
       "      <td>4</td>\n",
       "      <td>h</td>\n",
       "      <td>Brace</td>\n",
       "      <td>03-09-2016</td>\n",
       "      <td>6.400</td>\n",
       "      <td>3078.000</td>\n",
       "      <td>3.000</td>\n",
       "      <td>2.000</td>\n",
       "      <td>4.000</td>\n",
       "      <td>853.000</td>\n",
       "      <td>263</td>\n",
       "      <td>1930.000</td>\n",
       "      <td>Northern Metropolitan</td>\n",
       "      <td>2211</td>\n",
       "      <td>2000000</td>\n",
       "    </tr>\n",
       "    <tr>\n",
       "      <th>4</th>\n",
       "      <td>Alphington</td>\n",
       "      <td>3</td>\n",
       "      <td>h</td>\n",
       "      <td>Jellis</td>\n",
       "      <td>03-09-2016</td>\n",
       "      <td>6.400</td>\n",
       "      <td>3078.000</td>\n",
       "      <td>3.000</td>\n",
       "      <td>2.000</td>\n",
       "      <td>2.000</td>\n",
       "      <td>208.000</td>\n",
       "      <td>inf</td>\n",
       "      <td>2013.000</td>\n",
       "      <td>Northern Metropolitan</td>\n",
       "      <td>2211</td>\n",
       "      <td>1110000</td>\n",
       "    </tr>\n",
       "  </tbody>\n",
       "</table>\n",
       "</div>"
      ],
      "text/plain": [
       "         Suburb  Rooms Type        SellerG        Date  Distance  Postcode  \\\n",
       "0  Airport West      3    t         Nelson  03-09-2016    13.500  3042.000   \n",
       "1   Albert Park      2    h  hockingstuart  03-09-2016     3.300  3206.000   \n",
       "2   Albert Park      2    h        Thomson  03-09-2016     3.300  3206.000   \n",
       "3    Alphington      4    h          Brace  03-09-2016     6.400  3078.000   \n",
       "4    Alphington      3    h         Jellis  03-09-2016     6.400  3078.000   \n",
       "\n",
       "   Bedroom  Bathroom   Car  Landsize BuildingArea  YearBuilt  \\\n",
       "0    3.000     2.000 1.000   303.000          225   2016.000   \n",
       "1    2.000     1.000 0.000   120.000           82   1900.000   \n",
       "2    2.000     1.000 0.000   159.000          inf        NaN   \n",
       "3    3.000     2.000 4.000   853.000          263   1930.000   \n",
       "4    3.000     2.000 2.000   208.000          inf   2013.000   \n",
       "\n",
       "              Regionname  Propertycount    Price  \n",
       "0   Western Metropolitan           3464   840000  \n",
       "1  Southern Metropolitan           3280  1275000  \n",
       "2  Southern Metropolitan           3280  1455000  \n",
       "3  Northern Metropolitan           2211  2000000  \n",
       "4  Northern Metropolitan           2211  1110000  "
      ]
     },
     "execution_count": 55,
     "metadata": {},
     "output_type": "execute_result"
    }
   ],
   "source": [
    "data=pd.read_csv(\"Melbourne_Housing.csv\")\n",
    "data.head()"
   ]
  },
  {
   "cell_type": "code",
   "execution_count": 6,
   "id": "eb85e988",
   "metadata": {},
   "outputs": [
    {
     "data": {
      "text/html": [
       "<div>\n",
       "<style scoped>\n",
       "    .dataframe tbody tr th:only-of-type {\n",
       "        vertical-align: middle;\n",
       "    }\n",
       "\n",
       "    .dataframe tbody tr th {\n",
       "        vertical-align: top;\n",
       "    }\n",
       "\n",
       "    .dataframe thead th {\n",
       "        text-align: right;\n",
       "    }\n",
       "</style>\n",
       "<table border=\"1\" class=\"dataframe\">\n",
       "  <thead>\n",
       "    <tr style=\"text-align: right;\">\n",
       "      <th></th>\n",
       "      <th>Suburb</th>\n",
       "      <th>Rooms</th>\n",
       "      <th>Type</th>\n",
       "      <th>SellerG</th>\n",
       "      <th>Date</th>\n",
       "      <th>Distance</th>\n",
       "      <th>Postcode</th>\n",
       "      <th>Bedroom</th>\n",
       "      <th>Bathroom</th>\n",
       "      <th>Car</th>\n",
       "      <th>Landsize</th>\n",
       "      <th>BuildingArea</th>\n",
       "      <th>YearBuilt</th>\n",
       "      <th>Regionname</th>\n",
       "      <th>Propertycount</th>\n",
       "      <th>Price</th>\n",
       "    </tr>\n",
       "  </thead>\n",
       "  <tbody>\n",
       "    <tr>\n",
       "      <th>27109</th>\n",
       "      <td>Noble Park</td>\n",
       "      <td>3</td>\n",
       "      <td>h</td>\n",
       "      <td>C21</td>\n",
       "      <td>30-09-2017</td>\n",
       "      <td>22.700</td>\n",
       "      <td>3174.000</td>\n",
       "      <td>3.000</td>\n",
       "      <td>1.000</td>\n",
       "      <td>6.000</td>\n",
       "      <td>569.000</td>\n",
       "      <td>130</td>\n",
       "      <td>1959.000</td>\n",
       "      <td>South-Eastern Metropolitan</td>\n",
       "      <td>11806</td>\n",
       "      <td>627500</td>\n",
       "    </tr>\n",
       "    <tr>\n",
       "      <th>27110</th>\n",
       "      <td>Reservoir</td>\n",
       "      <td>3</td>\n",
       "      <td>u</td>\n",
       "      <td>RW</td>\n",
       "      <td>30-09-2017</td>\n",
       "      <td>12.000</td>\n",
       "      <td>3073.000</td>\n",
       "      <td>3.000</td>\n",
       "      <td>1.000</td>\n",
       "      <td>1.000</td>\n",
       "      <td>NaN</td>\n",
       "      <td>105</td>\n",
       "      <td>1990.000</td>\n",
       "      <td>Northern Metropolitan</td>\n",
       "      <td>21650</td>\n",
       "      <td>475000</td>\n",
       "    </tr>\n",
       "    <tr>\n",
       "      <th>27111</th>\n",
       "      <td>Roxburgh Park</td>\n",
       "      <td>4</td>\n",
       "      <td>h</td>\n",
       "      <td>Raine</td>\n",
       "      <td>30-09-2017</td>\n",
       "      <td>20.600</td>\n",
       "      <td>3064.000</td>\n",
       "      <td>4.000</td>\n",
       "      <td>2.000</td>\n",
       "      <td>2.000</td>\n",
       "      <td>NaN</td>\n",
       "      <td>225</td>\n",
       "      <td>1995.000</td>\n",
       "      <td>Northern Metropolitan</td>\n",
       "      <td>5833</td>\n",
       "      <td>591000</td>\n",
       "    </tr>\n",
       "    <tr>\n",
       "      <th>27112</th>\n",
       "      <td>Springvale South</td>\n",
       "      <td>3</td>\n",
       "      <td>h</td>\n",
       "      <td>Harcourts</td>\n",
       "      <td>30-09-2017</td>\n",
       "      <td>22.200</td>\n",
       "      <td>3172.000</td>\n",
       "      <td>3.000</td>\n",
       "      <td>2.000</td>\n",
       "      <td>1.000</td>\n",
       "      <td>544.000</td>\n",
       "      <td>NaN</td>\n",
       "      <td>NaN</td>\n",
       "      <td>South-Eastern Metropolitan</td>\n",
       "      <td>4054</td>\n",
       "      <td>780500</td>\n",
       "    </tr>\n",
       "    <tr>\n",
       "      <th>27113</th>\n",
       "      <td>Westmeadows</td>\n",
       "      <td>4</td>\n",
       "      <td>h</td>\n",
       "      <td>Barry</td>\n",
       "      <td>30-09-2017</td>\n",
       "      <td>16.500</td>\n",
       "      <td>3049.000</td>\n",
       "      <td>4.000</td>\n",
       "      <td>2.000</td>\n",
       "      <td>6.000</td>\n",
       "      <td>813.000</td>\n",
       "      <td>140</td>\n",
       "      <td>1960.000</td>\n",
       "      <td>Northern Metropolitan</td>\n",
       "      <td>2474</td>\n",
       "      <td>791000</td>\n",
       "    </tr>\n",
       "  </tbody>\n",
       "</table>\n",
       "</div>"
      ],
      "text/plain": [
       "                 Suburb  Rooms Type    SellerG        Date  Distance  \\\n",
       "27109        Noble Park      3    h        C21  30-09-2017    22.700   \n",
       "27110         Reservoir      3    u         RW  30-09-2017    12.000   \n",
       "27111     Roxburgh Park      4    h      Raine  30-09-2017    20.600   \n",
       "27112  Springvale South      3    h  Harcourts  30-09-2017    22.200   \n",
       "27113       Westmeadows      4    h      Barry  30-09-2017    16.500   \n",
       "\n",
       "       Postcode  Bedroom  Bathroom   Car  Landsize BuildingArea  YearBuilt  \\\n",
       "27109  3174.000    3.000     1.000 6.000   569.000          130   1959.000   \n",
       "27110  3073.000    3.000     1.000 1.000       NaN          105   1990.000   \n",
       "27111  3064.000    4.000     2.000 2.000       NaN          225   1995.000   \n",
       "27112  3172.000    3.000     2.000 1.000   544.000          NaN        NaN   \n",
       "27113  3049.000    4.000     2.000 6.000   813.000          140   1960.000   \n",
       "\n",
       "                       Regionname  Propertycount   Price  \n",
       "27109  South-Eastern Metropolitan          11806  627500  \n",
       "27110       Northern Metropolitan          21650  475000  \n",
       "27111       Northern Metropolitan           5833  591000  \n",
       "27112  South-Eastern Metropolitan           4054  780500  \n",
       "27113       Northern Metropolitan           2474  791000  "
      ]
     },
     "execution_count": 6,
     "metadata": {},
     "output_type": "execute_result"
    }
   ],
   "source": [
    "data.tail()"
   ]
  },
  {
   "cell_type": "code",
   "execution_count": 7,
   "id": "85540d2f",
   "metadata": {},
   "outputs": [
    {
     "data": {
      "text/plain": [
       "(27114, 16)"
      ]
     },
     "execution_count": 7,
     "metadata": {},
     "output_type": "execute_result"
    }
   ],
   "source": [
    "data.shape"
   ]
  },
  {
   "cell_type": "code",
   "execution_count": 8,
   "id": "6e41c540",
   "metadata": {},
   "outputs": [
    {
     "name": "stdout",
     "output_type": "stream",
     "text": [
      "<class 'pandas.core.frame.DataFrame'>\n",
      "RangeIndex: 27114 entries, 0 to 27113\n",
      "Data columns (total 16 columns):\n",
      " #   Column         Non-Null Count  Dtype  \n",
      "---  ------         --------------  -----  \n",
      " 0   Suburb         27114 non-null  object \n",
      " 1   Rooms          27114 non-null  int64  \n",
      " 2   Type           27114 non-null  object \n",
      " 3   SellerG        27114 non-null  object \n",
      " 4   Date           27114 non-null  object \n",
      " 5   Distance       27113 non-null  float64\n",
      " 6   Postcode       27113 non-null  float64\n",
      " 7   Bedroom        20678 non-null  float64\n",
      " 8   Bathroom       20672 non-null  float64\n",
      " 9   Car            20297 non-null  float64\n",
      " 10  Landsize       17873 non-null  float64\n",
      " 11  BuildingArea   10543 non-null  object \n",
      " 12  YearBuilt      11985 non-null  float64\n",
      " 13  Regionname     27114 non-null  object \n",
      " 14  Propertycount  27114 non-null  int64  \n",
      " 15  Price          27114 non-null  int64  \n",
      "dtypes: float64(7), int64(3), object(6)\n",
      "memory usage: 3.3+ MB\n"
     ]
    }
   ],
   "source": [
    "data.info()"
   ]
  },
  {
   "cell_type": "code",
   "execution_count": 10,
   "id": "8285524a",
   "metadata": {},
   "outputs": [
    {
     "ename": "ValueError",
     "evalue": "time data \"13-05-2017\" doesn't match format \"%m-%d-%Y\", at position 32. You might want to try:\n    - passing `format` if your strings have a consistent format;\n    - passing `format='ISO8601'` if your strings are all ISO8601 but not necessarily in exactly the same format;\n    - passing `format='mixed'`, and the format will be inferred for each element individually. You might want to use `dayfirst` alongside this.",
     "output_type": "error",
     "traceback": [
      "\u001b[1;31m---------------------------------------------------------------------------\u001b[0m",
      "\u001b[1;31mValueError\u001b[0m                                Traceback (most recent call last)",
      "Cell \u001b[1;32mIn[10], line 1\u001b[0m\n\u001b[1;32m----> 1\u001b[0m data[\u001b[38;5;124m'\u001b[39m\u001b[38;5;124mDate\u001b[39m\u001b[38;5;124m'\u001b[39m] \u001b[38;5;241m=\u001b[39m pd\u001b[38;5;241m.\u001b[39mto_datetime(data[\u001b[38;5;124m'\u001b[39m\u001b[38;5;124mDate\u001b[39m\u001b[38;5;124m'\u001b[39m])\n",
      "File \u001b[1;32mD:\\Software\\Lib\\site-packages\\pandas\\core\\tools\\datetimes.py:1108\u001b[0m, in \u001b[0;36mto_datetime\u001b[1;34m(arg, errors, dayfirst, yearfirst, utc, format, exact, unit, infer_datetime_format, origin, cache)\u001b[0m\n\u001b[0;32m   1106\u001b[0m             result \u001b[38;5;241m=\u001b[39m arg\u001b[38;5;241m.\u001b[39mtz_localize(\u001b[38;5;124m\"\u001b[39m\u001b[38;5;124mutc\u001b[39m\u001b[38;5;124m\"\u001b[39m)\n\u001b[0;32m   1107\u001b[0m \u001b[38;5;28;01melif\u001b[39;00m \u001b[38;5;28misinstance\u001b[39m(arg, ABCSeries):\n\u001b[1;32m-> 1108\u001b[0m     cache_array \u001b[38;5;241m=\u001b[39m _maybe_cache(arg, \u001b[38;5;28mformat\u001b[39m, cache, convert_listlike)\n\u001b[0;32m   1109\u001b[0m     \u001b[38;5;28;01mif\u001b[39;00m \u001b[38;5;129;01mnot\u001b[39;00m cache_array\u001b[38;5;241m.\u001b[39mempty:\n\u001b[0;32m   1110\u001b[0m         result \u001b[38;5;241m=\u001b[39m arg\u001b[38;5;241m.\u001b[39mmap(cache_array)\n",
      "File \u001b[1;32mD:\\Software\\Lib\\site-packages\\pandas\\core\\tools\\datetimes.py:254\u001b[0m, in \u001b[0;36m_maybe_cache\u001b[1;34m(arg, format, cache, convert_listlike)\u001b[0m\n\u001b[0;32m    252\u001b[0m unique_dates \u001b[38;5;241m=\u001b[39m unique(arg)\n\u001b[0;32m    253\u001b[0m \u001b[38;5;28;01mif\u001b[39;00m \u001b[38;5;28mlen\u001b[39m(unique_dates) \u001b[38;5;241m<\u001b[39m \u001b[38;5;28mlen\u001b[39m(arg):\n\u001b[1;32m--> 254\u001b[0m     cache_dates \u001b[38;5;241m=\u001b[39m convert_listlike(unique_dates, \u001b[38;5;28mformat\u001b[39m)\n\u001b[0;32m    255\u001b[0m     \u001b[38;5;66;03m# GH#45319\u001b[39;00m\n\u001b[0;32m    256\u001b[0m     \u001b[38;5;28;01mtry\u001b[39;00m:\n",
      "File \u001b[1;32mD:\\Software\\Lib\\site-packages\\pandas\\core\\tools\\datetimes.py:488\u001b[0m, in \u001b[0;36m_convert_listlike_datetimes\u001b[1;34m(arg, format, name, utc, unit, errors, dayfirst, yearfirst, exact)\u001b[0m\n\u001b[0;32m    486\u001b[0m \u001b[38;5;66;03m# `format` could be inferred, or user didn't ask for mixed-format parsing.\u001b[39;00m\n\u001b[0;32m    487\u001b[0m \u001b[38;5;28;01mif\u001b[39;00m \u001b[38;5;28mformat\u001b[39m \u001b[38;5;129;01mis\u001b[39;00m \u001b[38;5;129;01mnot\u001b[39;00m \u001b[38;5;28;01mNone\u001b[39;00m \u001b[38;5;129;01mand\u001b[39;00m \u001b[38;5;28mformat\u001b[39m \u001b[38;5;241m!=\u001b[39m \u001b[38;5;124m\"\u001b[39m\u001b[38;5;124mmixed\u001b[39m\u001b[38;5;124m\"\u001b[39m:\n\u001b[1;32m--> 488\u001b[0m     \u001b[38;5;28;01mreturn\u001b[39;00m _array_strptime_with_fallback(arg, name, utc, \u001b[38;5;28mformat\u001b[39m, exact, errors)\n\u001b[0;32m    490\u001b[0m result, tz_parsed \u001b[38;5;241m=\u001b[39m objects_to_datetime64ns(\n\u001b[0;32m    491\u001b[0m     arg,\n\u001b[0;32m    492\u001b[0m     dayfirst\u001b[38;5;241m=\u001b[39mdayfirst,\n\u001b[1;32m   (...)\u001b[0m\n\u001b[0;32m    496\u001b[0m     allow_object\u001b[38;5;241m=\u001b[39m\u001b[38;5;28;01mTrue\u001b[39;00m,\n\u001b[0;32m    497\u001b[0m )\n\u001b[0;32m    499\u001b[0m \u001b[38;5;28;01mif\u001b[39;00m tz_parsed \u001b[38;5;129;01mis\u001b[39;00m \u001b[38;5;129;01mnot\u001b[39;00m \u001b[38;5;28;01mNone\u001b[39;00m:\n\u001b[0;32m    500\u001b[0m     \u001b[38;5;66;03m# We can take a shortcut since the datetime64 numpy array\u001b[39;00m\n\u001b[0;32m    501\u001b[0m     \u001b[38;5;66;03m# is in UTC\u001b[39;00m\n",
      "File \u001b[1;32mD:\\Software\\Lib\\site-packages\\pandas\\core\\tools\\datetimes.py:519\u001b[0m, in \u001b[0;36m_array_strptime_with_fallback\u001b[1;34m(arg, name, utc, fmt, exact, errors)\u001b[0m\n\u001b[0;32m    508\u001b[0m \u001b[38;5;28;01mdef\u001b[39;00m \u001b[38;5;21m_array_strptime_with_fallback\u001b[39m(\n\u001b[0;32m    509\u001b[0m     arg,\n\u001b[0;32m    510\u001b[0m     name,\n\u001b[1;32m   (...)\u001b[0m\n\u001b[0;32m    514\u001b[0m     errors: \u001b[38;5;28mstr\u001b[39m,\n\u001b[0;32m    515\u001b[0m ) \u001b[38;5;241m-\u001b[39m\u001b[38;5;241m>\u001b[39m Index:\n\u001b[0;32m    516\u001b[0m \u001b[38;5;250m    \u001b[39m\u001b[38;5;124;03m\"\"\"\u001b[39;00m\n\u001b[0;32m    517\u001b[0m \u001b[38;5;124;03m    Call array_strptime, with fallback behavior depending on 'errors'.\u001b[39;00m\n\u001b[0;32m    518\u001b[0m \u001b[38;5;124;03m    \"\"\"\u001b[39;00m\n\u001b[1;32m--> 519\u001b[0m     result, timezones \u001b[38;5;241m=\u001b[39m array_strptime(arg, fmt, exact\u001b[38;5;241m=\u001b[39mexact, errors\u001b[38;5;241m=\u001b[39merrors, utc\u001b[38;5;241m=\u001b[39mutc)\n\u001b[0;32m    520\u001b[0m     \u001b[38;5;28;01mif\u001b[39;00m \u001b[38;5;28many\u001b[39m(tz \u001b[38;5;129;01mis\u001b[39;00m \u001b[38;5;129;01mnot\u001b[39;00m \u001b[38;5;28;01mNone\u001b[39;00m \u001b[38;5;28;01mfor\u001b[39;00m tz \u001b[38;5;129;01min\u001b[39;00m timezones):\n\u001b[0;32m    521\u001b[0m         \u001b[38;5;28;01mreturn\u001b[39;00m _return_parsed_timezone_results(result, timezones, utc, name)\n",
      "File \u001b[1;32mstrptime.pyx:534\u001b[0m, in \u001b[0;36mpandas._libs.tslibs.strptime.array_strptime\u001b[1;34m()\u001b[0m\n",
      "File \u001b[1;32mstrptime.pyx:355\u001b[0m, in \u001b[0;36mpandas._libs.tslibs.strptime.array_strptime\u001b[1;34m()\u001b[0m\n",
      "\u001b[1;31mValueError\u001b[0m: time data \"13-05-2017\" doesn't match format \"%m-%d-%Y\", at position 32. You might want to try:\n    - passing `format` if your strings have a consistent format;\n    - passing `format='ISO8601'` if your strings are all ISO8601 but not necessarily in exactly the same format;\n    - passing `format='mixed'`, and the format will be inferred for each element individually. You might want to use `dayfirst` alongside this."
     ]
    }
   ],
   "source": [
    "data['Date'] = pd.to_datetime(data['Date'])"
   ]
  },
  {
   "cell_type": "code",
   "execution_count": 56,
   "id": "538aa27c",
   "metadata": {},
   "outputs": [],
   "source": [
    "data['Date'] = pd.to_datetime(data['Date'],format='mixed',dayfirst=True)"
   ]
  },
  {
   "cell_type": "code",
   "execution_count": 14,
   "id": "ce110966",
   "metadata": {},
   "outputs": [
    {
     "data": {
      "text/plain": [
       "0   2016-09-03\n",
       "1   2016-09-03\n",
       "2   2016-09-03\n",
       "3   2016-09-03\n",
       "4   2016-09-03\n",
       "Name: Date, dtype: datetime64[ns]"
      ]
     },
     "execution_count": 14,
     "metadata": {},
     "output_type": "execute_result"
    }
   ],
   "source": [
    "data['Date'].head()"
   ]
  },
  {
   "cell_type": "code",
   "execution_count": 57,
   "id": "da0f4133",
   "metadata": {},
   "outputs": [
    {
     "data": {
      "text/plain": [
       "BuildingArea\n",
       "<class 'float'>    16571\n",
       "<class 'str'>      10543\n",
       "Name: count, dtype: int64"
      ]
     },
     "execution_count": 57,
     "metadata": {},
     "output_type": "execute_result"
    }
   ],
   "source": [
    "data['BuildingArea'].apply(type).value_counts()"
   ]
  },
  {
   "cell_type": "code",
   "execution_count": 58,
   "id": "afa46f32",
   "metadata": {},
   "outputs": [],
   "source": [
    "data['BuildingArea']=data['BuildingArea'].replace(['missing','inf'],np.nan)\n",
    "data['BuildingArea']=data['BuildingArea'].astype(float)"
   ]
  },
  {
   "cell_type": "code",
   "execution_count": 59,
   "id": "c1bef541",
   "metadata": {},
   "outputs": [
    {
     "name": "stdout",
     "output_type": "stream",
     "text": [
      "<class 'pandas.core.frame.DataFrame'>\n",
      "RangeIndex: 27114 entries, 0 to 27113\n",
      "Data columns (total 16 columns):\n",
      " #   Column         Non-Null Count  Dtype         \n",
      "---  ------         --------------  -----         \n",
      " 0   Suburb         27114 non-null  object        \n",
      " 1   Rooms          27114 non-null  int64         \n",
      " 2   Type           27114 non-null  object        \n",
      " 3   SellerG        27114 non-null  object        \n",
      " 4   Date           27114 non-null  datetime64[ns]\n",
      " 5   Distance       27113 non-null  float64       \n",
      " 6   Postcode       27113 non-null  float64       \n",
      " 7   Bedroom        20678 non-null  float64       \n",
      " 8   Bathroom       20672 non-null  float64       \n",
      " 9   Car            20297 non-null  float64       \n",
      " 10  Landsize       17873 non-null  float64       \n",
      " 11  BuildingArea   10529 non-null  float64       \n",
      " 12  YearBuilt      11985 non-null  float64       \n",
      " 13  Regionname     27114 non-null  object        \n",
      " 14  Propertycount  27114 non-null  int64         \n",
      " 15  Price          27114 non-null  int64         \n",
      "dtypes: datetime64[ns](1), float64(8), int64(3), object(4)\n",
      "memory usage: 3.3+ MB\n"
     ]
    }
   ],
   "source": [
    "data.info()"
   ]
  },
  {
   "cell_type": "code",
   "execution_count": 19,
   "id": "a7213849",
   "metadata": {},
   "outputs": [],
   "source": [
    "data_new=pd.read_csv(\"Melbourne_Housing.csv\",na_values=['missing','inf'])\n"
   ]
  },
  {
   "cell_type": "code",
   "execution_count": 20,
   "id": "ab525fdc",
   "metadata": {},
   "outputs": [
    {
     "name": "stdout",
     "output_type": "stream",
     "text": [
      "<class 'pandas.core.frame.DataFrame'>\n",
      "RangeIndex: 27114 entries, 0 to 27113\n",
      "Data columns (total 16 columns):\n",
      " #   Column         Non-Null Count  Dtype  \n",
      "---  ------         --------------  -----  \n",
      " 0   Suburb         27114 non-null  object \n",
      " 1   Rooms          27114 non-null  int64  \n",
      " 2   Type           27114 non-null  object \n",
      " 3   SellerG        27114 non-null  object \n",
      " 4   Date           27114 non-null  object \n",
      " 5   Distance       27113 non-null  float64\n",
      " 6   Postcode       27113 non-null  float64\n",
      " 7   Bedroom        20678 non-null  float64\n",
      " 8   Bathroom       20672 non-null  float64\n",
      " 9   Car            20297 non-null  float64\n",
      " 10  Landsize       17873 non-null  float64\n",
      " 11  BuildingArea   10529 non-null  float64\n",
      " 12  YearBuilt      11985 non-null  float64\n",
      " 13  Regionname     27114 non-null  object \n",
      " 14  Propertycount  27114 non-null  int64  \n",
      " 15  Price          27114 non-null  int64  \n",
      "dtypes: float64(8), int64(3), object(5)\n",
      "memory usage: 3.3+ MB\n"
     ]
    }
   ],
   "source": [
    "data_new.info()"
   ]
  },
  {
   "cell_type": "code",
   "execution_count": 21,
   "id": "2f778ee1",
   "metadata": {},
   "outputs": [
    {
     "data": {
      "text/plain": [
       "dtype('float64')"
      ]
     },
     "execution_count": 21,
     "metadata": {},
     "output_type": "execute_result"
    }
   ],
   "source": [
    "data_new['BuildingArea'].dtype"
   ]
  },
  {
   "cell_type": "code",
   "execution_count": 22,
   "id": "2fad61af",
   "metadata": {},
   "outputs": [
    {
     "data": {
      "text/plain": [
       "array([ 225.    ,   82.    ,       nan,  263.    ,  242.    ,  251.    ,\n",
       "        117.    ,   76.    ,  399.    ,  118.    ,  103.    ,  180.    ,\n",
       "        123.    ,  218.    ,  129.    ,  167.    ,  154.    ,  275.    ,\n",
       "        121.    ,  125.    ,  255.    ,   75.    ,  156.    ,  240.    ,\n",
       "        268.    ,  108.    ,   69.    ,  140.    ,  214.    ,  253.    ,\n",
       "        189.    ,  215.    ,   96.    ,  104.    ,  100.    ,  313.    ,\n",
       "        144.    ,   93.    ,  110.    ,   70.    ,  122.    ,   51.    ,\n",
       "        147.    ,  113.    ,   83.    ,   56.    ,  137.    ,   85.    ,\n",
       "         64.    ,  175.    , 3558.    ,  170.    ,  265.    ,  353.    ,\n",
       "        138.    ,   19.    ,  116.    ,   87.    ,   74.    ,  320.    ,\n",
       "        300.    ,  210.    ,  120.    ,   86.    ,   97.    ,  200.    ,\n",
       "        106.    ,   14.    ,  161.    ,  128.    ,  185.    ,  146.    ,\n",
       "        133.    ,  115.    ,  143.    ,  150.    ,  195.    ,  236.    ,\n",
       "        276.    ,  188.    ,  179.    ,  249.    ,  141.    ,   34.    ,\n",
       "         73.    ,  107.    ,   84.    ,   81.    ,  207.    ,   50.    ,\n",
       "        264.    ,  312.    ,  235.    ,  221.    ,  183.    ,  132.    ,\n",
       "        160.    ,  186.    ,   78.    ,  105.    ,  145.    ,   62.    ,\n",
       "        220.    ,  315.    ,  181.    ,   61.    ,  112.    ,  420.    ,\n",
       "        226.    ,  266.    ,  410.    ,  449.    ,  356.    ,  477.    ,\n",
       "        250.    ,   95.    ,  190.    ,  284.    ,  247.    ,  213.    ,\n",
       "        209.    ,  119.    ,  111.    ,  130.    ,  348.    ,  166.    ,\n",
       "         44.    ,  176.    ,   98.    ,  159.    ,   79.    ,   71.    ,\n",
       "         60.    ,   33.    ,   89.    ,  217.    ,  127.    ,  187.    ,\n",
       "        109.    ,   53.    ,  201.    ,   12.    ,   63.    ,  223.    ,\n",
       "        102.    ,  254.    ,  327.    ,   16.    ,  165.    ,   65.    ,\n",
       "        139.    ,  134.    ,  280.    ,   67.    ,  272.    ,   38.    ,\n",
       "        153.    ,   66.    ,  152.    ,  135.    ,  374.    ,  163.    ,\n",
       "        124.    ,  233.    ,   39.    ,  151.    ,  279.    ,  136.    ,\n",
       "        405.    ,  199.    ,  158.    ,  126.    ,   80.    ,   57.    ,\n",
       "         36.    ,  142.    ,   77.    ,  435.    ,   92.    ,  149.    ,\n",
       "        114.    ,  349.    ,  178.    ,  594.    ,  274.    ,   40.    ,\n",
       "         68.    ,  164.    ,  204.    ,   94.    ,  257.    ,  323.    ,\n",
       "        314.    ,  378.    ,   55.    ,   91.    ,  309.    ,   88.    ,\n",
       "         58.    ,  172.    ,  211.    ,  148.    ,   49.    ,   52.    ,\n",
       "        174.    ,  191.    ,  335.    ,  808.    ,  168.    ,  203.    ,\n",
       "        520.    ,  212.    ,  222.    ,  171.    ,  228.    ,  101.    ,\n",
       "        267.    ,   90.    ,  196.    ,  157.    ,   99.    ,  256.    ,\n",
       "         15.    ,  155.    ,  162.    ,   72.    ,  252.    ,  330.    ,\n",
       "        177.    ,  341.    ,  197.    ,  340.    ,  182.    ,  245.    ,\n",
       "        270.    ,   42.    ,  229.    ,  232.    ,  131.    ,  297.    ,\n",
       "        237.    ,  194.    ,  173.    ,   46.    ,  360.    ,  205.    ,\n",
       "         45.    ,  365.    ,  321.    ,   37.    ,  304.    ,   54.    ,\n",
       "        305.    ,  244.    ,   43.    ,   41.    ,   22.    ,  169.    ,\n",
       "         59.    ,  258.    ,  230.    ,  287.    ,  618.    ,  792.    ,\n",
       "        355.    ,  202.    ,  395.    ,  351.    ,  325.    ,  248.    ,\n",
       "        224.    ,  426.    ,  286.    ,  308.    ,  198.    ,  260.    ,\n",
       "        291.    ,  277.    ,  281.    ,  216.    ,  262.    ,  364.    ,\n",
       "         30.    ,  192.    ,   47.    ,  184.    ,   25.    ,  558.    ,\n",
       "        362.    ,  375.    ,  347.    ,  241.    ,  475.    ,  413.    ,\n",
       "        400.    ,  101.37  ,  219.    ,  239.    ,  123.21  ,  140.7481,\n",
       "         86.5   ,   30.6   ,  225.5   ,  322.    ,  409.54  ,   26.    ,\n",
       "        156.6   ,  227.6   ,  104.63  ,  193.    ,  443.    ,  167.13  ,\n",
       "        148.5   ,  270.18  ,   53.3   ,   98.5   ,  157.9351,  328.    ,\n",
       "         94.3   ,   21.    ,  310.    ,   95.88  ,  261.    ,  105.7   ,\n",
       "         72.9   ,   45.4   ,  221.3   ,  113.2   ,  186.75  ,  540.    ,\n",
       "        127.8   ,  231.    ,  106.4   ,  311.    ,  234.    ,  332.    ,\n",
       "        206.    ,  259.    ,  246.    ,  296.    ,  269.    ,  306.    ,\n",
       "        380.    ,  302.    ,   48.    ,  278.    ,   35.    ,  208.    ,\n",
       "        467.    ,  283.    ,  458.    ,  196.8   ,  106.2   ,   32.    ,\n",
       "        424.    ,  430.    ,  243.    ,  290.    ,  511.    ,  500.    ,\n",
       "        531.    ,  508.    ,  333.    ,   72.3   ,   66.23  ,  101.51  ,\n",
       "        292.    ,  112.9   ,   99.5   ,   77.5   ,  293.    ,  105.23  ,\n",
       "        352.    ,  391.    ,  121.8   ,   82.6   ,  136.49  ,  502.    ,\n",
       "        680.    ,  157.9352,  126.8   ,  100.6   ,   44.4   ,  151.54  ,\n",
       "         20.    ,  397.    ,  495.    ,  331.    ,  294.    ,  334.    ,\n",
       "        303.    ,  318.    ,  273.    ,  584.    ,  958.    ,  288.    ,\n",
       "        342.    ,  354.    ,  350.    ,  465.    ,  337.    ,  317.    ,\n",
       "        298.    ,  529.    ,  697.    ,  289.    ,  602.    , 6791.    ,\n",
       "        534.    ,  227.    ,  429.    ,  802.    ,  373.    ,  358.    ,\n",
       "        238.    ,  316.    ,  393.    ,  180.9   ,  826.8367,  366.    ,\n",
       "        307.    ,  625.    ,  419.    ,   94.5   ,  392.    ,   28.    ,\n",
       "        116.65  ,   11.    ,  134.6   ,  282.    ,  183.84  ,  431.    ,\n",
       "        126.7   ,   18.    ,  295.    ,  390.    ,  447.    ,  271.    ,\n",
       "        416.    ,  370.    ,  660.    ,  463.    ,  361.    ,  496.    ,\n",
       "        324.    ,  173.45  ,  134.3   ,  464.3   ,   76.77  ,  113.76  ,\n",
       "        107.4   ,  255.79  ,  186.36  ,  490.    ,  103.6   ,   63.7   ,\n",
       "        106.76  ,   39.5   ,  423.    ,  319.    ,  437.    ,  285.    ,\n",
       "        453.    ,  472.    ,  418.    ,  487.    ,   31.    ,  301.    ,\n",
       "        116.4   ,  182.85  ,  109.5   ,  129.7   ,  665.    ,  398.    ,\n",
       "        148.47  ,  553.    ,  182.9   ,  184.75  ,  193.74  ,   68.5   ,\n",
       "        336.    ,  346.    ,  719.    , 3112.    ,  414.    ,  372.    ,\n",
       "        525.    ,  367.    , 1561.    ,  454.    ,  720.    ,  329.    ,\n",
       "        381.    ,  677.    ,  439.    ,  857.    ,   23.    ,  503.    ,\n",
       "        432.    ,  377.    ,  512.    ,  425.    ,  406.    ,  389.    ,\n",
       "        521.    , 6178.    ,  654.    ,  727.    ,  417.    ,  560.    ,\n",
       "        168.01  ,  306.19  ,  515.78  ,  196.1   ,  789.    ,  131.27  ,\n",
       "        167.87  ,  183.97  ,  199.5   ,   29.    ,  446.    ,   75.45  ,\n",
       "        165.5   ,  263.5   ,  585.    ,  516.    ,  345.    ,   27.    ,\n",
       "        444.    ,  427.    ,  326.    ,  518.    ,   13.    ,  411.    ,\n",
       "       1022.    ,  339.    ,  461.    ,  376.    ,  513.    ,  836.    ,\n",
       "        464.    ,  386.    ,  603.    ,  613.    ,  179.3   ,  142.6   ,\n",
       "        147.2   ,  225.98  ,  113.81  ,  401.    ,  737.    ,  530.    ,\n",
       "         82.3   ,  110.87  ,  450.    ,  673.    ,  109.98  ,  122.25  ,\n",
       "        105.9   ,  101.7   ,  106.9   ,   93.82  ,  132.6   ,  154.3   ,\n",
       "        178.74  ,   88.3   ,   80.7   ,   89.25  ,  181.6   ,  104.4   ,\n",
       "        180.56  ,  123.5   , 1143.    ,  506.    ,  575.    ,  859.    ,\n",
       "        653.    ,  999.    ,  445.    ,  438.    ,  686.    ,  649.    ,\n",
       "        736.    ,  371.6122,  199.73  ,  118.54  ,  298.21  ,  169.5   ,\n",
       "         42.2   ,  135.5   ,  266.76  ,  272.4   ,  177.8   ,  139.4   ,\n",
       "        700.    ,  766.    ,  538.    ,  528.    ,  650.    ,  368.    ,\n",
       "        544.    ,  557.    ,  396.    ,  638.    ,  101.76  ,  363.    ,\n",
       "        634.    ,  195.0964,  470.    ,  130.52  ,  547.    ,  111.04  ,\n",
       "         63.4   ,   92.5   ,  115.96  ,  121.84  ,  122.86  ,  114.2   ,\n",
       "        266.53  ,   78.54  ,   85.35  , 1041.    ,  607.    ,  478.    ,\n",
       "        407.    ,  344.    ,  338.    ,  501.    ,  448.    ,  357.    ,\n",
       "        408.    ,  412.    ,  466.    ,  739.    ,  614.    ,  421.    ,\n",
       "        385.    ,   68.11  ,  153.1   ,   85.2   ,   93.84  ,  124.45  ,\n",
       "        210.68  ,  200.71  ,   81.79  ,  934.    ,  129.92  ,   43.7   ,\n",
       "        113.6   ,   66.32  ,   35.64  ,   61.6   ,  388.5   ,  672.    ])"
      ]
     },
     "execution_count": 22,
     "metadata": {},
     "output_type": "execute_result"
    }
   ],
   "source": [
    "data['BuildingArea'].unique()"
   ]
  },
  {
   "cell_type": "code",
   "execution_count": 23,
   "id": "09c6e058",
   "metadata": {},
   "outputs": [
    {
     "data": {
      "text/plain": [
       "Suburb               0\n",
       "Rooms                0\n",
       "Type                 0\n",
       "SellerG              0\n",
       "Date                 0\n",
       "Distance             1\n",
       "Postcode             1\n",
       "Bedroom           6436\n",
       "Bathroom          6442\n",
       "Car               6817\n",
       "Landsize          9241\n",
       "BuildingArea     16585\n",
       "YearBuilt        15129\n",
       "Regionname           0\n",
       "Propertycount        0\n",
       "Price                0\n",
       "dtype: int64"
      ]
     },
     "execution_count": 23,
     "metadata": {},
     "output_type": "execute_result"
    }
   ],
   "source": [
    "data.isnull().sum()"
   ]
  },
  {
   "cell_type": "code",
   "execution_count": 24,
   "id": "6fe496db",
   "metadata": {},
   "outputs": [
    {
     "data": {
      "text/plain": [
       "11"
      ]
     },
     "execution_count": 24,
     "metadata": {},
     "output_type": "execute_result"
    }
   ],
   "source": [
    "data.duplicated().sum()"
   ]
  },
  {
   "cell_type": "code",
   "execution_count": 25,
   "id": "dba5be80",
   "metadata": {},
   "outputs": [],
   "source": [
    "data.drop_duplicates(inplace=True)"
   ]
  },
  {
   "cell_type": "code",
   "execution_count": 26,
   "id": "8bc9e5f4",
   "metadata": {},
   "outputs": [],
   "source": [
    "data.reset_index(drop=True,inplace=True)"
   ]
  },
  {
   "cell_type": "code",
   "execution_count": 27,
   "id": "3ab3f269",
   "metadata": {},
   "outputs": [
    {
     "data": {
      "text/html": [
       "<div>\n",
       "<style scoped>\n",
       "    .dataframe tbody tr th:only-of-type {\n",
       "        vertical-align: middle;\n",
       "    }\n",
       "\n",
       "    .dataframe tbody tr th {\n",
       "        vertical-align: top;\n",
       "    }\n",
       "\n",
       "    .dataframe thead th {\n",
       "        text-align: right;\n",
       "    }\n",
       "</style>\n",
       "<table border=\"1\" class=\"dataframe\">\n",
       "  <thead>\n",
       "    <tr style=\"text-align: right;\">\n",
       "      <th></th>\n",
       "      <th>count</th>\n",
       "      <th>mean</th>\n",
       "      <th>min</th>\n",
       "      <th>25%</th>\n",
       "      <th>50%</th>\n",
       "      <th>75%</th>\n",
       "      <th>max</th>\n",
       "      <th>std</th>\n",
       "    </tr>\n",
       "  </thead>\n",
       "  <tbody>\n",
       "    <tr>\n",
       "      <th>Rooms</th>\n",
       "      <td>27103.000</td>\n",
       "      <td>2.992</td>\n",
       "      <td>1.000</td>\n",
       "      <td>2.000</td>\n",
       "      <td>3.000</td>\n",
       "      <td>4.000</td>\n",
       "      <td>16.000</td>\n",
       "      <td>0.955</td>\n",
       "    </tr>\n",
       "    <tr>\n",
       "      <th>Date</th>\n",
       "      <td>27103</td>\n",
       "      <td>2017-05-23 12:25:09.441759488</td>\n",
       "      <td>2016-01-28 00:00:00</td>\n",
       "      <td>2016-11-19 00:00:00</td>\n",
       "      <td>2017-07-08 00:00:00</td>\n",
       "      <td>2017-10-28 00:00:00</td>\n",
       "      <td>2018-03-17 00:00:00</td>\n",
       "      <td>NaN</td>\n",
       "    </tr>\n",
       "    <tr>\n",
       "      <th>Distance</th>\n",
       "      <td>27102.000</td>\n",
       "      <td>11.280</td>\n",
       "      <td>0.000</td>\n",
       "      <td>6.400</td>\n",
       "      <td>10.500</td>\n",
       "      <td>14.000</td>\n",
       "      <td>48.100</td>\n",
       "      <td>6.784</td>\n",
       "    </tr>\n",
       "    <tr>\n",
       "      <th>Postcode</th>\n",
       "      <td>27102.000</td>\n",
       "      <td>3113.787</td>\n",
       "      <td>3000.000</td>\n",
       "      <td>3046.000</td>\n",
       "      <td>3088.000</td>\n",
       "      <td>3153.000</td>\n",
       "      <td>3978.000</td>\n",
       "      <td>111.129</td>\n",
       "    </tr>\n",
       "    <tr>\n",
       "      <th>Bedroom</th>\n",
       "      <td>20678.000</td>\n",
       "      <td>3.046</td>\n",
       "      <td>0.000</td>\n",
       "      <td>2.000</td>\n",
       "      <td>3.000</td>\n",
       "      <td>4.000</td>\n",
       "      <td>20.000</td>\n",
       "      <td>0.955</td>\n",
       "    </tr>\n",
       "    <tr>\n",
       "      <th>Bathroom</th>\n",
       "      <td>20672.000</td>\n",
       "      <td>1.592</td>\n",
       "      <td>0.000</td>\n",
       "      <td>1.000</td>\n",
       "      <td>1.000</td>\n",
       "      <td>2.000</td>\n",
       "      <td>9.000</td>\n",
       "      <td>0.701</td>\n",
       "    </tr>\n",
       "    <tr>\n",
       "      <th>Car</th>\n",
       "      <td>20297.000</td>\n",
       "      <td>1.716</td>\n",
       "      <td>0.000</td>\n",
       "      <td>1.000</td>\n",
       "      <td>2.000</td>\n",
       "      <td>2.000</td>\n",
       "      <td>18.000</td>\n",
       "      <td>0.994</td>\n",
       "    </tr>\n",
       "    <tr>\n",
       "      <th>Landsize</th>\n",
       "      <td>17873.000</td>\n",
       "      <td>560.537</td>\n",
       "      <td>50.000</td>\n",
       "      <td>220.000</td>\n",
       "      <td>513.000</td>\n",
       "      <td>664.000</td>\n",
       "      <td>76000.000</td>\n",
       "      <td>1411.309</td>\n",
       "    </tr>\n",
       "    <tr>\n",
       "      <th>BuildingArea</th>\n",
       "      <td>10529.000</td>\n",
       "      <td>154.512</td>\n",
       "      <td>11.000</td>\n",
       "      <td>101.000</td>\n",
       "      <td>133.000</td>\n",
       "      <td>183.000</td>\n",
       "      <td>6791.000</td>\n",
       "      <td>130.584</td>\n",
       "    </tr>\n",
       "    <tr>\n",
       "      <th>YearBuilt</th>\n",
       "      <td>11985.000</td>\n",
       "      <td>1966.618</td>\n",
       "      <td>1850.000</td>\n",
       "      <td>1950.000</td>\n",
       "      <td>1970.000</td>\n",
       "      <td>2000.000</td>\n",
       "      <td>2019.000</td>\n",
       "      <td>36.042</td>\n",
       "    </tr>\n",
       "    <tr>\n",
       "      <th>Propertycount</th>\n",
       "      <td>27103.000</td>\n",
       "      <td>7564.741</td>\n",
       "      <td>83.000</td>\n",
       "      <td>4294.000</td>\n",
       "      <td>6567.000</td>\n",
       "      <td>10412.000</td>\n",
       "      <td>21650.000</td>\n",
       "      <td>4494.028</td>\n",
       "    </tr>\n",
       "    <tr>\n",
       "      <th>Price</th>\n",
       "      <td>27103.000</td>\n",
       "      <td>1050664.131</td>\n",
       "      <td>85000.000</td>\n",
       "      <td>635000.000</td>\n",
       "      <td>871000.000</td>\n",
       "      <td>1300000.000</td>\n",
       "      <td>11200000.000</td>\n",
       "      <td>641660.161</td>\n",
       "    </tr>\n",
       "  </tbody>\n",
       "</table>\n",
       "</div>"
      ],
      "text/plain": [
       "                  count                           mean                  min  \\\n",
       "Rooms         27103.000                          2.992                1.000   \n",
       "Date              27103  2017-05-23 12:25:09.441759488  2016-01-28 00:00:00   \n",
       "Distance      27102.000                         11.280                0.000   \n",
       "Postcode      27102.000                       3113.787             3000.000   \n",
       "Bedroom       20678.000                          3.046                0.000   \n",
       "Bathroom      20672.000                          1.592                0.000   \n",
       "Car           20297.000                          1.716                0.000   \n",
       "Landsize      17873.000                        560.537               50.000   \n",
       "BuildingArea  10529.000                        154.512               11.000   \n",
       "YearBuilt     11985.000                       1966.618             1850.000   \n",
       "Propertycount 27103.000                       7564.741               83.000   \n",
       "Price         27103.000                    1050664.131            85000.000   \n",
       "\n",
       "                               25%                  50%                  75%  \\\n",
       "Rooms                        2.000                3.000                4.000   \n",
       "Date           2016-11-19 00:00:00  2017-07-08 00:00:00  2017-10-28 00:00:00   \n",
       "Distance                     6.400               10.500               14.000   \n",
       "Postcode                  3046.000             3088.000             3153.000   \n",
       "Bedroom                      2.000                3.000                4.000   \n",
       "Bathroom                     1.000                1.000                2.000   \n",
       "Car                          1.000                2.000                2.000   \n",
       "Landsize                   220.000              513.000              664.000   \n",
       "BuildingArea               101.000              133.000              183.000   \n",
       "YearBuilt                 1950.000             1970.000             2000.000   \n",
       "Propertycount             4294.000             6567.000            10412.000   \n",
       "Price                   635000.000           871000.000          1300000.000   \n",
       "\n",
       "                               max        std  \n",
       "Rooms                       16.000      0.955  \n",
       "Date           2018-03-17 00:00:00        NaN  \n",
       "Distance                    48.100      6.784  \n",
       "Postcode                  3978.000    111.129  \n",
       "Bedroom                     20.000      0.955  \n",
       "Bathroom                     9.000      0.701  \n",
       "Car                         18.000      0.994  \n",
       "Landsize                 76000.000   1411.309  \n",
       "BuildingArea              6791.000    130.584  \n",
       "YearBuilt                 2019.000     36.042  \n",
       "Propertycount            21650.000   4494.028  \n",
       "Price                 11200000.000 641660.161  "
      ]
     },
     "execution_count": 27,
     "metadata": {},
     "output_type": "execute_result"
    }
   ],
   "source": [
    "data.describe().T"
   ]
  },
  {
   "cell_type": "markdown",
   "id": "8cc588c9",
   "metadata": {},
   "source": [
    "# Note\n",
    "50% -- is median \n",
    "25% - 1st Quartile\n",
    "25% - 3rd Quartile"
   ]
  },
  {
   "cell_type": "code",
   "execution_count": 29,
   "id": "f3606726",
   "metadata": {},
   "outputs": [
    {
     "data": {
      "text/plain": [
       "209"
      ]
     },
     "execution_count": 29,
     "metadata": {},
     "output_type": "execute_result"
    }
   ],
   "source": [
    "data['Postcode'].nunique()"
   ]
  },
  {
   "cell_type": "code",
   "execution_count": 30,
   "id": "af86fc25",
   "metadata": {},
   "outputs": [
    {
     "name": "stdout",
     "output_type": "stream",
     "text": [
      "<class 'pandas.core.frame.DataFrame'>\n",
      "RangeIndex: 27103 entries, 0 to 27102\n",
      "Data columns (total 16 columns):\n",
      " #   Column         Non-Null Count  Dtype         \n",
      "---  ------         --------------  -----         \n",
      " 0   Suburb         27103 non-null  object        \n",
      " 1   Rooms          27103 non-null  int64         \n",
      " 2   Type           27103 non-null  object        \n",
      " 3   SellerG        27103 non-null  object        \n",
      " 4   Date           27103 non-null  datetime64[ns]\n",
      " 5   Distance       27102 non-null  float64       \n",
      " 6   Postcode       27102 non-null  float64       \n",
      " 7   Bedroom        20678 non-null  float64       \n",
      " 8   Bathroom       20672 non-null  float64       \n",
      " 9   Car            20297 non-null  float64       \n",
      " 10  Landsize       17873 non-null  float64       \n",
      " 11  BuildingArea   10529 non-null  float64       \n",
      " 12  YearBuilt      11985 non-null  float64       \n",
      " 13  Regionname     27103 non-null  object        \n",
      " 14  Propertycount  27103 non-null  int64         \n",
      " 15  Price          27103 non-null  int64         \n",
      "dtypes: datetime64[ns](1), float64(8), int64(3), object(4)\n",
      "memory usage: 3.3+ MB\n"
     ]
    }
   ],
   "source": [
    "data.info()"
   ]
  },
  {
   "cell_type": "code",
   "execution_count": 34,
   "id": "e5b0ef83",
   "metadata": {},
   "outputs": [
    {
     "name": "stdout",
     "output_type": "stream",
     "text": [
      "Suburb\n",
      "Reservoir         724\n",
      "Bentleigh East    493\n",
      "Richmond          437\n",
      "Preston           410\n",
      "Brunswick         383\n",
      "                 ... \n",
      "Wandin North        1\n",
      "Ferny Creek         1\n",
      "Tecoma              1\n",
      "Montrose            1\n",
      "viewbank            1\n",
      "Name: count, Length: 345, dtype: int64\n",
      "--------------------------------------------------\n",
      "Type\n",
      "h    18394\n",
      "u     5882\n",
      "t     2827\n",
      "Name: count, dtype: int64\n",
      "--------------------------------------------------\n",
      "SellerG\n",
      "Nelson           2733\n",
      "Jellis           2516\n",
      "Barry            2385\n",
      "hockingstuart    2096\n",
      "Ray              1574\n",
      "                 ... \n",
      "Allan               1\n",
      "Jim                 1\n",
      "iProperty           1\n",
      "Batty               1\n",
      "Icon                1\n",
      "Name: count, Length: 347, dtype: int64\n",
      "--------------------------------------------------\n",
      "Regionname\n",
      "Southern Metropolitan         8480\n",
      "Northern Metropolitan         7809\n",
      "Western Metropolitan          5792\n",
      "Eastern Metropolitan          3264\n",
      "South-Eastern Metropolitan    1336\n",
      "Northern Victoria              165\n",
      "Eastern Victoria               163\n",
      "Western Victoria                94\n",
      "Name: count, dtype: int64\n",
      "--------------------------------------------------\n"
     ]
    }
   ],
   "source": [
    "category=['Suburb','Type','SellerG','Regionname']\n",
    "for column in category:\n",
    "    print(data[column].value_counts())\n",
    "    print(\"-\" * 50)"
   ]
  },
  {
   "cell_type": "code",
   "execution_count": 38,
   "id": "96e377a6",
   "metadata": {},
   "outputs": [
    {
     "name": "stdout",
     "output_type": "stream",
     "text": [
      "Suburb\n",
      "Reservoir        0.027\n",
      "Bentleigh East   0.018\n",
      "Richmond         0.016\n",
      "Preston          0.015\n",
      "Brunswick        0.014\n",
      "                  ... \n",
      "Wandin North     0.000\n",
      "Ferny Creek      0.000\n",
      "Tecoma           0.000\n",
      "Montrose         0.000\n",
      "viewbank         0.000\n",
      "Name: proportion, Length: 345, dtype: float64\n",
      "--------------------------------------------------\n",
      "Type\n",
      "h   0.679\n",
      "u   0.217\n",
      "t   0.104\n",
      "Name: proportion, dtype: float64\n",
      "--------------------------------------------------\n",
      "SellerG\n",
      "Nelson          0.101\n",
      "Jellis          0.093\n",
      "Barry           0.088\n",
      "hockingstuart   0.077\n",
      "Ray             0.058\n",
      "                 ... \n",
      "Allan           0.000\n",
      "Jim             0.000\n",
      "iProperty       0.000\n",
      "Batty           0.000\n",
      "Icon            0.000\n",
      "Name: proportion, Length: 347, dtype: float64\n",
      "--------------------------------------------------\n",
      "Regionname\n",
      "Southern Metropolitan        0.313\n",
      "Northern Metropolitan        0.288\n",
      "Western Metropolitan         0.214\n",
      "Eastern Metropolitan         0.120\n",
      "South-Eastern Metropolitan   0.049\n",
      "Northern Victoria            0.006\n",
      "Eastern Victoria             0.006\n",
      "Western Victoria             0.003\n",
      "Name: proportion, dtype: float64\n",
      "--------------------------------------------------\n"
     ]
    }
   ],
   "source": [
    "for column in category:\n",
    "    print(data[column].value_counts(normalize=True))\n",
    "    print(\"-\" * 50)"
   ]
  },
  {
   "cell_type": "code",
   "execution_count": 40,
   "id": "56bedb69",
   "metadata": {},
   "outputs": [
    {
     "name": "stderr",
     "output_type": "stream",
     "text": [
      "D:\\Software\\Lib\\site-packages\\seaborn\\_oldcore.py:1119: FutureWarning: use_inf_as_na option is deprecated and will be removed in a future version. Convert inf values to NaN before operating instead.\n",
      "  with pd.option_context('mode.use_inf_as_na', True):\n"
     ]
    },
    {
     "data": {
      "text/plain": [
       "<seaborn.axisgrid.FacetGrid at 0x2260b96cd10>"
      ]
     },
     "execution_count": 40,
     "metadata": {},
     "output_type": "execute_result"
    },
    {
     "data": {
      "image/png": "[encoded data removed]",
      "text/plain": [
       "<Figure size 500x500 with 1 Axes>"
      ]
     },
     "metadata": {},
     "output_type": "display_data"
    }
   ],
   "source": [
    "sns.displot(data=data,x=\"Distance\",kind=\"kde\")"
   ]
  },
  {
   "cell_type": "code",
   "execution_count": 42,
   "id": "3e61589f",
   "metadata": {},
   "outputs": [
    {
     "name": "stderr",
     "output_type": "stream",
     "text": [
      "D:\\Software\\Lib\\site-packages\\seaborn\\_oldcore.py:1119: FutureWarning: use_inf_as_na option is deprecated and will be removed in a future version. Convert inf values to NaN before operating instead.\n",
      "  with pd.option_context('mode.use_inf_as_na', True):\n"
     ]
    },
    {
     "data": {
      "text/plain": [
       "<Axes: xlabel='Distance', ylabel='Count'>"
      ]
     },
     "execution_count": 42,
     "metadata": {},
     "output_type": "execute_result"
    },
    {
     "data": {
      "image/png": "[encoded data removed]",
      "text/plain": [
       "<Figure size 640x480 with 1 Axes>"
      ]
     },
     "metadata": {},
     "output_type": "display_data"
    }
   ],
   "source": [
    "sns.histplot(data=data,x=\"Distance\",kde=True)"
   ]
  },
  {
   "cell_type": "code",
   "execution_count": 43,
   "id": "adcf24d3",
   "metadata": {},
   "outputs": [
    {
     "name": "stderr",
     "output_type": "stream",
     "text": [
      "D:\\Software\\Lib\\site-packages\\seaborn\\_oldcore.py:1119: FutureWarning: use_inf_as_na option is deprecated and will be removed in a future version. Convert inf values to NaN before operating instead.\n",
      "  with pd.option_context('mode.use_inf_as_na', True):\n"
     ]
    },
    {
     "data": {
      "text/plain": [
       "<Axes: xlabel='Distance', ylabel='Density'>"
      ]
     },
     "execution_count": 43,
     "metadata": {},
     "output_type": "execute_result"
    },
    {
     "data": {
      "image/png": "[encoded data removed]",
      "text/plain": [
       "<Figure size 640x480 with 1 Axes>"
      ]
     },
     "metadata": {},
     "output_type": "display_data"
    }
   ],
   "source": [
    "sns.histplot(data=data,x='Distance',stat='density')"
   ]
  },
  {
   "cell_type": "code",
   "execution_count": 44,
   "id": "5aa35845",
   "metadata": {},
   "outputs": [
    {
     "data": {
      "text/plain": [
       "<Axes: xlabel='Distance'>"
      ]
     },
     "execution_count": 44,
     "metadata": {},
     "output_type": "execute_result"
    },
    {
     "data": {
      "image/png": "[encoded data removed]",
      "text/plain": [
       "<Figure size 640x480 with 1 Axes>"
      ]
     },
     "metadata": {},
     "output_type": "display_data"
    }
   ],
   "source": [
    "sns.boxplot(data=data,x=\"Distance\")"
   ]
  },
  {
   "cell_type": "code",
   "execution_count": 47,
   "id": "823c15f8",
   "metadata": {},
   "outputs": [
    {
     "name": "stderr",
     "output_type": "stream",
     "text": [
      "D:\\Software\\Lib\\site-packages\\seaborn\\_oldcore.py:1119: FutureWarning: use_inf_as_na option is deprecated and will be removed in a future version. Convert inf values to NaN before operating instead.\n",
      "  with pd.option_context('mode.use_inf_as_na', True):\n"
     ]
    },
    {
     "data": {
      "text/plain": [
       "<Axes: xlabel='Landsize', ylabel='Count'>"
      ]
     },
     "execution_count": 47,
     "metadata": {},
     "output_type": "execute_result"
    },
    {
     "data": {
      "image/png": "[encoded data removed]",
      "text/plain": [
       "<Figure size 640x480 with 1 Axes>"
      ]
     },
     "metadata": {},
     "output_type": "display_data"
    }
   ],
   "source": [
    "sns.histplot(data=data,x=\"Landsize\")"
   ]
  },
  {
   "cell_type": "code",
   "execution_count": 48,
   "id": "0bf48b6a",
   "metadata": {},
   "outputs": [
    {
     "data": {
      "text/plain": [
       "<Axes: xlabel='Landsize'>"
      ]
     },
     "execution_count": 48,
     "metadata": {},
     "output_type": "execute_result"
    },
    {
     "data": {
      "image/png": "[encoded data removed]",
      "text/plain": [
       "<Figure size 640x480 with 1 Axes>"
      ]
     },
     "metadata": {},
     "output_type": "display_data"
    }
   ],
   "source": [
    "sns.boxplot(data=data,x=\"Landsize\")"
   ]
  },
  {
   "cell_type": "code",
   "execution_count": 49,
   "id": "5bd8963a",
   "metadata": {},
   "outputs": [
    {
     "name": "stderr",
     "output_type": "stream",
     "text": [
      "D:\\Software\\Lib\\site-packages\\seaborn\\_oldcore.py:1119: FutureWarning: use_inf_as_na option is deprecated and will be removed in a future version. Convert inf values to NaN before operating instead.\n",
      "  with pd.option_context('mode.use_inf_as_na', True):\n"
     ]
    },
    {
     "data": {
      "text/plain": [
       "<seaborn.axisgrid.FacetGrid at 0x226138aacd0>"
      ]
     },
     "execution_count": 49,
     "metadata": {},
     "output_type": "execute_result"
    },
    {
     "data": {
      "image/png": "[encoded data removed]",
      "text/plain": [
       "<Figure size 500x500 with 1 Axes>"
      ]
     },
     "metadata": {},
     "output_type": "display_data"
    }
   ],
   "source": [
    "sns.displot(data=data,x=\"Landsize\",kind=\"kde\")"
   ]
  },
  {
   "cell_type": "code",
   "execution_count": 50,
   "id": "7fd4e72c",
   "metadata": {},
   "outputs": [
    {
     "name": "stderr",
     "output_type": "stream",
     "text": [
      "D:\\Software\\Lib\\site-packages\\seaborn\\_oldcore.py:1119: FutureWarning: use_inf_as_na option is deprecated and will be removed in a future version. Convert inf values to NaN before operating instead.\n",
      "  with pd.option_context('mode.use_inf_as_na', True):\n"
     ]
    },
    {
     "data": {
      "text/plain": [
       "<seaborn.axisgrid.FacetGrid at 0x2261627f850>"
      ]
     },
     "execution_count": 50,
     "metadata": {},
     "output_type": "execute_result"
    },
    {
     "data": {
      "image/png": "[encoded data removed]",
      "text/plain": [
       "<Figure size 500x500 with 1 Axes>"
      ]
     },
     "metadata": {},
     "output_type": "display_data"
    }
   ],
   "source": [
    "sns.displot(data=data,x=data['Landsize']/100000,kind=\"kde\")"
   ]
  },
  {
   "cell_type": "code",
   "execution_count": 51,
   "id": "eedcc214",
   "metadata": {},
   "outputs": [
    {
     "data": {
      "text/html": [
       "<div>\n",
       "<style scoped>\n",
       "    .dataframe tbody tr th:only-of-type {\n",
       "        vertical-align: middle;\n",
       "    }\n",
       "\n",
       "    .dataframe tbody tr th {\n",
       "        vertical-align: top;\n",
       "    }\n",
       "\n",
       "    .dataframe thead th {\n",
       "        text-align: right;\n",
       "    }\n",
       "</style>\n",
       "<table border=\"1\" class=\"dataframe\">\n",
       "  <thead>\n",
       "    <tr style=\"text-align: right;\">\n",
       "      <th></th>\n",
       "      <th>Suburb</th>\n",
       "      <th>Rooms</th>\n",
       "      <th>Type</th>\n",
       "      <th>SellerG</th>\n",
       "      <th>Date</th>\n",
       "      <th>Distance</th>\n",
       "      <th>Postcode</th>\n",
       "      <th>Bedroom</th>\n",
       "      <th>Bathroom</th>\n",
       "      <th>Car</th>\n",
       "      <th>Landsize</th>\n",
       "      <th>BuildingArea</th>\n",
       "      <th>YearBuilt</th>\n",
       "      <th>Regionname</th>\n",
       "      <th>Propertycount</th>\n",
       "      <th>Price</th>\n",
       "    </tr>\n",
       "  </thead>\n",
       "  <tbody>\n",
       "    <tr>\n",
       "      <th>23908</th>\n",
       "      <td>Silvan</td>\n",
       "      <td>3</td>\n",
       "      <td>h</td>\n",
       "      <td>Harcourts</td>\n",
       "      <td>27-05-2017</td>\n",
       "      <td>34.600</td>\n",
       "      <td>3795.000</td>\n",
       "      <td>3.000</td>\n",
       "      <td>2.000</td>\n",
       "      <td>2.000</td>\n",
       "      <td>76000.000</td>\n",
       "      <td>NaN</td>\n",
       "      <td>NaN</td>\n",
       "      <td>Eastern Victoria</td>\n",
       "      <td>457</td>\n",
       "      <td>1085000</td>\n",
       "    </tr>\n",
       "    <tr>\n",
       "      <th>25090</th>\n",
       "      <td>Balwyn North</td>\n",
       "      <td>3</td>\n",
       "      <td>h</td>\n",
       "      <td>Kay</td>\n",
       "      <td>28-08-2016</td>\n",
       "      <td>9.200</td>\n",
       "      <td>3104.000</td>\n",
       "      <td>3.000</td>\n",
       "      <td>1.000</td>\n",
       "      <td>2.000</td>\n",
       "      <td>75100.000</td>\n",
       "      <td>NaN</td>\n",
       "      <td>NaN</td>\n",
       "      <td>Southern Metropolitan</td>\n",
       "      <td>7809</td>\n",
       "      <td>2000000</td>\n",
       "    </tr>\n",
       "  </tbody>\n",
       "</table>\n",
       "</div>"
      ],
      "text/plain": [
       "             Suburb  Rooms Type    SellerG        Date  Distance  Postcode  \\\n",
       "23908        Silvan      3    h  Harcourts  27-05-2017    34.600  3795.000   \n",
       "25090  Balwyn North      3    h        Kay  28-08-2016     9.200  3104.000   \n",
       "\n",
       "       Bedroom  Bathroom   Car  Landsize BuildingArea  YearBuilt  \\\n",
       "23908    3.000     2.000 2.000 76000.000          NaN        NaN   \n",
       "25090    3.000     1.000 2.000 75100.000          NaN        NaN   \n",
       "\n",
       "                  Regionname  Propertycount    Price  \n",
       "23908       Eastern Victoria            457  1085000  \n",
       "25090  Southern Metropolitan           7809  2000000  "
      ]
     },
     "execution_count": 51,
     "metadata": {},
     "output_type": "execute_result"
    }
   ],
   "source": [
    "data[data['Landsize']>60000]"
   ]
  },
  {
   "cell_type": "code",
   "execution_count": 61,
   "id": "44e940e5",
   "metadata": {},
   "outputs": [
    {
     "name": "stderr",
     "output_type": "stream",
     "text": [
      "D:\\Software\\Lib\\site-packages\\seaborn\\_oldcore.py:1119: FutureWarning: use_inf_as_na option is deprecated and will be removed in a future version. Convert inf values to NaN before operating instead.\n",
      "  with pd.option_context('mode.use_inf_as_na', True):\n"
     ]
    },
    {
     "data": {
      "text/plain": [
       "<seaborn.axisgrid.FacetGrid at 0x226175a7d90>"
      ]
     },
     "execution_count": 61,
     "metadata": {},
     "output_type": "execute_result"
    },
    {
     "data": {
      "image/png": "[encoded data removed]",
      "text/plain": [
       "<Figure size 500x500 with 1 Axes>"
      ]
     },
     "metadata": {},
     "output_type": "display_data"
    }
   ],
   "source": [
    "sns.displot(data=data,x='BuildingArea',kind=\"kde\")"
   ]
  },
  {
   "cell_type": "code",
   "execution_count": 62,
   "id": "c7212334",
   "metadata": {},
   "outputs": [
    {
     "data": {
      "text/plain": [
       "<Axes: xlabel='BuildingArea'>"
      ]
     },
     "execution_count": 62,
     "metadata": {},
     "output_type": "execute_result"
    },
    {
     "data": {
      "image/png": "[encoded data removed]",
      "text/plain": [
       "<Figure size 640x480 with 1 Axes>"
      ]
     },
     "metadata": {},
     "output_type": "display_data"
    }
   ],
   "source": [
    "sns.boxplot(data=data,x='BuildingArea')"
   ]
  },
  {
   "cell_type": "code",
   "execution_count": 63,
   "id": "6bce81b7",
   "metadata": {},
   "outputs": [
    {
     "name": "stderr",
     "output_type": "stream",
     "text": [
      "D:\\Software\\Lib\\site-packages\\seaborn\\_oldcore.py:1119: FutureWarning: use_inf_as_na option is deprecated and will be removed in a future version. Convert inf values to NaN before operating instead.\n",
      "  with pd.option_context('mode.use_inf_as_na', True):\n"
     ]
    },
    {
     "data": {
      "text/plain": [
       "<Axes: xlabel='Price', ylabel='Count'>"
      ]
     },
     "execution_count": 63,
     "metadata": {},
     "output_type": "execute_result"
    },
    {
     "data": {
      "image/png": "[encoded data removed]",
      "text/plain": [
       "<Figure size 640x480 with 1 Axes>"
      ]
     },
     "metadata": {},
     "output_type": "display_data"
    }
   ],
   "source": [
    "sns.histplot(data=data,x=data['Price'])"
   ]
  },
  {
   "cell_type": "code",
   "execution_count": 64,
   "id": "a5c2ae57",
   "metadata": {},
   "outputs": [
    {
     "data": {
      "text/plain": [
       "<Axes: xlabel='Price'>"
      ]
     },
     "execution_count": 64,
     "metadata": {},
     "output_type": "execute_result"
    },
    {
     "data": {
      "image/png": "[encoded data removed]",
      "text/plain": [
       "<Figure size 640x480 with 1 Axes>"
      ]
     },
     "metadata": {},
     "output_type": "display_data"
    }
   ],
   "source": [
    "sns.boxplot(data=data,x=data['Price'])"
   ]
  },
  {
   "cell_type": "code",
   "execution_count": 65,
   "id": "d346421e",
   "metadata": {},
   "outputs": [
    {
     "data": {
      "text/plain": [
       "<Axes: xlabel='Rooms'>"
      ]
     },
     "execution_count": 65,
     "metadata": {},
     "output_type": "execute_result"
    },
    {
     "data": {
      "image/png": "[encoded data removed]",
      "text/plain": [
       "<Figure size 640x480 with 1 Axes>"
      ]
     },
     "metadata": {},
     "output_type": "display_data"
    }
   ],
   "source": [
    "sns.boxplot(data=data,x=data['Rooms'])"
   ]
  },
  {
   "cell_type": "code",
   "execution_count": 67,
   "id": "17a2ff91",
   "metadata": {},
   "outputs": [
    {
     "data": {
      "text/plain": [
       "(23, 16)"
      ]
     },
     "execution_count": 67,
     "metadata": {},
     "output_type": "execute_result"
    }
   ],
   "source": [
    "data.loc[data['Rooms']>7].shape"
   ]
  },
  {
   "cell_type": "code",
   "execution_count": 70,
   "id": "11ebb5e0",
   "metadata": {},
   "outputs": [
    {
     "data": {
      "text/plain": [
       "Type\n",
       "h    21\n",
       "u     2\n",
       "Name: count, dtype: int64"
      ]
     },
     "execution_count": 70,
     "metadata": {},
     "output_type": "execute_result"
    }
   ],
   "source": [
    "data.loc[data['Rooms']>7]['Type'].value_counts()"
   ]
  },
  {
   "cell_type": "code",
   "execution_count": 71,
   "id": "11bc0a6e",
   "metadata": {},
   "outputs": [
    {
     "name": "stdout",
     "output_type": "stream",
     "text": [
      "<class 'pandas.core.frame.DataFrame'>\n",
      "RangeIndex: 27114 entries, 0 to 27113\n",
      "Data columns (total 16 columns):\n",
      " #   Column         Non-Null Count  Dtype         \n",
      "---  ------         --------------  -----         \n",
      " 0   Suburb         27114 non-null  object        \n",
      " 1   Rooms          27114 non-null  int64         \n",
      " 2   Type           27114 non-null  object        \n",
      " 3   SellerG        27114 non-null  object        \n",
      " 4   Date           27114 non-null  datetime64[ns]\n",
      " 5   Distance       27113 non-null  float64       \n",
      " 6   Postcode       27113 non-null  float64       \n",
      " 7   Bedroom        20678 non-null  float64       \n",
      " 8   Bathroom       20672 non-null  float64       \n",
      " 9   Car            20297 non-null  float64       \n",
      " 10  Landsize       17873 non-null  float64       \n",
      " 11  BuildingArea   10529 non-null  float64       \n",
      " 12  YearBuilt      11985 non-null  float64       \n",
      " 13  Regionname     27114 non-null  object        \n",
      " 14  Propertycount  27114 non-null  int64         \n",
      " 15  Price          27114 non-null  int64         \n",
      "dtypes: datetime64[ns](1), float64(8), int64(3), object(4)\n",
      "memory usage: 3.3+ MB\n"
     ]
    }
   ],
   "source": [
    "data.info()"
   ]
  },
  {
   "cell_type": "code",
   "execution_count": 74,
   "id": "1fa0e5ae",
   "metadata": {},
   "outputs": [
    {
     "ename": "AttributeError",
     "evalue": "Text.set() got an unexpected keyword argument 'rotations'",
     "output_type": "error",
     "traceback": [
      "\u001b[1;31m---------------------------------------------------------------------------\u001b[0m",
      "\u001b[1;31mAttributeError\u001b[0m                            Traceback (most recent call last)",
      "Cell \u001b[1;32mIn[74], line 2\u001b[0m\n\u001b[0;32m      1\u001b[0m sns\u001b[38;5;241m.\u001b[39mcountplot(data\u001b[38;5;241m=\u001b[39mdata,x\u001b[38;5;241m=\u001b[39mdata[\u001b[38;5;124m'\u001b[39m\u001b[38;5;124mRegionname\u001b[39m\u001b[38;5;124m'\u001b[39m])\n\u001b[1;32m----> 2\u001b[0m plt\u001b[38;5;241m.\u001b[39mxticks(rotations\u001b[38;5;241m=\u001b[39m\u001b[38;5;241m90\u001b[39m)\n",
      "File \u001b[1;32mD:\\Software\\Lib\\site-packages\\matplotlib\\pyplot.py:2051\u001b[0m, in \u001b[0;36mxticks\u001b[1;34m(ticks, labels, minor, **kwargs)\u001b[0m\n\u001b[0;32m   2049\u001b[0m     labels_out \u001b[38;5;241m=\u001b[39m ax\u001b[38;5;241m.\u001b[39mget_xticklabels(minor\u001b[38;5;241m=\u001b[39mminor)\n\u001b[0;32m   2050\u001b[0m     \u001b[38;5;28;01mfor\u001b[39;00m l \u001b[38;5;129;01min\u001b[39;00m labels_out:\n\u001b[1;32m-> 2051\u001b[0m         l\u001b[38;5;241m.\u001b[39m_internal_update(kwargs)\n\u001b[0;32m   2052\u001b[0m \u001b[38;5;28;01melse\u001b[39;00m:\n\u001b[0;32m   2053\u001b[0m     labels_out \u001b[38;5;241m=\u001b[39m ax\u001b[38;5;241m.\u001b[39mset_xticklabels(labels, minor\u001b[38;5;241m=\u001b[39mminor, \u001b[38;5;241m*\u001b[39m\u001b[38;5;241m*\u001b[39mkwargs)\n",
      "File \u001b[1;32mD:\\Software\\Lib\\site-packages\\matplotlib\\artist.py:1219\u001b[0m, in \u001b[0;36mArtist._internal_update\u001b[1;34m(self, kwargs)\u001b[0m\n\u001b[0;32m   1212\u001b[0m \u001b[38;5;28;01mdef\u001b[39;00m \u001b[38;5;21m_internal_update\u001b[39m(\u001b[38;5;28mself\u001b[39m, kwargs):\n\u001b[0;32m   1213\u001b[0m \u001b[38;5;250m    \u001b[39m\u001b[38;5;124;03m\"\"\"\u001b[39;00m\n\u001b[0;32m   1214\u001b[0m \u001b[38;5;124;03m    Update artist properties without prenormalizing them, but generating\u001b[39;00m\n\u001b[0;32m   1215\u001b[0m \u001b[38;5;124;03m    errors as if calling `set`.\u001b[39;00m\n\u001b[0;32m   1216\u001b[0m \n\u001b[0;32m   1217\u001b[0m \u001b[38;5;124;03m    The lack of prenormalization is to maintain backcompatibility.\u001b[39;00m\n\u001b[0;32m   1218\u001b[0m \u001b[38;5;124;03m    \"\"\"\u001b[39;00m\n\u001b[1;32m-> 1219\u001b[0m     \u001b[38;5;28;01mreturn\u001b[39;00m \u001b[38;5;28mself\u001b[39m\u001b[38;5;241m.\u001b[39m_update_props(\n\u001b[0;32m   1220\u001b[0m         kwargs, \u001b[38;5;124m\"\u001b[39m\u001b[38;5;132;01m{cls.__name__}\u001b[39;00m\u001b[38;5;124m.set() got an unexpected keyword argument \u001b[39m\u001b[38;5;124m\"\u001b[39m\n\u001b[0;32m   1221\u001b[0m         \u001b[38;5;124m\"\u001b[39m\u001b[38;5;132;01m{prop_name!r}\u001b[39;00m\u001b[38;5;124m\"\u001b[39m)\n",
      "File \u001b[1;32mD:\\Software\\Lib\\site-packages\\matplotlib\\artist.py:1193\u001b[0m, in \u001b[0;36mArtist._update_props\u001b[1;34m(self, props, errfmt)\u001b[0m\n\u001b[0;32m   1191\u001b[0m             func \u001b[38;5;241m=\u001b[39m \u001b[38;5;28mgetattr\u001b[39m(\u001b[38;5;28mself\u001b[39m, \u001b[38;5;124mf\u001b[39m\u001b[38;5;124m\"\u001b[39m\u001b[38;5;124mset_\u001b[39m\u001b[38;5;132;01m{\u001b[39;00mk\u001b[38;5;132;01m}\u001b[39;00m\u001b[38;5;124m\"\u001b[39m, \u001b[38;5;28;01mNone\u001b[39;00m)\n\u001b[0;32m   1192\u001b[0m             \u001b[38;5;28;01mif\u001b[39;00m \u001b[38;5;129;01mnot\u001b[39;00m \u001b[38;5;28mcallable\u001b[39m(func):\n\u001b[1;32m-> 1193\u001b[0m                 \u001b[38;5;28;01mraise\u001b[39;00m \u001b[38;5;167;01mAttributeError\u001b[39;00m(\n\u001b[0;32m   1194\u001b[0m                     errfmt\u001b[38;5;241m.\u001b[39mformat(\u001b[38;5;28mcls\u001b[39m\u001b[38;5;241m=\u001b[39m\u001b[38;5;28mtype\u001b[39m(\u001b[38;5;28mself\u001b[39m), prop_name\u001b[38;5;241m=\u001b[39mk))\n\u001b[0;32m   1195\u001b[0m             ret\u001b[38;5;241m.\u001b[39mappend(func(v))\n\u001b[0;32m   1196\u001b[0m \u001b[38;5;28;01mif\u001b[39;00m ret:\n",
      "\u001b[1;31mAttributeError\u001b[0m: Text.set() got an unexpected keyword argument 'rotations'"
     ]
    },
    {
     "data": {
      "image/png": "[encoded data removed]",
      "text/plain": [
       "<Figure size 640x480 with 1 Axes>"
      ]
     },
     "metadata": {},
     "output_type": "display_data"
    }
   ],
   "source": [
    "sns.countplot(data=data,x=data['Regionname'])\n",
    "plt.xticks(rotation=90)"
   ]
  },
  {
   "cell_type": "code",
   "execution_count": null,
   "id": "0023cc80",
   "metadata": {},
   "outputs": [],
   "source": []
  }
 ],
 "metadata": {
  "kernelspec": {
   "display_name": "Python 3 (ipykernel)",
   "language": "python",
   "name": "python3"
  },
  "language_info": {
   "codemirror_mode": {
    "name": "ipython",
    "version": 3
   },
   "file_extension": ".py",
   "mimetype": "text/x-python",
   "name": "python",
   "nbconvert_exporter": "python",
   "pygments_lexer": "ipython3",
   "version": "3.11.7"
  }
 },
 "nbformat": 4,
 "nbformat_minor": 5
}
