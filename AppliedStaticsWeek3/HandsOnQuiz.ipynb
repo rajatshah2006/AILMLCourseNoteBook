{
 "cells": [
  {
   "cell_type": "code",
   "execution_count": 1,
   "id": "3afbbe47",
   "metadata": {},
   "outputs": [],
   "source": [
    "# Libraries to help with reading and manipulating data\n",
    "import pandas as pd\n",
    "import numpy as np\n",
    "\n",
    "# Libraries to help with data visualization\n",
    "import matplotlib.pyplot as plt\n",
    "import seaborn as sns\n",
    "%matplotlib inline\n",
    "\n",
    "# Library to help with statistical analysis\n",
    "import scipy.stats as stats\n",
    "\n",
    "# Function for handling normal distribution and statistical calculation\n",
    "from scipy.stats import norm"
   ]
  },
  {
   "cell_type": "code",
   "execution_count": 2,
   "id": "29b871c8",
   "metadata": {},
   "outputs": [
    {
     "data": {
      "text/html": [
       "<div>\n",
       "<style scoped>\n",
       "    .dataframe tbody tr th:only-of-type {\n",
       "        vertical-align: middle;\n",
       "    }\n",
       "\n",
       "    .dataframe tbody tr th {\n",
       "        vertical-align: top;\n",
       "    }\n",
       "\n",
       "    .dataframe thead th {\n",
       "        text-align: right;\n",
       "    }\n",
       "</style>\n",
       "<table border=\"1\" class=\"dataframe\">\n",
       "  <thead>\n",
       "    <tr style=\"text-align: right;\">\n",
       "      <th></th>\n",
       "      <th>gender</th>\n",
       "      <th>race</th>\n",
       "      <th>parental_level_of_education</th>\n",
       "      <th>taken_test_preparation_course</th>\n",
       "      <th>maths_score</th>\n",
       "      <th>reading_score</th>\n",
       "      <th>writing_score</th>\n",
       "      <th>overall_score</th>\n",
       "    </tr>\n",
       "  </thead>\n",
       "  <tbody>\n",
       "    <tr>\n",
       "      <th>0</th>\n",
       "      <td>male</td>\n",
       "      <td>Race C</td>\n",
       "      <td>high school</td>\n",
       "      <td>no</td>\n",
       "      <td>73</td>\n",
       "      <td>74</td>\n",
       "      <td>74</td>\n",
       "      <td>73.67</td>\n",
       "    </tr>\n",
       "    <tr>\n",
       "      <th>1</th>\n",
       "      <td>female</td>\n",
       "      <td>Race A</td>\n",
       "      <td>high school</td>\n",
       "      <td>no</td>\n",
       "      <td>71</td>\n",
       "      <td>62</td>\n",
       "      <td>68</td>\n",
       "      <td>67.00</td>\n",
       "    </tr>\n",
       "    <tr>\n",
       "      <th>2</th>\n",
       "      <td>male</td>\n",
       "      <td>Race B</td>\n",
       "      <td>bachelor's degree</td>\n",
       "      <td>yes</td>\n",
       "      <td>87</td>\n",
       "      <td>92</td>\n",
       "      <td>89</td>\n",
       "      <td>89.33</td>\n",
       "    </tr>\n",
       "    <tr>\n",
       "      <th>3</th>\n",
       "      <td>female</td>\n",
       "      <td>Race D</td>\n",
       "      <td>high school</td>\n",
       "      <td>no</td>\n",
       "      <td>63</td>\n",
       "      <td>62</td>\n",
       "      <td>58</td>\n",
       "      <td>61.00</td>\n",
       "    </tr>\n",
       "    <tr>\n",
       "      <th>4</th>\n",
       "      <td>female</td>\n",
       "      <td>Race A</td>\n",
       "      <td>high school</td>\n",
       "      <td>no</td>\n",
       "      <td>60</td>\n",
       "      <td>66</td>\n",
       "      <td>66</td>\n",
       "      <td>64.00</td>\n",
       "    </tr>\n",
       "  </tbody>\n",
       "</table>\n",
       "</div>"
      ],
      "text/plain": [
       "   gender    race parental_level_of_education taken_test_preparation_course  \\\n",
       "0    male  Race C                 high school                            no   \n",
       "1  female  Race A                 high school                            no   \n",
       "2    male  Race B           bachelor's degree                           yes   \n",
       "3  female  Race D                 high school                            no   \n",
       "4  female  Race A                 high school                            no   \n",
       "\n",
       "   maths_score  reading_score  writing_score  overall_score  \n",
       "0           73             74             74          73.67  \n",
       "1           71             62             68          67.00  \n",
       "2           87             92             89          89.33  \n",
       "3           63             62             58          61.00  \n",
       "4           60             66             66          64.00  "
      ]
     },
     "execution_count": 2,
     "metadata": {},
     "output_type": "execute_result"
    }
   ],
   "source": [
    "df=pd.read_csv('students.csv')\n",
    "df.head()"
   ]
  },
  {
   "cell_type": "code",
   "execution_count": 3,
   "id": "edfdedc3",
   "metadata": {},
   "outputs": [
    {
     "data": {
      "text/html": [
       "<div>\n",
       "<style scoped>\n",
       "    .dataframe tbody tr th:only-of-type {\n",
       "        vertical-align: middle;\n",
       "    }\n",
       "\n",
       "    .dataframe tbody tr th {\n",
       "        vertical-align: top;\n",
       "    }\n",
       "\n",
       "    .dataframe thead th {\n",
       "        text-align: right;\n",
       "    }\n",
       "</style>\n",
       "<table border=\"1\" class=\"dataframe\">\n",
       "  <thead>\n",
       "    <tr style=\"text-align: right;\">\n",
       "      <th></th>\n",
       "      <th>maths_score</th>\n",
       "      <th>reading_score</th>\n",
       "      <th>writing_score</th>\n",
       "      <th>overall_score</th>\n",
       "    </tr>\n",
       "  </thead>\n",
       "  <tbody>\n",
       "    <tr>\n",
       "      <th>count</th>\n",
       "      <td>100.000000</td>\n",
       "      <td>100.000000</td>\n",
       "      <td>100.000000</td>\n",
       "      <td>100.000000</td>\n",
       "    </tr>\n",
       "    <tr>\n",
       "      <th>mean</th>\n",
       "      <td>68.450000</td>\n",
       "      <td>70.800000</td>\n",
       "      <td>69.650000</td>\n",
       "      <td>69.633500</td>\n",
       "    </tr>\n",
       "    <tr>\n",
       "      <th>std</th>\n",
       "      <td>14.240627</td>\n",
       "      <td>13.586238</td>\n",
       "      <td>13.567173</td>\n",
       "      <td>13.099381</td>\n",
       "    </tr>\n",
       "    <tr>\n",
       "      <th>min</th>\n",
       "      <td>36.000000</td>\n",
       "      <td>35.000000</td>\n",
       "      <td>33.000000</td>\n",
       "      <td>38.000000</td>\n",
       "    </tr>\n",
       "    <tr>\n",
       "      <th>25%</th>\n",
       "      <td>57.750000</td>\n",
       "      <td>61.750000</td>\n",
       "      <td>60.750000</td>\n",
       "      <td>61.000000</td>\n",
       "    </tr>\n",
       "    <tr>\n",
       "      <th>50%</th>\n",
       "      <td>69.000000</td>\n",
       "      <td>71.000000</td>\n",
       "      <td>69.500000</td>\n",
       "      <td>69.330000</td>\n",
       "    </tr>\n",
       "    <tr>\n",
       "      <th>75%</th>\n",
       "      <td>78.250000</td>\n",
       "      <td>81.000000</td>\n",
       "      <td>80.000000</td>\n",
       "      <td>78.752500</td>\n",
       "    </tr>\n",
       "    <tr>\n",
       "      <th>max</th>\n",
       "      <td>100.000000</td>\n",
       "      <td>100.000000</td>\n",
       "      <td>100.000000</td>\n",
       "      <td>99.000000</td>\n",
       "    </tr>\n",
       "  </tbody>\n",
       "</table>\n",
       "</div>"
      ],
      "text/plain": [
       "       maths_score  reading_score  writing_score  overall_score\n",
       "count   100.000000     100.000000     100.000000     100.000000\n",
       "mean     68.450000      70.800000      69.650000      69.633500\n",
       "std      14.240627      13.586238      13.567173      13.099381\n",
       "min      36.000000      35.000000      33.000000      38.000000\n",
       "25%      57.750000      61.750000      60.750000      61.000000\n",
       "50%      69.000000      71.000000      69.500000      69.330000\n",
       "75%      78.250000      81.000000      80.000000      78.752500\n",
       "max     100.000000     100.000000     100.000000      99.000000"
      ]
     },
     "execution_count": 3,
     "metadata": {},
     "output_type": "execute_result"
    }
   ],
   "source": [
    "df.describe()"
   ]
  },
  {
   "cell_type": "code",
   "execution_count": 4,
   "id": "502e85d9",
   "metadata": {},
   "outputs": [
    {
     "name": "stdout",
     "output_type": "stream",
     "text": [
      "<class 'pandas.core.frame.DataFrame'>\n",
      "RangeIndex: 100 entries, 0 to 99\n",
      "Data columns (total 8 columns):\n",
      " #   Column                         Non-Null Count  Dtype  \n",
      "---  ------                         --------------  -----  \n",
      " 0   gender                         100 non-null    object \n",
      " 1   race                           100 non-null    object \n",
      " 2   parental_level_of_education    100 non-null    object \n",
      " 3   taken_test_preparation_course  100 non-null    object \n",
      " 4   maths_score                    100 non-null    int64  \n",
      " 5   reading_score                  100 non-null    int64  \n",
      " 6   writing_score                  100 non-null    int64  \n",
      " 7   overall_score                  100 non-null    float64\n",
      "dtypes: float64(1), int64(3), object(4)\n",
      "memory usage: 6.4+ KB\n"
     ]
    }
   ],
   "source": [
    "df.info()"
   ]
  },
  {
   "cell_type": "code",
   "execution_count": 5,
   "id": "8a32f9bd",
   "metadata": {},
   "outputs": [
    {
     "data": {
      "text/html": [
       "<div>\n",
       "<style scoped>\n",
       "    .dataframe tbody tr th:only-of-type {\n",
       "        vertical-align: middle;\n",
       "    }\n",
       "\n",
       "    .dataframe tbody tr th {\n",
       "        vertical-align: top;\n",
       "    }\n",
       "\n",
       "    .dataframe thead th {\n",
       "        text-align: right;\n",
       "    }\n",
       "</style>\n",
       "<table border=\"1\" class=\"dataframe\">\n",
       "  <thead>\n",
       "    <tr style=\"text-align: right;\">\n",
       "      <th></th>\n",
       "      <th>gender</th>\n",
       "      <th>race</th>\n",
       "      <th>parental_level_of_education</th>\n",
       "      <th>taken_test_preparation_course</th>\n",
       "      <th>maths_score</th>\n",
       "      <th>reading_score</th>\n",
       "      <th>writing_score</th>\n",
       "      <th>overall_score</th>\n",
       "    </tr>\n",
       "  </thead>\n",
       "  <tbody>\n",
       "    <tr>\n",
       "      <th>0</th>\n",
       "      <td>male</td>\n",
       "      <td>Race C</td>\n",
       "      <td>high school</td>\n",
       "      <td>no</td>\n",
       "      <td>73</td>\n",
       "      <td>74</td>\n",
       "      <td>74</td>\n",
       "      <td>73.67</td>\n",
       "    </tr>\n",
       "    <tr>\n",
       "      <th>1</th>\n",
       "      <td>female</td>\n",
       "      <td>Race A</td>\n",
       "      <td>high school</td>\n",
       "      <td>no</td>\n",
       "      <td>71</td>\n",
       "      <td>62</td>\n",
       "      <td>68</td>\n",
       "      <td>67.00</td>\n",
       "    </tr>\n",
       "    <tr>\n",
       "      <th>2</th>\n",
       "      <td>male</td>\n",
       "      <td>Race B</td>\n",
       "      <td>bachelor's degree</td>\n",
       "      <td>yes</td>\n",
       "      <td>87</td>\n",
       "      <td>92</td>\n",
       "      <td>89</td>\n",
       "      <td>89.33</td>\n",
       "    </tr>\n",
       "    <tr>\n",
       "      <th>3</th>\n",
       "      <td>female</td>\n",
       "      <td>Race D</td>\n",
       "      <td>high school</td>\n",
       "      <td>no</td>\n",
       "      <td>63</td>\n",
       "      <td>62</td>\n",
       "      <td>58</td>\n",
       "      <td>61.00</td>\n",
       "    </tr>\n",
       "    <tr>\n",
       "      <th>4</th>\n",
       "      <td>female</td>\n",
       "      <td>Race A</td>\n",
       "      <td>high school</td>\n",
       "      <td>no</td>\n",
       "      <td>60</td>\n",
       "      <td>66</td>\n",
       "      <td>66</td>\n",
       "      <td>64.00</td>\n",
       "    </tr>\n",
       "  </tbody>\n",
       "</table>\n",
       "</div>"
      ],
      "text/plain": [
       "   gender    race parental_level_of_education taken_test_preparation_course  \\\n",
       "0    male  Race C                 high school                            no   \n",
       "1  female  Race A                 high school                            no   \n",
       "2    male  Race B           bachelor's degree                           yes   \n",
       "3  female  Race D                 high school                            no   \n",
       "4  female  Race A                 high school                            no   \n",
       "\n",
       "   maths_score  reading_score  writing_score  overall_score  \n",
       "0           73             74             74          73.67  \n",
       "1           71             62             68          67.00  \n",
       "2           87             92             89          89.33  \n",
       "3           63             62             58          61.00  \n",
       "4           60             66             66          64.00  "
      ]
     },
     "execution_count": 5,
     "metadata": {},
     "output_type": "execute_result"
    }
   ],
   "source": [
    "df.head(5)"
   ]
  },
  {
   "cell_type": "code",
   "execution_count": 6,
   "id": "b91a454c",
   "metadata": {},
   "outputs": [
    {
     "data": {
      "text/plain": [
       "(100, 8)"
      ]
     },
     "execution_count": 6,
     "metadata": {},
     "output_type": "execute_result"
    }
   ],
   "source": [
    "stud_five_score=60;\n",
    "mu=df['maths_score'].mean()\n",
    "sigma=df['maths_score'].std()\n",
    "df.shape"
   ]
  },
  {
   "cell_type": "code",
   "execution_count": 7,
   "id": "ec7b4e4f",
   "metadata": {},
   "outputs": [
    {
     "data": {
      "text/plain": [
       "-0.5933727537765388"
      ]
     },
     "execution_count": 7,
     "metadata": {},
     "output_type": "execute_result"
    }
   ],
   "source": [
    "z_score_5=(60-mu)/sigma\n",
    "z_score_5"
   ]
  },
  {
   "cell_type": "markdown",
   "id": "e149400b",
   "metadata": {},
   "source": [
    "#### Suppose that the reading scores follow a normal distribution with a mean of 71 and standard deviation of 13 and the writing scores follow a normal distribution with a mean of 69 and standard deviation of 10. In which subject, the 5th student has performed the best?"
   ]
  },
  {
   "cell_type": "code",
   "execution_count": 8,
   "id": "a4fe3d64",
   "metadata": {},
   "outputs": [
    {
     "data": {
      "text/plain": [
       "66"
      ]
     },
     "execution_count": 8,
     "metadata": {},
     "output_type": "execute_result"
    }
   ],
   "source": [
    "mu_red=71\n",
    "std_read=13\n",
    "\n",
    "mu_writing=69\n",
    "std_writing=10\n",
    "\n",
    "read_score=df['reading_score'][4]\n",
    "read_score\n",
    "\n",
    "\n",
    "\n",
    "\n"
   ]
  },
  {
   "cell_type": "code",
   "execution_count": 9,
   "id": "d68d2374",
   "metadata": {},
   "outputs": [
    {
     "data": {
      "text/plain": [
       "-0.38461538461538464"
      ]
     },
     "execution_count": 9,
     "metadata": {},
     "output_type": "execute_result"
    }
   ],
   "source": [
    "zreading=(read_score-mu_red)/std_read\n",
    "zreading"
   ]
  },
  {
   "cell_type": "code",
   "execution_count": 10,
   "id": "124d8930",
   "metadata": {},
   "outputs": [
    {
     "name": "stdout",
     "output_type": "stream",
     "text": [
      "66\n"
     ]
    },
    {
     "data": {
      "text/plain": [
       "-0.3"
      ]
     },
     "execution_count": 10,
     "metadata": {},
     "output_type": "execute_result"
    }
   ],
   "source": [
    "write_score=df['writing_score'][4]\n",
    "print(write_score)\n",
    "\n",
    "zwrite=(write_score-mu_writing)/std_writing\n",
    "zwrite"
   ]
  },
  {
   "cell_type": "code",
   "execution_count": 11,
   "id": "99ebce10",
   "metadata": {},
   "outputs": [],
   "source": [
    "arr=np.array([z_score_5,zreading,zwrite])"
   ]
  },
  {
   "cell_type": "code",
   "execution_count": 12,
   "id": "658b1ae4",
   "metadata": {},
   "outputs": [
    {
     "data": {
      "text/plain": [
       "-0.3"
      ]
     },
     "execution_count": 12,
     "metadata": {},
     "output_type": "execute_result"
    }
   ],
   "source": [
    "arr.max()"
   ]
  },
  {
   "cell_type": "markdown",
   "id": "40fff7a9",
   "metadata": {},
   "source": [
    "#### Suppose the reading scores follow a normal distribution with a mean of 71 and a standard deviation of 13. Find the range on which the probability that a student will score more than 90 in reading lies."
   ]
  },
  {
   "cell_type": "code",
   "execution_count": 13,
   "id": "489de9cf",
   "metadata": {},
   "outputs": [
    {
     "data": {
      "text/plain": [
       "0.06510477348967969"
      ]
     },
     "execution_count": 13,
     "metadata": {},
     "output_type": "execute_result"
    }
   ],
   "source": [
    "1-norm.cdf(90,mu,sigma)"
   ]
  },
  {
   "cell_type": "code",
   "execution_count": 14,
   "id": "8c3d6240",
   "metadata": {},
   "outputs": [
    {
     "name": "stdout",
     "output_type": "stream",
     "text": [
      "mu_total 69.6335 sigma_total 13.099380845496235\n"
     ]
    }
   ],
   "source": [
    "mu_total=df['overall_score'].mean()\n",
    "sigma_total=df['overall_score'].std()\n",
    "\n",
    "print(f\"mu_total {mu_total} sigma_total {sigma_total}\")"
   ]
  },
  {
   "cell_type": "markdown",
   "id": "14a76bcc",
   "metadata": {},
   "source": [
    "##### Construct a 95% confidence interval for the mean overall scores from the sample data."
   ]
  },
  {
   "cell_type": "code",
   "execution_count": 15,
   "id": "fe7b4163",
   "metadata": {},
   "outputs": [
    {
     "data": {
      "text/plain": [
       "(67.03429864720982, 72.23270135279017)"
      ]
     },
     "execution_count": 15,
     "metadata": {},
     "output_type": "execute_result"
    }
   ],
   "source": [
    "stats.t.interval(0.95,loc=mu_total,scale=sigma_total/np.sqrt(100),df=99)"
   ]
  },
  {
   "cell_type": "code",
   "execution_count": 26,
   "id": "cc38874e",
   "metadata": {},
   "outputs": [
    {
     "data": {
      "text/plain": [
       "100"
      ]
     },
     "execution_count": 26,
     "metadata": {},
     "output_type": "execute_result"
    }
   ],
   "source": [
    "df['overall_score'].count()"
   ]
  },
  {
   "cell_type": "markdown",
   "id": "ead0138d",
   "metadata": {},
   "source": [
    "#### An educational consultant claims that on average students receive an overall score of more than 70. Suppose you tested the educational consultant's claim using the sample data. What will be the conclusion based on the p-value?\n",
    "\n",
    "Null    mu=70\n",
    "\n",
    "\n",
    "alernate   mu>70\n"
   ]
  },
  {
   "cell_type": "code",
   "execution_count": 28,
   "id": "80622231",
   "metadata": {},
   "outputs": [
    {
     "data": {
      "text/plain": [
       "0.6098866036964306"
      ]
     },
     "execution_count": 28,
     "metadata": {},
     "output_type": "execute_result"
    }
   ],
   "source": [
    "test_stat,pvalue=stats.ttest_1samp(df['overall_score'],70,alternative='greater')\n",
    "pvalue"
   ]
  },
  {
   "cell_type": "code",
   "execution_count": 29,
   "id": "e564269b",
   "metadata": {},
   "outputs": [],
   "source": [
    "def checkNullHypothesis(pvalue):\n",
    "    if(pvalue>0.05):\n",
    "        print(\"We can't reject the null hypothesis\")\n",
    "    else:\n",
    "        print(\"Null Hypothesis can be rejected\")"
   ]
  },
  {
   "cell_type": "code",
   "execution_count": 30,
   "id": "ee3d995f",
   "metadata": {},
   "outputs": [
    {
     "name": "stdout",
     "output_type": "stream",
     "text": [
      "We can't reject the null hypothesis\n"
     ]
    }
   ],
   "source": [
    "checkNullHypothesis(pvalue)"
   ]
  },
  {
   "cell_type": "markdown",
   "id": "93e0a14e",
   "metadata": {},
   "source": [
    "#### Suppose you want to test whether the maths score of students who have not taken the test preparation course is less than the maths score of students who have taken any test preparation course. What will be the conclusion based on the p-value"
   ]
  },
  {
   "cell_type": "code",
   "execution_count": 40,
   "id": "67feb0c8",
   "metadata": {},
   "outputs": [
    {
     "data": {
      "text/html": [
       "<div>\n",
       "<style scoped>\n",
       "    .dataframe tbody tr th:only-of-type {\n",
       "        vertical-align: middle;\n",
       "    }\n",
       "\n",
       "    .dataframe tbody tr th {\n",
       "        vertical-align: top;\n",
       "    }\n",
       "\n",
       "    .dataframe thead th {\n",
       "        text-align: right;\n",
       "    }\n",
       "</style>\n",
       "<table border=\"1\" class=\"dataframe\">\n",
       "  <thead>\n",
       "    <tr style=\"text-align: right;\">\n",
       "      <th></th>\n",
       "      <th>gender</th>\n",
       "      <th>race</th>\n",
       "      <th>parental_level_of_education</th>\n",
       "      <th>taken_test_preparation_course</th>\n",
       "      <th>maths_score</th>\n",
       "      <th>reading_score</th>\n",
       "      <th>writing_score</th>\n",
       "      <th>overall_score</th>\n",
       "    </tr>\n",
       "  </thead>\n",
       "  <tbody>\n",
       "    <tr>\n",
       "      <th>2</th>\n",
       "      <td>male</td>\n",
       "      <td>Race B</td>\n",
       "      <td>bachelor's degree</td>\n",
       "      <td>yes</td>\n",
       "      <td>87</td>\n",
       "      <td>92</td>\n",
       "      <td>89</td>\n",
       "      <td>89.33</td>\n",
       "    </tr>\n",
       "    <tr>\n",
       "      <th>9</th>\n",
       "      <td>male</td>\n",
       "      <td>Race D</td>\n",
       "      <td>associate's degree</td>\n",
       "      <td>yes</td>\n",
       "      <td>70</td>\n",
       "      <td>82</td>\n",
       "      <td>84</td>\n",
       "      <td>78.67</td>\n",
       "    </tr>\n",
       "    <tr>\n",
       "      <th>13</th>\n",
       "      <td>male</td>\n",
       "      <td>Race A</td>\n",
       "      <td>bachelor's degree</td>\n",
       "      <td>yes</td>\n",
       "      <td>77</td>\n",
       "      <td>74</td>\n",
       "      <td>80</td>\n",
       "      <td>77.00</td>\n",
       "    </tr>\n",
       "    <tr>\n",
       "      <th>14</th>\n",
       "      <td>male</td>\n",
       "      <td>Race E</td>\n",
       "      <td>bachelor's degree</td>\n",
       "      <td>yes</td>\n",
       "      <td>77</td>\n",
       "      <td>76</td>\n",
       "      <td>83</td>\n",
       "      <td>78.67</td>\n",
       "    </tr>\n",
       "    <tr>\n",
       "      <th>20</th>\n",
       "      <td>female</td>\n",
       "      <td>Race C</td>\n",
       "      <td>associate's degree</td>\n",
       "      <td>yes</td>\n",
       "      <td>75</td>\n",
       "      <td>81</td>\n",
       "      <td>78</td>\n",
       "      <td>78.00</td>\n",
       "    </tr>\n",
       "  </tbody>\n",
       "</table>\n",
       "</div>"
      ],
      "text/plain": [
       "    gender    race parental_level_of_education taken_test_preparation_course  \\\n",
       "2     male  Race B           bachelor's degree                           yes   \n",
       "9     male  Race D          associate's degree                           yes   \n",
       "13    male  Race A           bachelor's degree                           yes   \n",
       "14    male  Race E           bachelor's degree                           yes   \n",
       "20  female  Race C          associate's degree                           yes   \n",
       "\n",
       "    maths_score  reading_score  writing_score  overall_score  \n",
       "2            87             92             89          89.33  \n",
       "9            70             82             84          78.67  \n",
       "13           77             74             80          77.00  \n",
       "14           77             76             83          78.67  \n",
       "20           75             81             78          78.00  "
      ]
     },
     "execution_count": 40,
     "metadata": {},
     "output_type": "execute_result"
    }
   ],
   "source": [
    "df_test_taken=df.loc[df['taken_test_preparation_course']=='yes']\n",
    "df_test_taken.head()\n",
    "\n"
   ]
  },
  {
   "cell_type": "code",
   "execution_count": 41,
   "id": "9aef4cf9",
   "metadata": {},
   "outputs": [
    {
     "data": {
      "text/html": [
       "<div>\n",
       "<style scoped>\n",
       "    .dataframe tbody tr th:only-of-type {\n",
       "        vertical-align: middle;\n",
       "    }\n",
       "\n",
       "    .dataframe tbody tr th {\n",
       "        vertical-align: top;\n",
       "    }\n",
       "\n",
       "    .dataframe thead th {\n",
       "        text-align: right;\n",
       "    }\n",
       "</style>\n",
       "<table border=\"1\" class=\"dataframe\">\n",
       "  <thead>\n",
       "    <tr style=\"text-align: right;\">\n",
       "      <th></th>\n",
       "      <th>gender</th>\n",
       "      <th>race</th>\n",
       "      <th>parental_level_of_education</th>\n",
       "      <th>taken_test_preparation_course</th>\n",
       "      <th>maths_score</th>\n",
       "      <th>reading_score</th>\n",
       "      <th>writing_score</th>\n",
       "      <th>overall_score</th>\n",
       "    </tr>\n",
       "  </thead>\n",
       "  <tbody>\n",
       "    <tr>\n",
       "      <th>0</th>\n",
       "      <td>male</td>\n",
       "      <td>Race C</td>\n",
       "      <td>high school</td>\n",
       "      <td>no</td>\n",
       "      <td>73</td>\n",
       "      <td>74</td>\n",
       "      <td>74</td>\n",
       "      <td>73.67</td>\n",
       "    </tr>\n",
       "    <tr>\n",
       "      <th>1</th>\n",
       "      <td>female</td>\n",
       "      <td>Race A</td>\n",
       "      <td>high school</td>\n",
       "      <td>no</td>\n",
       "      <td>71</td>\n",
       "      <td>62</td>\n",
       "      <td>68</td>\n",
       "      <td>67.00</td>\n",
       "    </tr>\n",
       "    <tr>\n",
       "      <th>3</th>\n",
       "      <td>female</td>\n",
       "      <td>Race D</td>\n",
       "      <td>high school</td>\n",
       "      <td>no</td>\n",
       "      <td>63</td>\n",
       "      <td>62</td>\n",
       "      <td>58</td>\n",
       "      <td>61.00</td>\n",
       "    </tr>\n",
       "    <tr>\n",
       "      <th>4</th>\n",
       "      <td>female</td>\n",
       "      <td>Race A</td>\n",
       "      <td>high school</td>\n",
       "      <td>no</td>\n",
       "      <td>60</td>\n",
       "      <td>66</td>\n",
       "      <td>66</td>\n",
       "      <td>64.00</td>\n",
       "    </tr>\n",
       "    <tr>\n",
       "      <th>5</th>\n",
       "      <td>female</td>\n",
       "      <td>Race A</td>\n",
       "      <td>high school</td>\n",
       "      <td>no</td>\n",
       "      <td>75</td>\n",
       "      <td>71</td>\n",
       "      <td>75</td>\n",
       "      <td>73.67</td>\n",
       "    </tr>\n",
       "  </tbody>\n",
       "</table>\n",
       "</div>"
      ],
      "text/plain": [
       "   gender    race parental_level_of_education taken_test_preparation_course  \\\n",
       "0    male  Race C                 high school                            no   \n",
       "1  female  Race A                 high school                            no   \n",
       "3  female  Race D                 high school                            no   \n",
       "4  female  Race A                 high school                            no   \n",
       "5  female  Race A                 high school                            no   \n",
       "\n",
       "   maths_score  reading_score  writing_score  overall_score  \n",
       "0           73             74             74          73.67  \n",
       "1           71             62             68          67.00  \n",
       "3           63             62             58          61.00  \n",
       "4           60             66             66          64.00  \n",
       "5           75             71             75          73.67  "
      ]
     },
     "execution_count": 41,
     "metadata": {},
     "output_type": "execute_result"
    }
   ],
   "source": [
    "df_test_not_taken=df.loc[df['taken_test_preparation_course']=='no']\n",
    "df_test_not_taken.head()"
   ]
  },
  {
   "cell_type": "markdown",
   "id": "6de5740d",
   "metadata": {},
   "source": [
    "Null hypothesis \n",
    "\n",
    "mu_test_taken=mu_test_not_taken\n",
    "alternate\n",
    "\n",
    "mu_test_taken>mu_test_not_taken"
   ]
  },
  {
   "cell_type": "code",
   "execution_count": 42,
   "id": "b2575afd",
   "metadata": {},
   "outputs": [
    {
     "name": "stdout",
     "output_type": "stream",
     "text": [
      "The p-value is 6.010315522311589e-07\n"
     ]
    }
   ],
   "source": [
    "#import the required functions\n",
    "from scipy.stats import ttest_ind\n",
    "\n",
    "# find the p-value\n",
    "test_stat, p_value = ttest_ind(df_test_taken['maths_score'], df_test_not_taken['maths_score'], equal_var = True, alternative = 'greater')\n",
    "print('The p-value is ' + str(p_value))"
   ]
  },
  {
   "cell_type": "code",
   "execution_count": 43,
   "id": "ffb810b2",
   "metadata": {},
   "outputs": [
    {
     "name": "stdout",
     "output_type": "stream",
     "text": [
      "Null Hypothesis can be rejected\n"
     ]
    }
   ],
   "source": [
    "checkNullHypothesis(p_value)"
   ]
  },
  {
   "cell_type": "markdown",
   "id": "0bbfb16d",
   "metadata": {},
   "source": [
    "#### Suppose you want to test whether the student takes a test course preparation course or not depends on their parents' educational level. To test this, which of the below tests will be the most appropriate?"
   ]
  },
  {
   "cell_type": "code",
   "execution_count": 46,
   "id": "b14883a1",
   "metadata": {},
   "outputs": [],
   "source": [
    "contigency_table=pd.crosstab(df['parental_level_of_education'],df['taken_test_preparation_course'])"
   ]
  },
  {
   "cell_type": "markdown",
   "id": "b16b7b74",
   "metadata": {},
   "source": [
    "### Let's write the null and alternative hypothesis\n",
    "\n",
    "\n",
    "We will test the null hypothesis\n",
    "\n",
    ">$H_0:$ test taken is independent of parental education .\n",
    "\n",
    "against the alternate hypothesis\n",
    "\n",
    ">$H_a:$ test taken is depends  on parental education."
   ]
  },
  {
   "cell_type": "code",
   "execution_count": 47,
   "id": "ce72329b",
   "metadata": {},
   "outputs": [
    {
     "name": "stdout",
     "output_type": "stream",
     "text": [
      "The p-value is 0.004949288534412502\n"
     ]
    }
   ],
   "source": [
    "# import the required function\n",
    "from scipy.stats import chi2_contingency\n",
    "\n",
    "# find the p-value\n",
    "chi, p_value, dof, expected = chi2_contingency(contigency_table)\n",
    "print('The p-value is', p_value)"
   ]
  },
  {
   "cell_type": "code",
   "execution_count": 48,
   "id": "20a99c95",
   "metadata": {},
   "outputs": [
    {
     "name": "stdout",
     "output_type": "stream",
     "text": [
      "Null Hypothesis can be rejected\n"
     ]
    }
   ],
   "source": [
    "checkNullHypothesis(p_value)"
   ]
  },
  {
   "cell_type": "markdown",
   "id": "8fe787f1",
   "metadata": {},
   "source": [
    "#### Suppose you want to test that whether there is any difference in means of student performance in reading, writing, and maths. What will be the conclusion based on the p-value?"
   ]
  },
  {
   "cell_type": "markdown",
   "id": "e00496d5",
   "metadata": {},
   "source": [
    "### Let's write the null and alternative hypothesis\n",
    "\n",
    "Let $\\mu_1, \\mu_2, \\mu_3$ be the means of student performance in reading, writing, and maths respectively.\n",
    "\n",
    "We will test the null hypothesis\n",
    "\n",
    ">$H_0: \\mu_1 = \\mu_2 = \\mu_3$\n",
    "\n",
    "against the alternative hypothesis\n",
    "\n",
    ">$H_a: $ At least one   mean is different\n"
   ]
  },
  {
   "cell_type": "code",
   "execution_count": 50,
   "id": "a7f27890",
   "metadata": {},
   "outputs": [
    {
     "name": "stdout",
     "output_type": "stream",
     "text": [
      "The p-value is 0.4852226859144665\n"
     ]
    }
   ],
   "source": [
    "#import the required function\n",
    "from scipy.stats import f_oneway\n",
    "\n",
    "# perform one-way anova test\n",
    "test_stat, p_value = f_oneway(df['reading_score'],df['writing_score'],df['maths_score'])\n",
    "print('The p-value is ' + str(p_value))"
   ]
  },
  {
   "cell_type": "code",
   "execution_count": 51,
   "id": "04fd9ffe",
   "metadata": {},
   "outputs": [
    {
     "name": "stdout",
     "output_type": "stream",
     "text": [
      "We can't reject the null hypothesis\n"
     ]
    }
   ],
   "source": [
    "checkNullHypothesis(p_value)"
   ]
  },
  {
   "cell_type": "code",
   "execution_count": null,
   "id": "65401c66",
   "metadata": {},
   "outputs": [],
   "source": []
  }
 ],
 "metadata": {
  "kernelspec": {
   "display_name": "Python 3 (ipykernel)",
   "language": "python",
   "name": "python3"
  },
  "language_info": {
   "codemirror_mode": {
    "name": "ipython",
    "version": 3
   },
   "file_extension": ".py",
   "mimetype": "text/x-python",
   "name": "python",
   "nbconvert_exporter": "python",
   "pygments_lexer": "ipython3",
   "version": "3.11.7"
  }
 },
 "nbformat": 4,
 "nbformat_minor": 5
}
