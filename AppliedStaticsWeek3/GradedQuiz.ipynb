{
 "cells": [
  {
   "cell_type": "code",
   "execution_count": 1,
   "id": "69f38acb",
   "metadata": {},
   "outputs": [],
   "source": [
    "#import the important packages\n",
    "import pandas as pd #library used for data manipulation and analysis\n",
    "import numpy as np # library used for working with arrays.\n",
    "import matplotlib.pyplot as plt # library for plots and visualisations\n",
    "import seaborn as sns # library for visualisations\n",
    "%matplotlib inline \n",
    "\n",
    "import scipy.stats as stats # this library contains a large number of probability distributions as well as a growing library of statistical functions."
   ]
  },
  {
   "cell_type": "code",
   "execution_count": 2,
   "id": "139dff8c",
   "metadata": {},
   "outputs": [],
   "source": [
    "def checkNullHypothesis(pvalue):\n",
    "    if(pvalue>0.05):\n",
    "        print(\"We can't reject the null hypothesis\")\n",
    "    else:\n",
    "        print(\"Null Hypothesis can be rejected\")"
   ]
  },
  {
   "cell_type": "code",
   "execution_count": 3,
   "id": "5913d5f4",
   "metadata": {},
   "outputs": [
    {
     "name": "stdout",
     "output_type": "stream",
     "text": [
      "Null Hypothesis can be rejected\n"
     ]
    }
   ],
   "source": [
    "checkNullHypothesis(0.023)"
   ]
  },
  {
   "cell_type": "code",
   "execution_count": null,
   "id": "9a6ba277",
   "metadata": {},
   "outputs": [],
   "source": []
  }
 ],
 "metadata": {
  "kernelspec": {
   "display_name": "Python 3 (ipykernel)",
   "language": "python",
   "name": "python3"
  },
  "language_info": {
   "codemirror_mode": {
    "name": "ipython",
    "version": 3
   },
   "file_extension": ".py",
   "mimetype": "text/x-python",
   "name": "python",
   "nbconvert_exporter": "python",
   "pygments_lexer": "ipython3",
   "version": "3.11.7"
  }
 },
 "nbformat": 4,
 "nbformat_minor": 5
}
