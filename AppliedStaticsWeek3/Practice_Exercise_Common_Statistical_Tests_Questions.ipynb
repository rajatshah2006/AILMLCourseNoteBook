{
 "cells": [
  {
   "cell_type": "markdown",
   "metadata": {
    "id": "-SIWlypH4L1h"
   },
   "source": [
    "### Importing the necessary libraries"
   ]
  },
  {
   "cell_type": "code",
   "execution_count": 14,
   "metadata": {
    "id": "7grkYcRi4L1k"
   },
   "outputs": [],
   "source": [
    "import numpy as np\n",
    "import pandas as pd\n",
    "import matplotlib.pyplot as plt\n",
    "import scipy.stats as stats\n",
    "import statistics\n",
    "import seaborn as sns"
   ]
  },
  {
   "cell_type": "markdown",
   "metadata": {
    "_cell_guid": "9b9566bb-e9b5-4b48-9b45-0194167d2b2b",
    "_uuid": "6256e72b89e829fc8583163418120a3e50aaa156",
    "id": "euOWOovJE43G"
   },
   "source": [
    "# 1. One-sample t-test \n",
    "\n",
    "The mass of a sample of N = 20 acorns from a forest subjected to acid rain from a coal power plant are m = [8.8, 6.6, 9.5, 11.2, 10.2, 7.4, 8.0, 9.6, 9.9, 9.0, 7.6, 7.4, 10.4, 11.1, 8.5, 10.0, 11.6, 10.7, 10.3, and 7.0 g. ]\n",
    "\n",
    "Does this sample provide enough evidence (alpha = 0.05) to say that the average mass of all acorns is different from 10 g?"
   ]
  },
  {
   "cell_type": "markdown",
   "metadata": {
    "id": "BTFYzCuN4L1n"
   },
   "source": [
    "**a) Formulate the null and alternate hypothesis**"
   ]
  },
  {
   "cell_type": "code",
   "execution_count": null,
   "metadata": {
    "id": "TlIbMYda4L1n"
   },
   "outputs": [],
   "source": [
    "Ho mu=10\n",
    "Ha mu/=10g"
   ]
  },
  {
   "cell_type": "code",
   "execution_count": 3,
   "metadata": {},
   "outputs": [],
   "source": [
    "def checkNullHypothesis(pvalue):\n",
    "    if(pvalue>0.05):\n",
    "        print(\"We can't reject the null hypothesis\")\n",
    "    else:\n",
    "        print(\"Null Hypothesis can be rejected\")"
   ]
  },
  {
   "cell_type": "markdown",
   "metadata": {
    "id": "FmgHEd6N4L1n"
   },
   "source": [
    "**b) Calculate the test-statistic and based on the p-value provide a conclusion.**"
   ]
  },
  {
   "cell_type": "code",
   "execution_count": 4,
   "metadata": {
    "id": "_gcV50qO4L1o"
   },
   "outputs": [
    {
     "name": "stdout",
     "output_type": "stream",
     "text": [
      "0.03655562279112415\n",
      "Null Hypothesis can be rejected\n"
     ]
    }
   ],
   "source": [
    "m = [8.8, 6.6, 9.5, 11.2, 10.2, 7.4, 8.0, 9.6, 9.9, 9.0, 7.6, 7.4, 10.4, 11.1, 8.5, 10.0, 11.6, 10.7, 10.3,7.0]\n",
    "\n",
    "test_stat,pvalue=stats.ttest_1samp(m,10,alternative=\"two-sided\")\n",
    "print(pvalue)\n",
    "checkNullHypothesis(pvalue)"
   ]
  },
  {
   "cell_type": "markdown",
   "metadata": {
    "_cell_guid": "fd17fd23-4f92-403e-aada-0b61433b22e9",
    "_uuid": "948240552a9daac38010e7ec652d02adbdfab6f7",
    "id": "ulAnmKcwE43M"
   },
   "source": [
    "# 2. Independent (unpaired) two-sample t-test\n",
    "\n",
    "The mass of N<sub>1</sub> = 20 acorns from oak trees up wind from a coal power plant and N<sub>2</sub> = 30 acorns from oak trees down wind from the same coal power plant are measured. Is the mass of acorns from trees down wind different from the ones from up wind at a significance level of 0.05? The sample sizes are not equal but we will assume that the population variance for sample 1 and sample 2 are equal.\n",
    "\n",
    "#### sample up wind:\n",
    "x1 = [10.8, 10.0, 8.2, 9.9, 11.6, 10.1, 11.3, 10.3, 10.7, 9.7, \n",
    "      7.8, 9.6, 9.7, 11.6, 10.3, 9.8, 12.3, 11.0, 10.4, 10.4]\n",
    "\n",
    "#### sample down wind:\n",
    "x2 = [7.8, 7.5, 9.5, 11.7, 8.1, 8.8, 8.8, 7.7, 9.7, 7.0, \n",
    "      9.0, 9.7, 11.3, 8.7, 8.8, 10.9, 10.3, 9.6, 8.4, 6.6,\n",
    "      7.2, 7.6, 11.5, 6.6, 8.6, 10.5, 8.4, 8.5, 10.2, 9.2]"
   ]
  },
  {
   "cell_type": "markdown",
   "metadata": {
    "id": "1ywhQQzx4L1p"
   },
   "source": [
    "**a) Formulate the null and alternate hypothesis.**"
   ]
  },
  {
   "cell_type": "markdown",
   "metadata": {},
   "source": [
    "H0 mu1=mu2\n",
    "Ha mu1/=mu2\n"
   ]
  },
  {
   "cell_type": "code",
   "execution_count": 11,
   "metadata": {
    "id": "Pw2AArr-4L1p"
   },
   "outputs": [
    {
     "name": "stdout",
     "output_type": "stream",
     "text": [
      "1.0686316878188324\n",
      "1.4092306534002015\n"
     ]
    }
   ],
   "source": [
    "\n",
    "n1=20\n",
    "n2=30\n",
    "\n",
    "x1 = [10.8, 10.0, 8.2, 9.9, 11.6, 10.1, 11.3, 10.3, 10.7, 9.7,       7.8, 9.6, 9.7, 11.6, 10.3, 9.8, 12.3, 11.0, 10.4, 10.4]\n",
    "x2 = [7.8, 7.5, 9.5, 11.7, 8.1, 8.8, 8.8, 7.7, 9.7, 7.0,       9.0, 9.7, 11.3, 8.7, 8.8, 10.9, 10.3, 9.6, 8.4, 6.6,       7.2, 7.6, 11.5, 6.6, 8.6, 10.5, 8.4, 8.5, 10.2, 9.2]\n",
    "\n",
    "print(statistics.stdev(x1))\n",
    "print(statistics.stdev(x2))"
   ]
  },
  {
   "cell_type": "markdown",
   "metadata": {
    "id": "Mcq194c84L1p"
   },
   "source": [
    "**b) Calculate the test-statistic and based on the p-value provide a conclusion.**"
   ]
  },
  {
   "cell_type": "code",
   "execution_count": 12,
   "metadata": {
    "id": "fr8RTM1F4L1p"
   },
   "outputs": [
    {
     "data": {
      "text/plain": [
       "0.0007560337478801464"
      ]
     },
     "execution_count": 12,
     "metadata": {},
     "output_type": "execute_result"
    }
   ],
   "source": [
    "test_stat,pvalue=stats.ttest_ind(x1,x2,equal_var=True,alternative=\"two-sided\")\n",
    "pvalue"
   ]
  },
  {
   "cell_type": "code",
   "execution_count": 13,
   "metadata": {},
   "outputs": [
    {
     "name": "stdout",
     "output_type": "stream",
     "text": [
      "Null Hypothesis can be rejected\n"
     ]
    }
   ],
   "source": [
    "checkNullHypothesis(pvalue)"
   ]
  },
  {
   "cell_type": "markdown",
   "metadata": {
    "id": "0aNggZRk4L1q"
   },
   "source": [
    "# 3. ANOVA test\n",
    "\n",
    "The marks obtained by 5 randomly picked students in Mathematics exam from three sections A, B, and C are as follows:\n",
    "\n",
    "### Marks of 5 randomly picked students from Section A\n",
    "A = [51, 45, 33, 45, 67]\n",
    "\n",
    "### Marks of 5 randomly picked students from Section B\n",
    "B = [23, 43, 23, 43, 45]\n",
    "\n",
    "### Marks of 5 randomly picked students from Section C\n",
    "C = [56, 76, 74, 87, 56]\n",
    "\n",
    "Does the sample provide enough evidence to say that the mean marks of students in the three sections are different?"
   ]
  },
  {
   "cell_type": "markdown",
   "metadata": {
    "id": "DAX2bhC64L1q"
   },
   "source": [
    "**a) Formulate the null and alternate hypothesis.**"
   ]
  },
  {
   "cell_type": "markdown",
   "metadata": {},
   "source": [
    "H0 mu1=mu2=mu3\n",
    "Ha:At least marks mean is different from the rest."
   ]
  },
  {
   "cell_type": "code",
   "execution_count": 17,
   "metadata": {
    "id": "JkeyhUFm4L1r"
   },
   "outputs": [],
   "source": [
    "A = np.array([51, 45, 33, 45, 67])\n",
    "B = np.array([23, 43, 23, 43, 45])\n",
    "C = np.array([56, 76, 74, 87, 56])"
   ]
  },
  {
   "cell_type": "markdown",
   "metadata": {},
   "source": [
    "Shapiro-Wilk’s test"
   ]
  },
  {
   "cell_type": "code",
   "execution_count": 18,
   "metadata": {},
   "outputs": [
    {
     "name": "stdout",
     "output_type": "stream",
     "text": [
      "Sample 1: Statistics=0.9435461759567261, p-value=0.6911060810089111\n",
      "Sample 2: Statistics=0.7342272400856018, p-value=0.021123088896274567\n",
      "Sample 3: Statistics=0.882555365562439, p-value=0.32105153799057007\n"
     ]
    }
   ],
   "source": [
    "stat1, p1 = stats.shapiro(A)\n",
    "stat2, p2 = stats.shapiro(B)\n",
    "stat3, p3 = stats.shapiro(C)\n",
    "\n",
    "# Print the results\n",
    "print(f'Sample 1: Statistics={stat1}, p-value={p1}')\n",
    "print(f'Sample 2: Statistics={stat2}, p-value={p2}')\n",
    "print(f'Sample 3: Statistics={stat3}, p-value={p3}')"
   ]
  },
  {
   "cell_type": "markdown",
   "metadata": {
    "id": "8cCKGd9N4L1r"
   },
   "source": [
    "**b) Calculate the test-statistic and based on the p-value provide a conclusion.**"
   ]
  },
  {
   "cell_type": "markdown",
   "metadata": {},
   "source": [
    "We will test the null hypothesis\n",
    "\n",
    ">$H_0$: All the population variances are equal\n",
    "\n",
    "against the alternative hypothesis\n",
    "\n",
    ">$H_a$: At least one variance is different from the rest"
   ]
  },
  {
   "cell_type": "code",
   "execution_count": 19,
   "metadata": {
    "id": "BFxcdHdL4L1r"
   },
   "outputs": [
    {
     "data": {
      "text/plain": [
       "0.9280076096504267"
      ]
     },
     "execution_count": 19,
     "metadata": {},
     "output_type": "execute_result"
    }
   ],
   "source": [
    "statistic, p_value = stats.levene(A,B,C)\n",
    "p_value"
   ]
  },
  {
   "cell_type": "code",
   "execution_count": 20,
   "metadata": {},
   "outputs": [
    {
     "name": "stdout",
     "output_type": "stream",
     "text": [
      "Null Hypothesis can be rejected\n"
     ]
    }
   ],
   "source": [
    "checkNullHypothesis(pvalue)"
   ]
  },
  {
   "cell_type": "code",
   "execution_count": 21,
   "metadata": {},
   "outputs": [
    {
     "data": {
      "text/plain": [
       "0.0030597541434430556"
      ]
     },
     "execution_count": 21,
     "metadata": {},
     "output_type": "execute_result"
    }
   ],
   "source": [
    "test_stat, p_value =stats.f_oneway(A,B,C)\n",
    "p_value"
   ]
  },
  {
   "cell_type": "code",
   "execution_count": 22,
   "metadata": {},
   "outputs": [
    {
     "name": "stdout",
     "output_type": "stream",
     "text": [
      "Null Hypothesis can be rejected\n"
     ]
    }
   ],
   "source": [
    "checkNullHypothesis(p_value)"
   ]
  },
  {
   "cell_type": "code",
   "execution_count": null,
   "metadata": {},
   "outputs": [],
   "source": []
  }
 ],
 "metadata": {
  "colab": {
   "name": "Practice_Exercise_Common_Statistical_Tests_Questions.ipynb",
   "provenance": []
  },
  "kernelspec": {
   "display_name": "Python 3 (ipykernel)",
   "language": "python",
   "name": "python3"
  },
  "language_info": {
   "codemirror_mode": {
    "name": "ipython",
    "version": 3
   },
   "file_extension": ".py",
   "mimetype": "text/x-python",
   "name": "python",
   "nbconvert_exporter": "python",
   "pygments_lexer": "ipython3",
   "version": "3.11.7"
  }
 },
 "nbformat": 4,
 "nbformat_minor": 1
}
