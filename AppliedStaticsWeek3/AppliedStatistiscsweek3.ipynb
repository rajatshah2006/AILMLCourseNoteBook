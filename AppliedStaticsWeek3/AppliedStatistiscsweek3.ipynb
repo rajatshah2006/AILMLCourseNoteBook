{
 "cells": [
  {
   "cell_type": "code",
   "execution_count": 1,
   "id": "1580ac54",
   "metadata": {},
   "outputs": [],
   "source": [
    "# Libraries to help with reading and manipulating data\n",
    "import pandas as pd\n",
    "import numpy as np\n",
    "\n",
    "# Libraries to help with data visualization\n",
    "import matplotlib.pyplot as plt\n",
    "import seaborn as sns\n",
    "%matplotlib inline\n",
    "\n",
    "# Library to help with statistical analysis\n",
    "import scipy.stats as stats\n",
    "\n",
    "# Function for handling normal distribution and statistical calculation\n",
    "from scipy.stats import norm"
   ]
  },
  {
   "cell_type": "code",
   "execution_count": 2,
   "id": "2d9d2001",
   "metadata": {},
   "outputs": [
    {
     "data": {
      "text/plain": [
       "0.19112194470967464"
      ]
     },
     "execution_count": 2,
     "metadata": {},
     "output_type": "execute_result"
    }
   ],
   "source": [
    "import numpy as np\n",
    "import scipy.stats as stats\n",
    "\n",
    "# energy expenditure (in mJ) and stature (0=obese, 1=lean)\n",
    "energy = np.array([[9.21, 0],[7.53, 1],[7.48, 1],[8.08, 1],[8.09, 1],[10.15, 1],[8.40, 1],[0.88, 1],[1.13, 1],[2.90, 1],[11.51, 0],[2.79, 0],[7.05, 1],[1.85, 0],[19.97, 0],[7.48, 1],[8.79, 0],[9.69, 0],[2.68, 0],[3.58, 1],[9.19, 0],[4.11, 1]])\n",
    "\n",
    "# Separating the data into 2 groups\n",
    "group1 = energy[energy[:, 1] == 0] # elements of the array where obese == True\n",
    "group1 = group1[:,0] # energy expenditure of obese\n",
    "group2 = energy[energy[:, 1] == 1] # elements of the array where lean == True\n",
    "group2 = group2[:,0] # energy expenditure of lean\n",
    "test_stat,pvalue=stats.ttest_ind(group1, group2, equal_var = True) #\n",
    "pvalue"
   ]
  },
  {
   "cell_type": "code",
   "execution_count": 3,
   "id": "4297b076",
   "metadata": {},
   "outputs": [
    {
     "data": {
      "text/plain": [
       "0.55"
      ]
     },
     "execution_count": 3,
     "metadata": {},
     "output_type": "execute_result"
    }
   ],
   "source": [
    "import scipy.stats as stats\n",
    "import numpy as np\n",
    "\n",
    "# scores of two groups (0 and 1) of students\n",
    "scores = np.array([[49, 0],[53, 1],[56, 1],[43, 1],[45, 1],[53, 1],[45, 1],[56, 1],[51, 0],[43, 0],[47, 1],[44, 0],[51, 0],[53, 1],[50, 0],[54, 0],[51, 0],[51, 1],[46, 0],[47, 1]])\n",
    "\n",
    "# Separating the data into 2 groups\n",
    "\n",
    "group1 = scores[scores[:, 1] == 0] # elements of the array where group == 0\n",
    "group1 = group1[:, 0] # scores of group 0 students\n",
    "group2 = scores[scores[:, 1] == 1] # elements of the array where group == 1\n",
    "group2 = group2[:, 0] # scores of group 1 students\n",
    "\n",
    "#applying t-test to check if the scores of group 0 and group 1 students are indeed different\n",
    "test_stat,pvalue=stats.ttest_ind(group1, group2, equal_var = False)\n",
    "round(pvalue,2)\n",
    "\n"
   ]
  },
  {
   "cell_type": "markdown",
   "id": "cbf41f31",
   "metadata": {},
   "source": [
    "### Let's revisit the example\n",
    "A certain food aggregator ZYX is facing stiff competition from its main rival SWG during Corona period. To retain business, ZYX is advertising that, within a radius of 5 km from the restaurant where the order is placed, it can still deliver in 40 minutes or less on the average (and changed condition has not made any impact on them). \n",
    "\n",
    "The delivery times in minutes of 25 randomly selected deliveries are given in a CSV file.\n",
    "\n",
    "Assuming the delivery distribution is approximately normal, is there enough evidence that ZYX’s claim is false?"
   ]
  },
  {
   "cell_type": "code",
   "execution_count": 4,
   "id": "065e767a",
   "metadata": {},
   "outputs": [
    {
     "data": {
      "text/html": [
       "<div>\n",
       "<style scoped>\n",
       "    .dataframe tbody tr th:only-of-type {\n",
       "        vertical-align: middle;\n",
       "    }\n",
       "\n",
       "    .dataframe tbody tr th {\n",
       "        vertical-align: top;\n",
       "    }\n",
       "\n",
       "    .dataframe thead th {\n",
       "        text-align: right;\n",
       "    }\n",
       "</style>\n",
       "<table border=\"1\" class=\"dataframe\">\n",
       "  <thead>\n",
       "    <tr style=\"text-align: right;\">\n",
       "      <th></th>\n",
       "      <th>Delivery</th>\n",
       "      <th>Time</th>\n",
       "    </tr>\n",
       "  </thead>\n",
       "  <tbody>\n",
       "    <tr>\n",
       "      <th>0</th>\n",
       "      <td>1</td>\n",
       "      <td>39.4</td>\n",
       "    </tr>\n",
       "    <tr>\n",
       "      <th>1</th>\n",
       "      <td>2</td>\n",
       "      <td>39.5</td>\n",
       "    </tr>\n",
       "    <tr>\n",
       "      <th>2</th>\n",
       "      <td>3</td>\n",
       "      <td>39.7</td>\n",
       "    </tr>\n",
       "    <tr>\n",
       "      <th>3</th>\n",
       "      <td>4</td>\n",
       "      <td>40.7</td>\n",
       "    </tr>\n",
       "    <tr>\n",
       "      <th>4</th>\n",
       "      <td>5</td>\n",
       "      <td>40.4</td>\n",
       "    </tr>\n",
       "  </tbody>\n",
       "</table>\n",
       "</div>"
      ],
      "text/plain": [
       "   Delivery  Time\n",
       "0         1  39.4\n",
       "1         2  39.5\n",
       "2         3  39.7\n",
       "3         4  40.7\n",
       "4         5  40.4"
      ]
     },
     "execution_count": 4,
     "metadata": {},
     "output_type": "execute_result"
    }
   ],
   "source": [
    "df=pd.read_csv(\"FastFood1.csv\")\n",
    "df.head()"
   ]
  },
  {
   "cell_type": "code",
   "execution_count": 5,
   "id": "3e4d6a89",
   "metadata": {},
   "outputs": [
    {
     "data": {
      "text/html": [
       "<div>\n",
       "<style scoped>\n",
       "    .dataframe tbody tr th:only-of-type {\n",
       "        vertical-align: middle;\n",
       "    }\n",
       "\n",
       "    .dataframe tbody tr th {\n",
       "        vertical-align: top;\n",
       "    }\n",
       "\n",
       "    .dataframe thead th {\n",
       "        text-align: right;\n",
       "    }\n",
       "</style>\n",
       "<table border=\"1\" class=\"dataframe\">\n",
       "  <thead>\n",
       "    <tr style=\"text-align: right;\">\n",
       "      <th></th>\n",
       "      <th>Delivery</th>\n",
       "      <th>Time</th>\n",
       "    </tr>\n",
       "  </thead>\n",
       "  <tbody>\n",
       "    <tr>\n",
       "      <th>count</th>\n",
       "      <td>25.000000</td>\n",
       "      <td>25.000000</td>\n",
       "    </tr>\n",
       "    <tr>\n",
       "      <th>mean</th>\n",
       "      <td>13.000000</td>\n",
       "      <td>41.788000</td>\n",
       "    </tr>\n",
       "    <tr>\n",
       "      <th>std</th>\n",
       "      <td>7.359801</td>\n",
       "      <td>1.741484</td>\n",
       "    </tr>\n",
       "    <tr>\n",
       "      <th>min</th>\n",
       "      <td>1.000000</td>\n",
       "      <td>39.400000</td>\n",
       "    </tr>\n",
       "    <tr>\n",
       "      <th>25%</th>\n",
       "      <td>7.000000</td>\n",
       "      <td>40.600000</td>\n",
       "    </tr>\n",
       "    <tr>\n",
       "      <th>50%</th>\n",
       "      <td>13.000000</td>\n",
       "      <td>41.300000</td>\n",
       "    </tr>\n",
       "    <tr>\n",
       "      <th>75%</th>\n",
       "      <td>19.000000</td>\n",
       "      <td>43.000000</td>\n",
       "    </tr>\n",
       "    <tr>\n",
       "      <th>max</th>\n",
       "      <td>25.000000</td>\n",
       "      <td>45.700000</td>\n",
       "    </tr>\n",
       "  </tbody>\n",
       "</table>\n",
       "</div>"
      ],
      "text/plain": [
       "        Delivery       Time\n",
       "count  25.000000  25.000000\n",
       "mean   13.000000  41.788000\n",
       "std     7.359801   1.741484\n",
       "min     1.000000  39.400000\n",
       "25%     7.000000  40.600000\n",
       "50%    13.000000  41.300000\n",
       "75%    19.000000  43.000000\n",
       "max    25.000000  45.700000"
      ]
     },
     "execution_count": 5,
     "metadata": {},
     "output_type": "execute_result"
    }
   ],
   "source": [
    "df.describe()"
   ]
  },
  {
   "cell_type": "markdown",
   "id": "8dd75651",
   "metadata": {},
   "source": [
    "Null and alternative hypothesis will be \n",
    "H0\n",
    "mu=40\n",
    "\n",
    "Ha\n",
    "mu>40\n"
   ]
  },
  {
   "cell_type": "code",
   "execution_count": 6,
   "id": "19d7e085",
   "metadata": {},
   "outputs": [
    {
     "data": {
      "text/plain": [
       "1.4822680927543513e-05"
      ]
     },
     "execution_count": 6,
     "metadata": {},
     "output_type": "execute_result"
    }
   ],
   "source": [
    "n=25\n",
    "mu=40\n",
    "\n",
    "test_stat,pvalue=stats.ttest_1samp(df['Time'],popmean=40,alternative=\"greater\")\n",
    "pvalue"
   ]
  },
  {
   "cell_type": "code",
   "execution_count": 7,
   "id": "675da24a",
   "metadata": {},
   "outputs": [],
   "source": [
    "def checkNullHypothesis(pvalue):\n",
    "    if(pvalue>0.05):\n",
    "        print(\"We can't reject the null hypothesis\")\n",
    "    else:\n",
    "        print(\"Null Hypothesis can be rejected\")"
   ]
  },
  {
   "cell_type": "code",
   "execution_count": 8,
   "id": "d10b29eb",
   "metadata": {},
   "outputs": [
    {
     "name": "stdout",
     "output_type": "stream",
     "text": [
      "Null Hypothesis can be rejected\n"
     ]
    }
   ],
   "source": [
    "checkNullHypothesis(pvalue)"
   ]
  },
  {
   "cell_type": "markdown",
   "id": "9c802f8b",
   "metadata": {},
   "source": [
    "\n",
    "To compare customer satisfaction levels of two competing media channels, 150 customers of Channel 1 and 300 customers of Channel 2 were randomly selected and were asked to rate their channels on a scale of 1-5, with 1 being least satisfied and 5 most satisfied (The survey results are summarized in a CSV file). Suppose we know that, $\\sigma_1$ = 0.48 and $\\sigma_2$ = 0.49.\n",
    "\n",
    "Test at 0.05 level of significance whether the data provide sufficient evidence to conclude that channel 1 has a higher mean satisfaction rating than channel 2.\n"
   ]
  },
  {
   "cell_type": "markdown",
   "id": "97274555",
   "metadata": {},
   "source": [
    "It's a two value problem "
   ]
  },
  {
   "cell_type": "code",
   "execution_count": 9,
   "id": "5f58b3dd",
   "metadata": {},
   "outputs": [],
   "source": [
    "n1=150\n",
    "sigma1=0.48\n",
    "\n",
    "n2=300\n",
    "sigma2=0.49\n",
    "\n",
    "df=pd.read_csv(\"rating.csv\")"
   ]
  },
  {
   "cell_type": "code",
   "execution_count": 10,
   "id": "818db051",
   "metadata": {},
   "outputs": [],
   "source": [
    "def twoSampleZtest(x1,x2,sigma1,sigma2,n1,n2):\n",
    "    se=np.sqrt(((sigma1**2)/n1)+((sigma2**2)/n2))\n",
    "    test_stat=(x1.mean()-x2.mean())/se\n",
    "    pvalue=1-norm.cdf(test_stat)\n",
    "    \n",
    "    return pvalue\n",
    "    "
   ]
  },
  {
   "cell_type": "code",
   "execution_count": 11,
   "id": "87f2ba9c",
   "metadata": {},
   "outputs": [
    {
     "data": {
      "text/plain": [
       "5.87973714161194e-09"
      ]
     },
     "execution_count": 11,
     "metadata": {},
     "output_type": "execute_result"
    }
   ],
   "source": [
    "pvalue=twoSampleZtest(df[\"channel1_rating\"],df[\"channel2_rating\"],sigma1,sigma2,n1,n2)\n",
    "pvalue"
   ]
  },
  {
   "cell_type": "code",
   "execution_count": 12,
   "id": "3efa409c",
   "metadata": {},
   "outputs": [
    {
     "name": "stdout",
     "output_type": "stream",
     "text": [
      "Null Hypothesis can be rejected\n"
     ]
    }
   ],
   "source": [
    "checkNullHypothesis(pvalue)"
   ]
  },
  {
   "cell_type": "markdown",
   "id": "6f7ecf2a",
   "metadata": {},
   "source": [
    "\n",
    "### Let's revisit the example\n",
    "\n",
    "\n",
    "In the lockdown period, because of working from home and increased screen time, many opted for listening to FM Radio for entertainment rather than watching Cable TV. An advertisement agency randomly collected daily usage time data (in minutes) from both type of users and stored it in a CSV file.\n",
    "\n",
    "Assuming daily Radio and TV usage time are normally distributed, do we have enough evidence to conclude that there is any difference between daily TV and Radio usage time at 0.05 significance level?"
   ]
  },
  {
   "cell_type": "markdown",
   "id": "f28ed6c8",
   "metadata": {},
   "source": [
    "H0 \n",
    "\n",
    "mu1=mu2\n",
    "\n",
    "Ha \n",
    "\n",
    "mu1=/mu2"
   ]
  },
  {
   "cell_type": "code",
   "execution_count": 13,
   "id": "cd8ce762",
   "metadata": {},
   "outputs": [
    {
     "data": {
      "text/html": [
       "<div>\n",
       "<style scoped>\n",
       "    .dataframe tbody tr th:only-of-type {\n",
       "        vertical-align: middle;\n",
       "    }\n",
       "\n",
       "    .dataframe tbody tr th {\n",
       "        vertical-align: top;\n",
       "    }\n",
       "\n",
       "    .dataframe thead th {\n",
       "        text-align: right;\n",
       "    }\n",
       "</style>\n",
       "<table border=\"1\" class=\"dataframe\">\n",
       "  <thead>\n",
       "    <tr style=\"text-align: right;\">\n",
       "      <th></th>\n",
       "      <th>Cable_TV</th>\n",
       "      <th>FM_Radio</th>\n",
       "    </tr>\n",
       "  </thead>\n",
       "  <tbody>\n",
       "    <tr>\n",
       "      <th>0</th>\n",
       "      <td>22</td>\n",
       "      <td>25</td>\n",
       "    </tr>\n",
       "    <tr>\n",
       "      <th>1</th>\n",
       "      <td>8</td>\n",
       "      <td>10</td>\n",
       "    </tr>\n",
       "    <tr>\n",
       "      <th>2</th>\n",
       "      <td>25</td>\n",
       "      <td>29</td>\n",
       "    </tr>\n",
       "    <tr>\n",
       "      <th>3</th>\n",
       "      <td>22</td>\n",
       "      <td>19</td>\n",
       "    </tr>\n",
       "    <tr>\n",
       "      <th>4</th>\n",
       "      <td>12</td>\n",
       "      <td>13</td>\n",
       "    </tr>\n",
       "  </tbody>\n",
       "</table>\n",
       "</div>"
      ],
      "text/plain": [
       "   Cable_TV  FM_Radio\n",
       "0        22        25\n",
       "1         8        10\n",
       "2        25        29\n",
       "3        22        19\n",
       "4        12        13"
      ]
     },
     "execution_count": 13,
     "metadata": {},
     "output_type": "execute_result"
    }
   ],
   "source": [
    "df_tv=pd.read_csv(\"TVRadio.csv\")\n",
    "df_tv.head()"
   ]
  },
  {
   "cell_type": "code",
   "execution_count": 14,
   "id": "2ceb3332",
   "metadata": {},
   "outputs": [
    {
     "data": {
      "text/html": [
       "<div>\n",
       "<style scoped>\n",
       "    .dataframe tbody tr th:only-of-type {\n",
       "        vertical-align: middle;\n",
       "    }\n",
       "\n",
       "    .dataframe tbody tr th {\n",
       "        vertical-align: top;\n",
       "    }\n",
       "\n",
       "    .dataframe thead th {\n",
       "        text-align: right;\n",
       "    }\n",
       "</style>\n",
       "<table border=\"1\" class=\"dataframe\">\n",
       "  <thead>\n",
       "    <tr style=\"text-align: right;\">\n",
       "      <th></th>\n",
       "      <th>count</th>\n",
       "      <th>mean</th>\n",
       "      <th>std</th>\n",
       "      <th>min</th>\n",
       "      <th>25%</th>\n",
       "      <th>50%</th>\n",
       "      <th>75%</th>\n",
       "      <th>max</th>\n",
       "    </tr>\n",
       "  </thead>\n",
       "  <tbody>\n",
       "    <tr>\n",
       "      <th>Cable_TV</th>\n",
       "      <td>15.0</td>\n",
       "      <td>18.8</td>\n",
       "      <td>5.414267</td>\n",
       "      <td>8.0</td>\n",
       "      <td>14.0</td>\n",
       "      <td>21.0</td>\n",
       "      <td>22.5</td>\n",
       "      <td>26.0</td>\n",
       "    </tr>\n",
       "    <tr>\n",
       "      <th>FM_Radio</th>\n",
       "      <td>15.0</td>\n",
       "      <td>20.0</td>\n",
       "      <td>5.424811</td>\n",
       "      <td>10.0</td>\n",
       "      <td>16.0</td>\n",
       "      <td>21.0</td>\n",
       "      <td>23.0</td>\n",
       "      <td>29.0</td>\n",
       "    </tr>\n",
       "  </tbody>\n",
       "</table>\n",
       "</div>"
      ],
      "text/plain": [
       "          count  mean       std   min   25%   50%   75%   max\n",
       "Cable_TV   15.0  18.8  5.414267   8.0  14.0  21.0  22.5  26.0\n",
       "FM_Radio   15.0  20.0  5.424811  10.0  16.0  21.0  23.0  29.0"
      ]
     },
     "execution_count": 14,
     "metadata": {},
     "output_type": "execute_result"
    }
   ],
   "source": [
    "df_tv.describe().T"
   ]
  },
  {
   "cell_type": "code",
   "execution_count": 15,
   "id": "8bb47987",
   "metadata": {},
   "outputs": [
    {
     "data": {
      "text/plain": [
       "0.5491435225558506"
      ]
     },
     "execution_count": 15,
     "metadata": {},
     "output_type": "execute_result"
    }
   ],
   "source": [
    "test_stat,pvalue=stats.ttest_ind(df_tv['Cable_TV'],df_tv['FM_Radio'],equal_var=True,alternative=\"two-sided\")\n",
    "pvalue"
   ]
  },
  {
   "cell_type": "code",
   "execution_count": 16,
   "id": "7f4485a3",
   "metadata": {},
   "outputs": [
    {
     "name": "stdout",
     "output_type": "stream",
     "text": [
      "We can't reject the null hypothesis\n"
     ]
    }
   ],
   "source": [
    "checkNullHypothesis(pvalue)"
   ]
  },
  {
   "cell_type": "markdown",
   "id": "42f18eed",
   "metadata": {},
   "source": [
    "\n",
    "\n",
    "### Let's revisit the example\n",
    "\n",
    "SAT verbal scores of two groups of students are given in a CSV file. The first group, College, contains scores of students whose parents have at least a bachelor's degree and the second group, High School, contains scores of students whose parents do not have any college degree.\n",
    "\n",
    "The Education Department is interested to know whether the sample data support the theory that students show a higher population mean verbal score on SAT if their parents attain a higher level of education.\n",
    "\n",
    "Assuming SAT verbal scores for two populations are normally distributed, do we have enough statistical evidence for this at 5% significance level?"
   ]
  },
  {
   "cell_type": "code",
   "execution_count": 17,
   "id": "389a0a2f",
   "metadata": {},
   "outputs": [
    {
     "data": {
      "text/html": [
       "<div>\n",
       "<style scoped>\n",
       "    .dataframe tbody tr th:only-of-type {\n",
       "        vertical-align: middle;\n",
       "    }\n",
       "\n",
       "    .dataframe tbody tr th {\n",
       "        vertical-align: top;\n",
       "    }\n",
       "\n",
       "    .dataframe thead th {\n",
       "        text-align: right;\n",
       "    }\n",
       "</style>\n",
       "<table border=\"1\" class=\"dataframe\">\n",
       "  <thead>\n",
       "    <tr style=\"text-align: right;\">\n",
       "      <th></th>\n",
       "      <th>College</th>\n",
       "      <th>High School</th>\n",
       "    </tr>\n",
       "  </thead>\n",
       "  <tbody>\n",
       "    <tr>\n",
       "      <th>0</th>\n",
       "      <td>485</td>\n",
       "      <td>489.0</td>\n",
       "    </tr>\n",
       "    <tr>\n",
       "      <th>1</th>\n",
       "      <td>534</td>\n",
       "      <td>507.0</td>\n",
       "    </tr>\n",
       "    <tr>\n",
       "      <th>2</th>\n",
       "      <td>650</td>\n",
       "      <td>447.0</td>\n",
       "    </tr>\n",
       "    <tr>\n",
       "      <th>3</th>\n",
       "      <td>554</td>\n",
       "      <td>515.0</td>\n",
       "    </tr>\n",
       "    <tr>\n",
       "      <th>4</th>\n",
       "      <td>550</td>\n",
       "      <td>470.0</td>\n",
       "    </tr>\n",
       "  </tbody>\n",
       "</table>\n",
       "</div>"
      ],
      "text/plain": [
       "   College  High School\n",
       "0      485        489.0\n",
       "1      534        507.0\n",
       "2      650        447.0\n",
       "3      554        515.0\n",
       "4      550        470.0"
      ]
     },
     "execution_count": 17,
     "metadata": {},
     "output_type": "execute_result"
    }
   ],
   "source": [
    "# import the data\n",
    "satscore = pd.read_csv('SATVerbal1.csv')\n",
    "satscore.head()"
   ]
  },
  {
   "cell_type": "code",
   "execution_count": 18,
   "id": "760c612c",
   "metadata": {},
   "outputs": [
    {
     "data": {
      "text/html": [
       "<div>\n",
       "<style scoped>\n",
       "    .dataframe tbody tr th:only-of-type {\n",
       "        vertical-align: middle;\n",
       "    }\n",
       "\n",
       "    .dataframe tbody tr th {\n",
       "        vertical-align: top;\n",
       "    }\n",
       "\n",
       "    .dataframe thead th {\n",
       "        text-align: right;\n",
       "    }\n",
       "</style>\n",
       "<table border=\"1\" class=\"dataframe\">\n",
       "  <thead>\n",
       "    <tr style=\"text-align: right;\">\n",
       "      <th></th>\n",
       "      <th>College</th>\n",
       "      <th>High School</th>\n",
       "    </tr>\n",
       "  </thead>\n",
       "  <tbody>\n",
       "    <tr>\n",
       "      <th>count</th>\n",
       "      <td>16.000000</td>\n",
       "      <td>12.000000</td>\n",
       "    </tr>\n",
       "    <tr>\n",
       "      <th>mean</th>\n",
       "      <td>525.000000</td>\n",
       "      <td>480.000000</td>\n",
       "    </tr>\n",
       "    <tr>\n",
       "      <th>std</th>\n",
       "      <td>59.420535</td>\n",
       "      <td>31.095162</td>\n",
       "    </tr>\n",
       "    <tr>\n",
       "      <th>min</th>\n",
       "      <td>410.000000</td>\n",
       "      <td>424.000000</td>\n",
       "    </tr>\n",
       "    <tr>\n",
       "      <th>25%</th>\n",
       "      <td>486.500000</td>\n",
       "      <td>457.500000</td>\n",
       "    </tr>\n",
       "    <tr>\n",
       "      <th>50%</th>\n",
       "      <td>529.500000</td>\n",
       "      <td>486.000000</td>\n",
       "    </tr>\n",
       "    <tr>\n",
       "      <th>75%</th>\n",
       "      <td>558.500000</td>\n",
       "      <td>508.000000</td>\n",
       "    </tr>\n",
       "    <tr>\n",
       "      <th>max</th>\n",
       "      <td>650.000000</td>\n",
       "      <td>515.000000</td>\n",
       "    </tr>\n",
       "  </tbody>\n",
       "</table>\n",
       "</div>"
      ],
      "text/plain": [
       "          College  High School\n",
       "count   16.000000    12.000000\n",
       "mean   525.000000   480.000000\n",
       "std     59.420535    31.095162\n",
       "min    410.000000   424.000000\n",
       "25%    486.500000   457.500000\n",
       "50%    529.500000   486.000000\n",
       "75%    558.500000   508.000000\n",
       "max    650.000000   515.000000"
      ]
     },
     "execution_count": 18,
     "metadata": {},
     "output_type": "execute_result"
    }
   ],
   "source": [
    "satscore.describe()"
   ]
  },
  {
   "cell_type": "code",
   "execution_count": 19,
   "id": "9b289524",
   "metadata": {},
   "outputs": [
    {
     "data": {
      "text/plain": [
       "College        0\n",
       "High School    4\n",
       "dtype: int64"
      ]
     },
     "execution_count": 19,
     "metadata": {},
     "output_type": "execute_result"
    }
   ],
   "source": [
    "satscore.isnull().sum()"
   ]
  },
  {
   "cell_type": "code",
   "execution_count": 20,
   "id": "c27205a9",
   "metadata": {},
   "outputs": [
    {
     "name": "stdout",
     "output_type": "stream",
     "text": [
      "<class 'pandas.core.series.Series'>\n",
      "RangeIndex: 16 entries, 0 to 15\n",
      "Series name: High School\n",
      "Non-Null Count  Dtype  \n",
      "--------------  -----  \n",
      "12 non-null     float64\n",
      "dtypes: float64(1)\n",
      "memory usage: 260.0 bytes\n"
     ]
    }
   ],
   "source": [
    "satscore['High School'].dropna(inplace=True)\n",
    "satscore['High School'].info()\n",
    "satscore.isnull()\n",
    "satscore['High School'].tail()\n",
    "satscore['High School']=satscore['High School'].dropna()\n",
    "satscore.dropna(inplace=True)\n"
   ]
  },
  {
   "cell_type": "code",
   "execution_count": 21,
   "id": "dcc2d639",
   "metadata": {},
   "outputs": [
    {
     "data": {
      "text/plain": [
       "College        0\n",
       "High School    0\n",
       "dtype: int64"
      ]
     },
     "execution_count": 21,
     "metadata": {},
     "output_type": "execute_result"
    }
   ],
   "source": [
    "satscore.isnull().sum()"
   ]
  },
  {
   "cell_type": "code",
   "execution_count": 22,
   "id": "535ae2ee",
   "metadata": {},
   "outputs": [
    {
     "data": {
      "text/html": [
       "<div>\n",
       "<style scoped>\n",
       "    .dataframe tbody tr th:only-of-type {\n",
       "        vertical-align: middle;\n",
       "    }\n",
       "\n",
       "    .dataframe tbody tr th {\n",
       "        vertical-align: top;\n",
       "    }\n",
       "\n",
       "    .dataframe thead th {\n",
       "        text-align: right;\n",
       "    }\n",
       "</style>\n",
       "<table border=\"1\" class=\"dataframe\">\n",
       "  <thead>\n",
       "    <tr style=\"text-align: right;\">\n",
       "      <th></th>\n",
       "      <th>count</th>\n",
       "      <th>mean</th>\n",
       "      <th>std</th>\n",
       "      <th>min</th>\n",
       "      <th>25%</th>\n",
       "      <th>50%</th>\n",
       "      <th>75%</th>\n",
       "      <th>max</th>\n",
       "    </tr>\n",
       "  </thead>\n",
       "  <tbody>\n",
       "    <tr>\n",
       "      <th>College</th>\n",
       "      <td>12.0</td>\n",
       "      <td>532.5</td>\n",
       "      <td>60.537742</td>\n",
       "      <td>410.0</td>\n",
       "      <td>494.5</td>\n",
       "      <td>533.5</td>\n",
       "      <td>558.5</td>\n",
       "      <td>650.0</td>\n",
       "    </tr>\n",
       "    <tr>\n",
       "      <th>High School</th>\n",
       "      <td>12.0</td>\n",
       "      <td>480.0</td>\n",
       "      <td>31.095162</td>\n",
       "      <td>424.0</td>\n",
       "      <td>457.5</td>\n",
       "      <td>486.0</td>\n",
       "      <td>508.0</td>\n",
       "      <td>515.0</td>\n",
       "    </tr>\n",
       "  </tbody>\n",
       "</table>\n",
       "</div>"
      ],
      "text/plain": [
       "             count   mean        std    min    25%    50%    75%    max\n",
       "College       12.0  532.5  60.537742  410.0  494.5  533.5  558.5  650.0\n",
       "High School   12.0  480.0  31.095162  424.0  457.5  486.0  508.0  515.0"
      ]
     },
     "execution_count": 22,
     "metadata": {},
     "output_type": "execute_result"
    }
   ],
   "source": [
    "satscore.describe().T"
   ]
  },
  {
   "cell_type": "code",
   "execution_count": 23,
   "id": "57cc753f",
   "metadata": {},
   "outputs": [
    {
     "data": {
      "text/plain": [
       "0.008210368913752437"
      ]
     },
     "execution_count": 23,
     "metadata": {},
     "output_type": "execute_result"
    }
   ],
   "source": [
    "test_stat,pvalue=stats.ttest_ind(satscore['College'],satscore['High School'],equal_var=False,alternative=\"greater\")\n",
    "pvalue"
   ]
  },
  {
   "cell_type": "code",
   "execution_count": 24,
   "id": "97c219fd",
   "metadata": {},
   "outputs": [
    {
     "name": "stdout",
     "output_type": "stream",
     "text": [
      "Null Hypothesis can be rejected\n"
     ]
    }
   ],
   "source": [
    "checkNullHypothesis(pvalue)"
   ]
  },
  {
   "cell_type": "markdown",
   "id": "d22c712b",
   "metadata": {},
   "source": [
    "\n",
    "\n",
    "A Company sells computers and computer parts. The company claims that at least 90% of all orders are mailed within 72 hours after they are received. The Quality Control department in the company often takes random samples to check if this claim is valid. A recently taken sample of 150 orders showed that 129 of them were mailed within 72 hours.\n",
    "\n",
    "Which of the following code snippet is the most appropriate one to perform a one-sample proportions z-test for the given data and the hypotheses formulated below.\n",
    "\n",
    "H0>=0.9\n",
    "Ha<0.9\n"
   ]
  },
  {
   "cell_type": "code",
   "execution_count": 25,
   "id": "2f0700d3",
   "metadata": {},
   "outputs": [
    {
     "data": {
      "text/plain": [
       "0.07899523801234237"
      ]
     },
     "execution_count": 25,
     "metadata": {},
     "output_type": "execute_result"
    }
   ],
   "source": [
    "from statsmodels.stats.proportion import proportions_ztest \n",
    "test_stat,pvalue=proportions_ztest(count = 129, nobs = 150, value = 0.9, alternative = 'smaller')\n",
    "pvalue"
   ]
  },
  {
   "cell_type": "code",
   "execution_count": 26,
   "id": "942cbc30",
   "metadata": {},
   "outputs": [
    {
     "name": "stdout",
     "output_type": "stream",
     "text": [
      "We can't reject the null hypothesis\n"
     ]
    }
   ],
   "source": [
    "checkNullHypothesis(pvalue)"
   ]
  },
  {
   "cell_type": "markdown",
   "id": "9f1c2e17",
   "metadata": {},
   "source": [
    "\n",
    "\n",
    "A survey is done on Indian college students to determine whether female students smoke less than male students. From the survey, it was found that 40 out of a sample of 150 males smoke and 20 out of a sample of 100 females smoke. \n",
    "\n",
    "Which of the following code snippet is the most appropriate one to perform a two-sample proportions z-test to determine whether the proportion of females who smoke is less than that of males who smoke?\n",
    "\n",
    "\n",
    "H0 p1<p2\n",
    "\n",
    "\n",
    "Ha p1/=p2\n"
   ]
  },
  {
   "cell_type": "code",
   "execution_count": 27,
   "id": "3a2ac83d",
   "metadata": {},
   "outputs": [
    {
     "data": {
      "text/plain": [
       "0.11330701279287875"
      ]
     },
     "execution_count": 27,
     "metadata": {},
     "output_type": "execute_result"
    }
   ],
   "source": [
    "count1=20\n",
    "nobs1=100\n",
    "\n",
    "count2=40\n",
    "nobs2=150\n",
    "\n",
    "count_arr=np.array([count1,count2])\n",
    "nob_arr=np.array([nobs1,nobs2])\n",
    "\n",
    "test_stat,pvalue=proportions_ztest(count_arr,nob_arr,value=0,alternative=\"smaller\")\n",
    "pvalue\n",
    "\n"
   ]
  },
  {
   "cell_type": "code",
   "execution_count": 28,
   "id": "7035b2be",
   "metadata": {},
   "outputs": [
    {
     "name": "stdout",
     "output_type": "stream",
     "text": [
      "We can't reject the null hypothesis\n"
     ]
    }
   ],
   "source": [
    "checkNullHypothesis(pvalue)"
   ]
  },
  {
   "cell_type": "code",
   "execution_count": 29,
   "id": "3f9076dd",
   "metadata": {},
   "outputs": [
    {
     "data": {
      "text/html": [
       "<div>\n",
       "<style scoped>\n",
       "    .dataframe tbody tr th:only-of-type {\n",
       "        vertical-align: middle;\n",
       "    }\n",
       "\n",
       "    .dataframe tbody tr th {\n",
       "        vertical-align: top;\n",
       "    }\n",
       "\n",
       "    .dataframe thead th {\n",
       "        text-align: right;\n",
       "    }\n",
       "</style>\n",
       "<table border=\"1\" class=\"dataframe\">\n",
       "  <thead>\n",
       "    <tr style=\"text-align: right;\">\n",
       "      <th></th>\n",
       "      <th>Age</th>\n",
       "      <th>Tea/Coffee</th>\n",
       "      <th>Soft Drink</th>\n",
       "      <th>Others</th>\n",
       "    </tr>\n",
       "  </thead>\n",
       "  <tbody>\n",
       "    <tr>\n",
       "      <th>0</th>\n",
       "      <td>21 - 34</td>\n",
       "      <td>25</td>\n",
       "      <td>90</td>\n",
       "      <td>20</td>\n",
       "    </tr>\n",
       "    <tr>\n",
       "      <th>1</th>\n",
       "      <td>35 - 55</td>\n",
       "      <td>40</td>\n",
       "      <td>35</td>\n",
       "      <td>25</td>\n",
       "    </tr>\n",
       "    <tr>\n",
       "      <th>2</th>\n",
       "      <td>&gt; 55</td>\n",
       "      <td>24</td>\n",
       "      <td>15</td>\n",
       "      <td>30</td>\n",
       "    </tr>\n",
       "  </tbody>\n",
       "</table>\n",
       "</div>"
      ],
      "text/plain": [
       "       Age  Tea/Coffee  Soft Drink  Others\n",
       "0  21 - 34          25          90      20\n",
       "1  35 - 55          40          35      25\n",
       "2     > 55          24          15      30"
      ]
     },
     "execution_count": 29,
     "metadata": {},
     "output_type": "execute_result"
    }
   ],
   "source": [
    "df_beverage=pd.read_csv('Beverage.csv')\n",
    "df_beverage.head()"
   ]
  },
  {
   "cell_type": "code",
   "execution_count": 30,
   "id": "c04f3df8",
   "metadata": {},
   "outputs": [
    {
     "name": "stdout",
     "output_type": "stream",
     "text": [
      "5.410957050304089e-10\n"
     ]
    }
   ],
   "source": [
    "chi, p_value, dof, expected=stats.chi2_contingency(df_beverage.drop('Age',axis=1))\n",
    "print(p_value)"
   ]
  },
  {
   "cell_type": "code",
   "execution_count": 31,
   "id": "038c00b9",
   "metadata": {},
   "outputs": [
    {
     "data": {
      "text/plain": [
       "0.0008600581283735951"
      ]
     },
     "execution_count": 31,
     "metadata": {},
     "output_type": "execute_result"
    }
   ],
   "source": [
    "import numpy as np\n",
    "import scipy.stats as stats\n",
    "\n",
    "weights = np.array([[132.39, 125],[160.1, 153],[130.95, 132],[139.42, 137.66],[154.89, 142.71],[144.67, 145],[160.33, 157.18],[160.33, 153.4],[170, 165],[166, 159],[155, 150]])\n",
    "\n",
    "# Separating data into 2 groups\n",
    "pre = weights[:, 0] # Extracting the pre-weights from the array\n",
    "post = weights[:, 1] # Extracting the post-weights from the array\n",
    "\n",
    "test_stat,pvalue=stats.ttest_rel(post, pre, alternative = 'less') # Applying paired t-test to check if the mean post-weight is less than the mean pre-weight.\n",
    "pvalue"
   ]
  },
  {
   "cell_type": "code",
   "execution_count": 32,
   "id": "fffd7ba7",
   "metadata": {},
   "outputs": [
    {
     "name": "stdout",
     "output_type": "stream",
     "text": [
      "Null Hypothesis can be rejected\n"
     ]
    }
   ],
   "source": [
    "checkNullHypothesis(pvalue)"
   ]
  },
  {
   "cell_type": "code",
   "execution_count": null,
   "id": "0c2e7000",
   "metadata": {},
   "outputs": [],
   "source": []
  },
  {
   "cell_type": "code",
   "execution_count": null,
   "id": "6d72b5bd",
   "metadata": {},
   "outputs": [],
   "source": []
  },
  {
   "cell_type": "code",
   "execution_count": null,
   "id": "37968408",
   "metadata": {},
   "outputs": [],
   "source": []
  }
 ],
 "metadata": {
  "kernelspec": {
   "display_name": "Python 3 (ipykernel)",
   "language": "python",
   "name": "python3"
  },
  "language_info": {
   "codemirror_mode": {
    "name": "ipython",
    "version": 3
   },
   "file_extension": ".py",
   "mimetype": "text/x-python",
   "name": "python",
   "nbconvert_exporter": "python",
   "pygments_lexer": "ipython3",
   "version": "3.11.7"
  }
 },
 "nbformat": 4,
 "nbformat_minor": 5
}
