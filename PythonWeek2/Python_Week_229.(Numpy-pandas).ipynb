{
 "cells": [
  {
   "cell_type": "markdown",
   "id": "4d29b9ef",
   "metadata": {
    "id": "4d29b9ef"
   },
   "source": [
    "# Table of Content\n",
    "\n",
    "- NumPy in Python\n",
    "- N dimensional array\n",
    "- Sorting with NumPy array\n",
    "- Searching with NumPy array\n",
    "- Time complexity\n",
    "- Indexing and Slicing\n",
    "- Selection Techniques\n",
    "- Pandas in Python\n",
    "- Series\n",
    "- Dataframe\n",
    "- Indexing\n",
    "- Loading and saving dataframes\n",
    "- Summary"
   ]
  },
  {
   "cell_type": "markdown",
   "id": "3c3714ec",
   "metadata": {
    "id": "3c3714ec"
   },
   "source": [
    "## NumPy"
   ]
  },
  {
   "cell_type": "markdown",
   "id": "e242b543",
   "metadata": {
    "id": "e242b543"
   },
   "source": [
    "### Numpy Array"
   ]
  },
  {
   "cell_type": "code",
   "execution_count": 3,
   "id": "5985922b",
   "metadata": {
    "id": "5985922b",
    "outputId": "1c960fbb-a264-4b17-c94e-511322f788c5",
    "scrolled": true
   },
   "outputs": [
    {
     "name": "stdout",
     "output_type": "stream",
     "text": [
      " \n",
      "Array : 40 \n",
      " Type of array : <class 'numpy.ndarray'> \n",
      " Array dimension : 0\n",
      " \n",
      "Array : [20 40 60 80] \n",
      " Type of array : <class 'numpy.ndarray'> \n",
      " Array dimension : 1\n",
      " \n",
      "Array : [[20 40]\n",
      " [60 80]] \n",
      " Type of array : <class 'numpy.ndarray'> \n",
      " Array dimension : 2\n",
      " \n",
      "Array : [[[20 40]\n",
      "  [60 80]]] \n",
      " Type of array : <class 'numpy.ndarray'> \n",
      " Array dimension : 3\n"
     ]
    }
   ],
   "source": [
    "import numpy as np \n",
    "\n",
    "# 0-D array\n",
    "new_array = np.array(40)\n",
    "print(f\" \\nArray : {new_array} \")\n",
    "print(f\" Type of array : {type(new_array)} \")\n",
    "print(f\" Array dimension : {new_array.ndim}\")\n",
    "\n",
    "#1-D array\n",
    "new_array = np.array([20,40,60,80])\n",
    "print(f\" \\nArray : {new_array} \")\n",
    "print(f\" Type of array : {type(new_array)} \")\n",
    "print(f\" Array dimension : {new_array.ndim}\")\n",
    "\n",
    "#2-D array\n",
    "new_array = np.array([[20,40], [60,80]])\n",
    "print(f\" \\nArray : {new_array} \")\n",
    "print(f\" Type of array : {type(new_array)} \")\n",
    "print(f\" Array dimension : {new_array.ndim}\")\n",
    "\n",
    "#3-D array\n",
    "new_array = np.array([[[20,40] ,[60,80]]])\n",
    "print(f\" \\nArray : {new_array} \")\n",
    "print(f\" Type of array : {type(new_array)} \")\n",
    "print(f\" Array dimension : {new_array.ndim}\")"
   ]
  },
  {
   "cell_type": "markdown",
   "id": "0ab30352",
   "metadata": {
    "id": "0ab30352"
   },
   "source": [
    "### Functions for creating numpy arrays"
   ]
  },
  {
   "cell_type": "markdown",
   "id": "57a02736",
   "metadata": {
    "id": "57a02736"
   },
   "source": [
    "zeros() function"
   ]
  },
  {
   "cell_type": "code",
   "execution_count": 4,
   "id": "d76ce268",
   "metadata": {
    "id": "d76ce268",
    "outputId": "3be011c3-34d4-4725-caea-55bfb066d69e"
   },
   "outputs": [
    {
     "data": {
      "text/plain": [
       "array([0, 0, 0, 0])"
      ]
     },
     "execution_count": 4,
     "metadata": {},
     "output_type": "execute_result"
    }
   ],
   "source": [
    "zeros_array = np.zeros(4, dtype=int)\n",
    "zeros_array"
   ]
  },
  {
   "cell_type": "code",
   "execution_count": 5,
   "id": "6e3e9616",
   "metadata": {
    "id": "6e3e9616",
    "outputId": "feda5a2b-59d9-439e-be69-aa535094fc7f"
   },
   "outputs": [
    {
     "data": {
      "text/plain": [
       "array([[0, 0],\n",
       "       [0, 0],\n",
       "       [0, 0],\n",
       "       [0, 0]])"
      ]
     },
     "execution_count": 5,
     "metadata": {},
     "output_type": "execute_result"
    }
   ],
   "source": [
    "zeros_array = np.zeros((4,2), dtype=int)\n",
    "zeros_array"
   ]
  },
  {
   "cell_type": "markdown",
   "id": "f7af8404",
   "metadata": {
    "id": "f7af8404"
   },
   "source": [
    "ones() function"
   ]
  },
  {
   "cell_type": "code",
   "execution_count": 6,
   "id": "4f1a40f0",
   "metadata": {
    "id": "4f1a40f0",
    "outputId": "5b592276-9a10-485d-d57b-ffe240e7b472"
   },
   "outputs": [
    {
     "data": {
      "text/plain": [
       "array([[1, 1, 1, 1],\n",
       "       [1, 1, 1, 1]])"
      ]
     },
     "execution_count": 6,
     "metadata": {},
     "output_type": "execute_result"
    }
   ],
   "source": [
    "ones_array = np.ones((2,4), dtype=int)\n",
    "ones_array"
   ]
  },
  {
   "cell_type": "markdown",
   "id": "025e7f46",
   "metadata": {
    "id": "025e7f46"
   },
   "source": [
    "empty() function"
   ]
  },
  {
   "cell_type": "code",
   "execution_count": 7,
   "id": "12c7947b",
   "metadata": {
    "id": "12c7947b",
    "outputId": "1cbea39f-61c5-48cb-81c6-39d802db9c64"
   },
   "outputs": [
    {
     "data": {
      "text/plain": [
       "array([[0.0000000e+000, 5.2150179e-310],\n",
       "       [5.2150179e-310, 1.9762626e-323]])"
      ]
     },
     "execution_count": 7,
     "metadata": {},
     "output_type": "execute_result"
    }
   ],
   "source": [
    "empty_array = np.empty([2, 2])\n",
    "empty_array# 1.1e-12"
   ]
  },
  {
   "cell_type": "markdown",
   "id": "364be78f",
   "metadata": {
    "id": "364be78f"
   },
   "source": [
    "full() function"
   ]
  },
  {
   "cell_type": "code",
   "execution_count": 8,
   "id": "bf6851eb",
   "metadata": {
    "id": "bf6851eb",
    "outputId": "f7cdda9b-39e5-4570-f500-794f5a7f3b7c"
   },
   "outputs": [
    {
     "data": {
      "text/plain": [
       "array([[inf, inf],\n",
       "       [inf, inf]])"
      ]
     },
     "execution_count": 8,
     "metadata": {},
     "output_type": "execute_result"
    }
   ],
   "source": [
    "full_array = np.full((2, 2), np.inf)\n",
    "full_array"
   ]
  },
  {
   "cell_type": "code",
   "execution_count": 9,
   "id": "af21622d",
   "metadata": {
    "id": "af21622d",
    "outputId": "b6bc1e32-b1fa-4a30-b458-5afc9d9700e3"
   },
   "outputs": [
    {
     "data": {
      "text/plain": [
       "array([[10, 10],\n",
       "       [10, 10]])"
      ]
     },
     "execution_count": 9,
     "metadata": {},
     "output_type": "execute_result"
    }
   ],
   "source": [
    "full_array = np.full((2, 2), 10)\n",
    "full_array"
   ]
  },
  {
   "cell_type": "markdown",
   "id": "dbfaceeb",
   "metadata": {
    "id": "dbfaceeb"
   },
   "source": [
    "zeros_like() function"
   ]
  },
  {
   "cell_type": "code",
   "execution_count": 10,
   "id": "bca7d2a2",
   "metadata": {
    "id": "bca7d2a2",
    "outputId": "c0d1fc45-5b95-46d2-beb4-d8675c5f2a70"
   },
   "outputs": [
    {
     "name": "stdout",
     "output_type": "stream",
     "text": [
      "[0 1 2 3 4 5 6 7]\n",
      " \n",
      "[[0 1]\n",
      " [2 3]\n",
      " [4 5]\n",
      " [6 7]]\n",
      " \n",
      "[[0 0]\n",
      " [0 0]\n",
      " [0 0]\n",
      " [0 0]]\n"
     ]
    }
   ],
   "source": [
    "num_array = np.arange(8)\n",
    "num_array1 = num_array.reshape((4,2))\n",
    "zeros_like_array = np.zeros_like(num_array1)\n",
    "print(num_array)\n",
    "print(\" \")\n",
    "print(num_array1)\n",
    "print(\" \")\n",
    "print(zeros_like_array)"
   ]
  },
  {
   "cell_type": "markdown",
   "id": "1517de01",
   "metadata": {
    "id": "1517de01"
   },
   "source": [
    "## Sorting with Numpy array"
   ]
  },
  {
   "cell_type": "markdown",
   "id": "86696986",
   "metadata": {
    "id": "86696986"
   },
   "source": [
    "### Quick sort"
   ]
  },
  {
   "cell_type": "markdown",
   "id": "582c0465",
   "metadata": {
    "id": "582c0465"
   },
   "source": [
    "#### Using in-build sort() function"
   ]
  },
  {
   "cell_type": "code",
   "execution_count": 11,
   "id": "96f73ef2",
   "metadata": {
    "id": "96f73ef2",
    "outputId": "012825c3-85ae-4d58-cd7c-aec32b6471ae"
   },
   "outputs": [
    {
     "name": "stdout",
     "output_type": "stream",
     "text": [
      "Before sorting : [20  4 10  8] \n",
      "After sorting : [ 4  8 10 20] \n"
     ]
    }
   ],
   "source": [
    "import numpy as np\n",
    "number_array = np.array([20,4,10,8])\n",
    "print(f\"Before sorting : {number_array} \")\n",
    "sorted_array = np.sort(number_array, kind='quick sort')\n",
    "print(f\"After sorting : {sorted_array} \")"
   ]
  },
  {
   "cell_type": "markdown",
   "id": "206ad0f4",
   "metadata": {
    "id": "206ad0f4"
   },
   "source": [
    "#### Using user defined sort function"
   ]
  },
  {
   "cell_type": "code",
   "execution_count": 12,
   "id": "aa608810",
   "metadata": {
    "id": "aa608810",
    "outputId": "baffe455-cf5d-4ad2-daa5-edf0dcc870ff"
   },
   "outputs": [
    {
     "data": {
      "text/plain": [
       "[3, 4, 5, 6]"
      ]
     },
     "execution_count": 12,
     "metadata": {},
     "output_type": "execute_result"
    }
   ],
   "source": [
    "def quick_sort(numpy_array):\n",
    "\n",
    "    left_element = []\n",
    "    equal_element = []\n",
    "    right_element = []\n",
    "\n",
    "    if len(numpy_array) > 1:\n",
    "        pivot_value = numpy_array[0]\n",
    "        for num in numpy_array:\n",
    "            if num < pivot_value:\n",
    "                left_element.append(num)\n",
    "            elif num == pivot_value:\n",
    "                equal_element.append(num)\n",
    "            elif num > pivot_value:\n",
    "                right_element.append(num)\n",
    "\n",
    "        return quick_sort(left_element) + equal_element + quick_sort(right_element) #recursively call quick_sort() function\n",
    "# If there exists only 1 element, then return the array    \n",
    "    else:  \n",
    "        return numpy_array\n",
    "quick_sort(np.array([4,3,5,6]))"
   ]
  },
  {
   "cell_type": "markdown",
   "id": "ac09eebc",
   "metadata": {
    "id": "ac09eebc"
   },
   "source": [
    "#### Time and space complexity of Quick sort is best as it balances both complexities"
   ]
  },
  {
   "cell_type": "markdown",
   "id": "e5f77172",
   "metadata": {
    "id": "e5f77172"
   },
   "source": [
    "| Time Complexity | Best | Average | Worst |\n",
    "|---|---|---|---|\n",
    "| Quick Sort | O(nlog(n)) | O(nlog(n)) | O(n^2) |"
   ]
  },
  {
   "cell_type": "markdown",
   "id": "c80fbcd0",
   "metadata": {
    "id": "c80fbcd0"
   },
   "source": [
    "| Space complexity |\n",
    "|---|\n",
    "| O(n) |"
   ]
  },
  {
   "cell_type": "markdown",
   "id": "89a73fb6",
   "metadata": {
    "id": "89a73fb6"
   },
   "source": [
    "## Searching with Numpy array"
   ]
  },
  {
   "cell_type": "markdown",
   "id": "bfa7f308",
   "metadata": {
    "id": "bfa7f308"
   },
   "source": [
    "#### Using in-build searchsorted() function"
   ]
  },
  {
   "cell_type": "code",
   "execution_count": 13,
   "id": "fd9584ff",
   "metadata": {
    "id": "fd9584ff",
    "outputId": "a2a117e0-85de-456c-c601-229c9bb2ba1b"
   },
   "outputs": [
    {
     "data": {
      "text/plain": [
       "4"
      ]
     },
     "execution_count": 13,
     "metadata": {},
     "output_type": "execute_result"
    }
   ],
   "source": [
    "num_array = np.array([3,4,5,6,11,12,23,11])\n",
    "search_element = np.searchsorted(num_array,11) # returns the index of search element of sorted array\n",
    "search_element"
   ]
  },
  {
   "cell_type": "code",
   "execution_count": 14,
   "id": "3d4b94f5",
   "metadata": {
    "id": "3d4b94f5",
    "outputId": "f76d46fe-0e97-404d-a630-105fb3f7ae69"
   },
   "outputs": [
    {
     "data": {
      "text/plain": [
       "array([4, 6, 1, 3])"
      ]
     },
     "execution_count": 14,
     "metadata": {},
     "output_type": "execute_result"
    }
   ],
   "source": [
    "search_element = np.searchsorted(num_array,[11, 23, 4, 6]) # returns the list of indices of search elements\n",
    "search_element"
   ]
  },
  {
   "cell_type": "markdown",
   "id": "bc2c0706",
   "metadata": {
    "id": "bc2c0706"
   },
   "source": [
    "## Numpy Indexing and slicing"
   ]
  },
  {
   "cell_type": "code",
   "execution_count": 15,
   "id": "81ca6d65",
   "metadata": {
    "id": "81ca6d65",
    "outputId": "e1e22c85-8218-4a70-abf6-32ee7e6648d0"
   },
   "outputs": [
    {
     "data": {
      "text/plain": [
       "array([10,  2,  3])"
      ]
     },
     "execution_count": 15,
     "metadata": {},
     "output_type": "execute_result"
    }
   ],
   "source": [
    "new_array = np.array([1,10,20,2,30,3,40,4,50,5])\n",
    "new_array[1:6:2]#[start:end-1:step]"
   ]
  },
  {
   "cell_type": "markdown",
   "id": "edc47236",
   "metadata": {
    "id": "edc47236"
   },
   "source": [
    "### Field access"
   ]
  },
  {
   "cell_type": "code",
   "execution_count": 16,
   "id": "6ee7cc7a",
   "metadata": {
    "id": "6ee7cc7a",
    "outputId": "19c7f27d-9f3f-4446-a887-183a84299995"
   },
   "outputs": [
    {
     "data": {
      "text/plain": [
       "array([ 4, 40,  3, 30])"
      ]
     },
     "execution_count": 16,
     "metadata": {},
     "output_type": "execute_result"
    }
   ],
   "source": [
    "new_array[-3:3:-1]"
   ]
  },
  {
   "cell_type": "code",
   "execution_count": 21,
   "id": "bbc0f23f",
   "metadata": {
    "id": "bbc0f23f",
    "outputId": "3e532e67-cb14-49b9-a0eb-015cd005bcbf"
   },
   "outputs": [
    {
     "data": {
      "text/plain": [
       "array([[[1],\n",
       "        [2],\n",
       "        [3]],\n",
       "\n",
       "       [[4],\n",
       "        [5],\n",
       "        [6]]])"
      ]
     },
     "execution_count": 21,
     "metadata": {},
     "output_type": "execute_result"
    }
   ],
   "source": [
    "new_array = np.array([[[1],[2],[3]], [[4],[5],[6]]])\n",
    "new_array.shape\n",
    "#new_array.ndim\n",
    "new_array"
   ]
  },
  {
   "cell_type": "code",
   "execution_count": 20,
   "id": "5037e409",
   "metadata": {
    "id": "5037e409",
    "outputId": "37d92b32-b232-4e91-ac90-1ba4304c87b6"
   },
   "outputs": [
    {
     "data": {
      "text/plain": [
       "array([[[4],\n",
       "        [5],\n",
       "        [6]]])"
      ]
     },
     "execution_count": 20,
     "metadata": {},
     "output_type": "execute_result"
    }
   ],
   "source": [
    "new_array[1:2]"
   ]
  },
  {
   "cell_type": "markdown",
   "id": "85474b09",
   "metadata": {
    "id": "85474b09"
   },
   "source": [
    "### Slicing"
   ]
  },
  {
   "cell_type": "code",
   "execution_count": 22,
   "id": "53db0be2",
   "metadata": {
    "id": "53db0be2",
    "outputId": "fcd35723-5188-4c59-c162-3dae863b80df"
   },
   "outputs": [
    {
     "data": {
      "text/plain": [
       "array([1, 3, 5])"
      ]
     },
     "execution_count": 22,
     "metadata": {},
     "output_type": "execute_result"
    }
   ],
   "source": [
    "new_array = np.arange(8)\n",
    "new_array[slice(1,6,2)]"
   ]
  },
  {
   "cell_type": "markdown",
   "id": "0c11c325",
   "metadata": {
    "id": "0c11c325"
   },
   "source": [
    "### Advance indexing"
   ]
  },
  {
   "cell_type": "markdown",
   "id": "149dfa01",
   "metadata": {
    "id": "149dfa01"
   },
   "source": [
    "#### Integer Indexing"
   ]
  },
  {
   "cell_type": "code",
   "execution_count": 23,
   "id": "e0b138c9",
   "metadata": {
    "id": "e0b138c9",
    "outputId": "0f445d22-9a69-4381-bac2-eb64f50b0343"
   },
   "outputs": [
    {
     "name": "stdout",
     "output_type": "stream",
     "text": [
      "2\n"
     ]
    },
    {
     "data": {
      "text/plain": [
       "array([10,  4,  5])"
      ]
     },
     "execution_count": 23,
     "metadata": {},
     "output_type": "execute_result"
    }
   ],
   "source": [
    "new_array = np.array([[10, 2], [6, 4], [5, 1]]) \n",
    "print(new_array.ndim)\n",
    "integer_indexing = new_array[[0,1,2], [0,1,0]] \n",
    "# row index represents row numbers, column index represnts elemets to be chosen\n",
    "integer_indexing"
   ]
  },
  {
   "cell_type": "code",
   "execution_count": 24,
   "id": "cfe7185f",
   "metadata": {},
   "outputs": [
    {
     "data": {
      "text/plain": [
       "array([[10,  2],\n",
       "       [ 6,  4],\n",
       "       [ 5,  1]])"
      ]
     },
     "execution_count": 24,
     "metadata": {},
     "output_type": "execute_result"
    }
   ],
   "source": [
    "new_array"
   ]
  },
  {
   "cell_type": "markdown",
   "id": "31a1fd61",
   "metadata": {
    "id": "31a1fd61"
   },
   "source": [
    "#### Boolean Indexing"
   ]
  },
  {
   "cell_type": "code",
   "execution_count": 25,
   "id": "f90119ae",
   "metadata": {
    "id": "f90119ae",
    "outputId": "e5d9ec23-70db-4132-d91d-708244dda2fa"
   },
   "outputs": [
    {
     "data": {
      "text/plain": [
       "array([10,  6])"
      ]
     },
     "execution_count": 25,
     "metadata": {},
     "output_type": "execute_result"
    }
   ],
   "source": [
    "new_array[new_array > 5]"
   ]
  },
  {
   "cell_type": "code",
   "execution_count": 27,
   "id": "5e94b1f5",
   "metadata": {
    "id": "5e94b1f5",
    "outputId": "6b23dbf6-cc48-4d39-9fde-7b9f26cc4dc2"
   },
   "outputs": [
    {
     "data": {
      "text/plain": [
       "array([ 2.,  4.,  6., 10.])"
      ]
     },
     "execution_count": 27,
     "metadata": {},
     "output_type": "execute_result"
    }
   ],
   "source": [
    "new_array = np.array([np.nan, np.nan, 2 ,4, 6 ,10, np.nan])\n",
    "new_array[~np.isnan(new_array)]"
   ]
  },
  {
   "cell_type": "markdown",
   "id": "10205a3d",
   "metadata": {
    "id": "10205a3d"
   },
   "source": [
    "## Numpy selection techniques"
   ]
  },
  {
   "cell_type": "code",
   "execution_count": 30,
   "id": "04bf3960",
   "metadata": {
    "id": "04bf3960"
   },
   "outputs": [
    {
     "data": {
      "text/plain": [
       "array([ 0,  1,  2,  3,  4,  5,  6,  7,  8,  9, 10, 11, 12, 13, 14, 15, 16,\n",
       "       17, 18, 19])"
      ]
     },
     "execution_count": 30,
     "metadata": {},
     "output_type": "execute_result"
    }
   ],
   "source": [
    "# create an array\n",
    "arr = np.arange(20)\n",
    "arr"
   ]
  },
  {
   "cell_type": "code",
   "execution_count": 29,
   "id": "c36ed6d3",
   "metadata": {
    "id": "c36ed6d3",
    "outputId": "e305c4d9-6037-424b-8658-7ddf512528ba"
   },
   "outputs": [
    {
     "data": {
      "text/plain": [
       "array([  0,   1,   2,   3,   4,   0,   0,   0,  64,  81, 100, 121, 144,\n",
       "       169, 196, 225, 256, 289, 324, 361])"
      ]
     },
     "execution_count": 29,
     "metadata": {},
     "output_type": "execute_result"
    }
   ],
   "source": [
    "# numpy.select()\n",
    "np.select(condlist= [arr<5, arr>7], choicelist= [arr, arr**2])"
   ]
  },
  {
   "cell_type": "code",
   "execution_count": 31,
   "id": "1d98e3f1",
   "metadata": {
    "id": "1d98e3f1",
    "outputId": "d58cc590-a68a-4fa6-e6ae-9fecbbc5c796"
   },
   "outputs": [
    {
     "data": {
      "text/plain": [
       "array([ 0,  1,  2,  3,  4,  5, 12, 14, 16, 18, 20, 22, 24, 26, 28, 30, 32,\n",
       "       34, 36, 38])"
      ]
     },
     "execution_count": 31,
     "metadata": {},
     "output_type": "execute_result"
    }
   ],
   "source": [
    "# numpy.where()\n",
    "np.where(arr < 6, arr, 2*arr)"
   ]
  },
  {
   "cell_type": "code",
   "execution_count": 33,
   "id": "2b513eb0",
   "metadata": {
    "id": "2b513eb0",
    "outputId": "32be6993-2bce-4925-ddb0-5f06cf67a40e"
   },
   "outputs": [
    {
     "data": {
      "text/plain": [
       "array([ 2,  6, 19,  2])"
      ]
     },
     "execution_count": 33,
     "metadata": {},
     "output_type": "execute_result"
    }
   ],
   "source": [
    "# numpy.random.choice()\n",
    "#creates a uniformr random sample with np.arange() with specified size\n",
    "np.random.choice(20,4)"
   ]
  },
  {
   "cell_type": "markdown",
   "id": "3284fc2b",
   "metadata": {
    "id": "3284fc2b"
   },
   "source": [
    "## Pandas"
   ]
  },
  {
   "cell_type": "markdown",
   "id": "d7ca4e54",
   "metadata": {
    "id": "d7ca4e54"
   },
   "source": [
    "### Series"
   ]
  },
  {
   "cell_type": "code",
   "execution_count": null,
   "id": "cff9d4f5",
   "metadata": {
    "id": "cff9d4f5"
   },
   "outputs": [],
   "source": [
    "# create an empty series\n",
    "import pandas as pd\n",
    "series = pd.Series(dtype=object)\n",
    "series"
   ]
  },
  {
   "cell_type": "code",
   "execution_count": null,
   "id": "957fd5d0",
   "metadata": {
    "id": "957fd5d0",
    "outputId": "50181cd2-c457-422e-b2a2-2801cafa1e19"
   },
   "outputs": [],
   "source": [
    "# creating series from array\n",
    "arr = np.array([20,30])\n",
    "series = pd.Series(arr, copy=False)\n",
    "series"
   ]
  },
  {
   "cell_type": "code",
   "execution_count": null,
   "id": "fb45cb80",
   "metadata": {
    "id": "fb45cb80",
    "outputId": "a3e13ab0-518e-47d1-c207-95e9094e3d34"
   },
   "outputs": [],
   "source": [
    "# creating series from dictionary\n",
    "dictionary = {0: 21, 1: 400, 2: 39, 3: 10}\n",
    "# keys and Series index should match, if not nan values are added\n",
    "series = pd.Series(data=dictionary, index=['w', 'x', 'y', 'z'])\n",
    "series"
   ]
  },
  {
   "cell_type": "code",
   "execution_count": null,
   "id": "d4ea99c1",
   "metadata": {
    "id": "d4ea99c1",
    "outputId": "ce455690-0284-4752-9a09-0b4b5fc052f2"
   },
   "outputs": [],
   "source": [
    "# creating series from dictionary\n",
    "dictionary = {'w': 21, 'x': 400, 'y': 39, 'z': 10}\n",
    "# keys and Series index should match, if not nan values are added\n",
    "series = pd.Series(data=dictionary, index=['w', 'x', 'y', 'z'])\n",
    "series"
   ]
  },
  {
   "cell_type": "markdown",
   "id": "85f0d14b",
   "metadata": {
    "id": "85f0d14b"
   },
   "source": [
    "### Series methods"
   ]
  },
  {
   "cell_type": "code",
   "execution_count": null,
   "id": "d10c0421",
   "metadata": {
    "id": "d10c0421",
    "outputId": "61211494-6b2a-4179-d34b-45af11512f68"
   },
   "outputs": [],
   "source": [
    "# describe() method\n",
    "series = pd.Series([2,4,6,8,10,12])\n",
    "series.describe()"
   ]
  },
  {
   "cell_type": "code",
   "execution_count": null,
   "id": "c6fdd226",
   "metadata": {
    "id": "c6fdd226",
    "outputId": "4a23b911-5a23-4c58-89cf-ae510af97786"
   },
   "outputs": [],
   "source": [
    "# count() method\n",
    "series = pd.Series([2,4,6,8,10,12,np.nan])\n",
    "series.count() # nan is not counted"
   ]
  },
  {
   "cell_type": "code",
   "execution_count": null,
   "id": "80da5f95",
   "metadata": {
    "id": "80da5f95",
    "outputId": "0a476e4a-2a3d-449b-b8b6-d477665aa1d1"
   },
   "outputs": [],
   "source": [
    "# append() method\n",
    "series1 = pd.Series([10, 20])\n",
    "series2 = pd.Series([40, 60], index=[2, 3])\n",
    "series1.append(series2)"
   ]
  },
  {
   "cell_type": "code",
   "execution_count": null,
   "id": "4bd3d7d7",
   "metadata": {
    "id": "4bd3d7d7",
    "outputId": "46551f96-d141-47cb-d1d0-19ad9cdf3eee"
   },
   "outputs": [],
   "source": [
    "# apply method\n",
    "# lambda is one liner function\n",
    "series2.apply(lambda x: x**2)"
   ]
  },
  {
   "cell_type": "code",
   "execution_count": null,
   "id": "91ef5107",
   "metadata": {
    "id": "91ef5107",
    "outputId": "cca661c8-e5a0-45b5-fca0-660c6a024786"
   },
   "outputs": [],
   "source": [
    "# copy() method\n",
    "series1_copy = series1.copy()\n",
    "series1_copy"
   ]
  },
  {
   "cell_type": "markdown",
   "id": "db4784ff",
   "metadata": {
    "id": "db4784ff"
   },
   "source": [
    "### Dataframe"
   ]
  },
  {
   "cell_type": "markdown",
   "id": "382f5036",
   "metadata": {
    "id": "382f5036"
   },
   "source": [
    "Dataframe creation"
   ]
  },
  {
   "cell_type": "code",
   "execution_count": null,
   "id": "51a058e0",
   "metadata": {
    "id": "51a058e0",
    "outputId": "1fa520eb-93b5-4beb-9725-17d429c95ca3"
   },
   "outputs": [],
   "source": [
    "# creating dataframe(df) from dictionary\n",
    "dictionary = {'col1': [10.0, 20.0], 'col2': [30.0, np.nan]}\n",
    "df = pd.DataFrame(data=dictionary)\n",
    "df"
   ]
  },
  {
   "cell_type": "code",
   "execution_count": null,
   "id": "1816c71e",
   "metadata": {
    "id": "1816c71e",
    "outputId": "1b02796b-bf46-40f5-8151-77c0090e9bee"
   },
   "outputs": [],
   "source": [
    "# creating df from nd array\n",
    "df1 = pd.DataFrame(np.array([[1, 2, 3], [4, 5, 6], [7, 8, 9]]),\n",
    "                   columns=['col1', 'col2', 'col3'])\n",
    "df1"
   ]
  },
  {
   "cell_type": "code",
   "execution_count": null,
   "id": "f9c0363b",
   "metadata": {
    "id": "f9c0363b",
    "outputId": "99142e4b-ebe8-4044-9c74-370a5884e593"
   },
   "outputs": [],
   "source": [
    "# creating df from list of dictionaries\n",
    "list_data = [{\"col1\": 10, \"col2\": 20}, {\"col1\": 50, \"col2\": 100, \"col3\": 200}]\n",
    "df2 = pd.DataFrame(list_data)\n",
    "df2"
   ]
  },
  {
   "cell_type": "code",
   "execution_count": null,
   "id": "b613a978",
   "metadata": {
    "id": "b613a978",
    "outputId": "cbc95ea1-0c08-4983-ae8c-c34d2bedac69"
   },
   "outputs": [],
   "source": [
    "# creating df from dictionary of lists\n",
    "dict_data = {\"col1\": [10.0, 20.0, 30.0, 40.0], \"col2\": [40.0, 30.0, 20.0, 10.0]}\n",
    "df3 = pd.DataFrame(dict_data)\n",
    "df3"
   ]
  },
  {
   "cell_type": "markdown",
   "id": "8835b06a",
   "metadata": {
    "id": "8835b06a"
   },
   "source": [
    "### Dataframe methods"
   ]
  },
  {
   "cell_type": "code",
   "execution_count": null,
   "id": "b33fa36b",
   "metadata": {
    "id": "b33fa36b",
    "outputId": "772242c5-1a2e-412f-e63c-0d63c1a738b3"
   },
   "outputs": [],
   "source": [
    "# describe() method\n",
    "df.describe()"
   ]
  },
  {
   "cell_type": "code",
   "execution_count": null,
   "id": "b4356e1e",
   "metadata": {
    "id": "b4356e1e",
    "outputId": "0a801313-fe1a-42ee-e605-e3039303d780"
   },
   "outputs": [],
   "source": [
    "# count() method\n",
    "df2.count()"
   ]
  },
  {
   "cell_type": "code",
   "execution_count": null,
   "id": "95b06662",
   "metadata": {
    "id": "95b06662",
    "outputId": "648ac120-a228-4bc1-87ff-b174f20cf7ed"
   },
   "outputs": [],
   "source": [
    "# append() method\n",
    "df.append(df1)"
   ]
  },
  {
   "cell_type": "code",
   "execution_count": null,
   "id": "345769be",
   "metadata": {
    "id": "345769be",
    "outputId": "589db5bb-4dab-4284-9cb8-4db40652acf7"
   },
   "outputs": [],
   "source": [
    "# apply method\n",
    "df1.apply(lambda x: x**2)"
   ]
  },
  {
   "cell_type": "code",
   "execution_count": null,
   "id": "8d413040",
   "metadata": {
    "id": "8d413040",
    "outputId": "3a0b39f9-84a3-4e89-e69f-de059e4d0e8d"
   },
   "outputs": [],
   "source": [
    "# copy() method\n",
    "df1_copy = df1.copy()\n",
    "df1_copy"
   ]
  },
  {
   "cell_type": "markdown",
   "id": "322c8fa0",
   "metadata": {
    "id": "322c8fa0"
   },
   "source": [
    "#### Dataframe groupby method"
   ]
  },
  {
   "cell_type": "code",
   "execution_count": null,
   "id": "091799f9",
   "metadata": {
    "id": "091799f9",
    "outputId": "12f2a7f9-b3bc-41ec-d095-0c632758bca1"
   },
   "outputs": [],
   "source": [
    "import pandas as pd\n",
    "df = pd.read_csv(\"Week2_Groupby.csv\")\n",
    "df"
   ]
  },
  {
   "cell_type": "code",
   "execution_count": null,
   "id": "6bc7c9df",
   "metadata": {},
   "outputs": [],
   "source": [
    "df[['Country', 'Name', 'Age']]"
   ]
  },
  {
   "cell_type": "code",
   "execution_count": null,
   "id": "096edc12",
   "metadata": {
    "id": "096edc12",
    "outputId": "ed226c46-7193-48cf-cf3c-f16b9edc09e6"
   },
   "outputs": [],
   "source": [
    "group_df = df.groupby(by=\"City\")['Age'].mean()\n",
    "group_df"
   ]
  },
  {
   "cell_type": "code",
   "execution_count": null,
   "id": "2ea1420a",
   "metadata": {
    "id": "2ea1420a",
    "outputId": "da752083-f197-494d-81e0-4ee14dd0d0f8"
   },
   "outputs": [],
   "source": [
    "# To see first values of each group\n",
    "group_df.first()"
   ]
  },
  {
   "cell_type": "code",
   "execution_count": null,
   "id": "29cf0e98",
   "metadata": {
    "id": "29cf0e98",
    "outputId": "daa80c2d-771a-401e-eb47-7b0b7fb42dcc"
   },
   "outputs": [],
   "source": [
    "group_df.get_group(\"Pune\")"
   ]
  },
  {
   "cell_type": "code",
   "execution_count": null,
   "id": "d6d8f1bd",
   "metadata": {
    "id": "d6d8f1bd",
    "outputId": "7df2fa43-40e3-461e-9220-ea1a07465236"
   },
   "outputs": [],
   "source": [
    "group_df.get_group(\"Nagpur\")"
   ]
  },
  {
   "cell_type": "markdown",
   "id": "429f2f65",
   "metadata": {
    "id": "429f2f65"
   },
   "source": [
    "### Pandas Indexing"
   ]
  },
  {
   "cell_type": "code",
   "execution_count": null,
   "id": "ea1d9d63",
   "metadata": {
    "id": "ea1d9d63",
    "outputId": "8b12e620-db67-4f4f-e2ba-0574d282834e"
   },
   "outputs": [],
   "source": [
    "df4 = pd.DataFrame([[100, 2500], [490, 789], [500, 1500]],\n",
    "     index=['pune', 'mumbai', 'nagpur'],\n",
    "     columns=['max_speed(kmph)', 'distance(km)'])\n",
    "df4"
   ]
  },
  {
   "cell_type": "markdown",
   "id": "f40ac657",
   "metadata": {
    "id": "f40ac657"
   },
   "source": [
    "#### loc based indexing"
   ]
  },
  {
   "cell_type": "code",
   "execution_count": null,
   "id": "3f86eed6",
   "metadata": {
    "id": "3f86eed6",
    "outputId": "2a25ef73-5155-4830-fd3c-1fed7a5191b9"
   },
   "outputs": [],
   "source": [
    "df4.loc['pune']\n"
   ]
  },
  {
   "cell_type": "code",
   "execution_count": null,
   "id": "b8e2a78c",
   "metadata": {
    "id": "b8e2a78c",
    "outputId": "a2b9fc7e-6947-4f44-e7b0-6fc58e7ba4f8",
    "scrolled": true
   },
   "outputs": [],
   "source": [
    "df4.loc[['pune', 'nagpur']]\n"
   ]
  },
  {
   "cell_type": "markdown",
   "id": "c7744808",
   "metadata": {
    "id": "c7744808"
   },
   "source": [
    "#### iloc based indexing"
   ]
  },
  {
   "cell_type": "code",
   "execution_count": null,
   "id": "cde078b9",
   "metadata": {
    "id": "cde078b9",
    "outputId": "993220f5-7386-4997-d10c-fdedd1e54aa2"
   },
   "outputs": [],
   "source": [
    "df4.iloc[[0,2]]"
   ]
  },
  {
   "cell_type": "code",
   "execution_count": null,
   "id": "5b2537e9",
   "metadata": {
    "id": "5b2537e9",
    "outputId": "c5936c56-bcb7-4844-a0dd-e5ff07654470"
   },
   "outputs": [],
   "source": [
    "df4.iloc[0]"
   ]
  },
  {
   "cell_type": "code",
   "execution_count": null,
   "id": "f139e767",
   "metadata": {
    "id": "f139e767",
    "outputId": "6652ed09-383e-4d35-9a35-3d8ec9ba8ded"
   },
   "outputs": [],
   "source": [
    "df4.iloc[[0]]"
   ]
  },
  {
   "cell_type": "markdown",
   "id": "0dbedf14",
   "metadata": {
    "id": "0dbedf14"
   },
   "source": [
    "## Saving and loading dataframe"
   ]
  },
  {
   "cell_type": "markdown",
   "id": "106434a8",
   "metadata": {
    "id": "106434a8"
   },
   "source": [
    "### CSV data loading and saving"
   ]
  },
  {
   "cell_type": "code",
   "execution_count": null,
   "id": "cbc66772",
   "metadata": {
    "id": "cbc66772",
    "outputId": "d9e6050f-4c04-4e59-a625-5fd0643193a5"
   },
   "outputs": [],
   "source": [
    "df = pd.read_csv(\"Week2_Profile_Data.csv\")\n",
    "df"
   ]
  },
  {
   "cell_type": "code",
   "execution_count": null,
   "id": "27fd7d06",
   "metadata": {
    "id": "27fd7d06"
   },
   "outputs": [],
   "source": [
    "df.to_csv(\"Week2_Profile_Data.csv\")"
   ]
  },
  {
   "cell_type": "code",
   "execution_count": 34,
   "id": "00d3d9a1",
   "metadata": {},
   "outputs": [
    {
     "data": {
      "text/plain": [
       "array(['1', 'a', '3.4', 'True'], dtype='<U32')"
      ]
     },
     "execution_count": 34,
     "metadata": {},
     "output_type": "execute_result"
    }
   ],
   "source": [
    "np.array([1,'a',3.4, True])"
   ]
  },
  {
   "cell_type": "code",
   "execution_count": 35,
   "id": "39a4d560",
   "metadata": {},
   "outputs": [
    {
     "data": {
      "text/plain": [
       "[1, 'a', 3.4, True]"
      ]
     },
     "execution_count": 35,
     "metadata": {},
     "output_type": "execute_result"
    }
   ],
   "source": [
    "[1,'a',3.4, True]"
   ]
  },
  {
   "cell_type": "markdown",
   "id": "693ec933",
   "metadata": {
    "id": "693ec933"
   },
   "source": [
    "## Happy Learning :)"
   ]
  }
 ],
 "metadata": {
  "colab": {
   "name": "IIT D Python Week 3.ipynb",
   "provenance": []
  },
  "kernelspec": {
   "display_name": "Python 3 (ipykernel)",
   "language": "python",
   "name": "python3"
  },
  "language_info": {
   "codemirror_mode": {
    "name": "ipython",
    "version": 3
   },
   "file_extension": ".py",
   "mimetype": "text/x-python",
   "name": "python",
   "nbconvert_exporter": "python",
   "pygments_lexer": "ipython3",
   "version": "3.8.5"
  }
 },
 "nbformat": 4,
 "nbformat_minor": 5
}
